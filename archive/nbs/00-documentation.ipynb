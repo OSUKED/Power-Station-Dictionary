{
 "cells": [
  {
   "cell_type": "code",
   "execution_count": 1,
   "metadata": {},
   "outputs": [],
   "source": [
    "# default_exp documentation"
   ]
  },
  {
   "cell_type": "markdown",
   "metadata": {},
   "source": [
    "# Documentation Generation\n",
    "\n",
    "<br>\n",
    "\n",
    "### Imports"
   ]
  },
  {
   "cell_type": "code",
   "execution_count": 2,
   "metadata": {},
   "outputs": [],
   "source": [
    "#exports\n",
    "import junix\n",
    "import pandas as pd\n",
    "from html.parser import HTMLParser\n",
    "from nbdev.export2html import convert_md\n",
    "\n",
    "import os\n",
    "import codecs\n",
    "from ipypb import track\n",
    "from warnings import warn"
   ]
  },
  {
   "cell_type": "markdown",
   "metadata": {},
   "source": [
    "<br>\n",
    "\n",
    "### User Inputs"
   ]
  },
  {
   "cell_type": "code",
   "execution_count": 3,
   "metadata": {},
   "outputs": [],
   "source": [
    "docs_dir = '../docs'\n",
    "img_dir = f'{docs_dir}/img/nbs'\n",
    "dev_nbs_dir = '.'"
   ]
  },
  {
   "cell_type": "markdown",
   "metadata": {},
   "source": [
    "<br>\n",
    "\n",
    "### Converting Notebooks to Markdown"
   ]
  },
  {
   "cell_type": "code",
   "execution_count": 4,
   "metadata": {},
   "outputs": [],
   "source": [
    "#exports\n",
    "def encode_file_as_utf8(fp):\n",
    "    with codecs.open(fp, 'r') as file:\n",
    "        contents = file.read(1048576)\n",
    "        file.close()\n",
    "\n",
    "        if not contents:\n",
    "            pass\n",
    "        else:\n",
    "            with codecs.open(fp, 'w', 'utf-8') as file:\n",
    "                file.write(contents)\n",
    "            \n",
    "def convert_nbs_to_md(nbs_dir, img_dir, docs_dir):\n",
    "    nb_files = [f for f in os.listdir(nbs_dir) if f[-6:]=='.ipynb']\n",
    "\n",
    "    for nb_file in track(nb_files):\n",
    "        nb_fp = f'{nbs_dir}/{nb_file}'\n",
    "        junix.export_images(nb_fp, img_dir)\n",
    "        convert_md(nb_fp, docs_dir, img_path=f'{img_dir}/', jekyll=False)\n",
    "\n",
    "        md_fp =  docs_dir + '/'+ nb_file.replace('.ipynb', '') + '.md'\n",
    "        encode_file_as_utf8(md_fp)"
   ]
  },
  {
   "cell_type": "code",
   "execution_count": 5,
   "metadata": {},
   "outputs": [
    {
     "data": {
      "text/html": [
       "<div><span class=\"Text-label\" style=\"display:inline-block; overflow:hidden; white-space:nowrap; text-overflow:ellipsis; min-width:0; max-width:15ex; vertical-align:middle; text-align:right\"></span>\n",
       "<progress style=\"width:60ex\" max=\"7\" value=\"7\" class=\"Progress-main\"/></progress>\n",
       "<span class=\"Progress-label\"><strong>100%</strong></span>\n",
       "<span class=\"Iteration-label\">7/7</span>\n",
       "<span class=\"Time-label\">[00:02<00:00, 0.22s/it]</span></div>"
      ],
      "text/plain": [
       "\u001b[A\u001b[2K\r",
       " [████████████████████████████████████████████████████████████] 7/7 [00:02<00:00, 0.22s/it]"
      ]
     },
     "metadata": {},
     "output_type": "display_data"
    }
   ],
   "source": [
    "for nbs_dir in [dev_nbs_dir]:\n",
    "    convert_nbs_to_md(nbs_dir, img_dir, docs_dir)"
   ]
  },
  {
   "cell_type": "markdown",
   "metadata": {},
   "source": [
    "<br>\n",
    "\n",
    "### Cleaning Markdown"
   ]
  },
  {
   "cell_type": "code",
   "execution_count": 47,
   "metadata": {},
   "outputs": [],
   "source": [
    "#exports\n",
    "class MyHTMLParser(HTMLParser):\n",
    "    def __init__(self):\n",
    "        super().__init__()\n",
    "        self.tags = []\n",
    "    \n",
    "    def handle_starttag(self, tag, attrs):\n",
    "        self.tags.append(self.get_starttag_text())\n",
    "\n",
    "    def handle_endtag(self, tag):\n",
    "        self.tags.append(f\"</{tag}>\")\n",
    "        \n",
    "get_substring_idxs = lambda string, substring: [num for num in range(len(string)-len(substring)+1) if string[num:num+len(substring)]==substring]\n",
    "\n",
    "def convert_df_to_md(df):\n",
    "    idx_col = df.columns[0]\n",
    "    df = df.set_index(idx_col)\n",
    "    \n",
    "    if idx_col == 'Unnamed: 0':\n",
    "        df.index.name = ''\n",
    "    \n",
    "    table_md = df.to_markdown()\n",
    "    \n",
    "    return table_md\n",
    "\n",
    "def extract_div_to_md_table(start_idx, end_idx, table_and_div_tags, file_txt):\n",
    "    n_start_divs_before = table_and_div_tags[:start_idx].count('<div>')\n",
    "    n_end_divs_before = table_and_div_tags[:end_idx].count('</div>')\n",
    "    \n",
    "    div_start_idx = get_substring_idxs(file_txt, '<div>')[n_start_divs_before-1]\n",
    "    div_end_idx = get_substring_idxs(file_txt, '</div>')[n_end_divs_before]\n",
    "\n",
    "    div_txt = file_txt[div_start_idx:div_end_idx]\n",
    "    potential_dfs = pd.read_html(div_txt)\n",
    "    \n",
    "    assert len(potential_dfs) == 1, 'Multiple tables were found when there should be only one'\n",
    "    df = potential_dfs[0]\n",
    "    md_table = convert_df_to_md(df)\n",
    "\n",
    "    return div_txt, md_table\n",
    "\n",
    "def extract_div_to_md_tables(md_fp):\n",
    "    with open(md_fp, 'r') as f:\n",
    "        file_txt = f.read()\n",
    "        \n",
    "    parser = MyHTMLParser()\n",
    "    parser.feed(file_txt)\n",
    "\n",
    "    table_and_div_tags = [tag for tag in parser.tags if tag in ['<div>', '</div>', '<table border=\"1\" class=\"dataframe\">', '</table>']]\n",
    "    \n",
    "    table_start_tag_idxs = [i for i, tag in enumerate(table_and_div_tags) if tag=='<table border=\"1\" class=\"dataframe\">']\n",
    "    table_end_tag_idxs = [table_start_tag_idx+table_and_div_tags[table_start_tag_idx:].index('</table>') for table_start_tag_idx in table_start_tag_idxs]\n",
    "\n",
    "    div_to_md_tables = []\n",
    "\n",
    "    for start_idx, end_idx in zip(table_start_tag_idxs, table_end_tag_idxs):\n",
    "        div_txt, md_table = extract_div_to_md_table(start_idx, end_idx, table_and_div_tags, file_txt)\n",
    "        div_to_md_tables += [(div_txt, md_table)]\n",
    "        \n",
    "    return div_to_md_tables\n",
    "\n",
    "def clean_md_file_tables(md_fp):\n",
    "    div_to_md_tables = extract_div_to_md_tables(md_fp)\n",
    "    \n",
    "    with open(md_fp, 'r') as f:\n",
    "        md_file_text = f.read()\n",
    "\n",
    "    for div_txt, md_txt in div_to_md_tables:\n",
    "        md_file_text = md_file_text.replace(div_txt, md_txt)\n",
    "\n",
    "    with open(md_fp, 'w') as f:\n",
    "        f.write(md_file_text)\n",
    "        \n",
    "    return"
   ]
  },
  {
   "cell_type": "code",
   "execution_count": null,
   "metadata": {},
   "outputs": [],
   "source": []
  },
  {
   "cell_type": "code",
   "execution_count": 48,
   "metadata": {},
   "outputs": [],
   "source": [
    "md_files = [f'{docs_dir}/{f}' for f in os.listdir(docs_dir) if f[-3:]=='.md' if f!='00-documentation.md']\n",
    "\n",
    "for md_file in md_files:\n",
    "    div_to_md_tables = clean_md_file_tables(md_file)"
   ]
  },
  {
   "cell_type": "code",
   "execution_count": null,
   "metadata": {},
   "outputs": [],
   "source": []
  },
  {
   "cell_type": "code",
   "execution_count": 55,
   "metadata": {},
   "outputs": [],
   "source": [
    "df_power_stations = pd.read_csv('../data/output/power_stations.csv')\n",
    "\n",
    "md_file_text = f\"\"\"# Dictionary\n",
    "\n",
    "<br>\n",
    "\n",
    "{df_power_stations.to_markdown(index=False)}\n",
    "\"\"\"\n",
    "\n",
    "with open(f'{docs_dir}/dictionary.md', 'w') as f:\n",
    "    f.write(md_file_text)"
   ]
  },
  {
   "cell_type": "code",
   "execution_count": null,
   "metadata": {},
   "outputs": [],
   "source": []
  },
  {
   "cell_type": "code",
   "execution_count": null,
   "metadata": {},
   "outputs": [],
   "source": []
  },
  {
   "cell_type": "code",
   "execution_count": null,
   "metadata": {},
   "outputs": [],
   "source": [
    "## want to create a markdown file that includes the dataset"
   ]
  },
  {
   "cell_type": "code",
   "execution_count": null,
   "metadata": {},
   "outputs": [],
   "source": []
  }
 ],
 "metadata": {
  "kernelspec": {
   "display_name": "PowerDict",
   "language": "python",
   "name": "powerdict"
  },
  "language_info": {
   "codemirror_mode": {
    "name": "ipython",
    "version": 3
   },
   "file_extension": ".py",
   "mimetype": "text/x-python",
   "name": "python",
   "nbconvert_exporter": "python",
   "pygments_lexer": "ipython3",
   "version": "3.9.1"
  }
 },
 "nbformat": 4,
 "nbformat_minor": 4
}
