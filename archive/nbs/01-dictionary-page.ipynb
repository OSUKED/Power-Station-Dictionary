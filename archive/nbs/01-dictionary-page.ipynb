{
 "cells": [
  {
   "cell_type": "code",
   "execution_count": 1,
   "id": "9cdfda87-5f3c-4e2c-b004-f580851d7bc3",
   "metadata": {},
   "outputs": [],
   "source": [
    "# default_exp dictionary"
   ]
  },
  {
   "cell_type": "markdown",
   "id": "e78b4409-0342-489f-ba59-24f45124a36b",
   "metadata": {},
   "source": [
    "# Dictionary Page Generation\n",
    "\n",
    "<br>\n",
    "\n",
    "### Imports"
   ]
  },
  {
   "cell_type": "code",
   "execution_count": 5,
   "id": "9ea6c982-8745-4204-b4c2-54abc03ce8ee",
   "metadata": {},
   "outputs": [],
   "source": [
    "#exports\n",
    "import json\n",
    "import numpy as np\n",
    "import pandas as pd\n",
    "\n",
    "from jinja2 import Template"
   ]
  },
  {
   "cell_type": "code",
   "execution_count": 3,
   "id": "5a51177c-72bf-48e5-bd47-568f9350f685",
   "metadata": {},
   "outputs": [],
   "source": [
    "from IPython.display import JSON, Markdown"
   ]
  },
  {
   "cell_type": "code",
   "execution_count": null,
   "id": "5fe4ceda-7762-4787-b8ed-f6e0efaebdd2",
   "metadata": {},
   "outputs": [],
   "source": []
  },
  {
   "cell_type": "code",
   "execution_count": 14,
   "id": "de278622-e757-445f-b3e6-b6f10e0ffdaf",
   "metadata": {},
   "outputs": [
    {
     "data": {
      "text/plain": [
       "{'name': 'Winfrith', 'iaea_id': '239'}"
      ]
     },
     "execution_count": 14,
     "metadata": {},
     "output_type": "execute_result"
    }
   ],
   "source": [
    "df_ids = pd.read_csv('../data/dictionary/ids.csv').set_index('dictionary_id')\n",
    "\n",
    "for dict_id, dict_data in df_ids.iterrows():\n",
    "    pass\n",
    "\n",
    "dict_data.dropna().to_dict()"
   ]
  },
  {
   "cell_type": "code",
   "execution_count": null,
   "id": "f772940a-bcfb-4abf-a1cd-54a866bc9961",
   "metadata": {},
   "outputs": [],
   "source": []
  },
  {
   "cell_type": "code",
   "execution_count": 5,
   "id": "da953623-c86e-4081-a62b-7a6e3651d747",
   "metadata": {},
   "outputs": [],
   "source": [
    "#exports\n",
    "def construct_contributor_txt(package):\n",
    "    contributors = []\n",
    "    \n",
    "    for contributor in package.contributors:\n",
    "        if 'title' in contributor.keys():\n",
    "            title_key = 'title'\n",
    "        elif 'name' in contributor.keys():\n",
    "            title_key = 'name'\n",
    "        else:\n",
    "            raise ValueError(f'One of `title` or `name` must be provided with each licence, instead was passed: {\", \".join(license.keys())}')\n",
    "            \n",
    "        if 'role' in contributor:\n",
    "            contributors += [f'{contributor[title_key]} ({contributor[\"role\"].capitalize()})']\n",
    "        else:\n",
    "            contributors += [contributor[title_key]]\n",
    "    \n",
    "    contributors_txt = ', '.join(contributors)\n",
    "    \n",
    "    return contributors_txt\n",
    "\n",
    "def construct_licence_txt(package):\n",
    "    licenses = []\n",
    "    \n",
    "    for license in package.licenses:\n",
    "        assert 'name' in license, 'Each licence must have an associated `name`'\n",
    "        \n",
    "        if 'path' in license:\n",
    "            licenses += [f'[{license[\"name\"]}]({license[\"path\"]})']\n",
    "        else:\n",
    "            licenses += [f'{license[\"name\"]}']\n",
    "    \n",
    "    licence_txt = ', '.join(licenses)\n",
    "    \n",
    "    return licence_txt\n",
    "\n",
    "def construct_metadata_table_str(package):\n",
    "    attr_to_processing_func = {\n",
    "        'version': lambda package: package.version,\n",
    "        'contributors': lambda package: construct_contributor_txt(package),\n",
    "        'keywords': lambda package: ', '.join(package.keywords),\n",
    "        'licenses': lambda package: construct_licence_txt(package),\n",
    "    }\n",
    "    \n",
    "    s_metadata = pd.Series({\n",
    "        attr.capitalize(): attr_to_processing_func[attr](package)\n",
    "        for attr\n",
    "        in package.keys()\n",
    "        if attr in attr_to_processing_func.keys()\n",
    "    })\n",
    "    \n",
    "    s_metadata.index.name = 'Attribute'\n",
    "    s_metadata.name = 'Value(s)'\n",
    "    \n",
    "    if s_metadata.size > 0:\n",
    "        return s_metadata.to_markdown()\n",
    "    else:\n",
    "        return False"
   ]
  },
  {
   "cell_type": "code",
   "execution_count": 6,
   "id": "32b58989-d891-47cf-b75a-4ef7d8859117",
   "metadata": {},
   "outputs": [
    {
     "data": {
      "text/markdown": [
       "| Attribute    | Value(s)                                                  |\n",
       "|:-------------|:----------------------------------------------------------|\n",
       "| Keywords     | power plants, ids                                         |\n",
       "| Version      | 1.0.0                                                     |\n",
       "| Contributors | Ayrton Bourn (Author)                                     |\n",
       "| Licenses     | [CC-BY-4.0](https://creativecommons.org/licenses/by/4.0/) |"
      ],
      "text/plain": [
       "<IPython.core.display.Markdown object>"
      ]
     },
     "execution_count": 6,
     "metadata": {},
     "output_type": "execute_result"
    }
   ],
   "source": [
    "metadata_table_str = construct_metadata_table_str(package)\n",
    "\n",
    "Markdown(metadata_table_str)"
   ]
  },
  {
   "cell_type": "code",
   "execution_count": null,
   "id": "4eccf99e-22d2-4b22-bdac-1b30f1bbb4f0",
   "metadata": {},
   "outputs": [],
   "source": []
  },
  {
   "cell_type": "code",
   "execution_count": 7,
   "id": "c8f4be0b-89d5-4e66-a759-4d20684a995a",
   "metadata": {},
   "outputs": [],
   "source": [
    "#exports\n",
    "def construct_field_desc_table_str(package, resource='ids'):\n",
    "    s_field_descs = pd.Series({field['title']: field['description'] for field in package.get_resource(resource).schema.fields})\n",
    "\n",
    "    s_field_descs.index.name = 'Field'\n",
    "    s_field_descs.name = 'Description'\n",
    "    \n",
    "    md_str = s_field_descs.to_markdown()\n",
    "    \n",
    "    return md_str"
   ]
  },
  {
   "cell_type": "code",
   "execution_count": 8,
   "id": "fffe8185-0614-4927-a1f1-15831f5e115d",
   "metadata": {
    "tags": []
   },
   "outputs": [
    {
     "data": {
      "text/markdown": [
       "| Field                | Description                                                                                                                                                                                                                                        |\n",
       "|:---------------------|:---------------------------------------------------------------------------------------------------------------------------------------------------------------------------------------------------------------------------------------------------|\n",
       "| Dictionary ID        | The identifier used to refer to power plants in the Subak data cooperative                                                                                                                                                                         |\n",
       "| GPPD ID              | The identifier used in the global power plant database                                                                                                                                                                                             |\n",
       "| ESAIL ID             | The identifier used by the Energy Systems and Artificial Intelligence Lab at UCL                                                                                                                                                                   |\n",
       "| Common Name          | The name used to refer to the power plant site                                                                                                                                                                                                     |\n",
       "| Settlement BMU ID    | The Balancing Mechanism Unit identifier used for settlement purposes by Elexon                                                                                                                                                                     |\n",
       "| National Grid BMU ID | The Balancing Mechanism Unit identifier used by the National Grid                                                                                                                                                                                  |\n",
       "| 4C-Offshore ID       | The identifier used by 4C-Offshore                                                                                                                                                                                                                 |\n",
       "| WindPowerNet ID      | The identifier used by the WindPower.Net                                                                                                                                                                                                           |\n",
       "| Wikidata ID          | The identifier used by Wikidata                                                                                                                                                                                                                    |\n",
       "| Wikipedia ID         | The identifier used by Wikipedia                                                                                                                                                                                                                   |\n",
       "| Power-Technology ID  | The identifier used by Power-Technology                                                                                                                                                                                                            |\n",
       "| EUTL ID              | The identifier used in the European (Emissions Trading Scheme) Transaction Logs                                                                                                                                                                    |\n",
       "| EIC ID               | The Energy Identification Code or EIC is a 16-character code used in Europe to uniquely identify entities and objects related to the electricity and gas sector. The EIC code is used for: Transmission System Operators, Market Participants etc. |\n",
       "| CfD ID               | The identifier used by the Low Carbon Contracts Company to uniquely identify Contracts for Difference projects                                                                                                                                     |\n",
       "| JRC ID               | Unique identifier of the hydro-power plant in the JRC data-base                                                                                                                                                                                    |\n",
       "| IAEA ID              | Unique identifier used by the International Atomic Energy Agency                                                                                                                                                                                   |\n",
       "| REPD ID (Old)        | Unique identifier used by BEIS in the Renewable Energy Planning Database - now superseded by a new ID scheme                                                                                                                                       |\n",
       "| REPD ID (New)        | Unique identifier used by BEIS in the Renewable Energy Planning Database                                                                                                                                                                           |"
      ],
      "text/plain": [
       "<IPython.core.display.Markdown object>"
      ]
     },
     "execution_count": 8,
     "metadata": {},
     "output_type": "execute_result"
    }
   ],
   "source": [
    "field_desc_table_str = construct_field_desc_table_str(package)\n",
    "\n",
    "Markdown(field_desc_table_str)"
   ]
  },
  {
   "cell_type": "code",
   "execution_count": null,
   "id": "77b18f4d-4d65-4ddb-910b-1eff4d4dbfd1",
   "metadata": {},
   "outputs": [],
   "source": []
  },
  {
   "cell_type": "code",
   "execution_count": 26,
   "id": "c2c632aa-f159-4b54-ad5b-ebe2c71c5337",
   "metadata": {},
   "outputs": [],
   "source": [
    "#exports\n",
    "def get_dp_field_to_url_format_str(datapackage_json_fp):\n",
    "    package = Package(datapackage_json_fp, profile='tabular-data-package')\n",
    "    ids_resource = package.get_resource('ids')\n",
    "\n",
    "    id_field_to_url_format_str = {\n",
    "        field['name']: field['url_format'] \n",
    "        for field \n",
    "        in ids_resource['schema']['fields'] \n",
    "        if 'url_format' in field.keys()\n",
    "    }\n",
    "\n",
    "    return id_field_to_url_format_str\n",
    "\n",
    "def get_dp_field_to_title(datapackage_json_fp):\n",
    "    package = Package(datapackage_json_fp, profile='tabular-data-package')\n",
    "    ids_resource = package.get_resource('ids')\n",
    "\n",
    "    id_field_to_title = {\n",
    "        field['name']: field['title'] \n",
    "        for field \n",
    "        in ids_resource['schema']['fields'] \n",
    "    }\n",
    "\n",
    "    return id_field_to_title\n",
    "\n",
    "def format_url_ids(id_type, id_values, id_field_to_url_format_str, output_format='html'):\n",
    "    if (id_type in id_field_to_url_format_str.keys()) and (id_values is not None):\n",
    "        if output_format == 'markdown':\n",
    "            return f'[{id_values}]({id_field_to_url_format_str[id_type].format(value=id_values)})' \n",
    "        elif output_format == 'html':\n",
    "            return f'<a href=\"{id_field_to_url_format_str[id_type].format(value=id_values)}\">{id_values}</a>' \n",
    "        else:\n",
    "            raise ValueError(f'`output_format` must be one of: `html` or `markdown`')\n",
    "\n",
    "    else:\n",
    "        return id_values\n",
    "\n",
    "def format_id_values(id_values, id_type, id_field_to_url_format_str, output_format='html'):\n",
    "    if id_type in id_field_to_url_format_str.keys():\n",
    "        id_values_strs = [format_url_ids(id_type, id_value, id_field_to_url_format_str, output_format) for id_value in id_values]\n",
    "    else:\n",
    "        id_values_strs = [str(id_value) for id_value in id_values] \n",
    "    \n",
    "    return id_values_strs\n",
    "\n",
    "def construct_linked_idxs(df_ids_clean, output_format='html', root_url='https://osuked.github.io/Power-Station-Dictionary/objects'):\n",
    "    index = []\n",
    "    \n",
    "    for idx in df_ids_clean.index:\n",
    "        if output_format == 'markdown':\n",
    "            index += [f'[{idx}]({root_url}/{idx})']\n",
    "        elif output_format == 'html':\n",
    "            index += [f'<a href=\"{root_url}/{idx}\">{idx}</a>']\n",
    "        else:\n",
    "            raise ValueError(f'`output_format` must be one of: `html` or `markdown`')\n",
    "            \n",
    "    return index\n",
    "\n",
    "def construct_linked_ids_table_str(\n",
    "    package, \n",
    "    datapackage_json_fp, \n",
    "    resource='ids', \n",
    "    output_format='html',\n",
    "    output_kwargs={\n",
    "        'index': False, \n",
    "        'table_id': 'dictionary'\n",
    "    }\n",
    "):            \n",
    "    id_field_to_url_format_str = get_dp_field_to_url_format_str(datapackage_json_fp)\n",
    "    id_field_to_title = get_dp_field_to_title(datapackage_json_fp)\n",
    "    df_ids = package.get_resource(resource).to_pandas()\n",
    "    \n",
    "    df_ids_clean = pd.DataFrame(index=df_ids.index, columns=id_field_to_title.values())\n",
    "    \n",
    "    for dictionary_id, row in df_ids.iterrows():\n",
    "        row = pd.Series({\n",
    "            id_field_to_title[id_type]: (\n",
    "                ', '.join([str(id_) for id_ in format_id_values(id_values, id_type, id_field_to_url_format_str, output_format)]) if isinstance(id_values, list) \n",
    "                else format_url_ids(id_type, id_values, id_field_to_url_format_str, output_format)\n",
    "            ) \n",
    "            for id_type, id_values \n",
    "            in row.items()\n",
    "        }).fillna('-')\n",
    "\n",
    "        df_ids_clean.loc[dictionary_id] = row\n",
    "\n",
    "    df_ids_clean = df_ids_clean.drop(columns='Dictionary ID')\n",
    "    df_ids_clean.index = construct_linked_idxs(df_ids_clean, output_format)\n",
    "    df_ids_clean.index.name = 'Dictionary ID'\n",
    "    \n",
    "    linked_ids_table_str = getattr(df_ids_clean.reset_index(), f'to_{output_format}')(**output_kwargs)\n",
    "    \n",
    "    linked_ids_table_str = linked_ids_table_str.replace('&lt;', '<')\n",
    "    linked_ids_table_str = linked_ids_table_str.replace('&gt;', '>')\n",
    "    linked_ids_table_str = linked_ids_table_str.replace('<td>', '<td class=\"truncate\">')\n",
    "    \n",
    "    return linked_ids_table_str"
   ]
  },
  {
   "cell_type": "code",
   "execution_count": 27,
   "id": "948ccfe3-00cb-45b3-9426-489ebe8c5c73",
   "metadata": {
    "tags": []
   },
   "outputs": [],
   "source": [
    "linked_ids_table_str = construct_linked_ids_table_str(package, datapackage_json_fp, output_format='html')\n",
    "\n",
    "# from IPython.display import HTML\n",
    "\n",
    "# HTML(linked_ids_table_str)"
   ]
  },
  {
   "cell_type": "code",
   "execution_count": null,
   "id": "057832a7-012f-4173-a99a-4a25c7bbd3cc",
   "metadata": {
    "tags": []
   },
   "outputs": [],
   "source": []
  },
  {
   "cell_type": "code",
   "execution_count": 28,
   "id": "718f97a1-52de-4c10-8510-a8619c29854d",
   "metadata": {},
   "outputs": [],
   "source": [
    "#exports\n",
    "def populate_and_save_template(template_fp, save_fp, **render_kwargs):\n",
    "    rendered_str = Template(open(template_fp).read()).render(**render_kwargs)\n",
    "\n",
    "    with open(save_fp, 'w', encoding='utf-8') as f:\n",
    "        try:\n",
    "            f.write(rendered_str)\n",
    "        except e as exc:\n",
    "            raise exc\n",
    "            \n",
    "    return None\n",
    "\n",
    "def populate_dictionary_page(\n",
    "    datapackage_json_fp: str='../data/dictionary/datapackage.json',\n",
    "    template_fp: str='../templates/dictionary_page.md',\n",
    "    save_fp: str=f'../docs/dictionary.md',\n",
    "    output_format: str='html'\n",
    "):\n",
    "    package = Package(datapackage_json_fp, profile='tabular-data-package')\n",
    "\n",
    "    render_kwargs = {\n",
    "        'title': package.title,\n",
    "        'description': package.description,\n",
    "        'metadata_table': construct_metadata_table_str(package),\n",
    "        'field_desc_table': construct_field_desc_table_str(package),\n",
    "        'linked_ids_table': construct_linked_ids_table_str(package, datapackage_json_fp, output_format=output_format),\n",
    "    }\n",
    "\n",
    "    populate_and_save_template(template_fp, save_fp, **render_kwargs)\n",
    "    \n",
    "    return"
   ]
  },
  {
   "cell_type": "code",
   "execution_count": 29,
   "id": "a2704117-9a57-4c5e-9298-27d5d9a23086",
   "metadata": {
    "tags": []
   },
   "outputs": [],
   "source": [
    "populate_dictionary_page(\n",
    "    datapackage_json_fp = '../data/dictionary/datapackage.json',\n",
    "    template_fp = '../templates/dictionary_page.md',\n",
    "    save_fp = f'../docs/dictionary.md'\n",
    ")"
   ]
  },
  {
   "cell_type": "code",
   "execution_count": null,
   "id": "e3fff58c-dc69-451d-9cd2-90604a04275e",
   "metadata": {},
   "outputs": [],
   "source": []
  },
  {
   "cell_type": "code",
   "execution_count": 30,
   "id": "ef79af34-1be1-4242-a5d9-8edc251784c4",
   "metadata": {},
   "outputs": [
    {
     "name": "stdout",
     "output_type": "stream",
     "text": [
      "Converted 00-documentation.ipynb.\n",
      "Converted 01-dictionary-page.ipynb.\n",
      "Converted 02-attribute extraction.ipynb.\n",
      "Converted 03-page-population.ipynb.\n",
      "Converted 04-cli.ipynb.\n",
      "Converted 05-carbon-intensity.ipynb.\n",
      "Converted 06-cfd-capture-price-comparison.ipynb.\n",
      "Converted 07-dataset-pages.ipynb.\n",
      "Converted 08-papers.ipynb.\n",
      "Converted 09-id-submission.ipynb.\n"
     ]
    }
   ],
   "source": [
    "#hide\n",
    "from nbdev.export import *\n",
    "notebook2script()"
   ]
  }
 ],
 "metadata": {
  "kernelspec": {
   "display_name": "Poetry",
   "language": "python",
   "name": "poetry-kernel"
  },
  "language_info": {
   "codemirror_mode": {
    "name": "ipython",
    "version": 3
   },
   "file_extension": ".py",
   "mimetype": "text/x-python",
   "name": "python",
   "nbconvert_exporter": "python",
   "pygments_lexer": "ipython3",
   "version": "3.9.16"
  }
 },
 "nbformat": 4,
 "nbformat_minor": 5
}
