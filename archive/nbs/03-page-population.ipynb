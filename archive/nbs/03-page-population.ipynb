{
 "cells": [
  {
   "cell_type": "code",
   "execution_count": 1,
   "id": "296f17be-6ae3-48b5-a69c-b16127b673d0",
   "metadata": {},
   "outputs": [],
   "source": [
    "# default_exp population"
   ]
  },
  {
   "cell_type": "code",
   "execution_count": 2,
   "id": "1008b8f9-5c4d-4eba-aafd-c7b2a05d7d35",
   "metadata": {},
   "outputs": [],
   "source": [
    "#exports\n",
    "import json\n",
    "import numpy as np\n",
    "import pandas as pd\n",
    "from frictionless import Package\n",
    "\n",
    "from powerdict import extraction\n",
    "\n",
    "import os\n",
    "from tqdm import tqdm\n",
    "from warnings import warn\n",
    "\n",
    "from jinja2 import Template"
   ]
  },
  {
   "cell_type": "code",
   "execution_count": 3,
   "id": "21d259c5-d0bc-4892-ae07-8be024761862",
   "metadata": {},
   "outputs": [],
   "source": [
    "from IPython.display import JSON, Markdown"
   ]
  },
  {
   "cell_type": "markdown",
   "id": "702a3c59-cc07-4a0b-860b-7bb8e5e899a5",
   "metadata": {},
   "source": [
    "<br>\n",
    "\n",
    "### Data Formatting"
   ]
  },
  {
   "cell_type": "code",
   "execution_count": 4,
   "id": "a579318d-3e88-4787-a9ae-a9c931a11bf6",
   "metadata": {},
   "outputs": [
    {
     "data": {
      "application/json": {
       "10000": {
        "attributes": [
         {
          "attribute": "Fuel Type",
          "field_schema": {
           "description": "The fuel type consumed by the specified BMU",
           "format": "default",
           "name": "FUEL TYPE",
           "title": "Fuel Type",
           "type": "string"
          },
          "id": "MARK-1",
          "source": "https://raw.githubusercontent.com/OSUKED/Dictionary-Datasets/main/datasets/bmu-fuel-types/datapackage.json",
          "value": "BIOMASS"
         },
         {
          "attribute": "Longitude",
          "field_schema": {
           "description": "The east–west position of a point on the Earth's surface",
           "format": "default",
           "name": "longitude",
           "title": "Longitude",
           "type": "number"
          },
          "id": 10000,
          "source": "https://raw.githubusercontent.com/OSUKED/Dictionary-Datasets/main/datasets/plant-locations/datapackage.json",
          "value": -3.603516
         },
         {
          "attribute": "Latitude",
          "field_schema": {
           "description": "The north-south position of a point on the Earth's surface",
           "format": "default",
           "name": "latitude",
           "title": "Latitude",
           "type": "number"
          },
          "id": 10000,
          "source": "https://raw.githubusercontent.com/OSUKED/Dictionary-Datasets/main/datasets/plant-locations/datapackage.json",
          "value": 57.480403
         },
         {
          "attribute": "Annual Output (MWh)",
          "field_schema": {
           "description": "The total output of the specified power plant during a year",
           "format": "default",
           "name": "output_MWh",
           "title": "Annual Output (MWh)",
           "type": "number"
          },
          "id": "MARK-1",
          "source": "https://raw.githubusercontent.com/OSUKED/Dictionary-Datasets/main/datasets/annual-output/datapackage.json",
          "value": {
           "2016": 355704.933,
           "2017": 387311.364,
           "2018": 295847.593,
           "2019": 389670.228,
           "2020": 347661.617
          }
         },
         {
          "attribute": "Capture Price (£/MWh)",
          "field_schema": {
           "description": "The average price weighted by output that would have been received by the balancing mechanisms unit if it had participated fully in the day-ahead market. ",
           "format": "default",
           "name": "capture_price",
           "title": "Capture Price (£/MWh)",
           "type": "number"
          },
          "id": "MARK-1",
          "source": "https://raw.githubusercontent.com/OSUKED/Dictionary-Datasets/main/datasets/capture-prices/datapackage.json",
          "value": {
           "2016": 39.59720856417994,
           "2017": 45.39047277322623,
           "2018": 56.825873243072294,
           "2019": 42.16549582086605,
           "2020": 34.8285267211038
          }
         }
        ],
        "datasets": {
         "https://raw.githubusercontent.com/OSUKED/Dictionary-Datasets/main/datasets/annual-output/datapackage.json": {
          "datapackage_json_url": "https://raw.githubusercontent.com/OSUKED/Dictionary-Datasets/main/datasets/annual-output/datapackage.json",
          "datapackage_name": "annual-output",
          "related_resources": [
           {
            "alt_indexes": [
             "year"
            ],
            "dictionary_pk_field": "ngc_bmu_id",
            "external_fk_field": "ngc_bmu_id",
            "extracted_attributes": [
             "output_MWh"
            ],
            "resource_name": "annual-output",
            "resource_url": "https://raw.githubusercontent.com/OSUKED/Dictionary-Datasets/main/datasets/annual-output/annual-output.csv"
           }
          ]
         },
         "https://raw.githubusercontent.com/OSUKED/Dictionary-Datasets/main/datasets/bmu-fuel-types/datapackage.json": {
          "datapackage_json_url": "https://raw.githubusercontent.com/OSUKED/Dictionary-Datasets/main/datasets/bmu-fuel-types/datapackage.json",
          "datapackage_name": "bmu-fuel-types",
          "related_resources": [
           {
            "dictionary_pk_field": "ngc_bmu_id",
            "external_fk_field": "NGC_BMU_ID",
            "extracted_attributes": [
             "FUEL TYPE"
            ],
            "resource_name": "bmu-fuel-types",
            "resource_url": "https://raw.githubusercontent.com/OSUKED/Dictionary-Datasets/main/datasets/bmu-fuel-types/BMUFuelType 2021-08-09.csv"
           }
          ]
         },
         "https://raw.githubusercontent.com/OSUKED/Dictionary-Datasets/main/datasets/capture-prices/datapackage.json": {
          "datapackage_json_url": "https://raw.githubusercontent.com/OSUKED/Dictionary-Datasets/main/datasets/capture-prices/datapackage.json",
          "datapackage_name": "capture-prices",
          "related_resources": [
           {
            "alt_indexes": [
             "year"
            ],
            "dictionary_pk_field": "ngc_bmu_id",
            "external_fk_field": "ngc_bmu_id",
            "extracted_attributes": [
             "capture_price"
            ],
            "resource_name": "capture-prices",
            "resource_url": "https://raw.githubusercontent.com/OSUKED/Dictionary-Datasets/main/datasets/capture-prices/capture-prices.csv"
           }
          ]
         },
         "https://raw.githubusercontent.com/OSUKED/Dictionary-Datasets/main/datasets/plant-locations/datapackage.json": {
          "datapackage_json_url": "https://raw.githubusercontent.com/OSUKED/Dictionary-Datasets/main/datasets/plant-locations/datapackage.json",
          "datapackage_name": "plant-locations",
          "related_resources": [
           {
            "dictionary_pk_field": "dictionary_id",
            "external_fk_field": "dictionary_id",
            "extracted_attributes": [
             "longitude",
             "latitude"
            ],
            "resource_name": "plant-locations",
            "resource_url": "https://raw.githubusercontent.com/OSUKED/Dictionary-Datasets/main/datasets/plant-locations/plant-locations.csv"
           }
          ]
         }
        },
        "id_hierarchies": {
         "child": {
          "ngc_bmu_id": [
           "MARK-1",
           "MARK-2"
          ],
          "sett_bmu_id": [
           "E_MARK-1",
           "E_MARK-2"
          ]
         },
         "equivalent": {
          "eic_id": "48W000000MARK-1D",
          "esail_id": "MARK",
          "name": "Rothes Bio-Plant CHP"
         },
         "parent": {}
        }
       },
       "10001": {
        "attributes": [
         {
          "attribute": "Fuel Type",
          "field_schema": {
           "description": "The fuel type consumed by the specified BMU",
           "format": "default",
           "name": "FUEL TYPE",
           "title": "Fuel Type",
           "type": "string"
          },
          "id": "DIDC01G",
          "source": "https://raw.githubusercontent.com/OSUKED/Dictionary-Datasets/main/datasets/bmu-fuel-types/datapackage.json",
          "value": "OCGT"
         },
         {
          "attribute": "Fuel Type",
          "field_schema": {
           "description": "The fuel type consumed by the specified BMU",
           "format": "default",
           "name": "FUEL TYPE",
           "title": "Fuel Type",
           "type": "string"
          },
          "id": "DIDC02G",
          "source": "https://raw.githubusercontent.com/OSUKED/Dictionary-Datasets/main/datasets/bmu-fuel-types/datapackage.json",
          "value": "OCGT"
         },
         {
          "attribute": "Fuel Type",
          "field_schema": {
           "description": "The fuel type consumed by the specified BMU",
           "format": "default",
           "name": "FUEL TYPE",
           "title": "Fuel Type",
           "type": "string"
          },
          "id": "DIDC03G",
          "source": "https://raw.githubusercontent.com/OSUKED/Dictionary-Datasets/main/datasets/bmu-fuel-types/datapackage.json",
          "value": "OCGT"
         },
         {
          "attribute": "Fuel Type",
          "field_schema": {
           "description": "The fuel type consumed by the specified BMU",
           "format": "default",
           "name": "FUEL TYPE",
           "title": "Fuel Type",
           "type": "string"
          },
          "id": "DIDC04G",
          "source": "https://raw.githubusercontent.com/OSUKED/Dictionary-Datasets/main/datasets/bmu-fuel-types/datapackage.json",
          "value": "OCGT"
         },
         {
          "attribute": "Fuel Type",
          "field_schema": {
           "description": "The fuel type consumed by the specified BMU",
           "format": "default",
           "name": "FUEL TYPE",
           "title": "Fuel Type",
           "type": "string"
          },
          "id": "DIDCB5",
          "source": "https://raw.githubusercontent.com/OSUKED/Dictionary-Datasets/main/datasets/bmu-fuel-types/datapackage.json",
          "value": "CCGT"
         },
         {
          "attribute": "Fuel Type",
          "field_schema": {
           "description": "The fuel type consumed by the specified BMU",
           "format": "default",
           "name": "FUEL TYPE",
           "title": "Fuel Type",
           "type": "string"
          },
          "id": "DIDCB6",
          "source": "https://raw.githubusercontent.com/OSUKED/Dictionary-Datasets/main/datasets/bmu-fuel-types/datapackage.json",
          "value": "CCGT"
         },
         {
          "attribute": "Longitude",
          "field_schema": {
           "description": "The east–west position of a point on the Earth's surface",
           "format": "default",
           "name": "longitude",
           "title": "Longitude",
           "type": "number"
          },
          "id": 10001,
          "source": "https://raw.githubusercontent.com/OSUKED/Dictionary-Datasets/main/datasets/plant-locations/datapackage.json",
          "value": -1.26757
         },
         {
          "attribute": "Latitude",
          "field_schema": {
           "description": "The north-south position of a point on the Earth's surface",
           "format": "default",
           "name": "latitude",
           "title": "Latitude",
           "type": "number"
          },
          "id": 10001,
          "source": "https://raw.githubusercontent.com/OSUKED/Dictionary-Datasets/main/datasets/plant-locations/datapackage.json",
          "value": 51.62363
         },
         {
          "attribute": "Installed Capacity (MW) ",
          "field_schema": {
           "description": "Installed electrical capacity of eachpower plant (MW) ",
           "format": "default",
           "name": "capacity_mw",
           "title": "Installed Capacity (MW) ",
           "type": "number"
          },
          "id": "GBR1000377",
          "source": "https://raw.githubusercontent.com/OSUKED/Dictionary-Datasets/main/datasets/global-power-plant-database/datapackage.json",
          "value": 100
         },
         {
          "attribute": "Longitude",
          "field_schema": {
           "description": "The east–west position of a point on the Earth's surface",
           "format": "default",
           "name": "longitude",
           "title": "Longitude",
           "type": "number"
          },
          "id": "GBR1000377",
          "source": "https://raw.githubusercontent.com/OSUKED/Dictionary-Datasets/main/datasets/global-power-plant-database/datapackage.json",
          "value": -1.2683
         },
         {
          "attribute": "Latitude",
          "field_schema": {
           "description": "The north-south position of a point on the Earth's surface",
           "format": "default",
           "name": "latitude",
           "title": "Latitude",
           "type": "number"
          },
          "id": "GBR1000377",
          "source": "https://raw.githubusercontent.com/OSUKED/Dictionary-Datasets/main/datasets/global-power-plant-database/datapackage.json",
          "value": 51.6246
         },
         {
          "attribute": "Primary Fuel Type",
          "field_schema": {
           "description": "The primary fuel used by the power plant",
           "format": "default",
           "name": "primary_fuel",
           "title": "Primary Fuel Type",
           "type": "string"
          },
          "id": "GBR1000377",
          "source": "https://raw.githubusercontent.com/OSUKED/Dictionary-Datasets/main/datasets/global-power-plant-database/datapackage.json",
          "value": "Gas"
         },
         {
          "attribute": "Owner",
          "field_schema": {
           "description": "The primary owner of the power plant",
           "format": "default",
           "name": "owner",
           "title": "Owner",
           "type": "string"
          },
          "id": "GBR1000377",
          "source": "https://raw.githubusercontent.com/OSUKED/Dictionary-Datasets/main/datasets/global-power-plant-database/datapackage.json",
          "value": "RWE Npower Plc"
         },
         {
          "attribute": "Source",
          "field_schema": {
           "description": "The source of the data on each power plant",
           "format": "default",
           "name": "source",
           "title": "Source",
           "type": "string"
          },
          "id": "GBR1000377",
          "source": "https://raw.githubusercontent.com/OSUKED/Dictionary-Datasets/main/datasets/global-power-plant-database/datapackage.json",
          "value": "Department for Business Energy & Industrial Strategy"
         },
         {
          "attribute": "URL",
          "field_schema": {
           "description": "URL linking directly to data source",
           "format": "default",
           "name": "url",
           "title": "URL",
           "type": "string"
          },
          "id": "GBR1000377",
          "source": "https://raw.githubusercontent.com/OSUKED/Dictionary-Datasets/main/datasets/global-power-plant-database/datapackage.json",
          "value": "https://www.gov.uk/government/collections/digest-of-uk-energy-statistics-dukes"
         },
         {
          "attribute": "Geolocation Source",
          "field_schema": {
           "description": "The source of the spatial data on each power plant",
           "format": "default",
           "name": "geolocation_source",
           "title": "Geolocation Source",
           "type": "string"
          },
          "id": "GBR1000377",
          "source": "https://raw.githubusercontent.com/OSUKED/Dictionary-Datasets/main/datasets/global-power-plant-database/datapackage.json",
          "value": "GEODB"
         },
         {
          "attribute": "Estimated Annual Generation in 2017",
          "field_schema": {
           "description": "Estimated annual generation (during 2017) in gigawatt hours (GWhs), gross",
           "format": "default",
           "name": "estimated_generation_gwh_2017",
           "title": "Estimated Annual Generation in 2017",
           "type": "number"
          },
          "id": "GBR1000377",
          "source": "https://raw.githubusercontent.com/OSUKED/Dictionary-Datasets/main/datasets/global-power-plant-database/datapackage.json",
          "value": 464
         },
         {
          "attribute": "Installed Capacity (MW) ",
          "field_schema": {
           "description": "Installed electrical capacity of eachpower plant (MW) ",
           "format": "default",
           "name": "capacity_mw",
           "title": "Installed Capacity (MW) ",
           "type": "number"
          },
          "id": "GBR1000369",
          "source": "https://raw.githubusercontent.com/OSUKED/Dictionary-Datasets/main/datasets/global-power-plant-database/datapackage.json",
          "value": 1470
         },
         {
          "attribute": "Longitude",
          "field_schema": {
           "description": "The east–west position of a point on the Earth's surface",
           "format": "default",
           "name": "longitude",
           "title": "Longitude",
           "type": "number"
          },
          "id": "GBR1000369",
          "source": "https://raw.githubusercontent.com/OSUKED/Dictionary-Datasets/main/datasets/global-power-plant-database/datapackage.json",
          "value": -1.2683
         },
         {
          "attribute": "Latitude",
          "field_schema": {
           "description": "The north-south position of a point on the Earth's surface",
           "format": "default",
           "name": "latitude",
           "title": "Latitude",
           "type": "number"
          },
          "id": "GBR1000369",
          "source": "https://raw.githubusercontent.com/OSUKED/Dictionary-Datasets/main/datasets/global-power-plant-database/datapackage.json",
          "value": 51.6246
         },
         {
          "attribute": "Primary Fuel Type",
          "field_schema": {
           "description": "The primary fuel used by the power plant",
           "format": "default",
           "name": "primary_fuel",
           "title": "Primary Fuel Type",
           "type": "string"
          },
          "id": "GBR1000369",
          "source": "https://raw.githubusercontent.com/OSUKED/Dictionary-Datasets/main/datasets/global-power-plant-database/datapackage.json",
          "value": "Gas"
         },
         {
          "attribute": "Owner",
          "field_schema": {
           "description": "The primary owner of the power plant",
           "format": "default",
           "name": "owner",
           "title": "Owner",
           "type": "string"
          },
          "id": "GBR1000369",
          "source": "https://raw.githubusercontent.com/OSUKED/Dictionary-Datasets/main/datasets/global-power-plant-database/datapackage.json",
          "value": "RWE Npower Plc"
         },
         {
          "attribute": "Source",
          "field_schema": {
           "description": "The source of the data on each power plant",
           "format": "default",
           "name": "source",
           "title": "Source",
           "type": "string"
          },
          "id": "GBR1000369",
          "source": "https://raw.githubusercontent.com/OSUKED/Dictionary-Datasets/main/datasets/global-power-plant-database/datapackage.json",
          "value": "Department for Business Energy & Industrial Strategy"
         },
         {
          "attribute": "URL",
          "field_schema": {
           "description": "URL linking directly to data source",
           "format": "default",
           "name": "url",
           "title": "URL",
           "type": "string"
          },
          "id": "GBR1000369",
          "source": "https://raw.githubusercontent.com/OSUKED/Dictionary-Datasets/main/datasets/global-power-plant-database/datapackage.json",
          "value": "https://www.gov.uk/government/collections/digest-of-uk-energy-statistics-dukes"
         },
         {
          "attribute": "Geolocation Source",
          "field_schema": {
           "description": "The source of the spatial data on each power plant",
           "format": "default",
           "name": "geolocation_source",
           "title": "Geolocation Source",
           "type": "string"
          },
          "id": "GBR1000369",
          "source": "https://raw.githubusercontent.com/OSUKED/Dictionary-Datasets/main/datasets/global-power-plant-database/datapackage.json",
          "value": "GEODB"
         },
         {
          "attribute": "PLATTS-WEPP ID",
          "field_schema": {
           "description": "The unique identifier used to refer to power plants in the PLATTS-WEBB dataset",
           "format": "default",
           "name": "wepp_id",
           "title": "PLATTS-WEPP ID",
           "type": "number"
          },
          "id": "GBR1000369",
          "source": "https://raw.githubusercontent.com/OSUKED/Dictionary-Datasets/main/datasets/global-power-plant-database/datapackage.json",
          "value": 1023591
         },
         {
          "attribute": "Estimated Annual Generation in 2017",
          "field_schema": {
           "description": "Estimated annual generation (during 2017) in gigawatt hours (GWhs), gross",
           "format": "default",
           "name": "estimated_generation_gwh_2017",
           "title": "Estimated Annual Generation in 2017",
           "type": "number"
          },
          "id": "GBR1000369",
          "source": "https://raw.githubusercontent.com/OSUKED/Dictionary-Datasets/main/datasets/global-power-plant-database/datapackage.json",
          "value": 6820.88
         },
         {
          "attribute": "CO2 Emissions (Tonnes)",
          "field_schema": {
           "description": "Tonnes of CO2 released in the specified year",
           "format": "default",
           "name": "tonnes_co2",
           "title": "CO2 Emissions (Tonnes)",
           "type": "integer"
          },
          "id": 97165,
          "source": "https://raw.githubusercontent.com/OSUKED/Dictionary-Datasets/main/datasets/verified-emissions/datapackage.json",
          "value": {
           "2005": 6342700,
           "2006": 7184281,
           "2007": 5231425,
           "2008": 5182660,
           "2009": 2435748,
           "2010": 1795512,
           "2011": 2181952,
           "2012": 6838317,
           "2013": 1737804
          }
         },
         {
          "attribute": "Annual Output (MWh)",
          "field_schema": {
           "description": "The total output of the specified power plant during a year",
           "format": "default",
           "name": "output_MWh",
           "title": "Annual Output (MWh)",
           "type": "number"
          },
          "id": "DIDC01G",
          "source": "https://raw.githubusercontent.com/OSUKED/Dictionary-Datasets/main/datasets/annual-output/datapackage.json",
          "value": {
           "2016": 805.5070000000001,
           "2017": 587.926,
           "2018": 1303.645,
           "2019": 1453.08,
           "2020": 806.998
          }
         },
         {
          "attribute": "Annual Output (MWh)",
          "field_schema": {
           "description": "The total output of the specified power plant during a year",
           "format": "default",
           "name": "output_MWh",
           "title": "Annual Output (MWh)",
           "type": "number"
          },
          "id": "DIDC02G",
          "source": "https://raw.githubusercontent.com/OSUKED/Dictionary-Datasets/main/datasets/annual-output/datapackage.json",
          "value": {
           "2016": 895.896,
           "2017": 703.78,
           "2018": 1265.485,
           "2019": 1499.909,
           "2020": 624.051
          }
         },
         {
          "attribute": "Annual Output (MWh)",
          "field_schema": {
           "description": "The total output of the specified power plant during a year",
           "format": "default",
           "name": "output_MWh",
           "title": "Annual Output (MWh)",
           "type": "number"
          },
          "id": "DIDC03G",
          "source": "https://raw.githubusercontent.com/OSUKED/Dictionary-Datasets/main/datasets/annual-output/datapackage.json",
          "value": {
           "2016": 906.587,
           "2017": 576.746,
           "2018": 1292.1399999999999,
           "2019": 1336.45,
           "2020": 773.348
          }
         },
         {
          "attribute": "Annual Output (MWh)",
          "field_schema": {
           "description": "The total output of the specified power plant during a year",
           "format": "default",
           "name": "output_MWh",
           "title": "Annual Output (MWh)",
           "type": "number"
          },
          "id": "DIDC04G",
          "source": "https://raw.githubusercontent.com/OSUKED/Dictionary-Datasets/main/datasets/annual-output/datapackage.json",
          "value": {
           "2016": 904.72,
           "2017": 542.083,
           "2018": 1286.475,
           "2019": 1440.013,
           "2020": 803.657
          }
         },
         {
          "attribute": "Annual Output (MWh)",
          "field_schema": {
           "description": "The total output of the specified power plant during a year",
           "format": "default",
           "name": "output_MWh",
           "title": "Annual Output (MWh)",
           "type": "number"
          },
          "id": "DIDCB5",
          "source": "https://raw.githubusercontent.com/OSUKED/Dictionary-Datasets/main/datasets/annual-output/datapackage.json",
          "value": {
           "2016": 3740564.95,
           "2017": 3708766.45,
           "2018": 3323661.45,
           "2019": 4285470.6,
           "2020": 2676611.45
          }
         },
         {
          "attribute": "Annual Output (MWh)",
          "field_schema": {
           "description": "The total output of the specified power plant during a year",
           "format": "default",
           "name": "output_MWh",
           "title": "Annual Output (MWh)",
           "type": "number"
          },
          "id": "DIDCB6",
          "source": "https://raw.githubusercontent.com/OSUKED/Dictionary-Datasets/main/datasets/annual-output/datapackage.json",
          "value": {
           "2016": 2394716.1,
           "2017": 2757882.4,
           "2018": 2702690.75,
           "2019": 2092243.4,
           "2020": 1968618.25
          }
         },
         {
          "attribute": "Capture Price (£/MWh)",
          "field_schema": {
           "description": "The average price weighted by output that would have been received by the balancing mechanisms unit if it had participated fully in the day-ahead market. ",
           "format": "default",
           "name": "capture_price",
           "title": "Capture Price (£/MWh)",
           "type": "number"
          },
          "id": "DIDC01G",
          "source": "https://raw.githubusercontent.com/OSUKED/Dictionary-Datasets/main/datasets/capture-prices/datapackage.json",
          "value": {
           "2016": 56.46251501228418,
           "2017": 98.85782661423376,
           "2018": 102.69588604259596,
           "2019": 71.0360732925923,
           "2020": 66.35072335990921
          }
         },
         {
          "attribute": "Capture Price (£/MWh)",
          "field_schema": {
           "description": "The average price weighted by output that would have been received by the balancing mechanisms unit if it had participated fully in the day-ahead market. ",
           "format": "default",
           "name": "capture_price",
           "title": "Capture Price (£/MWh)",
           "type": "number"
          },
          "id": "DIDC02G",
          "source": "https://raw.githubusercontent.com/OSUKED/Dictionary-Datasets/main/datasets/capture-prices/datapackage.json",
          "value": {
           "2016": 71.31960705260431,
           "2017": 91.03809819830062,
           "2018": 103.00572695053674,
           "2019": 70.7254271159117,
           "2020": 71.8094585057952
          }
         },
         {
          "attribute": "Capture Price (£/MWh)",
          "field_schema": {
           "description": "The average price weighted by output that would have been received by the balancing mechanisms unit if it had participated fully in the day-ahead market. ",
           "format": "default",
           "name": "capture_price",
           "title": "Capture Price (£/MWh)",
           "type": "number"
          },
          "id": "DIDC03G",
          "source": "https://raw.githubusercontent.com/OSUKED/Dictionary-Datasets/main/datasets/capture-prices/datapackage.json",
          "value": {
           "2016": 72.22960697649536,
           "2017": 100.6834662225659,
           "2018": 102.711004279722,
           "2019": 71.19369727262526,
           "2020": 67.77303144250712
          }
         },
         {
          "attribute": "Capture Price (£/MWh)",
          "field_schema": {
           "description": "The average price weighted by output that would have been received by the balancing mechanisms unit if it had participated fully in the day-ahead market. ",
           "format": "default",
           "name": "capture_price",
           "title": "Capture Price (£/MWh)",
           "type": "number"
          },
          "id": "DIDC04G",
          "source": "https://raw.githubusercontent.com/OSUKED/Dictionary-Datasets/main/datasets/capture-prices/datapackage.json",
          "value": {
           "2016": 72.15675794721018,
           "2017": 103.88853893222993,
           "2018": 102.30378259196644,
           "2019": 70.56121424598251,
           "2020": 66.3219408773947
          }
         },
         {
          "attribute": "Capture Price (£/MWh)",
          "field_schema": {
           "description": "The average price weighted by output that would have been received by the balancing mechanisms unit if it had participated fully in the day-ahead market. ",
           "format": "default",
           "name": "capture_price",
           "title": "Capture Price (£/MWh)",
           "type": "number"
          },
          "id": "DIDCB5",
          "source": "https://raw.githubusercontent.com/OSUKED/Dictionary-Datasets/main/datasets/capture-prices/datapackage.json",
          "value": {
           "2016": 41.980511794096245,
           "2017": 47.52074035083371,
           "2018": 60.273718889936134,
           "2019": 44.49691930183904,
           "2020": 41.095908763075435
          }
         },
         {
          "attribute": "Capture Price (£/MWh)",
          "field_schema": {
           "description": "The average price weighted by output that would have been received by the balancing mechanisms unit if it had participated fully in the day-ahead market. ",
           "format": "default",
           "name": "capture_price",
           "title": "Capture Price (£/MWh)",
           "type": "number"
          },
          "id": "DIDCB6",
          "source": "https://raw.githubusercontent.com/OSUKED/Dictionary-Datasets/main/datasets/capture-prices/datapackage.json",
          "value": {
           "2016": 41.92694459359746,
           "2017": 47.938045154681,
           "2018": 60.9969754644655,
           "2019": 46.137609480559455,
           "2020": 41.88354382069592
          }
         }
        ],
        "datasets": {
         "https://raw.githubusercontent.com/OSUKED/Dictionary-Datasets/main/datasets/annual-output/datapackage.json": {
          "datapackage_json_url": "https://raw.githubusercontent.com/OSUKED/Dictionary-Datasets/main/datasets/annual-output/datapackage.json",
          "datapackage_name": "annual-output",
          "related_resources": [
           {
            "alt_indexes": [
             "year"
            ],
            "dictionary_pk_field": "ngc_bmu_id",
            "external_fk_field": "ngc_bmu_id",
            "extracted_attributes": [
             "output_MWh"
            ],
            "resource_name": "annual-output",
            "resource_url": "https://raw.githubusercontent.com/OSUKED/Dictionary-Datasets/main/datasets/annual-output/annual-output.csv"
           }
          ]
         },
         "https://raw.githubusercontent.com/OSUKED/Dictionary-Datasets/main/datasets/bmu-fuel-types/datapackage.json": {
          "datapackage_json_url": "https://raw.githubusercontent.com/OSUKED/Dictionary-Datasets/main/datasets/bmu-fuel-types/datapackage.json",
          "datapackage_name": "bmu-fuel-types",
          "related_resources": [
           {
            "dictionary_pk_field": "ngc_bmu_id",
            "external_fk_field": "NGC_BMU_ID",
            "extracted_attributes": [
             "FUEL TYPE"
            ],
            "resource_name": "bmu-fuel-types",
            "resource_url": "https://raw.githubusercontent.com/OSUKED/Dictionary-Datasets/main/datasets/bmu-fuel-types/BMUFuelType 2021-08-09.csv"
           }
          ]
         },
         "https://raw.githubusercontent.com/OSUKED/Dictionary-Datasets/main/datasets/capture-prices/datapackage.json": {
          "datapackage_json_url": "https://raw.githubusercontent.com/OSUKED/Dictionary-Datasets/main/datasets/capture-prices/datapackage.json",
          "datapackage_name": "capture-prices",
          "related_resources": [
           {
            "alt_indexes": [
             "year"
            ],
            "dictionary_pk_field": "ngc_bmu_id",
            "external_fk_field": "ngc_bmu_id",
            "extracted_attributes": [
             "capture_price"
            ],
            "resource_name": "capture-prices",
            "resource_url": "https://raw.githubusercontent.com/OSUKED/Dictionary-Datasets/main/datasets/capture-prices/capture-prices.csv"
           }
          ]
         },
         "https://raw.githubusercontent.com/OSUKED/Dictionary-Datasets/main/datasets/global-power-plant-database/datapackage.json": {
          "datapackage_json_url": "https://raw.githubusercontent.com/OSUKED/Dictionary-Datasets/main/datasets/global-power-plant-database/datapackage.json",
          "datapackage_name": "global-power-plant-database",
          "related_resources": [
           {
            "dictionary_pk_field": "gppd_idnr",
            "external_fk_field": "gppd_idnr",
            "extracted_attributes": [
             "capacity_mw",
             "longitude",
             "latitude",
             "primary_fuel",
             "other_fuel1",
             "other_fuel2",
             "other_fuel3",
             "commissioning_year",
             "owner",
             "source",
             "url",
             "geolocation_source",
             "wepp_id",
             "year_of_capacity_data",
             "generation_gwh_2013",
             "generation_gwh_2014",
             "generation_gwh_2015",
             "generation_gwh_2016",
             "generation_gwh_2017",
             "generation_gwh_2018",
             "generation_gwh_2019",
             "generation_data_source",
             "estimated_generation_gwh_2013",
             "estimated_generation_gwh_2014",
             "estimated_generation_gwh_2015",
             "estimated_generation_gwh_2016",
             "estimated_generation_gwh_2017"
            ],
            "resource_name": "global-power-plant-database",
            "resource_url": "https://raw.githubusercontent.com/OSUKED/Dictionary-Datasets/main/datasets/global-power-plant-database/global_power_plant_database.csv"
           }
          ]
         },
         "https://raw.githubusercontent.com/OSUKED/Dictionary-Datasets/main/datasets/plant-locations/datapackage.json": {
          "datapackage_json_url": "https://raw.githubusercontent.com/OSUKED/Dictionary-Datasets/main/datasets/plant-locations/datapackage.json",
          "datapackage_name": "plant-locations",
          "related_resources": [
           {
            "dictionary_pk_field": "dictionary_id",
            "external_fk_field": "dictionary_id",
            "extracted_attributes": [
             "longitude",
             "latitude"
            ],
            "resource_name": "plant-locations",
            "resource_url": "https://raw.githubusercontent.com/OSUKED/Dictionary-Datasets/main/datasets/plant-locations/plant-locations.csv"
           }
          ]
         },
         "https://raw.githubusercontent.com/OSUKED/Dictionary-Datasets/main/datasets/verified-emissions/datapackage.json": {
          "datapackage_json_url": "https://raw.githubusercontent.com/OSUKED/Dictionary-Datasets/main/datasets/verified-emissions/datapackage.json",
          "datapackage_name": "verified-emissions",
          "related_resources": [
           {
            "alt_indexes": [
             "year"
            ],
            "dictionary_pk_field": "eutl_id",
            "external_fk_field": "account_id",
            "extracted_attributes": [
             "tonnes_co2"
            ],
            "resource_name": "verified-emissions",
            "resource_url": "https://raw.githubusercontent.com/OSUKED/Dictionary-Datasets/main/datasets/verified-emissions/verified_emissions.csv"
           }
          ]
         }
        },
        "id_hierarchies": {
         "child": {
          "eic_id": [
           "48W00000DIDC01G1",
           "48W00000DIDC02GZ",
           "48W00000DIDC03GW",
           "48W00000DIDC04GT",
           "48W000000DIDCB5C",
           "48W000000DIDCB6A"
          ],
          "gppd_idnr": [
           "GBR1000377",
           "GBR1000369"
          ],
          "ngc_bmu_id": [
           "DIDC1",
           "DIDC2",
           "DIDC4",
           "DIDC3",
           "DIDC1G",
           "DIDC2G",
           "DIDC3G",
           "DIDC4G",
           "DIDC01G",
           "DIDC02G",
           "DIDC03G",
           "DIDC04G",
           "DIDCB5",
           "DIDCB6"
          ],
          "sett_bmu_id": [
           "T_DIDC1",
           "T_DIDC2",
           "T_DIDC4",
           "T_DIDC3",
           "T_DIDC1G",
           "T_DIDC2G",
           "T_DIDC3G",
           "T_DIDC4G",
           "E_DIDC1G",
           "E_DIDC2G",
           "E_DIDC3G",
           "E_DIDC4G",
           "T_DIDCB5",
           "T_DIDCB6"
          ]
         },
         "equivalent": {
          "esail_id": "DIDC",
          "eutl_id": 97165,
          "name": "Didcot"
         },
         "parent": {}
        }
       },
       "10002": {
        "attributes": [
         {
          "attribute": "Longitude",
          "field_schema": {
           "description": "The east–west position of a point on the Earth's surface",
           "format": "default",
           "name": "longitude",
           "title": "Longitude",
           "type": "number"
          },
          "id": 10002,
          "source": "https://raw.githubusercontent.com/OSUKED/Dictionary-Datasets/main/datasets/plant-locations/datapackage.json",
          "value": -3.404866
         },
         {
          "attribute": "Latitude",
          "field_schema": {
           "description": "The north-south position of a point on the Earth's surface",
           "format": "default",
           "name": "latitude",
           "title": "Latitude",
           "type": "number"
          },
          "id": 10002,
          "source": "https://raw.githubusercontent.com/OSUKED/Dictionary-Datasets/main/datasets/plant-locations/datapackage.json",
          "value": 51.387312
         },
         {
          "attribute": "Installed Capacity (MW) ",
          "field_schema": {
           "description": "Installed electrical capacity of eachpower plant (MW) ",
           "format": "default",
           "name": "capacity_mw",
           "title": "Installed Capacity (MW) ",
           "type": "number"
          },
          "id": "GBR1000374",
          "source": "https://raw.githubusercontent.com/OSUKED/Dictionary-Datasets/main/datasets/global-power-plant-database/datapackage.json",
          "value": 1586
         },
         {
          "attribute": "Longitude",
          "field_schema": {
           "description": "The east–west position of a point on the Earth's surface",
           "format": "default",
           "name": "longitude",
           "title": "Longitude",
           "type": "number"
          },
          "id": "GBR1000374",
          "source": "https://raw.githubusercontent.com/OSUKED/Dictionary-Datasets/main/datasets/global-power-plant-database/datapackage.json",
          "value": -3.4049
         },
         {
          "attribute": "Latitude",
          "field_schema": {
           "description": "The north-south position of a point on the Earth's surface",
           "format": "default",
           "name": "latitude",
           "title": "Latitude",
           "type": "number"
          },
          "id": "GBR1000374",
          "source": "https://raw.githubusercontent.com/OSUKED/Dictionary-Datasets/main/datasets/global-power-plant-database/datapackage.json",
          "value": 51.3873
         },
         {
          "attribute": "Primary Fuel Type",
          "field_schema": {
           "description": "The primary fuel used by the power plant",
           "format": "default",
           "name": "primary_fuel",
           "title": "Primary Fuel Type",
           "type": "string"
          },
          "id": "GBR1000374",
          "source": "https://raw.githubusercontent.com/OSUKED/Dictionary-Datasets/main/datasets/global-power-plant-database/datapackage.json",
          "value": "Coal"
         },
         {
          "attribute": "Owner",
          "field_schema": {
           "description": "The primary owner of the power plant",
           "format": "default",
           "name": "owner",
           "title": "Owner",
           "type": "string"
          },
          "id": "GBR1000374",
          "source": "https://raw.githubusercontent.com/OSUKED/Dictionary-Datasets/main/datasets/global-power-plant-database/datapackage.json",
          "value": "RWE Npower Plc"
         },
         {
          "attribute": "Source",
          "field_schema": {
           "description": "The source of the data on each power plant",
           "format": "default",
           "name": "source",
           "title": "Source",
           "type": "string"
          },
          "id": "GBR1000374",
          "source": "https://raw.githubusercontent.com/OSUKED/Dictionary-Datasets/main/datasets/global-power-plant-database/datapackage.json",
          "value": "Department for Business Energy & Industrial Strategy"
         },
         {
          "attribute": "URL",
          "field_schema": {
           "description": "URL linking directly to data source",
           "format": "default",
           "name": "url",
           "title": "URL",
           "type": "string"
          },
          "id": "GBR1000374",
          "source": "https://raw.githubusercontent.com/OSUKED/Dictionary-Datasets/main/datasets/global-power-plant-database/datapackage.json",
          "value": "https://www.gov.uk/government/collections/digest-of-uk-energy-statistics-dukes"
         },
         {
          "attribute": "Geolocation Source",
          "field_schema": {
           "description": "The source of the spatial data on each power plant",
           "format": "default",
           "name": "geolocation_source",
           "title": "Geolocation Source",
           "type": "string"
          },
          "id": "GBR1000374",
          "source": "https://raw.githubusercontent.com/OSUKED/Dictionary-Datasets/main/datasets/global-power-plant-database/datapackage.json",
          "value": "GEODB"
         },
         {
          "attribute": "PLATTS-WEPP ID",
          "field_schema": {
           "description": "The unique identifier used to refer to power plants in the PLATTS-WEBB dataset",
           "format": "default",
           "name": "wepp_id",
           "title": "PLATTS-WEPP ID",
           "type": "number"
          },
          "id": "GBR1000374",
          "source": "https://raw.githubusercontent.com/OSUKED/Dictionary-Datasets/main/datasets/global-power-plant-database/datapackage.json",
          "value": 1023577
         },
         {
          "attribute": "Estimated Annual Generation in 2017",
          "field_schema": {
           "description": "Estimated annual generation (during 2017) in gigawatt hours (GWhs), gross",
           "format": "default",
           "name": "estimated_generation_gwh_2017",
           "title": "Estimated Annual Generation in 2017",
           "type": "number"
          },
          "id": "GBR1000374",
          "source": "https://raw.githubusercontent.com/OSUKED/Dictionary-Datasets/main/datasets/global-power-plant-database/datapackage.json",
          "value": 2409.11
         },
         {
          "attribute": "Installed Capacity (MW) ",
          "field_schema": {
           "description": "Installed electrical capacity of eachpower plant (MW) ",
           "format": "default",
           "name": "capacity_mw",
           "title": "Installed Capacity (MW) ",
           "type": "number"
          },
          "id": "GBR1000375",
          "source": "https://raw.githubusercontent.com/OSUKED/Dictionary-Datasets/main/datasets/global-power-plant-database/datapackage.json",
          "value": 51
         },
         {
          "attribute": "Longitude",
          "field_schema": {
           "description": "The east–west position of a point on the Earth's surface",
           "format": "default",
           "name": "longitude",
           "title": "Longitude",
           "type": "number"
          },
          "id": "GBR1000375",
          "source": "https://raw.githubusercontent.com/OSUKED/Dictionary-Datasets/main/datasets/global-power-plant-database/datapackage.json",
          "value": -3.4068
         },
         {
          "attribute": "Latitude",
          "field_schema": {
           "description": "The north-south position of a point on the Earth's surface",
           "format": "default",
           "name": "latitude",
           "title": "Latitude",
           "type": "number"
          },
          "id": "GBR1000375",
          "source": "https://raw.githubusercontent.com/OSUKED/Dictionary-Datasets/main/datasets/global-power-plant-database/datapackage.json",
          "value": 51.3875
         },
         {
          "attribute": "Primary Fuel Type",
          "field_schema": {
           "description": "The primary fuel used by the power plant",
           "format": "default",
           "name": "primary_fuel",
           "title": "Primary Fuel Type",
           "type": "string"
          },
          "id": "GBR1000375",
          "source": "https://raw.githubusercontent.com/OSUKED/Dictionary-Datasets/main/datasets/global-power-plant-database/datapackage.json",
          "value": "Gas"
         },
         {
          "attribute": "Owner",
          "field_schema": {
           "description": "The primary owner of the power plant",
           "format": "default",
           "name": "owner",
           "title": "Owner",
           "type": "string"
          },
          "id": "GBR1000375",
          "source": "https://raw.githubusercontent.com/OSUKED/Dictionary-Datasets/main/datasets/global-power-plant-database/datapackage.json",
          "value": "RWE Npower Plc"
         },
         {
          "attribute": "Source",
          "field_schema": {
           "description": "The source of the data on each power plant",
           "format": "default",
           "name": "source",
           "title": "Source",
           "type": "string"
          },
          "id": "GBR1000375",
          "source": "https://raw.githubusercontent.com/OSUKED/Dictionary-Datasets/main/datasets/global-power-plant-database/datapackage.json",
          "value": "Department for Business Energy & Industrial Strategy"
         },
         {
          "attribute": "URL",
          "field_schema": {
           "description": "URL linking directly to data source",
           "format": "default",
           "name": "url",
           "title": "URL",
           "type": "string"
          },
          "id": "GBR1000375",
          "source": "https://raw.githubusercontent.com/OSUKED/Dictionary-Datasets/main/datasets/global-power-plant-database/datapackage.json",
          "value": "https://www.gov.uk/government/collections/digest-of-uk-energy-statistics-dukes"
         },
         {
          "attribute": "Geolocation Source",
          "field_schema": {
           "description": "The source of the spatial data on each power plant",
           "format": "default",
           "name": "geolocation_source",
           "title": "Geolocation Source",
           "type": "string"
          },
          "id": "GBR1000375",
          "source": "https://raw.githubusercontent.com/OSUKED/Dictionary-Datasets/main/datasets/global-power-plant-database/datapackage.json",
          "value": "CARMA"
         },
         {
          "attribute": "Estimated Annual Generation in 2017",
          "field_schema": {
           "description": "Estimated annual generation (during 2017) in gigawatt hours (GWhs), gross",
           "format": "default",
           "name": "estimated_generation_gwh_2017",
           "title": "Estimated Annual Generation in 2017",
           "type": "number"
          },
          "id": "GBR1000375",
          "source": "https://raw.githubusercontent.com/OSUKED/Dictionary-Datasets/main/datasets/global-power-plant-database/datapackage.json",
          "value": 236.64
         },
         {
          "attribute": "CO2 Emissions (Tonnes)",
          "field_schema": {
           "description": "Tonnes of CO2 released in the specified year",
           "format": "default",
           "name": "tonnes_co2",
           "title": "CO2 Emissions (Tonnes)",
           "type": "integer"
          },
          "id": 97175,
          "source": "https://raw.githubusercontent.com/OSUKED/Dictionary-Datasets/main/datasets/verified-emissions/datapackage.json",
          "value": {
           "2005": 5264973,
           "2006": 7340340,
           "2007": 4186423,
           "2008": 7027839,
           "2009": 5002555,
           "2010": 4739140,
           "2011": 4829978,
           "2012": 8229115,
           "2013": 8504964,
           "2014": 6038198,
           "2015": 6682528,
           "2016": 5910278,
           "2017": 2296592,
           "2018": 495388,
           "2019": 660075,
           "2020": 235
          }
         },
         {
          "attribute": "Annual Output (MWh)",
          "field_schema": {
           "description": "The total output of the specified power plant during a year",
           "format": "default",
           "name": "output_MWh",
           "title": "Annual Output (MWh)",
           "type": "number"
          },
          "id": "ABTH7",
          "source": "https://raw.githubusercontent.com/OSUKED/Dictionary-Datasets/main/datasets/annual-output/datapackage.json",
          "value": {
           "2016": 2386727.606,
           "2017": 890904.032,
           "2018": 173340.222,
           "2019": 148814.22,
           "2020": 0
          }
         },
         {
          "attribute": "Annual Output (MWh)",
          "field_schema": {
           "description": "The total output of the specified power plant during a year",
           "format": "default",
           "name": "output_MWh",
           "title": "Annual Output (MWh)",
           "type": "number"
          },
          "id": "ABTH8",
          "source": "https://raw.githubusercontent.com/OSUKED/Dictionary-Datasets/main/datasets/annual-output/datapackage.json",
          "value": {
           "2016": 2036344.124,
           "2017": 935056.718,
           "2018": 177871.124,
           "2019": 133844.602,
           "2020": 0
          }
         },
         {
          "attribute": "Annual Output (MWh)",
          "field_schema": {
           "description": "The total output of the specified power plant during a year",
           "format": "default",
           "name": "output_MWh",
           "title": "Annual Output (MWh)",
           "type": "number"
          },
          "id": "ABTH9",
          "source": "https://raw.githubusercontent.com/OSUKED/Dictionary-Datasets/main/datasets/annual-output/datapackage.json",
          "value": {
           "2016": 2476881.294,
           "2017": 877525.082,
           "2018": 179066.756,
           "2019": 435824,
           "2020": 0
          }
         },
         {
          "attribute": "Annual Output (MWh)",
          "field_schema": {
           "description": "The total output of the specified power plant during a year",
           "format": "default",
           "name": "output_MWh",
           "title": "Annual Output (MWh)",
           "type": "number"
          },
          "id": "ABTH7G",
          "source": "https://raw.githubusercontent.com/OSUKED/Dictionary-Datasets/main/datasets/annual-output/datapackage.json",
          "value": {
           "2016": 30.494,
           "2017": 0,
           "2018": 125.456,
           "2019": 54.456,
           "2020": 24.714
          }
         },
         {
          "attribute": "Annual Output (MWh)",
          "field_schema": {
           "description": "The total output of the specified power plant during a year",
           "format": "default",
           "name": "output_MWh",
           "title": "Annual Output (MWh)",
           "type": "number"
          },
          "id": "ABTH8G",
          "source": "https://raw.githubusercontent.com/OSUKED/Dictionary-Datasets/main/datasets/annual-output/datapackage.json",
          "value": {
           "2016": 27.308,
           "2017": 5.3100000000000005,
           "2018": 77.424,
           "2019": 51.558,
           "2020": 18.631999999999998
          }
         },
         {
          "attribute": "Annual Output (MWh)",
          "field_schema": {
           "description": "The total output of the specified power plant during a year",
           "format": "default",
           "name": "output_MWh",
           "title": "Annual Output (MWh)",
           "type": "number"
          },
          "id": "ABTH9G",
          "source": "https://raw.githubusercontent.com/OSUKED/Dictionary-Datasets/main/datasets/annual-output/datapackage.json",
          "value": {
           "2016": 30.244,
           "2017": 24.54,
           "2018": 81.57,
           "2019": 62.014,
           "2020": 26.412
          }
         },
         {
          "attribute": "Capture Price (£/MWh)",
          "field_schema": {
           "description": "The average price weighted by output that would have been received by the balancing mechanisms unit if it had participated fully in the day-ahead market. ",
           "format": "default",
           "name": "capture_price",
           "title": "Capture Price (£/MWh)",
           "type": "number"
          },
          "id": "ABTH7",
          "source": "https://raw.githubusercontent.com/OSUKED/Dictionary-Datasets/main/datasets/capture-prices/datapackage.json",
          "value": {
           "2016": 42.27128343234778,
           "2017": 48.68140508054183,
           "2018": 82.89609949928413,
           "2019": 60.73228621135803
          }
         },
         {
          "attribute": "Capture Price (£/MWh)",
          "field_schema": {
           "description": "The average price weighted by output that would have been received by the balancing mechanisms unit if it had participated fully in the day-ahead market. ",
           "format": "default",
           "name": "capture_price",
           "title": "Capture Price (£/MWh)",
           "type": "number"
          },
          "id": "ABTH8",
          "source": "https://raw.githubusercontent.com/OSUKED/Dictionary-Datasets/main/datasets/capture-prices/datapackage.json",
          "value": {
           "2016": 40.4704053650217,
           "2017": 48.85885907592612,
           "2018": 82.38203178633987,
           "2019": 57.22844033261797
          }
         },
         {
          "attribute": "Capture Price (£/MWh)",
          "field_schema": {
           "description": "The average price weighted by output that would have been received by the balancing mechanisms unit if it had participated fully in the day-ahead market. ",
           "format": "default",
           "name": "capture_price",
           "title": "Capture Price (£/MWh)",
           "type": "number"
          },
          "id": "ABTH9",
          "source": "https://raw.githubusercontent.com/OSUKED/Dictionary-Datasets/main/datasets/capture-prices/datapackage.json",
          "value": {
           "2016": 42.32093081772236,
           "2017": 48.55116414710069,
           "2018": 81.81548622693539,
           "2019": 49.9577394941536
          }
         },
         {
          "attribute": "Capture Price (£/MWh)",
          "field_schema": {
           "description": "The average price weighted by output that would have been received by the balancing mechanisms unit if it had participated fully in the day-ahead market. ",
           "format": "default",
           "name": "capture_price",
           "title": "Capture Price (£/MWh)",
           "type": "number"
          },
          "id": "ABTH7G",
          "source": "https://raw.githubusercontent.com/OSUKED/Dictionary-Datasets/main/datasets/capture-prices/datapackage.json",
          "value": {
           "2016": 53.20420869679281,
           "2018": 141.4950312460145,
           "2019": 46.73774827383575,
           "2020": 39.205072428582994
          }
         },
         {
          "attribute": "Capture Price (£/MWh)",
          "field_schema": {
           "description": "The average price weighted by output that would have been received by the balancing mechanisms unit if it had participated fully in the day-ahead market. ",
           "format": "default",
           "name": "capture_price",
           "title": "Capture Price (£/MWh)",
           "type": "number"
          },
          "id": "ABTH8G",
          "source": "https://raw.githubusercontent.com/OSUKED/Dictionary-Datasets/main/datasets/capture-prices/datapackage.json",
          "value": {
           "2016": 54.41527171524828,
           "2017": 34.943777777777775,
           "2018": 65.78876265757388,
           "2019": 47.60688234609566,
           "2020": 40.10366036925719
          }
         },
         {
          "attribute": "Capture Price (£/MWh)",
          "field_schema": {
           "description": "The average price weighted by output that would have been received by the balancing mechanisms unit if it had participated fully in the day-ahead market. ",
           "format": "default",
           "name": "capture_price",
           "title": "Capture Price (£/MWh)",
           "type": "number"
          },
          "id": "ABTH9G",
          "source": "https://raw.githubusercontent.com/OSUKED/Dictionary-Datasets/main/datasets/capture-prices/datapackage.json",
          "value": {
           "2016": 52.86636026980558,
           "2017": 48.6001238793806,
           "2018": 64.3362540149565,
           "2019": 48.805574870190604,
           "2020": 39.59710283204604
          }
         }
        ],
        "datasets": {
         "https://raw.githubusercontent.com/OSUKED/Dictionary-Datasets/main/datasets/annual-output/datapackage.json": {
          "datapackage_json_url": "https://raw.githubusercontent.com/OSUKED/Dictionary-Datasets/main/datasets/annual-output/datapackage.json",
          "datapackage_name": "annual-output",
          "related_resources": [
           {
            "alt_indexes": [
             "year"
            ],
            "dictionary_pk_field": "ngc_bmu_id",
            "external_fk_field": "ngc_bmu_id",
            "extracted_attributes": [
             "output_MWh"
            ],
            "resource_name": "annual-output",
            "resource_url": "https://raw.githubusercontent.com/OSUKED/Dictionary-Datasets/main/datasets/annual-output/annual-output.csv"
           }
          ]
         },
         "https://raw.githubusercontent.com/OSUKED/Dictionary-Datasets/main/datasets/capture-prices/datapackage.json": {
          "datapackage_json_url": "https://raw.githubusercontent.com/OSUKED/Dictionary-Datasets/main/datasets/capture-prices/datapackage.json",
          "datapackage_name": "capture-prices",
          "related_resources": [
           {
            "alt_indexes": [
             "year"
            ],
            "dictionary_pk_field": "ngc_bmu_id",
            "external_fk_field": "ngc_bmu_id",
            "extracted_attributes": [
             "capture_price"
            ],
            "resource_name": "capture-prices",
            "resource_url": "https://raw.githubusercontent.com/OSUKED/Dictionary-Datasets/main/datasets/capture-prices/capture-prices.csv"
           }
          ]
         },
         "https://raw.githubusercontent.com/OSUKED/Dictionary-Datasets/main/datasets/global-power-plant-database/datapackage.json": {
          "datapackage_json_url": "https://raw.githubusercontent.com/OSUKED/Dictionary-Datasets/main/datasets/global-power-plant-database/datapackage.json",
          "datapackage_name": "global-power-plant-database",
          "related_resources": [
           {
            "dictionary_pk_field": "gppd_idnr",
            "external_fk_field": "gppd_idnr",
            "extracted_attributes": [
             "capacity_mw",
             "longitude",
             "latitude",
             "primary_fuel",
             "other_fuel1",
             "other_fuel2",
             "other_fuel3",
             "commissioning_year",
             "owner",
             "source",
             "url",
             "geolocation_source",
             "wepp_id",
             "year_of_capacity_data",
             "generation_gwh_2013",
             "generation_gwh_2014",
             "generation_gwh_2015",
             "generation_gwh_2016",
             "generation_gwh_2017",
             "generation_gwh_2018",
             "generation_gwh_2019",
             "generation_data_source",
             "estimated_generation_gwh_2013",
             "estimated_generation_gwh_2014",
             "estimated_generation_gwh_2015",
             "estimated_generation_gwh_2016",
             "estimated_generation_gwh_2017"
            ],
            "resource_name": "global-power-plant-database",
            "resource_url": "https://raw.githubusercontent.com/OSUKED/Dictionary-Datasets/main/datasets/global-power-plant-database/global_power_plant_database.csv"
           }
          ]
         },
         "https://raw.githubusercontent.com/OSUKED/Dictionary-Datasets/main/datasets/plant-locations/datapackage.json": {
          "datapackage_json_url": "https://raw.githubusercontent.com/OSUKED/Dictionary-Datasets/main/datasets/plant-locations/datapackage.json",
          "datapackage_name": "plant-locations",
          "related_resources": [
           {
            "dictionary_pk_field": "dictionary_id",
            "external_fk_field": "dictionary_id",
            "extracted_attributes": [
             "longitude",
             "latitude"
            ],
            "resource_name": "plant-locations",
            "resource_url": "https://raw.githubusercontent.com/OSUKED/Dictionary-Datasets/main/datasets/plant-locations/plant-locations.csv"
           }
          ]
         },
         "https://raw.githubusercontent.com/OSUKED/Dictionary-Datasets/main/datasets/verified-emissions/datapackage.json": {
          "datapackage_json_url": "https://raw.githubusercontent.com/OSUKED/Dictionary-Datasets/main/datasets/verified-emissions/datapackage.json",
          "datapackage_name": "verified-emissions",
          "related_resources": [
           {
            "alt_indexes": [
             "year"
            ],
            "dictionary_pk_field": "eutl_id",
            "external_fk_field": "account_id",
            "extracted_attributes": [
             "tonnes_co2"
            ],
            "resource_name": "verified-emissions",
            "resource_url": "https://raw.githubusercontent.com/OSUKED/Dictionary-Datasets/main/datasets/verified-emissions/verified_emissions.csv"
           }
          ]
         }
        },
        "id_hierarchies": {
         "child": {
          "eic_id": [
           "48W0000000ABTH7Y",
           "48W0000000ABTH8W",
           "48W0000000ABTH9U",
           "48W000000ABTH7G2",
           "48W100000ABTH8GN",
           "48W000000ABTH9GX"
          ],
          "gppd_idnr": [
           "GBR1000374",
           "GBR1000375"
          ],
          "ngc_bmu_id": [
           "ABTH7",
           "ABTH8",
           "ABTH9",
           "ABTH7G",
           "ABTH8G",
           "ABTH9G"
          ],
          "sett_bmu_id": [
           "T_ABTH7",
           "T_ABTH8",
           "T_ABTH9",
           "T_ABTH7G",
           "T_ABTH8G",
           "T_ABTH9G"
          ]
         },
         "equivalent": {
          "esail_id": "ABTH",
          "eutl_id": 97175,
          "name": "Aberthaw B"
         },
         "parent": {}
        }
       },
       "10003": {
        "attributes": [
         {
          "attribute": "Longitude",
          "field_schema": {
           "description": "The east–west position of a point on the Earth's surface",
           "format": "default",
           "name": "longitude",
           "title": "Longitude",
           "type": "number"
          },
          "id": 10003,
          "source": "https://raw.githubusercontent.com/OSUKED/Dictionary-Datasets/main/datasets/plant-locations/datapackage.json",
          "value": -0.648193
         },
         {
          "attribute": "Latitude",
          "field_schema": {
           "description": "The north-south position of a point on the Earth's surface",
           "format": "default",
           "name": "latitude",
           "title": "Latitude",
           "type": "number"
          },
          "id": 10003,
          "source": "https://raw.githubusercontent.com/OSUKED/Dictionary-Datasets/main/datasets/plant-locations/datapackage.json",
          "value": 53.245495
         },
         {
          "attribute": "Installed Capacity (MW) ",
          "field_schema": {
           "description": "Installed electrical capacity of eachpower plant (MW) ",
           "format": "default",
           "name": "capacity_mw",
           "title": "Installed Capacity (MW) ",
           "type": "number"
          },
          "id": "GBR1000142",
          "source": "https://raw.githubusercontent.com/OSUKED/Dictionary-Datasets/main/datasets/global-power-plant-database/datapackage.json",
          "value": 2008
         },
         {
          "attribute": "Longitude",
          "field_schema": {
           "description": "The east–west position of a point on the Earth's surface",
           "format": "default",
           "name": "longitude",
           "title": "Longitude",
           "type": "number"
          },
          "id": "GBR1000142",
          "source": "https://raw.githubusercontent.com/OSUKED/Dictionary-Datasets/main/datasets/global-power-plant-database/datapackage.json",
          "value": -0.7815
         },
         {
          "attribute": "Latitude",
          "field_schema": {
           "description": "The north-south position of a point on the Earth's surface",
           "format": "default",
           "name": "latitude",
           "title": "Latitude",
           "type": "number"
          },
          "id": "GBR1000142",
          "source": "https://raw.githubusercontent.com/OSUKED/Dictionary-Datasets/main/datasets/global-power-plant-database/datapackage.json",
          "value": 53.304
         },
         {
          "attribute": "Primary Fuel Type",
          "field_schema": {
           "description": "The primary fuel used by the power plant",
           "format": "default",
           "name": "primary_fuel",
           "title": "Primary Fuel Type",
           "type": "string"
          },
          "id": "GBR1000142",
          "source": "https://raw.githubusercontent.com/OSUKED/Dictionary-Datasets/main/datasets/global-power-plant-database/datapackage.json",
          "value": "Coal"
         },
         {
          "attribute": "Owner",
          "field_schema": {
           "description": "The primary owner of the power plant",
           "format": "default",
           "name": "owner",
           "title": "Owner",
           "type": "string"
          },
          "id": "GBR1000142",
          "source": "https://raw.githubusercontent.com/OSUKED/Dictionary-Datasets/main/datasets/global-power-plant-database/datapackage.json",
          "value": "EDF Energy"
         },
         {
          "attribute": "Source",
          "field_schema": {
           "description": "The source of the data on each power plant",
           "format": "default",
           "name": "source",
           "title": "Source",
           "type": "string"
          },
          "id": "GBR1000142",
          "source": "https://raw.githubusercontent.com/OSUKED/Dictionary-Datasets/main/datasets/global-power-plant-database/datapackage.json",
          "value": "Department for Business Energy & Industrial Strategy"
         },
         {
          "attribute": "URL",
          "field_schema": {
           "description": "URL linking directly to data source",
           "format": "default",
           "name": "url",
           "title": "URL",
           "type": "string"
          },
          "id": "GBR1000142",
          "source": "https://raw.githubusercontent.com/OSUKED/Dictionary-Datasets/main/datasets/global-power-plant-database/datapackage.json",
          "value": "https://www.gov.uk/government/collections/digest-of-uk-energy-statistics-dukes"
         },
         {
          "attribute": "Geolocation Source",
          "field_schema": {
           "description": "The source of the spatial data on each power plant",
           "format": "default",
           "name": "geolocation_source",
           "title": "Geolocation Source",
           "type": "string"
          },
          "id": "GBR1000142",
          "source": "https://raw.githubusercontent.com/OSUKED/Dictionary-Datasets/main/datasets/global-power-plant-database/datapackage.json",
          "value": "GEODB"
         },
         {
          "attribute": "PLATTS-WEPP ID",
          "field_schema": {
           "description": "The unique identifier used to refer to power plants in the PLATTS-WEBB dataset",
           "format": "default",
           "name": "wepp_id",
           "title": "PLATTS-WEPP ID",
           "type": "number"
          },
          "id": "GBR1000142",
          "source": "https://raw.githubusercontent.com/OSUKED/Dictionary-Datasets/main/datasets/global-power-plant-database/datapackage.json",
          "value": 1025710
         },
         {
          "attribute": "Estimated Annual Generation in 2017",
          "field_schema": {
           "description": "Estimated annual generation (during 2017) in gigawatt hours (GWhs), gross",
           "format": "default",
           "name": "estimated_generation_gwh_2017",
           "title": "Estimated Annual Generation in 2017",
           "type": "number"
          },
          "id": "GBR1000142",
          "source": "https://raw.githubusercontent.com/OSUKED/Dictionary-Datasets/main/datasets/global-power-plant-database/datapackage.json",
          "value": 3050.13
         },
         {
          "attribute": "CO2 Emissions (Tonnes)",
          "field_schema": {
           "description": "Tonnes of CO2 released in the specified year",
           "format": "default",
           "name": "tonnes_co2",
           "title": "CO2 Emissions (Tonnes)",
           "type": "integer"
          },
          "id": 97778,
          "source": "https://raw.githubusercontent.com/OSUKED/Dictionary-Datasets/main/datasets/verified-emissions/datapackage.json",
          "value": {
           "2005": 8068565,
           "2006": 10029024,
           "2007": 10240663,
           "2008": 10157213,
           "2009": 8426332,
           "2010": 8715015,
           "2011": 8863488,
           "2012": 9889284,
           "2013": 10171477,
           "2014": 8846877,
           "2015": 6756444,
           "2016": 1565134,
           "2017": 2907114,
           "2018": 2900716,
           "2019": 1378192
          }
         },
         {
          "attribute": "Annual Output (MWh)",
          "field_schema": {
           "description": "The total output of the specified power plant during a year",
           "format": "default",
           "name": "output_MWh",
           "title": "Annual Output (MWh)",
           "type": "number"
          },
          "id": "COTPS-1",
          "source": "https://raw.githubusercontent.com/OSUKED/Dictionary-Datasets/main/datasets/annual-output/datapackage.json",
          "value": {
           "2016": 462987.97,
           "2017": 747476.451,
           "2018": 735835.818,
           "2019": 546867.901,
           "2020": 0
          }
         },
         {
          "attribute": "Annual Output (MWh)",
          "field_schema": {
           "description": "The total output of the specified power plant during a year",
           "format": "default",
           "name": "output_MWh",
           "title": "Annual Output (MWh)",
           "type": "number"
          },
          "id": "COTPS-2",
          "source": "https://raw.githubusercontent.com/OSUKED/Dictionary-Datasets/main/datasets/annual-output/datapackage.json",
          "value": {
           "2016": 426297.235,
           "2017": 1049205.651,
           "2018": 860044,
           "2019": 620486.222,
           "2020": 0
          }
         },
         {
          "attribute": "Annual Output (MWh)",
          "field_schema": {
           "description": "The total output of the specified power plant during a year",
           "format": "default",
           "name": "output_MWh",
           "title": "Annual Output (MWh)",
           "type": "number"
          },
          "id": "COTPS-3",
          "source": "https://raw.githubusercontent.com/OSUKED/Dictionary-Datasets/main/datasets/annual-output/datapackage.json",
          "value": {
           "2016": 557408.087,
           "2017": 782286.294,
           "2018": 656608.252,
           "2019": 378151.597,
           "2020": 0
          }
         },
         {
          "attribute": "Annual Output (MWh)",
          "field_schema": {
           "description": "The total output of the specified power plant during a year",
           "format": "default",
           "name": "output_MWh",
           "title": "Annual Output (MWh)",
           "type": "number"
          },
          "id": "COTPS-4",
          "source": "https://raw.githubusercontent.com/OSUKED/Dictionary-Datasets/main/datasets/annual-output/datapackage.json",
          "value": {
           "2016": 193660.58,
           "2017": 596559.601,
           "2018": 569976.727,
           "2019": 201143.125,
           "2020": 0
          }
         },
         {
          "attribute": "Capture Price (£/MWh)",
          "field_schema": {
           "description": "The average price weighted by output that would have been received by the balancing mechanisms unit if it had participated fully in the day-ahead market. ",
           "format": "default",
           "name": "capture_price",
           "title": "Capture Price (£/MWh)",
           "type": "number"
          },
          "id": "COTPS-1",
          "source": "https://raw.githubusercontent.com/OSUKED/Dictionary-Datasets/main/datasets/capture-prices/datapackage.json",
          "value": {
           "2016": 61.43869544781044,
           "2017": 56.51018399731499,
           "2018": 66.13714425905324,
           "2019": 51.031070698458784
          }
         },
         {
          "attribute": "Capture Price (£/MWh)",
          "field_schema": {
           "description": "The average price weighted by output that would have been received by the balancing mechanisms unit if it had participated fully in the day-ahead market. ",
           "format": "default",
           "name": "capture_price",
           "title": "Capture Price (£/MWh)",
           "type": "number"
          },
          "id": "COTPS-2",
          "source": "https://raw.githubusercontent.com/OSUKED/Dictionary-Datasets/main/datasets/capture-prices/datapackage.json",
          "value": {
           "2016": 60.32778454453264,
           "2017": 53.74757362523013,
           "2018": 64.48006474161518,
           "2019": 52.76043023971862
          }
         },
         {
          "attribute": "Capture Price (£/MWh)",
          "field_schema": {
           "description": "The average price weighted by output that would have been received by the balancing mechanisms unit if it had participated fully in the day-ahead market. ",
           "format": "default",
           "name": "capture_price",
           "title": "Capture Price (£/MWh)",
           "type": "number"
          },
          "id": "COTPS-3",
          "source": "https://raw.githubusercontent.com/OSUKED/Dictionary-Datasets/main/datasets/capture-prices/datapackage.json",
          "value": {
           "2016": 61.749630499117615,
           "2017": 55.575313969402096,
           "2018": 61.439860134273125,
           "2019": 49.38720992467647
          }
         },
         {
          "attribute": "Capture Price (£/MWh)",
          "field_schema": {
           "description": "The average price weighted by output that would have been received by the balancing mechanisms unit if it had participated fully in the day-ahead market. ",
           "format": "default",
           "name": "capture_price",
           "title": "Capture Price (£/MWh)",
           "type": "number"
          },
          "id": "COTPS-4",
          "source": "https://raw.githubusercontent.com/OSUKED/Dictionary-Datasets/main/datasets/capture-prices/datapackage.json",
          "value": {
           "2016": 57.83453338402683,
           "2017": 56.68195642674771,
           "2018": 69.5294068391215,
           "2019": 59.93101678662892
          }
         }
        ],
        "datasets": {
         "https://raw.githubusercontent.com/OSUKED/Dictionary-Datasets/main/datasets/annual-output/datapackage.json": {
          "datapackage_json_url": "https://raw.githubusercontent.com/OSUKED/Dictionary-Datasets/main/datasets/annual-output/datapackage.json",
          "datapackage_name": "annual-output",
          "related_resources": [
           {
            "alt_indexes": [
             "year"
            ],
            "dictionary_pk_field": "ngc_bmu_id",
            "external_fk_field": "ngc_bmu_id",
            "extracted_attributes": [
             "output_MWh"
            ],
            "resource_name": "annual-output",
            "resource_url": "https://raw.githubusercontent.com/OSUKED/Dictionary-Datasets/main/datasets/annual-output/annual-output.csv"
           }
          ]
         },
         "https://raw.githubusercontent.com/OSUKED/Dictionary-Datasets/main/datasets/capture-prices/datapackage.json": {
          "datapackage_json_url": "https://raw.githubusercontent.com/OSUKED/Dictionary-Datasets/main/datasets/capture-prices/datapackage.json",
          "datapackage_name": "capture-prices",
          "related_resources": [
           {
            "alt_indexes": [
             "year"
            ],
            "dictionary_pk_field": "ngc_bmu_id",
            "external_fk_field": "ngc_bmu_id",
            "extracted_attributes": [
             "capture_price"
            ],
            "resource_name": "capture-prices",
            "resource_url": "https://raw.githubusercontent.com/OSUKED/Dictionary-Datasets/main/datasets/capture-prices/capture-prices.csv"
           }
          ]
         },
         "https://raw.githubusercontent.com/OSUKED/Dictionary-Datasets/main/datasets/global-power-plant-database/datapackage.json": {
          "datapackage_json_url": "https://raw.githubusercontent.com/OSUKED/Dictionary-Datasets/main/datasets/global-power-plant-database/datapackage.json",
          "datapackage_name": "global-power-plant-database",
          "related_resources": [
           {
            "dictionary_pk_field": "gppd_idnr",
            "external_fk_field": "gppd_idnr",
            "extracted_attributes": [
             "capacity_mw",
             "longitude",
             "latitude",
             "primary_fuel",
             "other_fuel1",
             "other_fuel2",
             "other_fuel3",
             "commissioning_year",
             "owner",
             "source",
             "url",
             "geolocation_source",
             "wepp_id",
             "year_of_capacity_data",
             "generation_gwh_2013",
             "generation_gwh_2014",
             "generation_gwh_2015",
             "generation_gwh_2016",
             "generation_gwh_2017",
             "generation_gwh_2018",
             "generation_gwh_2019",
             "generation_data_source",
             "estimated_generation_gwh_2013",
             "estimated_generation_gwh_2014",
             "estimated_generation_gwh_2015",
             "estimated_generation_gwh_2016",
             "estimated_generation_gwh_2017"
            ],
            "resource_name": "global-power-plant-database",
            "resource_url": "https://raw.githubusercontent.com/OSUKED/Dictionary-Datasets/main/datasets/global-power-plant-database/global_power_plant_database.csv"
           }
          ]
         },
         "https://raw.githubusercontent.com/OSUKED/Dictionary-Datasets/main/datasets/plant-locations/datapackage.json": {
          "datapackage_json_url": "https://raw.githubusercontent.com/OSUKED/Dictionary-Datasets/main/datasets/plant-locations/datapackage.json",
          "datapackage_name": "plant-locations",
          "related_resources": [
           {
            "dictionary_pk_field": "dictionary_id",
            "external_fk_field": "dictionary_id",
            "extracted_attributes": [
             "longitude",
             "latitude"
            ],
            "resource_name": "plant-locations",
            "resource_url": "https://raw.githubusercontent.com/OSUKED/Dictionary-Datasets/main/datasets/plant-locations/plant-locations.csv"
           }
          ]
         },
         "https://raw.githubusercontent.com/OSUKED/Dictionary-Datasets/main/datasets/verified-emissions/datapackage.json": {
          "datapackage_json_url": "https://raw.githubusercontent.com/OSUKED/Dictionary-Datasets/main/datasets/verified-emissions/datapackage.json",
          "datapackage_name": "verified-emissions",
          "related_resources": [
           {
            "alt_indexes": [
             "year"
            ],
            "dictionary_pk_field": "eutl_id",
            "external_fk_field": "account_id",
            "extracted_attributes": [
             "tonnes_co2"
            ],
            "resource_name": "verified-emissions",
            "resource_url": "https://raw.githubusercontent.com/OSUKED/Dictionary-Datasets/main/datasets/verified-emissions/verified_emissions.csv"
           }
          ]
         }
        },
        "id_hierarchies": {
         "child": {
          "eic_id": [
           "48W00000COTPS-1Q",
           "48W00000COTPS-2O",
           "48W00000COTPS-3M",
           "48W00000COTPS-4K"
          ],
          "ngc_bmu_id": [
           "COTPS-1",
           "COTPS-2",
           "COTPS-3",
           "COTPS-4"
          ],
          "sett_bmu_id": [
           "T_COTPS-1",
           "T_COTPS-2",
           "T_COTPS-3",
           "T_COTPS-4"
          ]
         },
         "equivalent": {
          "esail_id": "COTPS",
          "eutl_id": 97778,
          "gppd_idnr": "GBR1000142",
          "name": "Cottam"
         },
         "parent": {}
        }
       },
       "10004": {
        "attributes": [
         {
          "attribute": "Fuel Type",
          "field_schema": {
           "description": "The fuel type consumed by the specified BMU",
           "format": "default",
           "name": "FUEL TYPE",
           "title": "Fuel Type",
           "type": "string"
          },
          "id": "DRAXX-1",
          "source": "https://raw.githubusercontent.com/OSUKED/Dictionary-Datasets/main/datasets/bmu-fuel-types/datapackage.json",
          "value": "BIOMASS"
         },
         {
          "attribute": "Fuel Type",
          "field_schema": {
           "description": "The fuel type consumed by the specified BMU",
           "format": "default",
           "name": "FUEL TYPE",
           "title": "Fuel Type",
           "type": "string"
          },
          "id": "DRAXX-2",
          "source": "https://raw.githubusercontent.com/OSUKED/Dictionary-Datasets/main/datasets/bmu-fuel-types/datapackage.json",
          "value": "BIOMASS"
         },
         {
          "attribute": "Fuel Type",
          "field_schema": {
           "description": "The fuel type consumed by the specified BMU",
           "format": "default",
           "name": "FUEL TYPE",
           "title": "Fuel Type",
           "type": "string"
          },
          "id": "DRAXX-3",
          "source": "https://raw.githubusercontent.com/OSUKED/Dictionary-Datasets/main/datasets/bmu-fuel-types/datapackage.json",
          "value": "BIOMASS"
         },
         {
          "attribute": "Fuel Type",
          "field_schema": {
           "description": "The fuel type consumed by the specified BMU",
           "format": "default",
           "name": "FUEL TYPE",
           "title": "Fuel Type",
           "type": "string"
          },
          "id": "DRAXX-4",
          "source": "https://raw.githubusercontent.com/OSUKED/Dictionary-Datasets/main/datasets/bmu-fuel-types/datapackage.json",
          "value": "BIOMASS"
         },
         {
          "attribute": "Fuel Type",
          "field_schema": {
           "description": "The fuel type consumed by the specified BMU",
           "format": "default",
           "name": "FUEL TYPE",
           "title": "Fuel Type",
           "type": "string"
          },
          "id": "DRAXX-5",
          "source": "https://raw.githubusercontent.com/OSUKED/Dictionary-Datasets/main/datasets/bmu-fuel-types/datapackage.json",
          "value": "COAL"
         },
         {
          "attribute": "Fuel Type",
          "field_schema": {
           "description": "The fuel type consumed by the specified BMU",
           "format": "default",
           "name": "FUEL TYPE",
           "title": "Fuel Type",
           "type": "string"
          },
          "id": "DRAXX-6",
          "source": "https://raw.githubusercontent.com/OSUKED/Dictionary-Datasets/main/datasets/bmu-fuel-types/datapackage.json",
          "value": "COAL"
         },
         {
          "attribute": "Fuel Type",
          "field_schema": {
           "description": "The fuel type consumed by the specified BMU",
           "format": "default",
           "name": "FUEL TYPE",
           "title": "Fuel Type",
           "type": "string"
          },
          "id": "DRAXX-10G",
          "source": "https://raw.githubusercontent.com/OSUKED/Dictionary-Datasets/main/datasets/bmu-fuel-types/datapackage.json",
          "value": "OCGT"
         },
         {
          "attribute": "Fuel Type",
          "field_schema": {
           "description": "The fuel type consumed by the specified BMU",
           "format": "default",
           "name": "FUEL TYPE",
           "title": "Fuel Type",
           "type": "string"
          },
          "id": "DRAXX-12G",
          "source": "https://raw.githubusercontent.com/OSUKED/Dictionary-Datasets/main/datasets/bmu-fuel-types/datapackage.json",
          "value": "OCGT"
         },
         {
          "attribute": "Fuel Type",
          "field_schema": {
           "description": "The fuel type consumed by the specified BMU",
           "format": "default",
           "name": "FUEL TYPE",
           "title": "Fuel Type",
           "type": "string"
          },
          "id": "DRAXX-9G",
          "source": "https://raw.githubusercontent.com/OSUKED/Dictionary-Datasets/main/datasets/bmu-fuel-types/datapackage.json",
          "value": "OCGT"
         },
         {
          "attribute": "Longitude",
          "field_schema": {
           "description": "The east–west position of a point on the Earth's surface",
           "format": "default",
           "name": "longitude",
           "title": "Longitude",
           "type": "number"
          },
          "id": 10004,
          "source": "https://raw.githubusercontent.com/OSUKED/Dictionary-Datasets/main/datasets/plant-locations/datapackage.json",
          "value": -0.626221
         },
         {
          "attribute": "Latitude",
          "field_schema": {
           "description": "The north-south position of a point on the Earth's surface",
           "format": "default",
           "name": "latitude",
           "title": "Latitude",
           "type": "number"
          },
          "id": 10004,
          "source": "https://raw.githubusercontent.com/OSUKED/Dictionary-Datasets/main/datasets/plant-locations/datapackage.json",
          "value": 53.748711
         },
         {
          "attribute": "Installed Capacity (MW) ",
          "field_schema": {
           "description": "Installed electrical capacity of eachpower plant (MW) ",
           "format": "default",
           "name": "capacity_mw",
           "title": "Installed Capacity (MW) ",
           "type": "number"
          },
          "id": "GBR0000174",
          "source": "https://raw.githubusercontent.com/OSUKED/Dictionary-Datasets/main/datasets/global-power-plant-database/datapackage.json",
          "value": 1980
         },
         {
          "attribute": "Longitude",
          "field_schema": {
           "description": "The east–west position of a point on the Earth's surface",
           "format": "default",
           "name": "longitude",
           "title": "Longitude",
           "type": "number"
          },
          "id": "GBR0000174",
          "source": "https://raw.githubusercontent.com/OSUKED/Dictionary-Datasets/main/datasets/global-power-plant-database/datapackage.json",
          "value": -0.9911
         },
         {
          "attribute": "Latitude",
          "field_schema": {
           "description": "The north-south position of a point on the Earth's surface",
           "format": "default",
           "name": "latitude",
           "title": "Latitude",
           "type": "number"
          },
          "id": "GBR0000174",
          "source": "https://raw.githubusercontent.com/OSUKED/Dictionary-Datasets/main/datasets/global-power-plant-database/datapackage.json",
          "value": 53.7356
         },
         {
          "attribute": "Primary Fuel Type",
          "field_schema": {
           "description": "The primary fuel used by the power plant",
           "format": "default",
           "name": "primary_fuel",
           "title": "Primary Fuel Type",
           "type": "string"
          },
          "id": "GBR0000174",
          "source": "https://raw.githubusercontent.com/OSUKED/Dictionary-Datasets/main/datasets/global-power-plant-database/datapackage.json",
          "value": "Coal"
         },
         {
          "attribute": "Secondary Fuel Type",
          "field_schema": {
           "description": "The secondary fuel used by the power plant",
           "format": "default",
           "name": "other_fuel1",
           "title": "Secondary Fuel Type",
           "type": "string"
          },
          "id": "GBR0000174",
          "source": "https://raw.githubusercontent.com/OSUKED/Dictionary-Datasets/main/datasets/global-power-plant-database/datapackage.json",
          "value": "Biomass"
         },
         {
          "attribute": "Owner",
          "field_schema": {
           "description": "The primary owner of the power plant",
           "format": "default",
           "name": "owner",
           "title": "Owner",
           "type": "string"
          },
          "id": "GBR0000174",
          "source": "https://raw.githubusercontent.com/OSUKED/Dictionary-Datasets/main/datasets/global-power-plant-database/datapackage.json",
          "value": "Drax Power"
         },
         {
          "attribute": "Source",
          "field_schema": {
           "description": "The source of the data on each power plant",
           "format": "default",
           "name": "source",
           "title": "Source",
           "type": "string"
          },
          "id": "GBR0000174",
          "source": "https://raw.githubusercontent.com/OSUKED/Dictionary-Datasets/main/datasets/global-power-plant-database/datapackage.json",
          "value": "UK Renewable Energy Planning Database"
         },
         {
          "attribute": "URL",
          "field_schema": {
           "description": "URL linking directly to data source",
           "format": "default",
           "name": "url",
           "title": "URL",
           "type": "string"
          },
          "id": "GBR0000174",
          "source": "https://raw.githubusercontent.com/OSUKED/Dictionary-Datasets/main/datasets/global-power-plant-database/datapackage.json",
          "value": "https://www.gov.uk/government/collections/renewable-energy-planning-data"
         },
         {
          "attribute": "Geolocation Source",
          "field_schema": {
           "description": "The source of the spatial data on each power plant",
           "format": "default",
           "name": "geolocation_source",
           "title": "Geolocation Source",
           "type": "string"
          },
          "id": "GBR0000174",
          "source": "https://raw.githubusercontent.com/OSUKED/Dictionary-Datasets/main/datasets/global-power-plant-database/datapackage.json",
          "value": "UK Renewable Energy Planning Database"
         },
         {
          "attribute": "PLATTS-WEPP ID",
          "field_schema": {
           "description": "The unique identifier used to refer to power plants in the PLATTS-WEBB dataset",
           "format": "default",
           "name": "wepp_id",
           "title": "PLATTS-WEPP ID",
           "type": "number"
          },
          "id": "GBR0000174",
          "source": "https://raw.githubusercontent.com/OSUKED/Dictionary-Datasets/main/datasets/global-power-plant-database/datapackage.json",
          "value": 1023594
         },
         {
          "attribute": "Estimated Annual Generation in 2017",
          "field_schema": {
           "description": "Estimated annual generation (during 2017) in gigawatt hours (GWhs), gross",
           "format": "default",
           "name": "estimated_generation_gwh_2017",
           "title": "Estimated Annual Generation in 2017",
           "type": "number"
          },
          "id": "GBR0000174",
          "source": "https://raw.githubusercontent.com/OSUKED/Dictionary-Datasets/main/datasets/global-power-plant-database/datapackage.json",
          "value": 3007.6
         },
         {
          "attribute": "Installed Capacity (MW) ",
          "field_schema": {
           "description": "Installed electrical capacity of eachpower plant (MW) ",
           "format": "default",
           "name": "capacity_mw",
           "title": "Installed Capacity (MW) ",
           "type": "number"
          },
          "id": "GBR1000112",
          "source": "https://raw.githubusercontent.com/OSUKED/Dictionary-Datasets/main/datasets/global-power-plant-database/datapackage.json",
          "value": 75
         },
         {
          "attribute": "Longitude",
          "field_schema": {
           "description": "The east–west position of a point on the Earth's surface",
           "format": "default",
           "name": "longitude",
           "title": "Longitude",
           "type": "number"
          },
          "id": "GBR1000112",
          "source": "https://raw.githubusercontent.com/OSUKED/Dictionary-Datasets/main/datasets/global-power-plant-database/datapackage.json",
          "value": -0.9981
         },
         {
          "attribute": "Latitude",
          "field_schema": {
           "description": "The north-south position of a point on the Earth's surface",
           "format": "default",
           "name": "latitude",
           "title": "Latitude",
           "type": "number"
          },
          "id": "GBR1000112",
          "source": "https://raw.githubusercontent.com/OSUKED/Dictionary-Datasets/main/datasets/global-power-plant-database/datapackage.json",
          "value": 53.7364
         },
         {
          "attribute": "Primary Fuel Type",
          "field_schema": {
           "description": "The primary fuel used by the power plant",
           "format": "default",
           "name": "primary_fuel",
           "title": "Primary Fuel Type",
           "type": "string"
          },
          "id": "GBR1000112",
          "source": "https://raw.githubusercontent.com/OSUKED/Dictionary-Datasets/main/datasets/global-power-plant-database/datapackage.json",
          "value": "Gas"
         },
         {
          "attribute": "Owner",
          "field_schema": {
           "description": "The primary owner of the power plant",
           "format": "default",
           "name": "owner",
           "title": "Owner",
           "type": "string"
          },
          "id": "GBR1000112",
          "source": "https://raw.githubusercontent.com/OSUKED/Dictionary-Datasets/main/datasets/global-power-plant-database/datapackage.json",
          "value": "Drax Power Ltd"
         },
         {
          "attribute": "Source",
          "field_schema": {
           "description": "The source of the data on each power plant",
           "format": "default",
           "name": "source",
           "title": "Source",
           "type": "string"
          },
          "id": "GBR1000112",
          "source": "https://raw.githubusercontent.com/OSUKED/Dictionary-Datasets/main/datasets/global-power-plant-database/datapackage.json",
          "value": "Department for Business Energy & Industrial Strategy"
         },
         {
          "attribute": "URL",
          "field_schema": {
           "description": "URL linking directly to data source",
           "format": "default",
           "name": "url",
           "title": "URL",
           "type": "string"
          },
          "id": "GBR1000112",
          "source": "https://raw.githubusercontent.com/OSUKED/Dictionary-Datasets/main/datasets/global-power-plant-database/datapackage.json",
          "value": "https://www.gov.uk/government/collections/digest-of-uk-energy-statistics-dukes"
         },
         {
          "attribute": "Geolocation Source",
          "field_schema": {
           "description": "The source of the spatial data on each power plant",
           "format": "default",
           "name": "geolocation_source",
           "title": "Geolocation Source",
           "type": "string"
          },
          "id": "GBR1000112",
          "source": "https://raw.githubusercontent.com/OSUKED/Dictionary-Datasets/main/datasets/global-power-plant-database/datapackage.json",
          "value": "CARMA"
         },
         {
          "attribute": "Estimated Annual Generation in 2017",
          "field_schema": {
           "description": "Estimated annual generation (during 2017) in gigawatt hours (GWhs), gross",
           "format": "default",
           "name": "estimated_generation_gwh_2017",
           "title": "Estimated Annual Generation in 2017",
           "type": "number"
          },
          "id": "GBR1000112",
          "source": "https://raw.githubusercontent.com/OSUKED/Dictionary-Datasets/main/datasets/global-power-plant-database/datapackage.json",
          "value": 348
         },
         {
          "attribute": "CO2 Emissions (Tonnes)",
          "field_schema": {
           "description": "Tonnes of CO2 released in the specified year",
           "format": "default",
           "name": "tonnes_co2",
           "title": "CO2 Emissions (Tonnes)",
           "type": "integer"
          },
          "id": 96842,
          "source": "https://raw.githubusercontent.com/OSUKED/Dictionary-Datasets/main/datasets/verified-emissions/datapackage.json",
          "value": {
           "2005": 20771624,
           "2006": 22764847,
           "2007": 22160413,
           "2008": 22299778,
           "2009": 19851702,
           "2010": 22392487,
           "2011": 21465607,
           "2012": 22694684,
           "2013": 20317580,
           "2014": 16581565,
           "2015": 13173987,
           "2016": 6171178,
           "2017": 6215220,
           "2018": 4138782,
           "2019": 725751,
           "2020": 1527003
          }
         },
         {
          "attribute": "Annual Output (MWh)",
          "field_schema": {
           "description": "The total output of the specified power plant during a year",
           "format": "default",
           "name": "output_MWh",
           "title": "Annual Output (MWh)",
           "type": "number"
          },
          "id": "DRAXX-1",
          "source": "https://raw.githubusercontent.com/OSUKED/Dictionary-Datasets/main/datasets/annual-output/datapackage.json",
          "value": {
           "2016": 5014662.678,
           "2017": 4036655.434,
           "2018": 5272782.114,
           "2019": 4759282.278,
           "2020": 5016991.292
          }
         },
         {
          "attribute": "Annual Output (MWh)",
          "field_schema": {
           "description": "The total output of the specified power plant during a year",
           "format": "default",
           "name": "output_MWh",
           "title": "Annual Output (MWh)",
           "type": "number"
          },
          "id": "DRAXX-2",
          "source": "https://raw.githubusercontent.com/OSUKED/Dictionary-Datasets/main/datasets/annual-output/datapackage.json",
          "value": {
           "2016": 4591242.682,
           "2017": 4165307.984,
           "2018": 3775143.036,
           "2019": 2833499.662,
           "2020": 3925674.326
          }
         },
         {
          "attribute": "Annual Output (MWh)",
          "field_schema": {
           "description": "The total output of the specified power plant during a year",
           "format": "default",
           "name": "output_MWh",
           "title": "Annual Output (MWh)",
           "type": "number"
          },
          "id": "DRAXX-3",
          "source": "https://raw.githubusercontent.com/OSUKED/Dictionary-Datasets/main/datasets/annual-output/datapackage.json",
          "value": {
           "2016": 3270868.966,
           "2017": 4754720.16,
           "2018": 3765275.156,
           "2019": 3585051.5979999998,
           "2020": 2675650.946
          }
         },
         {
          "attribute": "Annual Output (MWh)",
          "field_schema": {
           "description": "The total output of the specified power plant during a year",
           "format": "default",
           "name": "output_MWh",
           "title": "Annual Output (MWh)",
           "type": "number"
          },
          "id": "DRAXX-4",
          "source": "https://raw.githubusercontent.com/OSUKED/Dictionary-Datasets/main/datasets/annual-output/datapackage.json",
          "value": {
           "2016": 2832039.082,
           "2017": 2515965.612,
           "2018": 1827026.434,
           "2019": 2607930.56,
           "2020": 2844261.942
          }
         },
         {
          "attribute": "Annual Output (MWh)",
          "field_schema": {
           "description": "The total output of the specified power plant during a year",
           "format": "default",
           "name": "output_MWh",
           "title": "Annual Output (MWh)",
           "type": "number"
          },
          "id": "DRAXX-5",
          "source": "https://raw.githubusercontent.com/OSUKED/Dictionary-Datasets/main/datasets/annual-output/datapackage.json",
          "value": {
           "2016": 2138424.28,
           "2017": 3020489.48,
           "2018": 1671123.542,
           "2019": 416402.33,
           "2020": 838405.282
          }
         },
         {
          "attribute": "Annual Output (MWh)",
          "field_schema": {
           "description": "The total output of the specified power plant during a year",
           "format": "default",
           "name": "output_MWh",
           "title": "Annual Output (MWh)",
           "type": "number"
          },
          "id": "DRAXX-6",
          "source": "https://raw.githubusercontent.com/OSUKED/Dictionary-Datasets/main/datasets/annual-output/datapackage.json",
          "value": {
           "2016": 2088242.122,
           "2017": 1814090.702,
           "2018": 1979873.838,
           "2019": 297244.178,
           "2020": 839832.468
          }
         },
         {
          "attribute": "Annual Output (MWh)",
          "field_schema": {
           "description": "The total output of the specified power plant during a year",
           "format": "default",
           "name": "output_MWh",
           "title": "Annual Output (MWh)",
           "type": "number"
          },
          "id": "DRAXX-10G",
          "source": "https://raw.githubusercontent.com/OSUKED/Dictionary-Datasets/main/datasets/annual-output/datapackage.json",
          "value": {
           "2016": 42.712,
           "2017": 135.212,
           "2018": 194.752,
           "2019": 178.772,
           "2020": 218.848
          }
         },
         {
          "attribute": "Annual Output (MWh)",
          "field_schema": {
           "description": "The total output of the specified power plant during a year",
           "format": "default",
           "name": "output_MWh",
           "title": "Annual Output (MWh)",
           "type": "number"
          },
          "id": "DRAXX-12G",
          "source": "https://raw.githubusercontent.com/OSUKED/Dictionary-Datasets/main/datasets/annual-output/datapackage.json",
          "value": {
           "2016": 23.04,
           "2017": 81.496,
           "2018": 200.656,
           "2019": 139.348,
           "2020": 242.96
          }
         },
         {
          "attribute": "Annual Output (MWh)",
          "field_schema": {
           "description": "The total output of the specified power plant during a year",
           "format": "default",
           "name": "output_MWh",
           "title": "Annual Output (MWh)",
           "type": "number"
          },
          "id": "DRAXX-9G",
          "source": "https://raw.githubusercontent.com/OSUKED/Dictionary-Datasets/main/datasets/annual-output/datapackage.json",
          "value": {
           "2016": 27.692,
           "2017": 134.016,
           "2018": 123.504,
           "2019": 44.04,
           "2020": 59.72
          }
         },
         {
          "attribute": "Capture Price (£/MWh)",
          "field_schema": {
           "description": "The average price weighted by output that would have been received by the balancing mechanisms unit if it had participated fully in the day-ahead market. ",
           "format": "default",
           "name": "capture_price",
           "title": "Capture Price (£/MWh)",
           "type": "number"
          },
          "id": "DRAXX-1",
          "source": "https://raw.githubusercontent.com/OSUKED/Dictionary-Datasets/main/datasets/capture-prices/datapackage.json",
          "value": {
           "2016": 38.237002082527965,
           "2017": 44.733459641612136,
           "2018": 57.117120268113034,
           "2019": 41.89812739113798,
           "2020": 34.39833107693613
          }
         },
         {
          "attribute": "Capture Price (£/MWh)",
          "field_schema": {
           "description": "The average price weighted by output that would have been received by the balancing mechanisms unit if it had participated fully in the day-ahead market. ",
           "format": "default",
           "name": "capture_price",
           "title": "Capture Price (£/MWh)",
           "type": "number"
          },
          "id": "DRAXX-2",
          "source": "https://raw.githubusercontent.com/OSUKED/Dictionary-Datasets/main/datasets/capture-prices/datapackage.json",
          "value": {
           "2016": 38.40252574552469,
           "2017": 45.72632592274784,
           "2018": 58.01176539842334,
           "2019": 43.83756300503172,
           "2020": 37.096452097235776
          }
         },
         {
          "attribute": "Capture Price (£/MWh)",
          "field_schema": {
           "description": "The average price weighted by output that would have been received by the balancing mechanisms unit if it had participated fully in the day-ahead market. ",
           "format": "default",
           "name": "capture_price",
           "title": "Capture Price (£/MWh)",
           "type": "number"
          },
          "id": "DRAXX-3",
          "source": "https://raw.githubusercontent.com/OSUKED/Dictionary-Datasets/main/datasets/capture-prices/datapackage.json",
          "value": {
           "2016": 38.07603207323,
           "2017": 45.24692150958413,
           "2018": 57.627769536080116,
           "2019": 42.113925849707904,
           "2020": 34.46990444020173
          }
         },
         {
          "attribute": "Capture Price (£/MWh)",
          "field_schema": {
           "description": "The average price weighted by output that would have been received by the balancing mechanisms unit if it had participated fully in the day-ahead market. ",
           "format": "default",
           "name": "capture_price",
           "title": "Capture Price (£/MWh)",
           "type": "number"
          },
          "id": "DRAXX-4",
          "source": "https://raw.githubusercontent.com/OSUKED/Dictionary-Datasets/main/datasets/capture-prices/datapackage.json",
          "value": {
           "2016": 42.3384013349837,
           "2017": 49.8317073920643,
           "2018": 60.853024052966255,
           "2019": 42.056472556392656,
           "2020": 36.38332361573421
          }
         },
         {
          "attribute": "Capture Price (£/MWh)",
          "field_schema": {
           "description": "The average price weighted by output that would have been received by the balancing mechanisms unit if it had participated fully in the day-ahead market. ",
           "format": "default",
           "name": "capture_price",
           "title": "Capture Price (£/MWh)",
           "type": "number"
          },
          "id": "DRAXX-5",
          "source": "https://raw.githubusercontent.com/OSUKED/Dictionary-Datasets/main/datasets/capture-prices/datapackage.json",
          "value": {
           "2016": 46.292908147928294,
           "2017": 48.69041712559118,
           "2018": 63.24184689241845,
           "2019": 55.15804029697178,
           "2020": 37.69713801750123
          }
         },
         {
          "attribute": "Capture Price (£/MWh)",
          "field_schema": {
           "description": "The average price weighted by output that would have been received by the balancing mechanisms unit if it had participated fully in the day-ahead market. ",
           "format": "default",
           "name": "capture_price",
           "title": "Capture Price (£/MWh)",
           "type": "number"
          },
          "id": "DRAXX-6",
          "source": "https://raw.githubusercontent.com/OSUKED/Dictionary-Datasets/main/datasets/capture-prices/datapackage.json",
          "value": {
           "2016": 44.779710992947656,
           "2017": 50.99579671774685,
           "2018": 61.926772776018,
           "2019": 58.25390383773974,
           "2020": 46.34732966876417
          }
         },
         {
          "attribute": "Capture Price (£/MWh)",
          "field_schema": {
           "description": "The average price weighted by output that would have been received by the balancing mechanisms unit if it had participated fully in the day-ahead market. ",
           "format": "default",
           "name": "capture_price",
           "title": "Capture Price (£/MWh)",
           "type": "number"
          },
          "id": "DRAXX-10G",
          "source": "https://raw.githubusercontent.com/OSUKED/Dictionary-Datasets/main/datasets/capture-prices/datapackage.json",
          "value": {
           "2016": 30.701690391459067,
           "2017": 41.32975357216816,
           "2018": 151.89590063259942,
           "2019": 70.80701027006465,
           "2020": 152.91499268898968
          }
         },
         {
          "attribute": "Capture Price (£/MWh)",
          "field_schema": {
           "description": "The average price weighted by output that would have been received by the balancing mechanisms unit if it had participated fully in the day-ahead market. ",
           "format": "default",
           "name": "capture_price",
           "title": "Capture Price (£/MWh)",
           "type": "number"
          },
          "id": "DRAXX-12G",
          "source": "https://raw.githubusercontent.com/OSUKED/Dictionary-Datasets/main/datasets/capture-prices/datapackage.json",
          "value": {
           "2016": 37.350208333333335,
           "2017": 38.363903995288105,
           "2018": 147.49038992105895,
           "2019": 62.47283663920544,
           "2020": 112.5339586830502
          }
         },
         {
          "attribute": "Capture Price (£/MWh)",
          "field_schema": {
           "description": "The average price weighted by output that would have been received by the balancing mechanisms unit if it had participated fully in the day-ahead market. ",
           "format": "default",
           "name": "capture_price",
           "title": "Capture Price (£/MWh)",
           "type": "number"
          },
          "id": "DRAXX-9G",
          "source": "https://raw.githubusercontent.com/OSUKED/Dictionary-Datasets/main/datasets/capture-prices/datapackage.json",
          "value": {
           "2016": 42.06126823631374,
           "2017": 40.23748567335243,
           "2018": 151.9973461588289,
           "2019": 65.30205267938238,
           "2020": 27.312009377093094
          }
         },
         {
          "attribute": "Name of CfD Unit",
          "field_schema": {
           "description": "Name of a CfD Unit",
           "format": "default",
           "name": "Name_of_CFD_Unit",
           "title": "Name of CfD Unit",
           "type": "string"
          },
          "id": "INV-DRX-001",
          "source": "https://raw.githubusercontent.com/OSUKED/Dictionary-Datasets/main/datasets/cfd-contract-portfolio-status/datapackage.json",
          "value": "Drax 3rd conversion unit (unit 1)"
         },
         {
          "attribute": "Allocation Round",
          "field_schema": {
           "description": "The associated CfD allocation round for the site",
           "format": "default",
           "name": "Allocation_Round",
           "title": "Allocation Round",
           "type": "string"
          },
          "id": "INV-DRX-001",
          "source": "https://raw.githubusercontent.com/OSUKED/Dictionary-Datasets/main/datasets/cfd-contract-portfolio-status/datapackage.json",
          "value": "Investment Contract"
         },
         {
          "attribute": "Technology Type",
          "field_schema": {
           "description": "Technologies of CfD generators",
           "format": "default",
           "name": "Technology_Type",
           "title": "Technology Type",
           "type": "string"
          },
          "id": "INV-DRX-001",
          "source": "https://raw.githubusercontent.com/OSUKED/Dictionary-Datasets/main/datasets/cfd-contract-portfolio-status/datapackage.json",
          "value": "Biomass Conversion"
         },
         {
          "attribute": "Transmission or Distribution Connection",
          "field_schema": {
           "description": "Connection type of the transmission or distribution network",
           "format": "default",
           "name": "Transmission_or_Distribution_connection",
           "title": "Transmission or Distribution Connection",
           "type": "string"
          },
          "id": "INV-DRX-001",
          "source": "https://raw.githubusercontent.com/OSUKED/Dictionary-Datasets/main/datasets/cfd-contract-portfolio-status/datapackage.json",
          "value": "Transmission"
         },
         {
          "attribute": "Status",
          "field_schema": {
           "description": "Different stages of CfD contracts. E.g: Pre-Start Date, Post-Start Date,Terminated",
           "format": "default",
           "name": "Status",
           "title": "Status",
           "type": "string"
          },
          "id": "INV-DRX-001",
          "source": "https://raw.githubusercontent.com/OSUKED/Dictionary-Datasets/main/datasets/cfd-contract-portfolio-status/datapackage.json",
          "value": "Post-Start Date"
         },
         {
          "attribute": "Estimated Start Date",
          "field_schema": {
           "description": "Estimated date on which the generator will start generating",
           "format": "%Y-%m-%d %H:%M:%S",
           "name": "Expected_Start_Date",
           "title": "Estimated Start Date",
           "type": "datetime"
          },
          "id": "INV-DRX-001",
          "source": "https://raw.githubusercontent.com/OSUKED/Dictionary-Datasets/main/datasets/cfd-contract-portfolio-status/datapackage.json",
          "value": "2016-12-21"
         },
         {
          "attribute": "Maximum Contract Capacity (MW)",
          "field_schema": {
           "description": "Generators submit an Initial Installed Capacity Estimate (IICE) at the time of application. The IICE is used as a reference point throughout the CfD. For a successful generator, Installed Capacity can only ever be altered lower than the IICE. The IICE can be adjusted downwards by up to 25% by the Milestone Delivery Date",
           "format": "default",
           "name": "Maximum_Contract_Capacity_MW",
           "title": "Maximum Contract Capacity (MW)",
           "type": "number"
          },
          "id": "INV-DRX-001",
          "source": "https://raw.githubusercontent.com/OSUKED/Dictionary-Datasets/main/datasets/cfd-contract-portfolio-status/datapackage.json",
          "value": 645
         },
         {
          "attribute": "Strike Price (GBP/MWh)",
          "field_schema": {
           "description": "The strike price is a guaranteed price to be paid to wholesale generators of electricity who have a contract within the CfD scheme",
           "format": "default",
           "name": "strike_price_GBP_per_MWh",
           "title": "Strike Price (GBP/MWh)",
           "type": "number"
          },
          "id": "INV-DRX-001",
          "source": "https://raw.githubusercontent.com/OSUKED/Dictionary-Datasets/main/datasets/cfd-strike-prices/datapackage.json",
          "value": {
           "2016": 105.88,
           "2017": 108.02,
           "2018": 111.29,
           "2019": 113.65,
           "2020": 116.49,
           "2021": 118.54
          }
         }
        ],
        "datasets": {
         "https://raw.githubusercontent.com/OSUKED/Dictionary-Datasets/main/datasets/annual-output/datapackage.json": {
          "datapackage_json_url": "https://raw.githubusercontent.com/OSUKED/Dictionary-Datasets/main/datasets/annual-output/datapackage.json",
          "datapackage_name": "annual-output",
          "related_resources": [
           {
            "alt_indexes": [
             "year"
            ],
            "dictionary_pk_field": "ngc_bmu_id",
            "external_fk_field": "ngc_bmu_id",
            "extracted_attributes": [
             "output_MWh"
            ],
            "resource_name": "annual-output",
            "resource_url": "https://raw.githubusercontent.com/OSUKED/Dictionary-Datasets/main/datasets/annual-output/annual-output.csv"
           }
          ]
         },
         "https://raw.githubusercontent.com/OSUKED/Dictionary-Datasets/main/datasets/bmu-fuel-types/datapackage.json": {
          "datapackage_json_url": "https://raw.githubusercontent.com/OSUKED/Dictionary-Datasets/main/datasets/bmu-fuel-types/datapackage.json",
          "datapackage_name": "bmu-fuel-types",
          "related_resources": [
           {
            "dictionary_pk_field": "ngc_bmu_id",
            "external_fk_field": "NGC_BMU_ID",
            "extracted_attributes": [
             "FUEL TYPE"
            ],
            "resource_name": "bmu-fuel-types",
            "resource_url": "https://raw.githubusercontent.com/OSUKED/Dictionary-Datasets/main/datasets/bmu-fuel-types/BMUFuelType 2021-08-09.csv"
           }
          ]
         },
         "https://raw.githubusercontent.com/OSUKED/Dictionary-Datasets/main/datasets/capture-prices/datapackage.json": {
          "datapackage_json_url": "https://raw.githubusercontent.com/OSUKED/Dictionary-Datasets/main/datasets/capture-prices/datapackage.json",
          "datapackage_name": "capture-prices",
          "related_resources": [
           {
            "alt_indexes": [
             "year"
            ],
            "dictionary_pk_field": "ngc_bmu_id",
            "external_fk_field": "ngc_bmu_id",
            "extracted_attributes": [
             "capture_price"
            ],
            "resource_name": "capture-prices",
            "resource_url": "https://raw.githubusercontent.com/OSUKED/Dictionary-Datasets/main/datasets/capture-prices/capture-prices.csv"
           }
          ]
         },
         "https://raw.githubusercontent.com/OSUKED/Dictionary-Datasets/main/datasets/cfd-contract-portfolio-status/datapackage.json": {
          "datapackage_json_url": "https://raw.githubusercontent.com/OSUKED/Dictionary-Datasets/main/datasets/cfd-contract-portfolio-status/datapackage.json",
          "datapackage_name": "cfd-contract-portfolio-status",
          "related_resources": [
           {
            "dictionary_pk_field": "cfd_id",
            "external_fk_field": "CFD_ID",
            "extracted_attributes": [
             "Name_of_CFD_Unit",
             "Allocation_Round",
             "Technology_Type",
             "Transmission_or_Distribution_connection",
             "Status",
             "Expected_Start_Date",
             "Maximum_Contract_Capacity_MW"
            ],
            "resource_name": "cfd-contract-portfolio-status",
            "resource_url": "https://raw.githubusercontent.com/OSUKED/Dictionary-Datasets/main/datasets/cfd-contract-portfolio-status/cfd-contract-portfolio-status.csv"
           }
          ]
         },
         "https://raw.githubusercontent.com/OSUKED/Dictionary-Datasets/main/datasets/cfd-strike-prices/datapackage.json": {
          "datapackage_json_url": "https://raw.githubusercontent.com/OSUKED/Dictionary-Datasets/main/datasets/cfd-strike-prices/datapackage.json",
          "datapackage_name": "cfd-strike-prices",
          "related_resources": [
           {
            "alt_indexes": [
             "financial_year"
            ],
            "dictionary_pk_field": "cfd_id",
            "external_fk_field": "cfd_id",
            "extracted_attributes": [
             "strike_price_GBP_per_MWh"
            ],
            "resource_name": "cfd-strike-prices",
            "resource_url": "https://raw.githubusercontent.com/OSUKED/Dictionary-Datasets/main/datasets/cfd-strike-prices/cfd-strike-prices.csv"
           }
          ]
         },
         "https://raw.githubusercontent.com/OSUKED/Dictionary-Datasets/main/datasets/global-power-plant-database/datapackage.json": {
          "datapackage_json_url": "https://raw.githubusercontent.com/OSUKED/Dictionary-Datasets/main/datasets/global-power-plant-database/datapackage.json",
          "datapackage_name": "global-power-plant-database",
          "related_resources": [
           {
            "dictionary_pk_field": "gppd_idnr",
            "external_fk_field": "gppd_idnr",
            "extracted_attributes": [
             "capacity_mw",
             "longitude",
             "latitude",
             "primary_fuel",
             "other_fuel1",
             "other_fuel2",
             "other_fuel3",
             "commissioning_year",
             "owner",
             "source",
             "url",
             "geolocation_source",
             "wepp_id",
             "year_of_capacity_data",
             "generation_gwh_2013",
             "generation_gwh_2014",
             "generation_gwh_2015",
             "generation_gwh_2016",
             "generation_gwh_2017",
             "generation_gwh_2018",
             "generation_gwh_2019",
             "generation_data_source",
             "estimated_generation_gwh_2013",
             "estimated_generation_gwh_2014",
             "estimated_generation_gwh_2015",
             "estimated_generation_gwh_2016",
             "estimated_generation_gwh_2017"
            ],
            "resource_name": "global-power-plant-database",
            "resource_url": "https://raw.githubusercontent.com/OSUKED/Dictionary-Datasets/main/datasets/global-power-plant-database/global_power_plant_database.csv"
           }
          ]
         },
         "https://raw.githubusercontent.com/OSUKED/Dictionary-Datasets/main/datasets/plant-locations/datapackage.json": {
          "datapackage_json_url": "https://raw.githubusercontent.com/OSUKED/Dictionary-Datasets/main/datasets/plant-locations/datapackage.json",
          "datapackage_name": "plant-locations",
          "related_resources": [
           {
            "dictionary_pk_field": "dictionary_id",
            "external_fk_field": "dictionary_id",
            "extracted_attributes": [
             "longitude",
             "latitude"
            ],
            "resource_name": "plant-locations",
            "resource_url": "https://raw.githubusercontent.com/OSUKED/Dictionary-Datasets/main/datasets/plant-locations/plant-locations.csv"
           }
          ]
         },
         "https://raw.githubusercontent.com/OSUKED/Dictionary-Datasets/main/datasets/verified-emissions/datapackage.json": {
          "datapackage_json_url": "https://raw.githubusercontent.com/OSUKED/Dictionary-Datasets/main/datasets/verified-emissions/datapackage.json",
          "datapackage_name": "verified-emissions",
          "related_resources": [
           {
            "alt_indexes": [
             "year"
            ],
            "dictionary_pk_field": "eutl_id",
            "external_fk_field": "account_id",
            "extracted_attributes": [
             "tonnes_co2"
            ],
            "resource_name": "verified-emissions",
            "resource_url": "https://raw.githubusercontent.com/OSUKED/Dictionary-Datasets/main/datasets/verified-emissions/verified_emissions.csv"
           }
          ]
         }
        },
        "id_hierarchies": {
         "child": {
          "eic_id": [
           "48W00000DRAXX-56",
           "48W00000DRAXX-64",
           "48W000DRAXX-10G9",
           "48W000DRAXX-12G3",
           "48W0000DRAXX-9GR"
          ],
          "gppd_idnr": [
           "GBR0000174",
           "GBR1000112"
          ],
          "ngc_bmu_id": [
           "DRAXX-1",
           "DRAXX-2",
           "DRAXX-3",
           "DRAXX-4",
           "DRAXX-5",
           "DRAXX-6",
           "DRAXX-10G",
           "DRAXX-12G",
           "DRAXX-9G"
          ],
          "sett_bmu_id": [
           "T_DRAXX-1",
           "T_DRAXX-2",
           "T_DRAXX-3",
           "T_DRAXX-4",
           "T_DRAXX-5",
           "T_DRAXX-6",
           "T_DRAXX-10G",
           "T_DRAXX-12G",
           "T_DRAXX-9G"
          ]
         },
         "equivalent": {
          "cfd_id": "INV-DRX-001",
          "esail_id": "DRAXX",
          "eutl_id": 96842,
          "name": "Drax"
         },
         "parent": {}
        }
       }
      },
      "text/plain": [
       "<IPython.core.display.JSON object>"
      ]
     },
     "execution_count": 4,
     "metadata": {
      "application/json": {
       "expanded": false,
       "root": "root"
      }
     },
     "output_type": "execute_result"
    }
   ],
   "source": [
    "site_data_fp = '../data/intermediate/site_data.json'\n",
    "\n",
    "with open(site_data_fp, 'r') as f:\n",
    "    site_data = json.load(f)\n",
    "    \n",
    "JSON(extraction.get_dict_head(site_data))"
   ]
  },
  {
   "cell_type": "code",
   "execution_count": null,
   "id": "f1f7494b-6525-437f-a564-beba7b488d07",
   "metadata": {},
   "outputs": [],
   "source": []
  },
  {
   "cell_type": "code",
   "execution_count": 5,
   "id": "42ccdb97-dc65-4a13-822e-11f701b6aab4",
   "metadata": {},
   "outputs": [],
   "source": [
    "#exports\n",
    "def get_dp_field_to_url_format_str(datapackage_json_fp):\n",
    "    package = Package(datapackage_json_fp, profile='tabular-data-package')\n",
    "    ids_resource = package.get_resource('ids')\n",
    "\n",
    "    id_field_to_url_format_str = {\n",
    "        field['name']: field['url_format'] \n",
    "        for field \n",
    "        in ids_resource['schema']['fields'] \n",
    "        if 'url_format' in field.keys()\n",
    "    }\n",
    "\n",
    "    return id_field_to_url_format_str"
   ]
  },
  {
   "cell_type": "code",
   "execution_count": 6,
   "id": "8a4c19bc-dab0-4cda-9f68-37ed33ae0b27",
   "metadata": {},
   "outputs": [
    {
     "data": {
      "text/plain": [
       "{'4c_offshore_id': 'https://www.4coffshore.com/windfarms/united-kingdom/{value}.html',\n",
       " 'windpowernet_id': 'https://www.thewindpower.net/{value}.php',\n",
       " 'wikidata_id': 'https://www.wikidata.org/wiki/{value}',\n",
       " 'wikipedia_id': 'https://en.wikipedia.org/wiki/{value}',\n",
       " 'power_technology_id': 'https://www.power-technology.com/projects/{value}'}"
      ]
     },
     "execution_count": 6,
     "metadata": {},
     "output_type": "execute_result"
    }
   ],
   "source": [
    "datapackage_json_fp = '../data/dictionary/datapackage.json'\n",
    "\n",
    "id_field_to_url_format_str = get_dp_field_to_url_format_str(datapackage_json_fp)\n",
    "\n",
    "id_field_to_url_format_str"
   ]
  },
  {
   "cell_type": "code",
   "execution_count": null,
   "id": "a543d35c-59cc-4a5d-8886-76175f7c2689",
   "metadata": {},
   "outputs": [],
   "source": []
  },
  {
   "cell_type": "code",
   "execution_count": 7,
   "id": "d2266eae-365d-4cc0-aaea-7d5eb8a2f22a",
   "metadata": {},
   "outputs": [],
   "source": [
    "#exports\n",
    "def get_dp_field_to_title(datapackage_json_fp):\n",
    "    package = Package(datapackage_json_fp, profile='tabular-data-package')\n",
    "    ids_resource = package.get_resource('ids')\n",
    "\n",
    "    id_field_to_title = {\n",
    "        field['name']: field['title'] \n",
    "        for field \n",
    "        in ids_resource['schema']['fields'] \n",
    "    }\n",
    "\n",
    "    return id_field_to_title"
   ]
  },
  {
   "cell_type": "code",
   "execution_count": 8,
   "id": "d21ccfcb-e493-4931-94fd-cc27cbe41b41",
   "metadata": {},
   "outputs": [
    {
     "data": {
      "text/plain": [
       "{'dictionary_id': 'Dictionary ID',\n",
       " 'gppd_idnr': 'GPPD ID',\n",
       " 'esail_id': 'ESAIL ID',\n",
       " 'name': 'Common Name',\n",
       " 'sett_bmu_id': 'Settlement BMU ID',\n",
       " 'ngc_bmu_id': 'National Grid BMU ID',\n",
       " '4c_offshore_id': '4C-Offshore ID',\n",
       " 'windpowernet_id': 'WindPowerNet ID',\n",
       " 'wikidata_id': 'Wikidata ID',\n",
       " 'wikipedia_id': 'Wikipedia ID',\n",
       " 'power_technology_id': 'Power-Technology ID',\n",
       " 'eutl_id': 'EUTL ID',\n",
       " 'eic_id': 'EIC ID',\n",
       " 'cfd_id': 'CfD ID',\n",
       " 'jrc_id': 'JRC ID',\n",
       " 'iaea_id': 'IAEA ID',\n",
       " 'old_repd_id': 'REPD ID (Old)',\n",
       " 'new_repd_id': 'REPD ID (New)'}"
      ]
     },
     "execution_count": 8,
     "metadata": {},
     "output_type": "execute_result"
    }
   ],
   "source": [
    "id_field_to_title = get_dp_field_to_title(datapackage_json_fp)\n",
    "\n",
    "id_field_to_title"
   ]
  },
  {
   "cell_type": "code",
   "execution_count": null,
   "id": "57561963-ebf9-4767-861f-e2421609eeac",
   "metadata": {},
   "outputs": [],
   "source": []
  },
  {
   "cell_type": "code",
   "execution_count": 9,
   "id": "ac3dadb4-21c6-449b-9450-efbbcda347f4",
   "metadata": {},
   "outputs": [],
   "source": [
    "#exports\n",
    "def format_id_values(id_values, id_type, id_field_to_url_format_str):\n",
    "    if id_type in id_field_to_url_format_str.keys():\n",
    "        url_format_str = id_field_to_url_format_str[id_type]\n",
    "        id_values_strs = [f'[{id_value}]({url_format_str.format(value=id_value)})' for id_value in id_values]\n",
    "    else:\n",
    "        id_values_strs = [str(id_value) for id_value in id_values] \n",
    "    \n",
    "    return id_values_strs"
   ]
  },
  {
   "cell_type": "code",
   "execution_count": 10,
   "id": "948ebb4d-a575-47c4-b9c4-8a9c43768161",
   "metadata": {},
   "outputs": [
    {
     "data": {
      "text/plain": [
       "['[hornsea-project-one-north-sea](https://www.power-technology.com/projects/hornsea-project-one-north-sea)',\n",
       " '[hornsea-project-two-north-sea](https://www.power-technology.com/projects/hornsea-project-two-north-sea)']"
      ]
     },
     "execution_count": 10,
     "metadata": {},
     "output_type": "execute_result"
    }
   ],
   "source": [
    "id_type = 'power_technology_id'\n",
    "id_values = ['hornsea-project-one-north-sea', 'hornsea-project-two-north-sea']\n",
    "url_format_str = 'https://www.power-technology.com/projects/{value}'\n",
    "\n",
    "id_values_strs = format_id_values(id_values, id_type, id_field_to_url_format_str)\n",
    "\n",
    "id_values_strs"
   ]
  },
  {
   "cell_type": "code",
   "execution_count": null,
   "id": "5229c1ef-f6b6-49f9-85d3-73ea5274f5c8",
   "metadata": {},
   "outputs": [],
   "source": []
  },
  {
   "cell_type": "code",
   "execution_count": 11,
   "id": "f2a5e972-c11b-4b12-9e38-c87164adf9ed",
   "metadata": {
    "tags": []
   },
   "outputs": [],
   "source": [
    "#exports\n",
    "def single_site_data_to_ids_df(single_site_data, root_id, datapackage_json_fp, root_id_type='dictionary_id'):\n",
    "    id_field_to_url_format_str = get_dp_field_to_url_format_str(datapackage_json_fp)\n",
    "    id_field_to_title = get_dp_field_to_title(datapackage_json_fp)\n",
    "    \n",
    "    df_site_ids = pd.DataFrame([{'Relationship': 'Root', 'ID Type': id_field_to_title[root_id_type], 'ID(s)': root_id}])\n",
    "\n",
    "    hierarchy_level_to_relationship = {\n",
    "        'parent': 'parent',\n",
    "        'child': 'Related',\n",
    "        'equivalent': 'Equivalent'\n",
    "    }\n",
    "\n",
    "    for hierarchy_level, ids in single_site_data['id_hierarchies'].items():\n",
    "        if len(ids) >= 1:\n",
    "            ids = {\n",
    "                id_field_to_title[id_type]: (\n",
    "                    ', '.join([str(id_) for id_ in format_id_values(id_values, id_type, id_field_to_url_format_str)]) if isinstance(id_values, list) \n",
    "                    else f'[{id_values}]({id_field_to_url_format_str[id_type].format(value=id_values)})' if id_type in id_field_to_url_format_str.keys()\n",
    "                    else id_values\n",
    "                ) \n",
    "                for id_type, id_values \n",
    "                in ids.items()\n",
    "            }\n",
    "                \n",
    "            relationship = hierarchy_level_to_relationship[hierarchy_level]\n",
    "\n",
    "            df_site_ids = df_site_ids.append(pd\n",
    "                                             .Series(ids)\n",
    "                                             .reset_index()\n",
    "                                             .assign(Relationship=relationship)\n",
    "                                             .rename(columns={'index': 'ID Type', 0: 'ID(s)'})\n",
    "                                            )\n",
    "\n",
    "    if df_site_ids.size >= 1:\n",
    "        df_site_ids = df_site_ids.set_index(['Relationship', 'ID Type'])\n",
    "        \n",
    "    return df_site_ids\n",
    "\n",
    "def single_site_data_to_ids_md_str(single_site_data, root_id, datapackage_json_fp):\n",
    "    df_site_ids = single_site_data_to_ids_df(single_site_data, root_id, datapackage_json_fp)\n",
    "    site_ids_md_table = df_site_ids.reset_index().to_markdown(index=False)\n",
    "    site_ids_md_str = '### Identifiers\\n\\n' + site_ids_md_table\n",
    "    \n",
    "    return site_ids_md_str"
   ]
  },
  {
   "cell_type": "code",
   "execution_count": 12,
   "id": "7838e2ac-633d-45c0-9652-a89a02a331b1",
   "metadata": {
    "tags": []
   },
   "outputs": [
    {
     "data": {
      "text/markdown": [
       "### Identifiers\n",
       "\n",
       "| Relationship   | ID Type              | ID(s)                                                                                                  |\n",
       "|:---------------|:---------------------|:-------------------------------------------------------------------------------------------------------|\n",
       "| Root           | Dictionary ID        | 10004                                                                                                  |\n",
       "| Related        | GPPD ID              | GBR0000174, GBR1000112                                                                                 |\n",
       "| Related        | Settlement BMU ID    | T_DRAXX-1, T_DRAXX-2, T_DRAXX-3, T_DRAXX-4, T_DRAXX-5, T_DRAXX-6, T_DRAXX-10G, T_DRAXX-12G, T_DRAXX-9G |\n",
       "| Related        | National Grid BMU ID | DRAXX-1, DRAXX-2, DRAXX-3, DRAXX-4, DRAXX-5, DRAXX-6, DRAXX-10G, DRAXX-12G, DRAXX-9G                   |\n",
       "| Related        | EIC ID               | 48W00000DRAXX-56, 48W00000DRAXX-64, 48W000DRAXX-10G9, 48W000DRAXX-12G3, 48W0000DRAXX-9GR               |\n",
       "| Equivalent     | ESAIL ID             | DRAXX                                                                                                  |\n",
       "| Equivalent     | Common Name          | Drax                                                                                                   |\n",
       "| Equivalent     | EUTL ID              | 96842                                                                                                  |\n",
       "| Equivalent     | CfD ID               | INV-DRX-001                                                                                            |"
      ],
      "text/plain": [
       "<IPython.core.display.Markdown object>"
      ]
     },
     "execution_count": 12,
     "metadata": {},
     "output_type": "execute_result"
    }
   ],
   "source": [
    "root_id = '10004'\n",
    "single_site_data = site_data[root_id]\n",
    "\n",
    "site_ids_md_str = single_site_data_to_ids_md_str(single_site_data, root_id, datapackage_json_fp)\n",
    "\n",
    "Markdown(site_ids_md_str)"
   ]
  },
  {
   "cell_type": "code",
   "execution_count": null,
   "id": "faac5b9e-c596-4199-8c65-7355e07d096e",
   "metadata": {},
   "outputs": [],
   "source": []
  },
  {
   "cell_type": "code",
   "execution_count": 13,
   "id": "a92e3e17-a9d9-4059-9d9f-5dd158b4c451",
   "metadata": {},
   "outputs": [],
   "source": [
    "#exports\n",
    "filter_dict = lambda dict_, keys_to_select: {k: dict_[k] for k in keys_to_select}\n",
    "\n",
    "def get_datapackage_url_to_alt_indexes(single_site_data):\n",
    "    datapackage_url_to_alt_indexes = {}\n",
    "\n",
    "    if 'datasets' in single_site_data.keys():\n",
    "        for datapackage_url, dataset_ref in single_site_data['datasets'].items():\n",
    "            alt_indexes = []\n",
    "            \n",
    "            if 'alt_indexes' in dataset_ref['related_resources'][0].keys():\n",
    "                alt_indexes += dataset_ref['related_resources'][0]['alt_indexes']\n",
    "            \n",
    "            datapackage_url_to_alt_indexes[datapackage_url] = alt_indexes\n",
    "    \n",
    "    return datapackage_url_to_alt_indexes\n",
    "\n",
    "def get_datapackage_url_to_attributes(single_site_data):\n",
    "    datapackage_url_to_attributes = {}\n",
    "\n",
    "    if 'attributes' in single_site_data.keys():\n",
    "        for attr in single_site_data['attributes']:\n",
    "            datapackage_url = attr['source']\n",
    "            attribute_values = filter_dict(attr, ['attribute', 'value', 'id'])\n",
    "\n",
    "            if datapackage_url not in datapackage_url_to_attributes.keys():\n",
    "                datapackage_url_to_attributes[datapackage_url] = []\n",
    "\n",
    "            datapackage_url_to_attributes[datapackage_url] += [attribute_values]\n",
    "\n",
    "    return datapackage_url_to_attributes"
   ]
  },
  {
   "cell_type": "code",
   "execution_count": 14,
   "id": "8be139d1-80e2-4e68-9f18-fb4206d13d81",
   "metadata": {},
   "outputs": [
    {
     "data": {
      "application/json": {
       "https://raw.githubusercontent.com/OSUKED/Dictionary-Datasets/main/datasets/annual-output/datapackage.json": [
        {
         "attribute": "Annual Output (MWh)",
         "id": "DRAXX-1",
         "value": {
          "2016": 5014662.678,
          "2017": 4036655.434,
          "2018": 5272782.114,
          "2019": 4759282.278,
          "2020": 5016991.292
         }
        },
        {
         "attribute": "Annual Output (MWh)",
         "id": "DRAXX-2",
         "value": {
          "2016": 4591242.682,
          "2017": 4165307.984,
          "2018": 3775143.036,
          "2019": 2833499.662,
          "2020": 3925674.326
         }
        },
        {
         "attribute": "Annual Output (MWh)",
         "id": "DRAXX-3",
         "value": {
          "2016": 3270868.966,
          "2017": 4754720.16,
          "2018": 3765275.156,
          "2019": 3585051.5979999998,
          "2020": 2675650.946
         }
        },
        {
         "attribute": "Annual Output (MWh)",
         "id": "DRAXX-4",
         "value": {
          "2016": 2832039.082,
          "2017": 2515965.612,
          "2018": 1827026.434,
          "2019": 2607930.56,
          "2020": 2844261.942
         }
        },
        {
         "attribute": "Annual Output (MWh)",
         "id": "DRAXX-5",
         "value": {
          "2016": 2138424.28,
          "2017": 3020489.48,
          "2018": 1671123.542,
          "2019": 416402.33,
          "2020": 838405.282
         }
        },
        {
         "attribute": "Annual Output (MWh)",
         "id": "DRAXX-6",
         "value": {
          "2016": 2088242.122,
          "2017": 1814090.702,
          "2018": 1979873.838,
          "2019": 297244.178,
          "2020": 839832.468
         }
        },
        {
         "attribute": "Annual Output (MWh)",
         "id": "DRAXX-10G",
         "value": {
          "2016": 42.712,
          "2017": 135.212,
          "2018": 194.752,
          "2019": 178.772,
          "2020": 218.848
         }
        },
        {
         "attribute": "Annual Output (MWh)",
         "id": "DRAXX-12G",
         "value": {
          "2016": 23.04,
          "2017": 81.496,
          "2018": 200.656,
          "2019": 139.348,
          "2020": 242.96
         }
        },
        {
         "attribute": "Annual Output (MWh)",
         "id": "DRAXX-9G",
         "value": {
          "2016": 27.692,
          "2017": 134.016,
          "2018": 123.504,
          "2019": 44.04,
          "2020": 59.72
         }
        }
       ],
       "https://raw.githubusercontent.com/OSUKED/Dictionary-Datasets/main/datasets/bmu-fuel-types/datapackage.json": [
        {
         "attribute": "Fuel Type",
         "id": "DRAXX-1",
         "value": "BIOMASS"
        },
        {
         "attribute": "Fuel Type",
         "id": "DRAXX-2",
         "value": "BIOMASS"
        },
        {
         "attribute": "Fuel Type",
         "id": "DRAXX-3",
         "value": "BIOMASS"
        },
        {
         "attribute": "Fuel Type",
         "id": "DRAXX-4",
         "value": "BIOMASS"
        },
        {
         "attribute": "Fuel Type",
         "id": "DRAXX-5",
         "value": "COAL"
        },
        {
         "attribute": "Fuel Type",
         "id": "DRAXX-6",
         "value": "COAL"
        },
        {
         "attribute": "Fuel Type",
         "id": "DRAXX-10G",
         "value": "OCGT"
        },
        {
         "attribute": "Fuel Type",
         "id": "DRAXX-12G",
         "value": "OCGT"
        },
        {
         "attribute": "Fuel Type",
         "id": "DRAXX-9G",
         "value": "OCGT"
        }
       ],
       "https://raw.githubusercontent.com/OSUKED/Dictionary-Datasets/main/datasets/capture-prices/datapackage.json": [
        {
         "attribute": "Capture Price (£/MWh)",
         "id": "DRAXX-1",
         "value": {
          "2016": 38.237002082527965,
          "2017": 44.733459641612136,
          "2018": 57.117120268113034,
          "2019": 41.89812739113798,
          "2020": 34.39833107693613
         }
        },
        {
         "attribute": "Capture Price (£/MWh)",
         "id": "DRAXX-2",
         "value": {
          "2016": 38.40252574552469,
          "2017": 45.72632592274784,
          "2018": 58.01176539842334,
          "2019": 43.83756300503172,
          "2020": 37.096452097235776
         }
        },
        {
         "attribute": "Capture Price (£/MWh)",
         "id": "DRAXX-3",
         "value": {
          "2016": 38.07603207323,
          "2017": 45.24692150958413,
          "2018": 57.627769536080116,
          "2019": 42.113925849707904,
          "2020": 34.46990444020173
         }
        },
        {
         "attribute": "Capture Price (£/MWh)",
         "id": "DRAXX-4",
         "value": {
          "2016": 42.3384013349837,
          "2017": 49.8317073920643,
          "2018": 60.853024052966255,
          "2019": 42.056472556392656,
          "2020": 36.38332361573421
         }
        },
        {
         "attribute": "Capture Price (£/MWh)",
         "id": "DRAXX-5",
         "value": {
          "2016": 46.292908147928294,
          "2017": 48.69041712559118,
          "2018": 63.24184689241845,
          "2019": 55.15804029697178,
          "2020": 37.69713801750123
         }
        },
        {
         "attribute": "Capture Price (£/MWh)",
         "id": "DRAXX-6",
         "value": {
          "2016": 44.779710992947656,
          "2017": 50.99579671774685,
          "2018": 61.926772776018,
          "2019": 58.25390383773974,
          "2020": 46.34732966876417
         }
        },
        {
         "attribute": "Capture Price (£/MWh)",
         "id": "DRAXX-10G",
         "value": {
          "2016": 30.701690391459067,
          "2017": 41.32975357216816,
          "2018": 151.89590063259942,
          "2019": 70.80701027006465,
          "2020": 152.91499268898968
         }
        },
        {
         "attribute": "Capture Price (£/MWh)",
         "id": "DRAXX-12G",
         "value": {
          "2016": 37.350208333333335,
          "2017": 38.363903995288105,
          "2018": 147.49038992105895,
          "2019": 62.47283663920544,
          "2020": 112.5339586830502
         }
        },
        {
         "attribute": "Capture Price (£/MWh)",
         "id": "DRAXX-9G",
         "value": {
          "2016": 42.06126823631374,
          "2017": 40.23748567335243,
          "2018": 151.9973461588289,
          "2019": 65.30205267938238,
          "2020": 27.312009377093094
         }
        }
       ],
       "https://raw.githubusercontent.com/OSUKED/Dictionary-Datasets/main/datasets/cfd-contract-portfolio-status/datapackage.json": [
        {
         "attribute": "Name of CfD Unit",
         "id": "INV-DRX-001",
         "value": "Drax 3rd conversion unit (unit 1)"
        },
        {
         "attribute": "Allocation Round",
         "id": "INV-DRX-001",
         "value": "Investment Contract"
        },
        {
         "attribute": "Technology Type",
         "id": "INV-DRX-001",
         "value": "Biomass Conversion"
        },
        {
         "attribute": "Transmission or Distribution Connection",
         "id": "INV-DRX-001",
         "value": "Transmission"
        },
        {
         "attribute": "Status",
         "id": "INV-DRX-001",
         "value": "Post-Start Date"
        },
        {
         "attribute": "Estimated Start Date",
         "id": "INV-DRX-001",
         "value": "2016-12-21"
        },
        {
         "attribute": "Maximum Contract Capacity (MW)",
         "id": "INV-DRX-001",
         "value": 645
        }
       ],
       "https://raw.githubusercontent.com/OSUKED/Dictionary-Datasets/main/datasets/cfd-strike-prices/datapackage.json": [
        {
         "attribute": "Strike Price (GBP/MWh)",
         "id": "INV-DRX-001",
         "value": {
          "2016": 105.88,
          "2017": 108.02,
          "2018": 111.29,
          "2019": 113.65,
          "2020": 116.49,
          "2021": 118.54
         }
        }
       ],
       "https://raw.githubusercontent.com/OSUKED/Dictionary-Datasets/main/datasets/global-power-plant-database/datapackage.json": [
        {
         "attribute": "Installed Capacity (MW) ",
         "id": "GBR0000174",
         "value": 1980
        },
        {
         "attribute": "Longitude",
         "id": "GBR0000174",
         "value": -0.9911
        },
        {
         "attribute": "Latitude",
         "id": "GBR0000174",
         "value": 53.7356
        },
        {
         "attribute": "Primary Fuel Type",
         "id": "GBR0000174",
         "value": "Coal"
        },
        {
         "attribute": "Secondary Fuel Type",
         "id": "GBR0000174",
         "value": "Biomass"
        },
        {
         "attribute": "Owner",
         "id": "GBR0000174",
         "value": "Drax Power"
        },
        {
         "attribute": "Source",
         "id": "GBR0000174",
         "value": "UK Renewable Energy Planning Database"
        },
        {
         "attribute": "URL",
         "id": "GBR0000174",
         "value": "https://www.gov.uk/government/collections/renewable-energy-planning-data"
        },
        {
         "attribute": "Geolocation Source",
         "id": "GBR0000174",
         "value": "UK Renewable Energy Planning Database"
        },
        {
         "attribute": "PLATTS-WEPP ID",
         "id": "GBR0000174",
         "value": 1023594
        },
        {
         "attribute": "Estimated Annual Generation in 2017",
         "id": "GBR0000174",
         "value": 3007.6
        },
        {
         "attribute": "Installed Capacity (MW) ",
         "id": "GBR1000112",
         "value": 75
        },
        {
         "attribute": "Longitude",
         "id": "GBR1000112",
         "value": -0.9981
        },
        {
         "attribute": "Latitude",
         "id": "GBR1000112",
         "value": 53.7364
        },
        {
         "attribute": "Primary Fuel Type",
         "id": "GBR1000112",
         "value": "Gas"
        },
        {
         "attribute": "Owner",
         "id": "GBR1000112",
         "value": "Drax Power Ltd"
        },
        {
         "attribute": "Source",
         "id": "GBR1000112",
         "value": "Department for Business Energy & Industrial Strategy"
        },
        {
         "attribute": "URL",
         "id": "GBR1000112",
         "value": "https://www.gov.uk/government/collections/digest-of-uk-energy-statistics-dukes"
        },
        {
         "attribute": "Geolocation Source",
         "id": "GBR1000112",
         "value": "CARMA"
        },
        {
         "attribute": "Estimated Annual Generation in 2017",
         "id": "GBR1000112",
         "value": 348
        }
       ],
       "https://raw.githubusercontent.com/OSUKED/Dictionary-Datasets/main/datasets/plant-locations/datapackage.json": [
        {
         "attribute": "Longitude",
         "id": 10004,
         "value": -0.626221
        },
        {
         "attribute": "Latitude",
         "id": 10004,
         "value": 53.748711
        }
       ],
       "https://raw.githubusercontent.com/OSUKED/Dictionary-Datasets/main/datasets/verified-emissions/datapackage.json": [
        {
         "attribute": "CO2 Emissions (Tonnes)",
         "id": 96842,
         "value": {
          "2005": 20771624,
          "2006": 22764847,
          "2007": 22160413,
          "2008": 22299778,
          "2009": 19851702,
          "2010": 22392487,
          "2011": 21465607,
          "2012": 22694684,
          "2013": 20317580,
          "2014": 16581565,
          "2015": 13173987,
          "2016": 6171178,
          "2017": 6215220,
          "2018": 4138782,
          "2019": 725751,
          "2020": 1527003
         }
        }
       ]
      },
      "text/plain": [
       "<IPython.core.display.JSON object>"
      ]
     },
     "execution_count": 14,
     "metadata": {
      "application/json": {
       "expanded": false,
       "root": "root"
      }
     },
     "output_type": "execute_result"
    }
   ],
   "source": [
    "datapackage_url_to_alt_indexes = get_datapackage_url_to_alt_indexes(single_site_data)\n",
    "datapackage_url_to_attrs = get_datapackage_url_to_attributes(single_site_data)\n",
    "\n",
    "JSON(datapackage_url_to_attrs)"
   ]
  },
  {
   "cell_type": "code",
   "execution_count": null,
   "id": "2108adf8-7a01-4a58-8295-2b6d77ba8cf8",
   "metadata": {},
   "outputs": [],
   "source": []
  },
  {
   "cell_type": "code",
   "execution_count": 15,
   "id": "40acb6f5-4a4a-45cc-b978-85ec69e40a0c",
   "metadata": {},
   "outputs": [],
   "source": [
    "#exports\n",
    "get_attrs_df_index_cols = lambda df_attrs: ['attribute'] + [elem for elem in df_attrs.columns if elem not in ('attribute', 'id', 0)]\n",
    "\n",
    "def set_multi_index_names(df, names, capitalise=True):\n",
    "    if capitalise == True:\n",
    "        names = [name.capitalize() for name in names]\n",
    "        \n",
    "    df.index.names = names\n",
    "    \n",
    "    return df\n",
    "\n",
    "def create_multi_index_attrs_df(attributes, alt_indexes):\n",
    "    df_attrs = (\n",
    "        pd.DataFrame(attributes)\n",
    "        .set_index(['attribute', 'id'])\n",
    "        ['value']\n",
    "        .apply(pd.Series)\n",
    "        .drop_duplicates()\n",
    "        .stack()\n",
    "        .reset_index()\n",
    "        .pipe(lambda df: df.pivot(get_attrs_df_index_cols(df), 'id', 0))\n",
    "        .pipe(set_multi_index_names, ['attribute']+alt_indexes)\n",
    "    )\n",
    "    \n",
    "    attr_ids = list(df_attrs.columns)\n",
    "    \n",
    "    if df_attrs.shape[1] == 1:\n",
    "        df_attrs.columns.name = ''\n",
    "        df_attrs.columns = ['value']\n",
    "\n",
    "    return df_attrs, attr_ids"
   ]
  },
  {
   "cell_type": "code",
   "execution_count": 16,
   "id": "632159b2-39b9-4436-9f1d-a0eca41ef807",
   "metadata": {},
   "outputs": [
    {
     "data": {
      "text/html": [
       "<div>\n",
       "<style scoped>\n",
       "    .dataframe tbody tr th:only-of-type {\n",
       "        vertical-align: middle;\n",
       "    }\n",
       "\n",
       "    .dataframe tbody tr th {\n",
       "        vertical-align: top;\n",
       "    }\n",
       "\n",
       "    .dataframe thead th {\n",
       "        text-align: right;\n",
       "    }\n",
       "</style>\n",
       "<table border=\"1\" class=\"dataframe\">\n",
       "  <thead>\n",
       "    <tr style=\"text-align: right;\">\n",
       "      <th></th>\n",
       "      <th>id</th>\n",
       "      <th>DRAXX-1</th>\n",
       "      <th>DRAXX-10G</th>\n",
       "      <th>DRAXX-12G</th>\n",
       "      <th>DRAXX-2</th>\n",
       "      <th>DRAXX-3</th>\n",
       "      <th>DRAXX-4</th>\n",
       "      <th>DRAXX-5</th>\n",
       "      <th>DRAXX-6</th>\n",
       "      <th>DRAXX-9G</th>\n",
       "    </tr>\n",
       "    <tr>\n",
       "      <th>Attribute</th>\n",
       "      <th>Year</th>\n",
       "      <th></th>\n",
       "      <th></th>\n",
       "      <th></th>\n",
       "      <th></th>\n",
       "      <th></th>\n",
       "      <th></th>\n",
       "      <th></th>\n",
       "      <th></th>\n",
       "      <th></th>\n",
       "    </tr>\n",
       "  </thead>\n",
       "  <tbody>\n",
       "    <tr>\n",
       "      <th rowspan=\"5\" valign=\"top\">Annual Output (MWh)</th>\n",
       "      <th>2016</th>\n",
       "      <td>5014662.678</td>\n",
       "      <td>42.712</td>\n",
       "      <td>23.040</td>\n",
       "      <td>4591242.682</td>\n",
       "      <td>3270868.966</td>\n",
       "      <td>2832039.082</td>\n",
       "      <td>2138424.280</td>\n",
       "      <td>2088242.122</td>\n",
       "      <td>27.692</td>\n",
       "    </tr>\n",
       "    <tr>\n",
       "      <th>2017</th>\n",
       "      <td>4036655.434</td>\n",
       "      <td>135.212</td>\n",
       "      <td>81.496</td>\n",
       "      <td>4165307.984</td>\n",
       "      <td>4754720.160</td>\n",
       "      <td>2515965.612</td>\n",
       "      <td>3020489.480</td>\n",
       "      <td>1814090.702</td>\n",
       "      <td>134.016</td>\n",
       "    </tr>\n",
       "    <tr>\n",
       "      <th>2018</th>\n",
       "      <td>5272782.114</td>\n",
       "      <td>194.752</td>\n",
       "      <td>200.656</td>\n",
       "      <td>3775143.036</td>\n",
       "      <td>3765275.156</td>\n",
       "      <td>1827026.434</td>\n",
       "      <td>1671123.542</td>\n",
       "      <td>1979873.838</td>\n",
       "      <td>123.504</td>\n",
       "    </tr>\n",
       "    <tr>\n",
       "      <th>2019</th>\n",
       "      <td>4759282.278</td>\n",
       "      <td>178.772</td>\n",
       "      <td>139.348</td>\n",
       "      <td>2833499.662</td>\n",
       "      <td>3585051.598</td>\n",
       "      <td>2607930.560</td>\n",
       "      <td>416402.330</td>\n",
       "      <td>297244.178</td>\n",
       "      <td>44.040</td>\n",
       "    </tr>\n",
       "    <tr>\n",
       "      <th>2020</th>\n",
       "      <td>5016991.292</td>\n",
       "      <td>218.848</td>\n",
       "      <td>242.960</td>\n",
       "      <td>3925674.326</td>\n",
       "      <td>2675650.946</td>\n",
       "      <td>2844261.942</td>\n",
       "      <td>838405.282</td>\n",
       "      <td>839832.468</td>\n",
       "      <td>59.720</td>\n",
       "    </tr>\n",
       "  </tbody>\n",
       "</table>\n",
       "</div>"
      ],
      "text/plain": [
       "id                            DRAXX-1  DRAXX-10G  DRAXX-12G      DRAXX-2  \\\n",
       "Attribute           Year                                                   \n",
       "Annual Output (MWh) 2016  5014662.678     42.712     23.040  4591242.682   \n",
       "                    2017  4036655.434    135.212     81.496  4165307.984   \n",
       "                    2018  5272782.114    194.752    200.656  3775143.036   \n",
       "                    2019  4759282.278    178.772    139.348  2833499.662   \n",
       "                    2020  5016991.292    218.848    242.960  3925674.326   \n",
       "\n",
       "id                            DRAXX-3      DRAXX-4      DRAXX-5      DRAXX-6  \\\n",
       "Attribute           Year                                                       \n",
       "Annual Output (MWh) 2016  3270868.966  2832039.082  2138424.280  2088242.122   \n",
       "                    2017  4754720.160  2515965.612  3020489.480  1814090.702   \n",
       "                    2018  3765275.156  1827026.434  1671123.542  1979873.838   \n",
       "                    2019  3585051.598  2607930.560   416402.330   297244.178   \n",
       "                    2020  2675650.946  2844261.942   838405.282   839832.468   \n",
       "\n",
       "id                        DRAXX-9G  \n",
       "Attribute           Year            \n",
       "Annual Output (MWh) 2016    27.692  \n",
       "                    2017   134.016  \n",
       "                    2018   123.504  \n",
       "                    2019    44.040  \n",
       "                    2020    59.720  "
      ]
     },
     "execution_count": 16,
     "metadata": {},
     "output_type": "execute_result"
    }
   ],
   "source": [
    "datapackage_url = 'https://raw.githubusercontent.com/OSUKED/Dictionary-Datasets/main/datasets/annual-output/datapackage.json'\n",
    "\n",
    "alt_indexes = datapackage_url_to_alt_indexes[datapackage_url]\n",
    "attributes = datapackage_url_to_attrs[datapackage_url]\n",
    "\n",
    "df_attrs, attr_ids = create_multi_index_attrs_df(attributes, alt_indexes)\n",
    "\n",
    "df_attrs"
   ]
  },
  {
   "cell_type": "code",
   "execution_count": null,
   "id": "f0e6c7b9-f97f-4ed6-98a2-5490a9262a34",
   "metadata": {
    "tags": []
   },
   "outputs": [],
   "source": []
  },
  {
   "cell_type": "code",
   "execution_count": 17,
   "id": "9151642f-729f-4a11-8309-e896c9352ded",
   "metadata": {},
   "outputs": [],
   "source": [
    "#exports\n",
    "def create_single_index_attrs_df(attributes):\n",
    "    df_attrs = pd.DataFrame(attributes)\n",
    "    attr_ids = list(df_attrs['id'].unique())\n",
    "    \n",
    "    if len(attr_ids) > 1:\n",
    "        df_attrs = df_attrs.pivot('attribute', 'id', 'value')\n",
    "    else:\n",
    "        df_attrs = df_attrs.set_index('attribute').drop(columns='id')\n",
    "        df_attrs = df_attrs.rename(columns={'value': 'Value'})\n",
    "        \n",
    "    return df_attrs, attr_ids"
   ]
  },
  {
   "cell_type": "code",
   "execution_count": 18,
   "id": "11fcf96a-ef35-426e-b6ba-463e683412d2",
   "metadata": {},
   "outputs": [
    {
     "data": {
      "text/html": [
       "<div>\n",
       "<style scoped>\n",
       "    .dataframe tbody tr th:only-of-type {\n",
       "        vertical-align: middle;\n",
       "    }\n",
       "\n",
       "    .dataframe tbody tr th {\n",
       "        vertical-align: top;\n",
       "    }\n",
       "\n",
       "    .dataframe thead th {\n",
       "        text-align: right;\n",
       "    }\n",
       "</style>\n",
       "<table border=\"1\" class=\"dataframe\">\n",
       "  <thead>\n",
       "    <tr style=\"text-align: right;\">\n",
       "      <th>id</th>\n",
       "      <th>GBR0000174</th>\n",
       "      <th>GBR1000112</th>\n",
       "    </tr>\n",
       "    <tr>\n",
       "      <th>attribute</th>\n",
       "      <th></th>\n",
       "      <th></th>\n",
       "    </tr>\n",
       "  </thead>\n",
       "  <tbody>\n",
       "    <tr>\n",
       "      <th>Estimated Annual Generation in 2017</th>\n",
       "      <td>3007.6</td>\n",
       "      <td>348.0</td>\n",
       "    </tr>\n",
       "    <tr>\n",
       "      <th>Geolocation Source</th>\n",
       "      <td>UK Renewable Energy Planning Database</td>\n",
       "      <td>CARMA</td>\n",
       "    </tr>\n",
       "    <tr>\n",
       "      <th>Installed Capacity (MW)</th>\n",
       "      <td>1980.0</td>\n",
       "      <td>75.0</td>\n",
       "    </tr>\n",
       "    <tr>\n",
       "      <th>Latitude</th>\n",
       "      <td>53.7356</td>\n",
       "      <td>53.7364</td>\n",
       "    </tr>\n",
       "    <tr>\n",
       "      <th>Longitude</th>\n",
       "      <td>-0.9911</td>\n",
       "      <td>-0.9981</td>\n",
       "    </tr>\n",
       "    <tr>\n",
       "      <th>Owner</th>\n",
       "      <td>Drax Power</td>\n",
       "      <td>Drax Power Ltd</td>\n",
       "    </tr>\n",
       "    <tr>\n",
       "      <th>PLATTS-WEPP ID</th>\n",
       "      <td>1023594.0</td>\n",
       "      <td>NaN</td>\n",
       "    </tr>\n",
       "    <tr>\n",
       "      <th>Primary Fuel Type</th>\n",
       "      <td>Coal</td>\n",
       "      <td>Gas</td>\n",
       "    </tr>\n",
       "    <tr>\n",
       "      <th>Secondary Fuel Type</th>\n",
       "      <td>Biomass</td>\n",
       "      <td>NaN</td>\n",
       "    </tr>\n",
       "    <tr>\n",
       "      <th>Source</th>\n",
       "      <td>UK Renewable Energy Planning Database</td>\n",
       "      <td>Department for Business Energy &amp; Industrial St...</td>\n",
       "    </tr>\n",
       "    <tr>\n",
       "      <th>URL</th>\n",
       "      <td>https://www.gov.uk/government/collections/rene...</td>\n",
       "      <td>https://www.gov.uk/government/collections/dige...</td>\n",
       "    </tr>\n",
       "  </tbody>\n",
       "</table>\n",
       "</div>"
      ],
      "text/plain": [
       "id                                                                          GBR0000174  \\\n",
       "attribute                                                                                \n",
       "Estimated Annual Generation in 2017                                             3007.6   \n",
       "Geolocation Source                               UK Renewable Energy Planning Database   \n",
       "Installed Capacity (MW)                                                         1980.0   \n",
       "Latitude                                                                       53.7356   \n",
       "Longitude                                                                      -0.9911   \n",
       "Owner                                                                       Drax Power   \n",
       "PLATTS-WEPP ID                                                               1023594.0   \n",
       "Primary Fuel Type                                                                 Coal   \n",
       "Secondary Fuel Type                                                            Biomass   \n",
       "Source                                           UK Renewable Energy Planning Database   \n",
       "URL                                  https://www.gov.uk/government/collections/rene...   \n",
       "\n",
       "id                                                                          GBR1000112  \n",
       "attribute                                                                               \n",
       "Estimated Annual Generation in 2017                                              348.0  \n",
       "Geolocation Source                                                               CARMA  \n",
       "Installed Capacity (MW)                                                           75.0  \n",
       "Latitude                                                                       53.7364  \n",
       "Longitude                                                                      -0.9981  \n",
       "Owner                                                                   Drax Power Ltd  \n",
       "PLATTS-WEPP ID                                                                     NaN  \n",
       "Primary Fuel Type                                                                  Gas  \n",
       "Secondary Fuel Type                                                                NaN  \n",
       "Source                               Department for Business Energy & Industrial St...  \n",
       "URL                                  https://www.gov.uk/government/collections/dige...  "
      ]
     },
     "execution_count": 18,
     "metadata": {},
     "output_type": "execute_result"
    }
   ],
   "source": [
    "datapackage_url = 'https://raw.githubusercontent.com/OSUKED/Dictionary-Datasets/main/datasets/global-power-plant-database/datapackage.json'\n",
    "\n",
    "alt_indexes = datapackage_url_to_alt_indexes[datapackage_url]\n",
    "attributes = datapackage_url_to_attrs[datapackage_url]\n",
    "\n",
    "df_attrs, attr_ids = create_single_index_attrs_df(attributes)\n",
    "\n",
    "df_attrs"
   ]
  },
  {
   "cell_type": "code",
   "execution_count": null,
   "id": "a15d3b6b-42b6-47e8-b019-d3aa1b050276",
   "metadata": {},
   "outputs": [],
   "source": []
  },
  {
   "cell_type": "code",
   "execution_count": 19,
   "id": "ac52ec30-7603-4d08-81c2-55ff8ec4c532",
   "metadata": {},
   "outputs": [],
   "source": [
    "#exports\n",
    "from frictionless.types.array import type_to_class\n",
    "from frictionless.field import Field\n",
    "\n",
    "construct_attr_to_field_schema = lambda single_site_data: {attr['attribute']: attr['field_schema'] for attr in single_site_data['attributes']}\n",
    "\n",
    "def idx_to_attr_name(idx):\n",
    "    if isinstance(idx, tuple):\n",
    "        attr = idx[0]\n",
    "    else:\n",
    "        attr = idx\n",
    "        \n",
    "    return attr\n",
    "\n",
    "def get_field_class(attr, attr_to_field_schema):\n",
    "    assert attr in attr_to_field_schema.keys(), f'`{attr}` was not one of the keys provided: {\", \".join(attr_to_field_schema.keys())}'\n",
    "    field_schema = Field(attr_to_field_schema[attr])\n",
    "    field_type = field_schema['type']\n",
    "    field_class = type_to_class[field_type](field_schema)\n",
    "    \n",
    "    return field_class\n",
    "\n",
    "def format_attribute_value_types(df_attributes, attr_to_field_schema):\n",
    "    for idx, row in df_attributes.iterrows():\n",
    "        attr = idx_to_attr_name(idx)\n",
    "        \n",
    "        if attr in attr_to_field_schema.keys():\n",
    "            field_class = get_field_class(attr, attr_to_field_schema)\n",
    "\n",
    "            for id_, value in row.items():\n",
    "                df_attributes.loc[idx, id_] = field_class.read_cell(value)\n",
    "\n",
    "    return df_attributes"
   ]
  },
  {
   "cell_type": "code",
   "execution_count": 20,
   "id": "3a20de94-c0de-47bf-9f92-523bc48cae1f",
   "metadata": {},
   "outputs": [
    {
     "data": {
      "text/html": [
       "<div>\n",
       "<style scoped>\n",
       "    .dataframe tbody tr th:only-of-type {\n",
       "        vertical-align: middle;\n",
       "    }\n",
       "\n",
       "    .dataframe tbody tr th {\n",
       "        vertical-align: top;\n",
       "    }\n",
       "\n",
       "    .dataframe thead th {\n",
       "        text-align: right;\n",
       "    }\n",
       "</style>\n",
       "<table border=\"1\" class=\"dataframe\">\n",
       "  <thead>\n",
       "    <tr style=\"text-align: right;\">\n",
       "      <th>id</th>\n",
       "      <th>GBR0000174</th>\n",
       "      <th>GBR1000112</th>\n",
       "    </tr>\n",
       "    <tr>\n",
       "      <th>attribute</th>\n",
       "      <th></th>\n",
       "      <th></th>\n",
       "    </tr>\n",
       "  </thead>\n",
       "  <tbody>\n",
       "    <tr>\n",
       "      <th>Estimated Annual Generation in 2017</th>\n",
       "      <td>3007.6</td>\n",
       "      <td>348.0</td>\n",
       "    </tr>\n",
       "    <tr>\n",
       "      <th>Geolocation Source</th>\n",
       "      <td>UK Renewable Energy Planning Database</td>\n",
       "      <td>CARMA</td>\n",
       "    </tr>\n",
       "    <tr>\n",
       "      <th>Installed Capacity (MW)</th>\n",
       "      <td>1980.0</td>\n",
       "      <td>75.0</td>\n",
       "    </tr>\n",
       "    <tr>\n",
       "      <th>Latitude</th>\n",
       "      <td>53.7356</td>\n",
       "      <td>53.7364</td>\n",
       "    </tr>\n",
       "    <tr>\n",
       "      <th>Longitude</th>\n",
       "      <td>-0.9911</td>\n",
       "      <td>-0.9981</td>\n",
       "    </tr>\n",
       "    <tr>\n",
       "      <th>Owner</th>\n",
       "      <td>Drax Power</td>\n",
       "      <td>Drax Power Ltd</td>\n",
       "    </tr>\n",
       "    <tr>\n",
       "      <th>PLATTS-WEPP ID</th>\n",
       "      <td>1023594.0</td>\n",
       "      <td>NaN</td>\n",
       "    </tr>\n",
       "    <tr>\n",
       "      <th>Primary Fuel Type</th>\n",
       "      <td>Coal</td>\n",
       "      <td>Gas</td>\n",
       "    </tr>\n",
       "    <tr>\n",
       "      <th>Secondary Fuel Type</th>\n",
       "      <td>Biomass</td>\n",
       "      <td>None</td>\n",
       "    </tr>\n",
       "    <tr>\n",
       "      <th>Source</th>\n",
       "      <td>UK Renewable Energy Planning Database</td>\n",
       "      <td>Department for Business Energy &amp; Industrial St...</td>\n",
       "    </tr>\n",
       "    <tr>\n",
       "      <th>URL</th>\n",
       "      <td>https://www.gov.uk/government/collections/rene...</td>\n",
       "      <td>https://www.gov.uk/government/collections/dige...</td>\n",
       "    </tr>\n",
       "  </tbody>\n",
       "</table>\n",
       "</div>"
      ],
      "text/plain": [
       "id                                                                          GBR0000174  \\\n",
       "attribute                                                                                \n",
       "Estimated Annual Generation in 2017                                             3007.6   \n",
       "Geolocation Source                               UK Renewable Energy Planning Database   \n",
       "Installed Capacity (MW)                                                         1980.0   \n",
       "Latitude                                                                       53.7356   \n",
       "Longitude                                                                      -0.9911   \n",
       "Owner                                                                       Drax Power   \n",
       "PLATTS-WEPP ID                                                               1023594.0   \n",
       "Primary Fuel Type                                                                 Coal   \n",
       "Secondary Fuel Type                                                            Biomass   \n",
       "Source                                           UK Renewable Energy Planning Database   \n",
       "URL                                  https://www.gov.uk/government/collections/rene...   \n",
       "\n",
       "id                                                                          GBR1000112  \n",
       "attribute                                                                               \n",
       "Estimated Annual Generation in 2017                                              348.0  \n",
       "Geolocation Source                                                               CARMA  \n",
       "Installed Capacity (MW)                                                           75.0  \n",
       "Latitude                                                                       53.7364  \n",
       "Longitude                                                                      -0.9981  \n",
       "Owner                                                                   Drax Power Ltd  \n",
       "PLATTS-WEPP ID                                                                     NaN  \n",
       "Primary Fuel Type                                                                  Gas  \n",
       "Secondary Fuel Type                                                               None  \n",
       "Source                               Department for Business Energy & Industrial St...  \n",
       "URL                                  https://www.gov.uk/government/collections/dige...  "
      ]
     },
     "execution_count": 20,
     "metadata": {},
     "output_type": "execute_result"
    }
   ],
   "source": [
    "attr_to_field_schema = construct_attr_to_field_schema(single_site_data)\n",
    "\n",
    "df_attrs = df_attrs.pipe(format_attribute_value_types, attr_to_field_schema)\n",
    "\n",
    "df_attrs"
   ]
  },
  {
   "cell_type": "code",
   "execution_count": null,
   "id": "2dadd3d1-6f3b-4539-a30a-b077dbe9fb74",
   "metadata": {},
   "outputs": [],
   "source": []
  },
  {
   "cell_type": "code",
   "execution_count": 21,
   "id": "6bb05fba-8cef-4ae5-b153-0aca55e3d106",
   "metadata": {},
   "outputs": [],
   "source": [
    "#exports\n",
    "extract_datapackage_url_to_dict_id_type = lambda single_site_data: {k: v['related_resources'][0]['dictionary_pk_field'] for k, v in single_site_data['datasets'].items()}\n",
    "\n",
    "def extract_datapackage_url_to_ids(single_site_data):\n",
    "    assert 'attributes' in single_site_data.keys(), '`single_site_data` must contain an attributes key'\n",
    "    datapackage_url_to_ids = {}\n",
    "\n",
    "    for attr in single_site_data['attributes']:\n",
    "        datapackage_url = attr['source']\n",
    "\n",
    "        if datapackage_url not in datapackage_url_to_ids.keys():\n",
    "            datapackage_url_to_ids[datapackage_url] = []\n",
    "\n",
    "        datapackage_url_to_ids[datapackage_url] += [attr['id']]\n",
    "\n",
    "    return datapackage_url_to_ids\n",
    "\n",
    "def extract_combined_attrs_df(single_site_data, attr_to_field_schema):\n",
    "    datapackage_url_to_alt_indexes = get_datapackage_url_to_alt_indexes(single_site_data)\n",
    "    datapackage_url_to_dict_id_type = extract_datapackage_url_to_dict_id_type(single_site_data)\n",
    "    \n",
    "    df_combined_attrs = pd.DataFrame()\n",
    "\n",
    "    for datapackage_url, attrs in get_datapackage_url_to_attributes(single_site_data).items():\n",
    "        alt_indexes = datapackage_url_to_alt_indexes[datapackage_url]\n",
    "\n",
    "        if len(alt_indexes) > 0:\n",
    "            df_attrs, attr_ids = create_multi_index_attrs_df(attrs, alt_indexes)\n",
    "        else:\n",
    "            df_attrs, attr_ids = create_single_index_attrs_df(attrs)\n",
    "\n",
    "        if (df_attrs.columns.size == 1) and (df_attrs.columns[0].lower()=='value'):\n",
    "            df_attrs.columns = ['value']\n",
    "            assert len(attr_ids) == 1, f'Expected to have only one ID, instead got: {\", \".join(attr_ids)}'\n",
    "            df_attrs.columns.name = 'id'\n",
    "            df_attrs = df_attrs.rename(columns={'value': attr_ids[0]}) \n",
    "\n",
    "        df_attrs = format_attribute_value_types(df_attrs, attr_to_field_schema)\n",
    "\n",
    "        df_stacked_attrs = df_attrs.stack().reset_index().rename(columns={0: 'value'})\n",
    "        df_stacked_attrs.columns = df_stacked_attrs.columns.str.lower()\n",
    "        df_stacked_attrs['datapackage'] = datapackage_url\n",
    "        df_stacked_attrs['id_type'] = datapackage_url_to_dict_id_type[datapackage_url]\n",
    "\n",
    "        df_combined_attrs = df_combined_attrs.append(df_stacked_attrs)\n",
    "\n",
    "    df_combined_attrs = df_combined_attrs.reset_index(drop=True)\n",
    "\n",
    "    return df_combined_attrs"
   ]
  },
  {
   "cell_type": "code",
   "execution_count": 22,
   "id": "61296c94-c28d-4cc8-acb6-d8e9b64b5a4b",
   "metadata": {
    "tags": []
   },
   "outputs": [
    {
     "data": {
      "text/html": [
       "<div>\n",
       "<style scoped>\n",
       "    .dataframe tbody tr th:only-of-type {\n",
       "        vertical-align: middle;\n",
       "    }\n",
       "\n",
       "    .dataframe tbody tr th {\n",
       "        vertical-align: top;\n",
       "    }\n",
       "\n",
       "    .dataframe thead th {\n",
       "        text-align: right;\n",
       "    }\n",
       "</style>\n",
       "<table border=\"1\" class=\"dataframe\">\n",
       "  <thead>\n",
       "    <tr style=\"text-align: right;\">\n",
       "      <th></th>\n",
       "      <th>attribute</th>\n",
       "      <th>id</th>\n",
       "      <th>value</th>\n",
       "      <th>datapackage</th>\n",
       "      <th>id_type</th>\n",
       "      <th>year</th>\n",
       "      <th>financial_year</th>\n",
       "    </tr>\n",
       "  </thead>\n",
       "  <tbody>\n",
       "    <tr>\n",
       "      <th>0</th>\n",
       "      <td>Fuel Type</td>\n",
       "      <td>DRAXX-1</td>\n",
       "      <td>BIOMASS</td>\n",
       "      <td>https://raw.githubusercontent.com/OSUKED/Dicti...</td>\n",
       "      <td>ngc_bmu_id</td>\n",
       "      <td>NaN</td>\n",
       "      <td>NaN</td>\n",
       "    </tr>\n",
       "    <tr>\n",
       "      <th>1</th>\n",
       "      <td>Fuel Type</td>\n",
       "      <td>DRAXX-10G</td>\n",
       "      <td>OCGT</td>\n",
       "      <td>https://raw.githubusercontent.com/OSUKED/Dicti...</td>\n",
       "      <td>ngc_bmu_id</td>\n",
       "      <td>NaN</td>\n",
       "      <td>NaN</td>\n",
       "    </tr>\n",
       "    <tr>\n",
       "      <th>2</th>\n",
       "      <td>Fuel Type</td>\n",
       "      <td>DRAXX-12G</td>\n",
       "      <td>OCGT</td>\n",
       "      <td>https://raw.githubusercontent.com/OSUKED/Dicti...</td>\n",
       "      <td>ngc_bmu_id</td>\n",
       "      <td>NaN</td>\n",
       "      <td>NaN</td>\n",
       "    </tr>\n",
       "    <tr>\n",
       "      <th>3</th>\n",
       "      <td>Fuel Type</td>\n",
       "      <td>DRAXX-2</td>\n",
       "      <td>BIOMASS</td>\n",
       "      <td>https://raw.githubusercontent.com/OSUKED/Dicti...</td>\n",
       "      <td>ngc_bmu_id</td>\n",
       "      <td>NaN</td>\n",
       "      <td>NaN</td>\n",
       "    </tr>\n",
       "    <tr>\n",
       "      <th>4</th>\n",
       "      <td>Fuel Type</td>\n",
       "      <td>DRAXX-3</td>\n",
       "      <td>BIOMASS</td>\n",
       "      <td>https://raw.githubusercontent.com/OSUKED/Dicti...</td>\n",
       "      <td>ngc_bmu_id</td>\n",
       "      <td>NaN</td>\n",
       "      <td>NaN</td>\n",
       "    </tr>\n",
       "  </tbody>\n",
       "</table>\n",
       "</div>"
      ],
      "text/plain": [
       "   attribute         id    value  \\\n",
       "0  Fuel Type    DRAXX-1  BIOMASS   \n",
       "1  Fuel Type  DRAXX-10G     OCGT   \n",
       "2  Fuel Type  DRAXX-12G     OCGT   \n",
       "3  Fuel Type    DRAXX-2  BIOMASS   \n",
       "4  Fuel Type    DRAXX-3  BIOMASS   \n",
       "\n",
       "                                         datapackage     id_type year  \\\n",
       "0  https://raw.githubusercontent.com/OSUKED/Dicti...  ngc_bmu_id  NaN   \n",
       "1  https://raw.githubusercontent.com/OSUKED/Dicti...  ngc_bmu_id  NaN   \n",
       "2  https://raw.githubusercontent.com/OSUKED/Dicti...  ngc_bmu_id  NaN   \n",
       "3  https://raw.githubusercontent.com/OSUKED/Dicti...  ngc_bmu_id  NaN   \n",
       "4  https://raw.githubusercontent.com/OSUKED/Dicti...  ngc_bmu_id  NaN   \n",
       "\n",
       "  financial_year  \n",
       "0            NaN  \n",
       "1            NaN  \n",
       "2            NaN  \n",
       "3            NaN  \n",
       "4            NaN  "
      ]
     },
     "execution_count": 22,
     "metadata": {},
     "output_type": "execute_result"
    }
   ],
   "source": [
    "df_combined_attrs = extract_combined_attrs_df(single_site_data, attr_to_field_schema)\n",
    "\n",
    "df_combined_attrs.head()"
   ]
  },
  {
   "cell_type": "code",
   "execution_count": null,
   "id": "51f79005-749c-4fab-9552-9603639e7867",
   "metadata": {},
   "outputs": [],
   "source": []
  },
  {
   "cell_type": "code",
   "execution_count": 23,
   "id": "155c6e6a-4176-4d86-8af9-a5e7264ab72d",
   "metadata": {},
   "outputs": [],
   "source": [
    "#exports\n",
    "def get_datapackage_url_to_attrs_md_str(single_site_data):\n",
    "    attr_to_field_schema = construct_attr_to_field_schema(single_site_data)\n",
    "    datapackage_url_to_alt_indexes = get_datapackage_url_to_alt_indexes(single_site_data)\n",
    "    datapackage_url_to_attrs = get_datapackage_url_to_attributes(single_site_data)\n",
    "    \n",
    "    datapackage_url_to_md_str = {}\n",
    "    \n",
    "    for datapackage_url, attributes in datapackage_url_to_attrs.items():\n",
    "        alt_indexes = datapackage_url_to_alt_indexes[datapackage_url]\n",
    "        \n",
    "        if len(alt_indexes) > 0:\n",
    "            df_attrs, attr_ids = create_multi_index_attrs_df(attributes, alt_indexes)\n",
    "        else:\n",
    "            df_attrs, attr_ids = create_single_index_attrs_df(attributes)\n",
    "            \n",
    "        df_attrs = format_attribute_value_types(df_attrs, attr_to_field_schema)\n",
    "        \n",
    "        datapackage_url_to_md_str[datapackage_url] = (\n",
    "            df_attrs\n",
    "            .reset_index()\n",
    "            .astype(str)\n",
    "            .to_markdown(index=False, floatfmt='.2f')\n",
    "        )\n",
    "        \n",
    "    return datapackage_url_to_md_str"
   ]
  },
  {
   "cell_type": "code",
   "execution_count": 24,
   "id": "c113f126-33f3-4d68-9e37-00025a60ade9",
   "metadata": {},
   "outputs": [
    {
     "data": {
      "application/json": {
       "https://raw.githubusercontent.com/OSUKED/Dictionary-Datasets/main/datasets/annual-output/datapackage.json": "| Attribute           |   Year |    DRAXX-1 |   DRAXX-10G |   DRAXX-12G |    DRAXX-2 |    DRAXX-3 |    DRAXX-4 |    DRAXX-5 |    DRAXX-6 |   DRAXX-9G |\n|:--------------------|-------:|-----------:|------------:|------------:|-----------:|-----------:|-----------:|-----------:|-----------:|-----------:|\n| Annual Output (MWh) |   2016 | 5014662.68 |       42.71 |       23.04 | 4591242.68 | 3270868.97 | 2832039.08 | 2138424.28 | 2088242.12 |      27.69 |\n| Annual Output (MWh) |   2017 | 4036655.43 |      135.21 |       81.50 | 4165307.98 | 4754720.16 | 2515965.61 | 3020489.48 | 1814090.70 |     134.02 |\n| Annual Output (MWh) |   2018 | 5272782.11 |      194.75 |      200.66 | 3775143.04 | 3765275.16 | 1827026.43 | 1671123.54 | 1979873.84 |     123.50 |\n| Annual Output (MWh) |   2019 | 4759282.28 |      178.77 |      139.35 | 2833499.66 | 3585051.60 | 2607930.56 |  416402.33 |  297244.18 |      44.04 |\n| Annual Output (MWh) |   2020 | 5016991.29 |      218.85 |      242.96 | 3925674.33 | 2675650.95 | 2844261.94 |  838405.28 |  839832.47 |      59.72 |",
       "https://raw.githubusercontent.com/OSUKED/Dictionary-Datasets/main/datasets/bmu-fuel-types/datapackage.json": "| attribute   | DRAXX-1   | DRAXX-10G   | DRAXX-12G   | DRAXX-2   | DRAXX-3   | DRAXX-4   | DRAXX-5   | DRAXX-6   | DRAXX-9G   |\n|:------------|:----------|:------------|:------------|:----------|:----------|:----------|:----------|:----------|:-----------|\n| Fuel Type   | BIOMASS   | OCGT        | OCGT        | BIOMASS   | BIOMASS   | BIOMASS   | COAL      | COAL      | OCGT       |",
       "https://raw.githubusercontent.com/OSUKED/Dictionary-Datasets/main/datasets/capture-prices/datapackage.json": "| Attribute             |   Year |   DRAXX-1 |   DRAXX-10G |   DRAXX-12G |   DRAXX-2 |   DRAXX-3 |   DRAXX-4 |   DRAXX-5 |   DRAXX-6 |   DRAXX-9G |\n|:----------------------|-------:|----------:|------------:|------------:|----------:|----------:|----------:|----------:|----------:|-----------:|\n| Capture Price (£/MWh) |   2016 |     38.24 |       30.70 |       37.35 |     38.40 |     38.08 |     42.34 |     46.29 |     44.78 |      42.06 |\n| Capture Price (£/MWh) |   2017 |     44.73 |       41.33 |       38.36 |     45.73 |     45.25 |     49.83 |     48.69 |     51.00 |      40.24 |\n| Capture Price (£/MWh) |   2018 |     57.12 |      151.90 |      147.49 |     58.01 |     57.63 |     60.85 |     63.24 |     61.93 |     152.00 |\n| Capture Price (£/MWh) |   2019 |     41.90 |       70.81 |       62.47 |     43.84 |     42.11 |     42.06 |     55.16 |     58.25 |      65.30 |\n| Capture Price (£/MWh) |   2020 |     34.40 |      152.91 |      112.53 |     37.10 |     34.47 |     36.38 |     37.70 |     46.35 |      27.31 |",
       "https://raw.githubusercontent.com/OSUKED/Dictionary-Datasets/main/datasets/cfd-contract-portfolio-status/datapackage.json": "| attribute                               | Value                             |\n|:----------------------------------------|:----------------------------------|\n| Name of CfD Unit                        | Drax 3rd conversion unit (unit 1) |\n| Allocation Round                        | Investment Contract               |\n| Technology Type                         | Biomass Conversion                |\n| Transmission or Distribution Connection | Transmission                      |\n| Status                                  | Post-Start Date                   |\n| Estimated Start Date                    | None                              |\n| Maximum Contract Capacity (MW)          | 645.0                             |",
       "https://raw.githubusercontent.com/OSUKED/Dictionary-Datasets/main/datasets/cfd-strike-prices/datapackage.json": "| Attribute              |   Financial_year |   value |\n|:-----------------------|-----------------:|--------:|\n| Strike Price (GBP/MWh) |             2016 |  105.88 |\n| Strike Price (GBP/MWh) |             2017 |  108.02 |\n| Strike Price (GBP/MWh) |             2018 |  111.29 |\n| Strike Price (GBP/MWh) |             2019 |  113.65 |\n| Strike Price (GBP/MWh) |             2020 |  116.49 |\n| Strike Price (GBP/MWh) |             2021 |  118.54 |",
       "https://raw.githubusercontent.com/OSUKED/Dictionary-Datasets/main/datasets/global-power-plant-database/datapackage.json": "| attribute                           | GBR0000174                                                               | GBR1000112                                                                     |\n|:------------------------------------|:-------------------------------------------------------------------------|:-------------------------------------------------------------------------------|\n| Estimated Annual Generation in 2017 | 3007.6                                                                   | 348.0                                                                          |\n| Geolocation Source                  | UK Renewable Energy Planning Database                                    | CARMA                                                                          |\n| Installed Capacity (MW)             | 1980.0                                                                   | 75.0                                                                           |\n| Latitude                            | 53.7356                                                                  | 53.7364                                                                        |\n| Longitude                           | -0.9911                                                                  | -0.9981                                                                        |\n| Owner                               | Drax Power                                                               | Drax Power Ltd                                                                 |\n| PLATTS-WEPP ID                      | 1023594.0                                                                | NaN                                                                            |\n| Primary Fuel Type                   | Coal                                                                     | Gas                                                                            |\n| Secondary Fuel Type                 | Biomass                                                                  | None                                                                           |\n| Source                              | UK Renewable Energy Planning Database                                    | Department for Business Energy & Industrial Strategy                           |\n| URL                                 | https://www.gov.uk/government/collections/renewable-energy-planning-data | https://www.gov.uk/government/collections/digest-of-uk-energy-statistics-dukes |",
       "https://raw.githubusercontent.com/OSUKED/Dictionary-Datasets/main/datasets/plant-locations/datapackage.json": "| attribute   |   Value |\n|:------------|--------:|\n| Longitude   |   -0.63 |\n| Latitude    |   53.75 |",
       "https://raw.githubusercontent.com/OSUKED/Dictionary-Datasets/main/datasets/verified-emissions/datapackage.json": "| Attribute              |   Year |       value |\n|:-----------------------|-------:|------------:|\n| CO2 Emissions (Tonnes) |   2005 | 20771624.00 |\n| CO2 Emissions (Tonnes) |   2006 | 22764847.00 |\n| CO2 Emissions (Tonnes) |   2007 | 22160413.00 |\n| CO2 Emissions (Tonnes) |   2008 | 22299778.00 |\n| CO2 Emissions (Tonnes) |   2009 | 19851702.00 |\n| CO2 Emissions (Tonnes) |   2010 | 22392487.00 |\n| CO2 Emissions (Tonnes) |   2011 | 21465607.00 |\n| CO2 Emissions (Tonnes) |   2012 | 22694684.00 |\n| CO2 Emissions (Tonnes) |   2013 | 20317580.00 |\n| CO2 Emissions (Tonnes) |   2014 | 16581565.00 |\n| CO2 Emissions (Tonnes) |   2015 | 13173987.00 |\n| CO2 Emissions (Tonnes) |   2016 |  6171178.00 |\n| CO2 Emissions (Tonnes) |   2017 |  6215220.00 |\n| CO2 Emissions (Tonnes) |   2018 |  4138782.00 |\n| CO2 Emissions (Tonnes) |   2019 |   725751.00 |\n| CO2 Emissions (Tonnes) |   2020 |  1527003.00 |"
      },
      "text/plain": [
       "<IPython.core.display.JSON object>"
      ]
     },
     "execution_count": 24,
     "metadata": {
      "application/json": {
       "expanded": false,
       "root": "root"
      }
     },
     "output_type": "execute_result"
    }
   ],
   "source": [
    "datapackage_url_to_md_str = get_datapackage_url_to_attrs_md_str(single_site_data)\n",
    "\n",
    "JSON(datapackage_url_to_md_str)"
   ]
  },
  {
   "cell_type": "code",
   "execution_count": null,
   "id": "7deedad1-f272-432d-ab47-50c671dd4fac",
   "metadata": {},
   "outputs": [],
   "source": []
  },
  {
   "cell_type": "code",
   "execution_count": 25,
   "id": "10c0a8ce-d1e2-4bd2-8fa3-c81d50590476",
   "metadata": {},
   "outputs": [],
   "source": [
    "#exports\n",
    "clean_dp_name = lambda dp_name: dp_name.replace('-', ' ').title()\n",
    "\n",
    "def construct_dataset_md_str(dataset_metadata, dataset_attributes, dataset_page_url):\n",
    "    title = clean_dp_name(dataset_metadata['datapackage_name'])\n",
    "    dictionary_column_match = dataset_metadata['related_resources'][0]['dictionary_pk_field']\n",
    "    dataset_column_match = dataset_metadata['related_resources'][0]['external_fk_field']\n",
    "    \n",
    "    \n",
    "    if 'datapackage_description' in dataset_metadata.keys():\n",
    "        description = dataset_metadata['datapackage_description']\n",
    "    else:\n",
    "        description = ''\n",
    "\n",
    "    dataset_str = f\"\"\"##### <a href=\"{dataset_page_url}\">{title}</a>\n",
    "\n",
    "{description}\n",
    "\n",
    "The \\\"{dictionary_column_match}\\\" dictionary field was matched to the \\\"{dataset_column_match}\\\" field in this dataset.\n",
    "\n",
    "{dataset_attributes}\\n\"\"\"\n",
    "    \n",
    "    return dataset_str\n",
    "\n",
    "def single_site_data_to_datasets_md_str(single_site_data):\n",
    "    datapackage_url_to_attrs_md_str = get_datapackage_url_to_attrs_md_str(single_site_data)\n",
    "    dataset_url_to_md_str = {}\n",
    "\n",
    "    for dataset_metadata in single_site_data['datasets'].values():\n",
    "        dataset_url = dataset_metadata['datapackage_json_url']\n",
    "        dataset_page_url = f'https://osuked.github.io/Power-Station-Dictionary/datasets/{dataset_metadata[\"datapackage_name\"]}'\n",
    "        dataset_attributes = datapackage_url_to_attrs_md_str[dataset_url]\n",
    "        dataset_str = construct_dataset_md_str(dataset_metadata, dataset_attributes, dataset_page_url)\n",
    "\n",
    "        dataset_url_to_md_str[dataset_url] = dataset_str\n",
    "        \n",
    "    datasets_md_str = '### Linked Datasets\\n' + '\\n<br><br>\\n'.join(list(dataset_url_to_md_str.values()))\n",
    "    \n",
    "    return datasets_md_str"
   ]
  },
  {
   "cell_type": "code",
   "execution_count": 26,
   "id": "86644c71-22eb-4c2b-a1d8-f6658110771c",
   "metadata": {
    "tags": []
   },
   "outputs": [
    {
     "data": {
      "text/markdown": [
       "### Linked Datasets\n",
       "##### <a href=\"https://osuked.github.io/Power-Station-Dictionary/datasets/bmu-fuel-types\">Bmu Fuel Types</a>\n",
       "\n",
       "\n",
       "\n",
       "The \"ngc_bmu_id\" dictionary field was matched to the \"NGC_BMU_ID\" field in this dataset.\n",
       "\n",
       "| attribute   | DRAXX-1   | DRAXX-10G   | DRAXX-12G   | DRAXX-2   | DRAXX-3   | DRAXX-4   | DRAXX-5   | DRAXX-6   | DRAXX-9G   |\n",
       "|:------------|:----------|:------------|:------------|:----------|:----------|:----------|:----------|:----------|:-----------|\n",
       "| Fuel Type   | BIOMASS   | OCGT        | OCGT        | BIOMASS   | BIOMASS   | BIOMASS   | COAL      | COAL      | OCGT       |\n",
       "\n",
       "<br><br>\n",
       "##### <a href=\"https://osuked.github.io/Power-Station-Dictionary/datasets/plant-locations\">Plant Locations</a>\n",
       "\n",
       "\n",
       "\n",
       "The \"dictionary_id\" dictionary field was matched to the \"dictionary_id\" field in this dataset.\n",
       "\n",
       "| attribute   |   Value |\n",
       "|:------------|--------:|\n",
       "| Longitude   |   -0.63 |\n",
       "| Latitude    |   53.75 |\n",
       "\n",
       "<br><br>\n",
       "##### <a href=\"https://osuked.github.io/Power-Station-Dictionary/datasets/global-power-plant-database\">Global Power Plant Database</a>\n",
       "\n",
       "\n",
       "\n",
       "The \"gppd_idnr\" dictionary field was matched to the \"gppd_idnr\" field in this dataset.\n",
       "\n",
       "| attribute                           | GBR0000174                                                               | GBR1000112                                                                     |\n",
       "|:------------------------------------|:-------------------------------------------------------------------------|:-------------------------------------------------------------------------------|\n",
       "| Estimated Annual Generation in 2017 | 3007.6                                                                   | 348.0                                                                          |\n",
       "| Geolocation Source                  | UK Renewable Energy Planning Database                                    | CARMA                                                                          |\n",
       "| Installed Capacity (MW)             | 1980.0                                                                   | 75.0                                                                           |\n",
       "| Latitude                            | 53.7356                                                                  | 53.7364                                                                        |\n",
       "| Longitude                           | -0.9911                                                                  | -0.9981                                                                        |\n",
       "| Owner                               | Drax Power                                                               | Drax Power Ltd                                                                 |\n",
       "| PLATTS-WEPP ID                      | 1023594.0                                                                | NaN                                                                            |\n",
       "| Primary Fuel Type                   | Coal                                                                     | Gas                                                                            |\n",
       "| Secondary Fuel Type                 | Biomass                                                                  | None                                                                           |\n",
       "| Source                              | UK Renewable Energy Planning Database                                    | Department for Business Energy & Industrial Strategy                           |\n",
       "| URL                                 | https://www.gov.uk/government/collections/renewable-energy-planning-data | https://www.gov.uk/government/collections/digest-of-uk-energy-statistics-dukes |\n",
       "\n",
       "<br><br>\n",
       "##### <a href=\"https://osuked.github.io/Power-Station-Dictionary/datasets/verified-emissions\">Verified Emissions</a>\n",
       "\n",
       "\n",
       "\n",
       "The \"eutl_id\" dictionary field was matched to the \"account_id\" field in this dataset.\n",
       "\n",
       "| Attribute              |   Year |       value |\n",
       "|:-----------------------|-------:|------------:|\n",
       "| CO2 Emissions (Tonnes) |   2005 | 20771624.00 |\n",
       "| CO2 Emissions (Tonnes) |   2006 | 22764847.00 |\n",
       "| CO2 Emissions (Tonnes) |   2007 | 22160413.00 |\n",
       "| CO2 Emissions (Tonnes) |   2008 | 22299778.00 |\n",
       "| CO2 Emissions (Tonnes) |   2009 | 19851702.00 |\n",
       "| CO2 Emissions (Tonnes) |   2010 | 22392487.00 |\n",
       "| CO2 Emissions (Tonnes) |   2011 | 21465607.00 |\n",
       "| CO2 Emissions (Tonnes) |   2012 | 22694684.00 |\n",
       "| CO2 Emissions (Tonnes) |   2013 | 20317580.00 |\n",
       "| CO2 Emissions (Tonnes) |   2014 | 16581565.00 |\n",
       "| CO2 Emissions (Tonnes) |   2015 | 13173987.00 |\n",
       "| CO2 Emissions (Tonnes) |   2016 |  6171178.00 |\n",
       "| CO2 Emissions (Tonnes) |   2017 |  6215220.00 |\n",
       "| CO2 Emissions (Tonnes) |   2018 |  4138782.00 |\n",
       "| CO2 Emissions (Tonnes) |   2019 |   725751.00 |\n",
       "| CO2 Emissions (Tonnes) |   2020 |  1527003.00 |\n",
       "\n",
       "<br><br>\n",
       "##### <a href=\"https://osuked.github.io/Power-Station-Dictionary/datasets/annual-output\">Annual Output</a>\n",
       "\n",
       "\n",
       "\n",
       "The \"ngc_bmu_id\" dictionary field was matched to the \"ngc_bmu_id\" field in this dataset.\n",
       "\n",
       "| Attribute           |   Year |    DRAXX-1 |   DRAXX-10G |   DRAXX-12G |    DRAXX-2 |    DRAXX-3 |    DRAXX-4 |    DRAXX-5 |    DRAXX-6 |   DRAXX-9G |\n",
       "|:--------------------|-------:|-----------:|------------:|------------:|-----------:|-----------:|-----------:|-----------:|-----------:|-----------:|\n",
       "| Annual Output (MWh) |   2016 | 5014662.68 |       42.71 |       23.04 | 4591242.68 | 3270868.97 | 2832039.08 | 2138424.28 | 2088242.12 |      27.69 |\n",
       "| Annual Output (MWh) |   2017 | 4036655.43 |      135.21 |       81.50 | 4165307.98 | 4754720.16 | 2515965.61 | 3020489.48 | 1814090.70 |     134.02 |\n",
       "| Annual Output (MWh) |   2018 | 5272782.11 |      194.75 |      200.66 | 3775143.04 | 3765275.16 | 1827026.43 | 1671123.54 | 1979873.84 |     123.50 |\n",
       "| Annual Output (MWh) |   2019 | 4759282.28 |      178.77 |      139.35 | 2833499.66 | 3585051.60 | 2607930.56 |  416402.33 |  297244.18 |      44.04 |\n",
       "| Annual Output (MWh) |   2020 | 5016991.29 |      218.85 |      242.96 | 3925674.33 | 2675650.95 | 2844261.94 |  838405.28 |  839832.47 |      59.72 |\n",
       "\n",
       "<br><br>\n",
       "##### <a href=\"https://osuked.github.io/Power-Station-Dictionary/datasets/capture-prices\">Capture Prices</a>\n",
       "\n",
       "\n",
       "\n",
       "The \"ngc_bmu_id\" dictionary field was matched to the \"ngc_bmu_id\" field in this dataset.\n",
       "\n",
       "| Attribute             |   Year |   DRAXX-1 |   DRAXX-10G |   DRAXX-12G |   DRAXX-2 |   DRAXX-3 |   DRAXX-4 |   DRAXX-5 |   DRAXX-6 |   DRAXX-9G |\n",
       "|:----------------------|-------:|----------:|------------:|------------:|----------:|----------:|----------:|----------:|----------:|-----------:|\n",
       "| Capture Price (£/MWh) |   2016 |     38.24 |       30.70 |       37.35 |     38.40 |     38.08 |     42.34 |     46.29 |     44.78 |      42.06 |\n",
       "| Capture Price (£/MWh) |   2017 |     44.73 |       41.33 |       38.36 |     45.73 |     45.25 |     49.83 |     48.69 |     51.00 |      40.24 |\n",
       "| Capture Price (£/MWh) |   2018 |     57.12 |      151.90 |      147.49 |     58.01 |     57.63 |     60.85 |     63.24 |     61.93 |     152.00 |\n",
       "| Capture Price (£/MWh) |   2019 |     41.90 |       70.81 |       62.47 |     43.84 |     42.11 |     42.06 |     55.16 |     58.25 |      65.30 |\n",
       "| Capture Price (£/MWh) |   2020 |     34.40 |      152.91 |      112.53 |     37.10 |     34.47 |     36.38 |     37.70 |     46.35 |      27.31 |\n",
       "\n",
       "<br><br>\n",
       "##### <a href=\"https://osuked.github.io/Power-Station-Dictionary/datasets/cfd-contract-portfolio-status\">Cfd Contract Portfolio Status</a>\n",
       "\n",
       "\n",
       "\n",
       "The \"cfd_id\" dictionary field was matched to the \"CFD_ID\" field in this dataset.\n",
       "\n",
       "| attribute                               | Value                             |\n",
       "|:----------------------------------------|:----------------------------------|\n",
       "| Name of CfD Unit                        | Drax 3rd conversion unit (unit 1) |\n",
       "| Allocation Round                        | Investment Contract               |\n",
       "| Technology Type                         | Biomass Conversion                |\n",
       "| Transmission or Distribution Connection | Transmission                      |\n",
       "| Status                                  | Post-Start Date                   |\n",
       "| Estimated Start Date                    | None                              |\n",
       "| Maximum Contract Capacity (MW)          | 645.0                             |\n",
       "\n",
       "<br><br>\n",
       "##### <a href=\"https://osuked.github.io/Power-Station-Dictionary/datasets/cfd-strike-prices\">Cfd Strike Prices</a>\n",
       "\n",
       "\n",
       "\n",
       "The \"cfd_id\" dictionary field was matched to the \"cfd_id\" field in this dataset.\n",
       "\n",
       "| Attribute              |   Financial_year |   value |\n",
       "|:-----------------------|-----------------:|--------:|\n",
       "| Strike Price (GBP/MWh) |             2016 |  105.88 |\n",
       "| Strike Price (GBP/MWh) |             2017 |  108.02 |\n",
       "| Strike Price (GBP/MWh) |             2018 |  111.29 |\n",
       "| Strike Price (GBP/MWh) |             2019 |  113.65 |\n",
       "| Strike Price (GBP/MWh) |             2020 |  116.49 |\n",
       "| Strike Price (GBP/MWh) |             2021 |  118.54 |\n"
      ],
      "text/plain": [
       "<IPython.core.display.Markdown object>"
      ]
     },
     "execution_count": 26,
     "metadata": {},
     "output_type": "execute_result"
    }
   ],
   "source": [
    "datasets_md_str = single_site_data_to_datasets_md_str(single_site_data)\n",
    "\n",
    "Markdown(datasets_md_str)"
   ]
  },
  {
   "cell_type": "code",
   "execution_count": null,
   "id": "e8b214ae-c6a2-4557-ac63-08be4cdf94c2",
   "metadata": {},
   "outputs": [],
   "source": []
  },
  {
   "cell_type": "markdown",
   "id": "c0495990-11df-4f86-b104-d26a3e794951",
   "metadata": {},
   "source": [
    "<br>\n",
    "\n",
    "### Downloads Section"
   ]
  },
  {
   "cell_type": "code",
   "execution_count": 27,
   "id": "f16fd78e-cd16-4cf3-911b-a204ff8396a3",
   "metadata": {},
   "outputs": [],
   "source": [
    "#exports\n",
    "def construct_downloads_md_str(object_id):\n",
    "    file_md_table = pd.DataFrame([\n",
    "        {'File': 'Attributes', 'Filepath': f'[{object_id}.csv](https://osuked.github.io/Power-Station-Dictionary/object_attrs/{object_id}.csv)'}\n",
    "    ]).to_markdown(index=False)\n",
    "\n",
    "    downloads_str = f\"\"\"### Downloads\\n\n",
    "\n",
    "{file_md_table}\\n\"\"\"\n",
    "    \n",
    "    return downloads_str"
   ]
  },
  {
   "cell_type": "code",
   "execution_count": 28,
   "id": "177c67d0-d070-47d2-8c16-775280b71a07",
   "metadata": {},
   "outputs": [
    {
     "data": {
      "text/markdown": [
       "### Downloads\n",
       "\n",
       "\n",
       "| File       | Filepath                                                                              |\n",
       "|:-----------|:--------------------------------------------------------------------------------------|\n",
       "| Attributes | [10001.csv](https://osuked.github.io/Power-Station-Dictionary/object_attrs/10001.csv) |\n"
      ],
      "text/plain": [
       "<IPython.core.display.Markdown object>"
      ]
     },
     "execution_count": 28,
     "metadata": {},
     "output_type": "execute_result"
    }
   ],
   "source": [
    "object_id = 10001\n",
    "\n",
    "downloads_str = construct_downloads_md_str(object_id)\n",
    "\n",
    "Markdown(downloads_str)"
   ]
  },
  {
   "cell_type": "code",
   "execution_count": null,
   "id": "15be347a-f4c5-4b31-ab9f-9b88cec59502",
   "metadata": {},
   "outputs": [],
   "source": []
  },
  {
   "cell_type": "code",
   "execution_count": 35,
   "id": "8ddf5ae5-b6c0-4afa-a197-f26e88adda26",
   "metadata": {},
   "outputs": [],
   "source": [
    "#exports\n",
    "construct_contributors_str = (lambda object_id: f\"\"\"### Contribute\n",
    "\n",
    "We need your help! If you know of any data associated with this power plant which is currently missing then please add it using the relevant Google form which can be accessed with the buttons below.  If you are adding an ID from a linkage which is already known you need to only complete the *Add New Link* form, if the link type is not currently in the dictionary you will need to use the *Add New Link Type* form.\\n\\nThank You!\n",
    "\n",
    "[Add New Link](https://docs.google.com/forms/d/e/1FAIpQLSc5jRsQ7NgiLLXbwo9PUdwTQyuqbRwThltG56-o6NVSe7E_nw/viewform?usp=pp_url&entry.251912331={object_id}){{ .md-button }}\\n\n",
    "[Add New Link Type](https://docs.google.com/forms/d/e/1FAIpQLSdQfLmfOR0Vw4Z7gDQAIhBbqIifd1RuSFPKmDQpROhOqjo7ew/viewform?usp=pp_url&entry.2141539628={object_id}){{ .md-button }}\"\"\")"
   ]
  },
  {
   "cell_type": "code",
   "execution_count": 36,
   "id": "481a0b8c-f830-4467-8a7d-44277369599b",
   "metadata": {
    "tags": []
   },
   "outputs": [
    {
     "data": {
      "text/markdown": [
       "### Contribute\n",
       "\n",
       "We need your help! If you know of any data associated with this power plant which is currently missing then please add it using the relevant Google form which can be accessed with the buttons below.  If you are adding an ID from a linkage which is already known you need to only complete the *Add New Link* form, if the link type is not currently in the dictionary you will need to use the *Add New Link Type* form.\n",
       "\n",
       "Thank You!\n",
       "\n",
       "[Add New Link](https://docs.google.com/forms/d/e/1FAIpQLSc5jRsQ7NgiLLXbwo9PUdwTQyuqbRwThltG56-o6NVSe7E_nw/viewform?usp=pp_url&entry.251912331=10001){ .md-button }\n",
       "\n",
       "[Add New Link Type](https://docs.google.com/forms/d/e/1FAIpQLSdQfLmfOR0Vw4Z7gDQAIhBbqIifd1RuSFPKmDQpROhOqjo7ew/viewform?usp=pp_url&entry.2141539628=10001){ .md-button }"
      ],
      "text/plain": [
       "<IPython.core.display.Markdown object>"
      ]
     },
     "execution_count": 36,
     "metadata": {},
     "output_type": "execute_result"
    }
   ],
   "source": [
    "contributors_str = construct_contributors_str(object_id)\n",
    "\n",
    "Markdown(contributors_str)"
   ]
  },
  {
   "cell_type": "code",
   "execution_count": null,
   "id": "45f03692-782e-4cd1-a945-63146fd4c30d",
   "metadata": {},
   "outputs": [],
   "source": []
  },
  {
   "cell_type": "markdown",
   "id": "619d1e26-00f2-445e-9ea9-5e235b63f0da",
   "metadata": {},
   "source": [
    "<br>\n",
    "\n",
    "### Populating the Templates"
   ]
  },
  {
   "cell_type": "code",
   "execution_count": 39,
   "id": "8e687ba0-0164-4f64-bf20-9b544b53bba7",
   "metadata": {},
   "outputs": [],
   "source": [
    "#exports\n",
    "def extract_name_from_single_site_data(single_site_data):\n",
    "    potential_names = [v['name'] for k, v in single_site_data['id_hierarchies'].items() if'name' in v.keys()]\n",
    "\n",
    "    if len(potential_names) > 0:\n",
    "        name = potential_names[0]\n",
    "        return name\n",
    "    else:\n",
    "        return None\n",
    "\n",
    "def single_site_data_to_md_str(single_site_data, root_id, datapackage_json_fp):\n",
    "    site_ids_md_str = single_site_data_to_ids_md_str(single_site_data, root_id, datapackage_json_fp)\n",
    "    datasets_md_str = single_site_data_to_datasets_md_str(single_site_data)\n",
    "    downloads_md_str = construct_downloads_md_str(root_id)\n",
    "    contributors_str = construct_contributors_str(root_id)\n",
    "    \n",
    "    site_md_str = site_ids_md_str + '\\n\\n<br>\\n' + datasets_md_str + '\\n\\n<br>\\n' + downloads_md_str + '\\n\\n<br>\\n' + contributors_str\n",
    "    \n",
    "    return site_md_str\n",
    "\n",
    "def populate_and_save_template(template_fp, save_fp, render_kwargs):\n",
    "    rendered_str = Template(open(template_fp).read()).render(**render_kwargs)\n",
    "\n",
    "    with open(save_fp, 'w', encoding='utf-8') as f:\n",
    "        try:\n",
    "            f.write(rendered_str)\n",
    "        except e as exc:\n",
    "            raise exc\n",
    "            \n",
    "    return None\n",
    "\n",
    "def clean_object_ids_to_names(object_ids_to_names):\n",
    "    ## need to add a check that they're all unique    \n",
    "    object_names = sorted(object_ids_to_names.values())\n",
    "\n",
    "    alpha_names = [name for name in object_names if name[0].isalpha()]\n",
    "    numeric_names = [name for name in object_names if not name[0].isalpha()]\n",
    "\n",
    "    object_names = alpha_names + numeric_names\n",
    "    \n",
    "    object_names_to_ids = {v: k for k, v in object_ids_to_names.items()}\n",
    "    object_ids_to_names = {object_names_to_ids[v]: v for v in object_names}\n",
    "\n",
    "    return object_ids_to_names\n",
    "\n",
    "def get_object_ids_to_names(\n",
    "    site_data: dict,\n",
    "    datapackage_json_fp,\n",
    "    use_name_as_suffix: bool=False,\n",
    "    object_template_fp: str='templates/objects_page.md',\n",
    "    docs_fp: str='docs'\n",
    "):\n",
    "    object_ids_to_names = {}\n",
    "    df_all_sites_combined_attrs = pd.DataFrame()\n",
    "\n",
    "    for dictionary_id, single_site_data in tqdm(site_data.items()):\n",
    "        if 'attributes' in single_site_data.keys():\n",
    "            attr_to_field_schema = construct_attr_to_field_schema(single_site_data)\n",
    "            df_combined_attrs = extract_combined_attrs_df(single_site_data, attr_to_field_schema)\n",
    "            df_combined_attrs.to_csv(f'{docs_fp}/object_attrs/{dictionary_id}.csv', index=False)\n",
    "            \n",
    "            df_combined_attrs = df_combined_attrs.assign(dictionary_id=dictionary_id)\n",
    "            df_all_sites_combined_attrs = df_all_sites_combined_attrs.append(df_combined_attrs)\n",
    "            \n",
    "            name = extract_name_from_single_site_data(single_site_data)\n",
    "\n",
    "            if name is not None:\n",
    "                name = name.replace('/', '-').strip()\n",
    "            else:\n",
    "                name = dictionary_id\n",
    "\n",
    "            object_ids_to_names[dictionary_id] = name\n",
    "\n",
    "            if use_name_as_suffix == True: \n",
    "                save_fp = f'{docs_fp}/objects/{name}.md'\n",
    "            else:\n",
    "                save_fp = f'{docs_fp}/objects/{dictionary_id}.md'\n",
    "\n",
    "            render_kwargs = {'site_ids_md_string': single_site_data_to_md_str(single_site_data, dictionary_id, datapackage_json_fp)}\n",
    "            populate_and_save_template(object_template_fp, save_fp, render_kwargs)\n",
    "\n",
    "    object_ids_to_names = clean_object_ids_to_names(object_ids_to_names)\n",
    "    df_all_sites_combined_attrs.to_csv(f'{docs_fp}/object_attrs/dictionary_attributes.csv', index=False)\n",
    "\n",
    "    return object_ids_to_names"
   ]
  },
  {
   "cell_type": "code",
   "execution_count": 36,
   "id": "d0040eb2-8012-4565-ada8-c03a603a2d33",
   "metadata": {
    "tags": []
   },
   "outputs": [
    {
     "name": "stderr",
     "output_type": "stream",
     "text": [
      "100%|████████████████████████████████████████████████████████████████████████████████| 277/277 [01:05<00:00,  4.26it/s]\n"
     ]
    }
   ],
   "source": [
    "object_ids_to_names = get_object_ids_to_names(\n",
    "    site_data, \n",
    "    datapackage_json_fp,\n",
    "    object_template_fp='../templates/objects_page.md',\n",
    "    docs_fp='../docs'\n",
    ")"
   ]
  },
  {
   "cell_type": "code",
   "execution_count": null,
   "id": "9e892aaf-3015-494c-a0af-1702384c7576",
   "metadata": {},
   "outputs": [],
   "source": []
  },
  {
   "cell_type": "code",
   "execution_count": 44,
   "id": "1c528b11-3a43-43ef-a779-5baebc97c5c0",
   "metadata": {},
   "outputs": [],
   "source": [
    "#exports\n",
    "def construct_object_docs(\n",
    "    datapackage_fp,\n",
    "    site_data: str='data/intermediate/site_data.json',\n",
    "    mkdocs_template_fp: str='templates/mkdocs.yml',\n",
    "    object_template_fp: str='templates/objects_page.md',\n",
    "    save_fp: str='mkdocs.yml',\n",
    "    docs_fp: str='docs'\n",
    "):\n",
    "    if isinstance(site_data, str):\n",
    "        with open(site_data, 'r') as f:\n",
    "            site_data = json.load(f)\n",
    "\n",
    "    object_ids_to_names = get_object_ids_to_names(site_data, datapackage_fp, object_template_fp=object_template_fp, docs_fp=docs_fp)\n",
    "\n",
    "    render_kwargs = {'object_ids_to_names': object_ids_to_names}\n",
    "    populate_and_save_template(mkdocs_template_fp, save_fp, render_kwargs)"
   ]
  },
  {
   "cell_type": "code",
   "execution_count": 45,
   "id": "b26e1a5a-1a77-4d75-83bb-b3a319aabca2",
   "metadata": {},
   "outputs": [
    {
     "name": "stderr",
     "output_type": "stream",
     "text": [
      "100%|████████████████████████████████████████████████████████████████████████████████| 277/277 [00:52<00:00,  5.31it/s]\n"
     ]
    }
   ],
   "source": [
    "construct_object_docs(\n",
    "    datapackage_json_fp,\n",
    "    site_data='../data/intermediate/site_data.json',\n",
    "    mkdocs_template_fp='../templates/mkdocs.yml',\n",
    "    object_template_fp='../templates/objects_page.md',\n",
    "    save_fp='../mkdocs.yml',\n",
    "    docs_fp='../docs'\n",
    ")"
   ]
  },
  {
   "cell_type": "code",
   "execution_count": null,
   "id": "7635dd46-00be-42ec-8574-29c7eabbd8e8",
   "metadata": {},
   "outputs": [],
   "source": []
  },
  {
   "cell_type": "code",
   "execution_count": null,
   "id": "9f3cc65e-9dce-4432-9838-d682ee55d36e",
   "metadata": {},
   "outputs": [],
   "source": []
  },
  {
   "cell_type": "code",
   "execution_count": 37,
   "id": "c7d27ed6-a6d3-4cd3-a840-1011bfb89445",
   "metadata": {},
   "outputs": [
    {
     "name": "stdout",
     "output_type": "stream",
     "text": [
      "Converted 00-documentation.ipynb.\n",
      "Converted 01-dictionary-page.ipynb.\n",
      "Converted 02-attribute extraction.ipynb.\n",
      "Converted 03-page-population.ipynb.\n",
      "Converted 04-cli.ipynb.\n",
      "Converted 05-carbon-intensity.ipynb.\n",
      "Converted 06-cfd-capture-price-comparison.ipynb.\n",
      "Converted 07-dataset-pages.ipynb.\n",
      "Converted 08-papers.ipynb.\n",
      "Converted 09-id-submission.ipynb.\n"
     ]
    }
   ],
   "source": [
    "#hide\n",
    "from nbdev.export import *\n",
    "notebook2script()"
   ]
  },
  {
   "cell_type": "code",
   "execution_count": null,
   "id": "41b48dea-a744-4ff8-9f29-999e28c911ec",
   "metadata": {},
   "outputs": [],
   "source": []
  }
 ],
 "metadata": {
  "kernelspec": {
   "display_name": "PowerDict",
   "language": "python",
   "name": "powerdict"
  },
  "language_info": {
   "codemirror_mode": {
    "name": "ipython",
    "version": 3
   },
   "file_extension": ".py",
   "mimetype": "text/x-python",
   "name": "python",
   "nbconvert_exporter": "python",
   "pygments_lexer": "ipython3",
   "version": "3.9.6"
  }
 },
 "nbformat": 4,
 "nbformat_minor": 5
}
