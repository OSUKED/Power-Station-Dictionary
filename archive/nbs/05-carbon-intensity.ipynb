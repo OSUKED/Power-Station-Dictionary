{
 "cells": [
  {
   "cell_type": "markdown",
   "id": "a4335dc9-2e39-41fa-a8d3-a02af8c5ca80",
   "metadata": {},
   "source": [
    "# Carbon Intensity\n",
    "\n",
    "<br>\n",
    "\n",
    "### Imports"
   ]
  },
  {
   "cell_type": "code",
   "execution_count": 1,
   "id": "324bd3bc-8d8d-45d5-a7d0-bd23c8036f2c",
   "metadata": {},
   "outputs": [],
   "source": [
    "import numpy as np\n",
    "import pandas as pd\n",
    "\n",
    "import seaborn as sns\n",
    "import matplotlib.pyplot as plt"
   ]
  },
  {
   "cell_type": "markdown",
   "id": "006ff330-dcfb-4c06-ba9b-aa936568161e",
   "metadata": {},
   "source": [
    "<br>\n",
    "\n",
    "### Data Preparation\n",
    "\n",
    "We'll start by loading the dictionary’s attribute data. This data has been automatically extracted from other datasets which have been linked to assets in the dictionary."
   ]
  },
  {
   "cell_type": "code",
   "execution_count": 2,
   "id": "2c7793ba-f2bd-4b25-841a-ebdd7795a9dd",
   "metadata": {},
   "outputs": [
    {
     "data": {
      "text/html": [
       "<div>\n",
       "<style scoped>\n",
       "    .dataframe tbody tr th:only-of-type {\n",
       "        vertical-align: middle;\n",
       "    }\n",
       "\n",
       "    .dataframe tbody tr th {\n",
       "        vertical-align: top;\n",
       "    }\n",
       "\n",
       "    .dataframe thead th {\n",
       "        text-align: right;\n",
       "    }\n",
       "</style>\n",
       "<table border=\"1\" class=\"dataframe\">\n",
       "  <thead>\n",
       "    <tr style=\"text-align: right;\">\n",
       "      <th></th>\n",
       "      <th>attribute</th>\n",
       "      <th>id</th>\n",
       "      <th>value</th>\n",
       "      <th>datapackage</th>\n",
       "      <th>id_type</th>\n",
       "      <th>year</th>\n",
       "      <th>dictionary_id</th>\n",
       "      <th>financial_year</th>\n",
       "    </tr>\n",
       "  </thead>\n",
       "  <tbody>\n",
       "    <tr>\n",
       "      <th>0</th>\n",
       "      <td>Fuel Type</td>\n",
       "      <td>MARK-1</td>\n",
       "      <td>BIOMASS</td>\n",
       "      <td>https://raw.githubusercontent.com/OSUKED/Dicti...</td>\n",
       "      <td>ngc_bmu_id</td>\n",
       "      <td>NaN</td>\n",
       "      <td>10000</td>\n",
       "      <td>NaN</td>\n",
       "    </tr>\n",
       "    <tr>\n",
       "      <th>1</th>\n",
       "      <td>Longitude</td>\n",
       "      <td>10000</td>\n",
       "      <td>-3.603516</td>\n",
       "      <td>https://raw.githubusercontent.com/OSUKED/Dicti...</td>\n",
       "      <td>dictionary_id</td>\n",
       "      <td>NaN</td>\n",
       "      <td>10000</td>\n",
       "      <td>NaN</td>\n",
       "    </tr>\n",
       "    <tr>\n",
       "      <th>2</th>\n",
       "      <td>Latitude</td>\n",
       "      <td>10000</td>\n",
       "      <td>57.480403</td>\n",
       "      <td>https://raw.githubusercontent.com/OSUKED/Dicti...</td>\n",
       "      <td>dictionary_id</td>\n",
       "      <td>NaN</td>\n",
       "      <td>10000</td>\n",
       "      <td>NaN</td>\n",
       "    </tr>\n",
       "    <tr>\n",
       "      <th>3</th>\n",
       "      <td>Annual Output (MWh)</td>\n",
       "      <td>MARK-1</td>\n",
       "      <td>355704.933</td>\n",
       "      <td>https://raw.githubusercontent.com/OSUKED/Dicti...</td>\n",
       "      <td>ngc_bmu_id</td>\n",
       "      <td>2016.0</td>\n",
       "      <td>10000</td>\n",
       "      <td>NaN</td>\n",
       "    </tr>\n",
       "    <tr>\n",
       "      <th>4</th>\n",
       "      <td>Annual Output (MWh)</td>\n",
       "      <td>MARK-1</td>\n",
       "      <td>387311.364</td>\n",
       "      <td>https://raw.githubusercontent.com/OSUKED/Dicti...</td>\n",
       "      <td>ngc_bmu_id</td>\n",
       "      <td>2017.0</td>\n",
       "      <td>10000</td>\n",
       "      <td>NaN</td>\n",
       "    </tr>\n",
       "  </tbody>\n",
       "</table>\n",
       "</div>"
      ],
      "text/plain": [
       "             attribute      id       value  \\\n",
       "0            Fuel Type  MARK-1     BIOMASS   \n",
       "1            Longitude   10000   -3.603516   \n",
       "2             Latitude   10000   57.480403   \n",
       "3  Annual Output (MWh)  MARK-1  355704.933   \n",
       "4  Annual Output (MWh)  MARK-1  387311.364   \n",
       "\n",
       "                                         datapackage     id_type    year  \\\n",
       "0  https://raw.githubusercontent.com/OSUKED/Dicti...  ngc_bmu_id     NaN   \n",
       "1  https://raw.githubusercontent.com/OSUKED/Dicti...   dictionary_id     NaN   \n",
       "2  https://raw.githubusercontent.com/OSUKED/Dicti...   dictionary_id     NaN   \n",
       "3  https://raw.githubusercontent.com/OSUKED/Dicti...  ngc_bmu_id  2016.0   \n",
       "4  https://raw.githubusercontent.com/OSUKED/Dicti...  ngc_bmu_id  2017.0   \n",
       "\n",
       "   dictionary_id  financial_year  \n",
       "0          10000             NaN  \n",
       "1          10000             NaN  \n",
       "2          10000             NaN  \n",
       "3          10000             NaN  \n",
       "4          10000             NaN  "
      ]
     },
     "execution_count": 2,
     "metadata": {},
     "output_type": "execute_result"
    }
   ],
   "source": [
    "attributes_fp = 'https://osuked.github.io/Power-Station-Dictionary/object_attrs/dictionary_attributes.csv'\n",
    "\n",
    "df_attrs = pd.read_csv(attributes_fp)\n",
    "\n",
    "df_attrs.head()"
   ]
  },
  {
   "cell_type": "markdown",
   "id": "f724e823-2c75-4216-8d89-f547dfd56435",
   "metadata": {},
   "source": [
    "<br>\n",
    "\n",
    "We'll then extract the CO2 emissions data"
   ]
  },
  {
   "cell_type": "code",
   "execution_count": null,
   "id": "52c2ccd1-cad2-4ba8-953c-1d30e6214ced",
   "metadata": {},
   "outputs": [],
   "source": [
    "def hide_spines(ax, positions=[\"top\", \"right\"]):\n",
    "    \"\"\"\n",
    "    Pass a matplotlib axis and list of positions with spines to be removed\n",
    "    \n",
    "    args:\n",
    "        ax:          Matplotlib axis object\n",
    "        positions:   Python list e.g. ['top', 'bottom']\n",
    "    \"\"\"\n",
    "    assert isinstance(positions, list), \"Position must be passed as a list \"\n",
    "\n",
    "    for position in positions:\n",
    "        ax.spines[position].set_visible(False)"
   ]
  },
  {
   "cell_type": "code",
   "execution_count": 48,
   "id": "f15fd964-cb75-4b5a-8c12-bd38f3a2fc1d",
   "metadata": {},
   "outputs": [
    {
     "data": {
      "image/png": "[encoded data removed]",
      "text/plain": [
       "<Figure size 900x600 with 1 Axes>"
      ]
     },
     "metadata": {
      "needs_background": "light"
     },
     "output_type": "display_data"
    }
   ],
   "source": [
    "co2_attr = 'CO2 Emissions (Tonnes)'\n",
    "\n",
    "s_site_co2 = (\n",
    "    df_attrs\n",
    "    .query('attribute==@co2_attr')\n",
    "    [['dictionary_id', 'year', 'value']]\n",
    "    .dropna()\n",
    "    .astype({'dictionary_id': int, 'year': int, 'value': float})\n",
    "    .groupby(['dictionary_id', 'year'])\n",
    "    ['value']\n",
    "    .sum()\n",
    ")\n",
    "\n",
    "# Plotting\n",
    "fig, ax = plt.subplots(dpi=150)\n",
    "\n",
    "sns.histplot(s_site_co2, ax=ax)\n",
    "\n",
    "ax.set_xlabel(co2_attr)\n",
    "hide_spines(ax)"
   ]
  },
  {
   "cell_type": "markdown",
   "id": "74a0c548-5cd9-4b57-873e-556268f8c09b",
   "metadata": {},
   "source": [
    "<br>\n",
    "\n",
    "As well as the power output data"
   ]
  },
  {
   "cell_type": "code",
   "execution_count": 49,
   "id": "9811aac2-48cb-4216-bdbb-5aaea83f2345",
   "metadata": {},
   "outputs": [
    {
     "data": {
      "image/png": "[encoded data removed]",
      "text/plain": [
       "<Figure size 900x600 with 1 Axes>"
      ]
     },
     "metadata": {
      "needs_background": "light"
     },
     "output_type": "display_data"
    }
   ],
   "source": [
    "output_attr = 'Annual Output (MWh)'\n",
    "\n",
    "s_site_output = (\n",
    "    df_attrs\n",
    "    .query('attribute==@output_attr')\n",
    "    [['dictionary_id', 'year', 'value']]\n",
    "    .dropna()\n",
    "    .astype({'dictionary_id': int, 'year': int, 'value': float})\n",
    "    .groupby(['dictionary_id', 'year'])\n",
    "    ['value']\n",
    "    .sum()\n",
    ")\n",
    "\n",
    "# Plotting\n",
    "fig, ax = plt.subplots(dpi=150)\n",
    "\n",
    "sns.histplot(s_site_output, ax=ax)\n",
    "\n",
    "ax.set_xlabel(output_attr)\n",
    "hide_spines(ax)"
   ]
  },
  {
   "cell_type": "markdown",
   "id": "766505c1-1ec0-407e-92ed-6d35b474e99a",
   "metadata": {},
   "source": [
    "<br>\n",
    "\n",
    "And lastly the fuel types of each plant"
   ]
  },
  {
   "cell_type": "code",
   "execution_count": 5,
   "id": "07f297f3-9e80-4acd-a561-74037993167a",
   "metadata": {},
   "outputs": [
    {
     "data": {
      "text/plain": [
       "WIND                   112\n",
       "CCGT                    34\n",
       "NPSHYD                  13\n",
       "NUCLEAR                  7\n",
       "OCGT                     4\n",
       "PS                       4\n",
       "CCGT, OCGT               3\n",
       "BIOMASS                  3\n",
       "COAL, OCGT               1\n",
       "CCGT, COAL, OCGT         1\n",
       "Wind                     1\n",
       "BIOMASS, OCGT, COAL      1\n",
       "OTHER                    1\n",
       "Name: value, dtype: int64"
      ]
     },
     "execution_count": 5,
     "metadata": {},
     "output_type": "execute_result"
    }
   ],
   "source": [
    "fuel_attr = 'Fuel Type'\n",
    "\n",
    "s_site_fuel_type = (\n",
    "    df_attrs\n",
    "    .query('attribute==@fuel_attr')\n",
    "    [['dictionary_id', 'value']]\n",
    "    .dropna()\n",
    "    .astype({'dictionary_id': int, 'value': str})\n",
    "    .groupby('dictionary_id')\n",
    "    ['value']\n",
    "    .agg(lambda fuel_types: ', '.join(set(fuel_types)))\n",
    ")\n",
    "\n",
    "s_site_fuel_type.value_counts()"
   ]
  },
  {
   "cell_type": "markdown",
   "id": "2967d628-b949-4501-a98d-527f33830989",
   "metadata": {
    "tags": []
   },
   "source": [
    "<br>\n",
    "\n",
    "### Calculating Annual Carbon Intensities\n",
    "\n",
    "We'll quickly check the data coverage"
   ]
  },
  {
   "cell_type": "code",
   "execution_count": 6,
   "id": "6ee1f213-2d08-44f3-a586-be5196e1d288",
   "metadata": {},
   "outputs": [
    {
     "data": {
      "text/plain": [
       "(978, 825, 239)"
      ]
     },
     "execution_count": 6,
     "metadata": {},
     "output_type": "execute_result"
    }
   ],
   "source": [
    "sites_with_co2_data = s_site_co2.index\n",
    "sites_with_output_data = s_site_output.index\n",
    "\n",
    "sites_with_both_datasets = sites_with_co2_data.intersection(sites_with_output_data)\n",
    "\n",
    "sites_with_co2_data.size, sites_with_output_data.size, sites_with_both_datasets.size"
   ]
  },
  {
   "cell_type": "code",
   "execution_count": 7,
   "id": "3afe46da-35f7-4a26-bbde-e6f2758fdbf7",
   "metadata": {},
   "outputs": [
    {
     "data": {
      "text/plain": [
       "52"
      ]
     },
     "execution_count": 7,
     "metadata": {},
     "output_type": "execute_result"
    }
   ],
   "source": [
    "sites_with_both_datasets.get_level_values(0).unique().size"
   ]
  },
  {
   "cell_type": "markdown",
   "id": "f0fc41f3-f80a-4511-878a-eb1c56ec8ac1",
   "metadata": {},
   "source": [
    "<br>\n",
    "\n",
    "We're now ready to calculate the annual carbon intensities"
   ]
  },
  {
   "cell_type": "code",
   "execution_count": 18,
   "id": "fcd47f5c-1b4b-44d6-8ba7-deb1b15b7f60",
   "metadata": {},
   "outputs": [
    {
     "data": {
      "text/plain": [
       "dictionary_id  year\n",
       "10002          2016     856.556931\n",
       "               2017     849.483513\n",
       "               2018     933.703289\n",
       "               2019     918.491921\n",
       "               2020    3368.789243\n",
       "                          ...     \n",
       "10104          2016    1104.226297\n",
       "               2017    1110.856183\n",
       "               2018    1103.122391\n",
       "               2019    1125.497186\n",
       "               2020    1070.007876\n",
       "Name: value, Length: 239, dtype: float64"
      ]
     },
     "execution_count": 18,
     "metadata": {},
     "output_type": "execute_result"
    }
   ],
   "source": [
    "s_site_carbon_intensity = 1000 * s_site_co2.loc[sites_with_both_datasets]/s_site_output.loc[sites_with_both_datasets]\n",
    "\n",
    "s_site_carbon_intensity"
   ]
  },
  {
   "cell_type": "markdown",
   "id": "71b8b3d9-2cb2-43c7-b215-7fed69857f73",
   "metadata": {},
   "source": [
    "<br>\n",
    "\n",
    "We'll identify which sites we also have matched fuel type information for"
   ]
  },
  {
   "cell_type": "code",
   "execution_count": 29,
   "id": "2f2e339b-cd4e-488c-b123-f50f3a752419",
   "metadata": {},
   "outputs": [
    {
     "data": {
      "text/plain": [
       "47"
      ]
     },
     "execution_count": 29,
     "metadata": {},
     "output_type": "execute_result"
    }
   ],
   "source": [
    "s_site_fuel_type_mod = s_site_fuel_type.copy()\n",
    "\n",
    "s_site_fuel_type_mod[s_site_fuel_type.str.contains(', ')] = 'MIXED'\n",
    "s_site_fuel_type_mod = s_site_fuel_type_mod.replace('Wind', 'WIND')\n",
    "\n",
    "sites_with_relevant_fuel_types = s_site_fuel_type_mod[s_site_fuel_type_mod.isin(['CCGT', 'OCGT', 'BIOMASS', 'MIXED'])].index\n",
    "\n",
    "sites_with_relevant_fuel_types.size"
   ]
  },
  {
   "cell_type": "markdown",
   "id": "a8a63322-5373-4586-b51c-a3c91bb3b4f1",
   "metadata": {},
   "source": [
    "<br>\n",
    "\n",
    "We'll now filter for only thermal generation"
   ]
  },
  {
   "cell_type": "code",
   "execution_count": 59,
   "id": "83b75e42-3fec-477c-b430-b1a665e52497",
   "metadata": {},
   "outputs": [
    {
     "data": {
      "text/plain": [
       "dictionary_id  year\n",
       "10004          2016     309.556085\n",
       "               2017     306.054191\n",
       "               2018     226.265042\n",
       "               2019      50.052577\n",
       "               2020      94.602010\n",
       "                          ...     \n",
       "10104          2016    1104.226297\n",
       "               2017    1110.856183\n",
       "               2018    1103.122391\n",
       "               2019    1125.497186\n",
       "               2020    1070.007876\n",
       "Name: value, Length: 215, dtype: float64"
      ]
     },
     "execution_count": 59,
     "metadata": {},
     "output_type": "execute_result"
    }
   ],
   "source": [
    "s_site_focus_carbon_intensity = s_site_carbon_intensity.loc[s_site_carbon_intensity.index.get_level_values(0).isin(sites_with_relevant_fuel_types)]\n",
    "s_site_focus_fuel_types = pd.Series(s_site_focus_carbon_intensity.index.get_level_values(0).map(s_site_fuel_type_mod.to_dict()), index=s_site_focus_carbon_intensity.index)\n",
    "\n",
    "s_site_focus_carbon_intensity"
   ]
  },
  {
   "cell_type": "markdown",
   "id": "cb46aecf-2dbe-49be-b983-221dfab35183",
   "metadata": {},
   "source": [
    "<br>\n",
    "\n",
    "Finally we're ready to save the dataset"
   ]
  },
  {
   "cell_type": "code",
   "execution_count": 47,
   "id": "ac2ffba4-d7fb-4331-8377-a6f645a056de",
   "metadata": {},
   "outputs": [],
   "source": [
    "s_site_focus_carbon_intensity.name = 'carbon_intensity_gco2_per_kwh'\n",
    "s_site_focus_carbon_intensity = s_site_focus_carbon_intensity.replace(np.inf, np.nan).replace(-np.inf, np.nan).dropna()\n",
    "\n",
    "s_site_focus_carbon_intensity.to_csv('../data/attribute_sources/carbon-intensity/carbon_intensity.csv', float_format='%.2f')"
   ]
  },
  {
   "cell_type": "markdown",
   "id": "9eea1d3a-9c78-401a-b2f7-fffb53867a54",
   "metadata": {},
   "source": [
    "<br>\n",
    "\n",
    "### Visualisations\n",
    "\n",
    "Our first visualisation will be a scatter plot of carbon intensity against annual emissions"
   ]
  },
  {
   "cell_type": "code",
   "execution_count": 85,
   "id": "a6e6312a-90ae-4ba2-b605-d2e727b4391c",
   "metadata": {},
   "outputs": [
    {
     "data": {
      "text/plain": [
       "Text(0, 0.5, 'Annual Carbon Intensity (gCO2/kWh)')"
      ]
     },
     "execution_count": 85,
     "metadata": {},
     "output_type": "execute_result"
    },
    {
     "data": {
      "image/png": "[encoded data removed]",
      "text/plain": [
       "<Figure size 900x600 with 1 Axes>"
      ]
     },
     "metadata": {
      "needs_background": "light"
     },
     "output_type": "display_data"
    }
   ],
   "source": [
    "fuel_colour_map = {'BIOMASS': 'C1', 'MIXED': 'C0', 'CCGT': 'C2', 'OCGT': 'C3'}\n",
    "\n",
    "# Plotting\n",
    "fig, ax = plt.subplots(dpi=150)\n",
    "\n",
    "for fuel_type in s_site_focus_fuel_types.unique():\n",
    "    idxs = s_site_focus_fuel_types.index[s_site_focus_fuel_types==fuel_type]\n",
    "    ax.scatter(s_site_output.loc[idxs].divide(1e6), s_site_focus_carbon_intensity.loc[idxs], c=fuel_colour_map[fuel_type], label=fuel_type, s=5)\n",
    "\n",
    "hide_spines(ax)\n",
    "ax.set_ylim(0, 1200)\n",
    "ax.legend(frameon=False)\n",
    "ax.set_xlabel('Annual Output (TWh)')\n",
    "ax.set_ylabel('Annual Carbon Intensity (gCO2/kWh)')"
   ]
  },
  {
   "cell_type": "markdown",
   "id": "30ceed63-e33e-4572-9912-59511a824e83",
   "metadata": {},
   "source": [
    "<br>\n",
    "\n",
    "And then create a histogram for only the OCGT and CCGT plants "
   ]
  },
  {
   "cell_type": "code",
   "execution_count": 9,
   "id": "d555ee85-6ab0-48b3-a164-9e65594f418b",
   "metadata": {},
   "outputs": [
    {
     "data": {
      "text/plain": [
       "<matplotlib.legend.Legend at 0x1e04c6a7b20>"
      ]
     },
     "execution_count": 9,
     "metadata": {},
     "output_type": "execute_result"
    },
    {
     "data": {
      "image/png": "[encoded data removed]",
      "text/plain": [
       "<Figure size 900x600 with 1 Axes>"
      ]
     },
     "metadata": {
      "needs_background": "light"
     },
     "output_type": "display_data"
    }
   ],
   "source": [
    "ccgt_sites = s_site_fuel_type.index[s_site_fuel_type=='CCGT'].intersection(s_site_co2.index.get_level_values(0)).intersection(s_site_output.index.get_level_values(0))\n",
    "ocgt_sites = s_site_fuel_type.index[s_site_fuel_type=='OCGT'].intersection(s_site_co2.index.get_level_values(0)).intersection(s_site_output.index.get_level_values(0))\n",
    "\n",
    "s_ccgt_carbon_intensities = 1000*(s_site_co2.loc[ccgt_sites]/s_site_output.loc[ccgt_sites]).dropna()\n",
    "s_ccgt_carbon_intensities = s_ccgt_carbon_intensities.loc[(s_ccgt_carbon_intensities<1000)&(s_ccgt_carbon_intensities>200)]\n",
    "\n",
    "s_ocgt_carbon_intensities = 1000*(s_site_co2.loc[ocgt_sites]/s_site_output.loc[ocgt_sites]).dropna()\n",
    "s_ocgt_carbon_intensities = s_ocgt_carbon_intensities.loc[(s_ocgt_carbon_intensities<1200)&(s_ocgt_carbon_intensities>200)]\n",
    "\n",
    "# Plotting\n",
    "fig, ax = plt.subplots(dpi=150)\n",
    "\n",
    "sns.histplot(s_ccgt_carbon_intensities, ax=ax, label='CCGT')\n",
    "sns.histplot(s_ocgt_carbon_intensities, ax=ax, color='C1', label='OCGT')\n",
    "\n",
    "ax.set_xlabel('Annual Carbon Intensity (gCO2/kWh)')\n",
    "hide_spines(ax)\n",
    "ax.legend(frameon=False)"
   ]
  },
  {
   "cell_type": "code",
   "execution_count": null,
   "id": "ece1e80a-386c-47b7-9bac-bfeadcc9dec8",
   "metadata": {},
   "outputs": [],
   "source": []
  }
 ],
 "metadata": {
  "kernelspec": {
   "display_name": "PowerDict",
   "language": "python",
   "name": "powerdict"
  },
  "language_info": {
   "codemirror_mode": {
    "name": "ipython",
    "version": 3
   },
   "file_extension": ".py",
   "mimetype": "text/x-python",
   "name": "python",
   "nbconvert_exporter": "python",
   "pygments_lexer": "ipython3",
   "version": "3.9.6"
  }
 },
 "nbformat": 4,
 "nbformat_minor": 5
}
