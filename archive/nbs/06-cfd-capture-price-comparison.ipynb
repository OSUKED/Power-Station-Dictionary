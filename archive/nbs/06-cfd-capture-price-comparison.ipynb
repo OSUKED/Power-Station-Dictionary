{
 "cells": [
  {
   "cell_type": "code",
   "execution_count": null,
   "id": "50f67838-101e-4350-b9ce-030a842dab8c",
   "metadata": {},
   "outputs": [],
   "source": []
  },
  {
   "cell_type": "code",
   "execution_count": 1,
   "id": "6f8b9456-4e09-46c5-845f-10fcf231b239",
   "metadata": {},
   "outputs": [],
   "source": [
    "import pandas as pd\n",
    "\n",
    "import seaborn as sns\n",
    "import matplotlib.pyplot as plt"
   ]
  },
  {
   "cell_type": "code",
   "execution_count": null,
   "id": "4b253c5a-d3df-40e2-ab82-8f816b7d0f83",
   "metadata": {},
   "outputs": [],
   "source": []
  },
  {
   "cell_type": "code",
   "execution_count": 2,
   "id": "2ff58f5e-0f5b-4076-b017-93c469585d74",
   "metadata": {},
   "outputs": [
    {
     "data": {
      "text/html": [
       "<div>\n",
       "<style scoped>\n",
       "    .dataframe tbody tr th:only-of-type {\n",
       "        vertical-align: middle;\n",
       "    }\n",
       "\n",
       "    .dataframe tbody tr th {\n",
       "        vertical-align: top;\n",
       "    }\n",
       "\n",
       "    .dataframe thead th {\n",
       "        text-align: right;\n",
       "    }\n",
       "</style>\n",
       "<table border=\"1\" class=\"dataframe\">\n",
       "  <thead>\n",
       "    <tr style=\"text-align: right;\">\n",
       "      <th></th>\n",
       "      <th>gppd_idnr</th>\n",
       "      <th>esail_id</th>\n",
       "      <th>name</th>\n",
       "      <th>sett_bmu_id</th>\n",
       "      <th>ngc_bmu_id</th>\n",
       "      <th>4c_offshore_id</th>\n",
       "      <th>windpowernet_id</th>\n",
       "      <th>wikidata_id</th>\n",
       "      <th>wikipedia_id</th>\n",
       "      <th>power_technology_id</th>\n",
       "      <th>eutl_id</th>\n",
       "      <th>eic_id</th>\n",
       "      <th>cfd_id</th>\n",
       "      <th>jrc_id</th>\n",
       "      <th>iaea_id</th>\n",
       "      <th>old_repd_id</th>\n",
       "      <th>new_repd_id</th>\n",
       "    </tr>\n",
       "    <tr>\n",
       "      <th>dictionary_id</th>\n",
       "      <th></th>\n",
       "      <th></th>\n",
       "      <th></th>\n",
       "      <th></th>\n",
       "      <th></th>\n",
       "      <th></th>\n",
       "      <th></th>\n",
       "      <th></th>\n",
       "      <th></th>\n",
       "      <th></th>\n",
       "      <th></th>\n",
       "      <th></th>\n",
       "      <th></th>\n",
       "      <th></th>\n",
       "      <th></th>\n",
       "      <th></th>\n",
       "      <th></th>\n",
       "    </tr>\n",
       "  </thead>\n",
       "  <tbody>\n",
       "    <tr>\n",
       "      <th>10000</th>\n",
       "      <td>NaN</td>\n",
       "      <td>MARK</td>\n",
       "      <td>Rothes Bio-Plant CHP</td>\n",
       "      <td>E_MARK-1, E_MARK-2</td>\n",
       "      <td>MARK-1, MARK-2</td>\n",
       "      <td>NaN</td>\n",
       "      <td>NaN</td>\n",
       "      <td>NaN</td>\n",
       "      <td>NaN</td>\n",
       "      <td>NaN</td>\n",
       "      <td>NaN</td>\n",
       "      <td>48W000000MARK-1D</td>\n",
       "      <td>NaN</td>\n",
       "      <td>NaN</td>\n",
       "      <td>NaN</td>\n",
       "      <td>NaN</td>\n",
       "      <td>NaN</td>\n",
       "    </tr>\n",
       "    <tr>\n",
       "      <th>10001</th>\n",
       "      <td>GBR1000377, GBR1000369</td>\n",
       "      <td>DIDC</td>\n",
       "      <td>Didcot</td>\n",
       "      <td>T_DIDC1, T_DIDC2, T_DIDC4, T_DIDC3, T_DIDC1G, ...</td>\n",
       "      <td>DIDC1, DIDC2, DIDC4, DIDC3, DIDC1G, DIDC2G, DI...</td>\n",
       "      <td>NaN</td>\n",
       "      <td>NaN</td>\n",
       "      <td>NaN</td>\n",
       "      <td>NaN</td>\n",
       "      <td>NaN</td>\n",
       "      <td>97165</td>\n",
       "      <td>48W00000DIDC01G1, 48W00000DIDC02GZ, 48W00000DI...</td>\n",
       "      <td>NaN</td>\n",
       "      <td>NaN</td>\n",
       "      <td>NaN</td>\n",
       "      <td>NaN</td>\n",
       "      <td>NaN</td>\n",
       "    </tr>\n",
       "    <tr>\n",
       "      <th>10002</th>\n",
       "      <td>GBR1000374, GBR1000375</td>\n",
       "      <td>ABTH</td>\n",
       "      <td>Aberthaw B</td>\n",
       "      <td>T_ABTH7, T_ABTH8, T_ABTH9, T_ABTH7G, T_ABTH8G,...</td>\n",
       "      <td>ABTH7, ABTH8, ABTH9, ABTH7G, ABTH8G, ABTH9G</td>\n",
       "      <td>NaN</td>\n",
       "      <td>NaN</td>\n",
       "      <td>NaN</td>\n",
       "      <td>NaN</td>\n",
       "      <td>NaN</td>\n",
       "      <td>97175</td>\n",
       "      <td>48W0000000ABTH7Y, 48W0000000ABTH8W, 48W0000000...</td>\n",
       "      <td>NaN</td>\n",
       "      <td>NaN</td>\n",
       "      <td>NaN</td>\n",
       "      <td>NaN</td>\n",
       "      <td>NaN</td>\n",
       "    </tr>\n",
       "  </tbody>\n",
       "</table>\n",
       "</div>"
      ],
      "text/plain": [
       "                        gppd_idnr esail_id                  name  \\\n",
       "dictionary_id                                                          \n",
       "10000                         NaN     MARK  Rothes Bio-Plant CHP   \n",
       "10001      GBR1000377, GBR1000369     DIDC                Didcot   \n",
       "10002      GBR1000374, GBR1000375     ABTH            Aberthaw B   \n",
       "\n",
       "                                                 sett_bmu_id  \\\n",
       "dictionary_id                                                      \n",
       "10000                                     E_MARK-1, E_MARK-2   \n",
       "10001      T_DIDC1, T_DIDC2, T_DIDC4, T_DIDC3, T_DIDC1G, ...   \n",
       "10002      T_ABTH7, T_ABTH8, T_ABTH9, T_ABTH7G, T_ABTH8G,...   \n",
       "\n",
       "                                                  ngc_bmu_id 4c_offshore_id  \\\n",
       "dictionary_id                                                                     \n",
       "10000                                         MARK-1, MARK-2            NaN   \n",
       "10001      DIDC1, DIDC2, DIDC4, DIDC3, DIDC1G, DIDC2G, DI...            NaN   \n",
       "10002            ABTH7, ABTH8, ABTH9, ABTH7G, ABTH8G, ABTH9G            NaN   \n",
       "\n",
       "          windpowernet_id wikidata_id wikipedia_id power_technology_id  \\\n",
       "dictionary_id                                                                \n",
       "10000                 NaN         NaN          NaN                 NaN   \n",
       "10001                 NaN         NaN          NaN                 NaN   \n",
       "10002                 NaN         NaN          NaN                 NaN   \n",
       "\n",
       "          eutl_id                                             eic_id cfd_id  \\\n",
       "dictionary_id                                                                     \n",
       "10000         NaN                                   48W000000MARK-1D    NaN   \n",
       "10001       97165  48W00000DIDC01G1, 48W00000DIDC02GZ, 48W00000DI...    NaN   \n",
       "10002       97175  48W0000000ABTH7Y, 48W0000000ABTH8W, 48W0000000...    NaN   \n",
       "\n",
       "          jrc_id iaea_id old_repd_id new_repd_id  \n",
       "dictionary_id                                         \n",
       "10000        NaN     NaN         NaN         NaN  \n",
       "10001        NaN     NaN         NaN         NaN  \n",
       "10002        NaN     NaN         NaN         NaN  "
      ]
     },
     "execution_count": 2,
     "metadata": {},
     "output_type": "execute_result"
    }
   ],
   "source": [
    "df_powerdict = pd.read_csv('../data/dictionary/ids.csv').set_index('dictionary_id')\n",
    "\n",
    "df_powerdict.head(3)"
   ]
  },
  {
   "cell_type": "code",
   "execution_count": null,
   "id": "f4dd9d18-91ce-4049-8fe2-031d4b1c640b",
   "metadata": {},
   "outputs": [],
   "source": []
  },
  {
   "cell_type": "code",
   "execution_count": 4,
   "id": "d61ad2ec-fead-4424-85c6-e42b8ddd5138",
   "metadata": {},
   "outputs": [
    {
     "data": {
      "text/html": [
       "<div>\n",
       "<style scoped>\n",
       "    .dataframe tbody tr th:only-of-type {\n",
       "        vertical-align: middle;\n",
       "    }\n",
       "\n",
       "    .dataframe tbody tr th {\n",
       "        vertical-align: top;\n",
       "    }\n",
       "\n",
       "    .dataframe thead th {\n",
       "        text-align: right;\n",
       "    }\n",
       "</style>\n",
       "<table border=\"1\" class=\"dataframe\">\n",
       "  <thead>\n",
       "    <tr style=\"text-align: right;\">\n",
       "      <th></th>\n",
       "      <th>ngc_bmu_id</th>\n",
       "      <th>year</th>\n",
       "      <th>capture_price</th>\n",
       "    </tr>\n",
       "  </thead>\n",
       "  <tbody>\n",
       "    <tr>\n",
       "      <th>0</th>\n",
       "      <td>ABRBO-1</td>\n",
       "      <td>2019</td>\n",
       "      <td>39.429610</td>\n",
       "    </tr>\n",
       "    <tr>\n",
       "      <th>1</th>\n",
       "      <td>ABRBO-1</td>\n",
       "      <td>2020</td>\n",
       "      <td>32.759415</td>\n",
       "    </tr>\n",
       "    <tr>\n",
       "      <th>2</th>\n",
       "      <td>ABRTW-1</td>\n",
       "      <td>2019</td>\n",
       "      <td>39.711074</td>\n",
       "    </tr>\n",
       "    <tr>\n",
       "      <th>3</th>\n",
       "      <td>ABRTW-1</td>\n",
       "      <td>2020</td>\n",
       "      <td>32.610071</td>\n",
       "    </tr>\n",
       "    <tr>\n",
       "      <th>4</th>\n",
       "      <td>ABTH7</td>\n",
       "      <td>2016</td>\n",
       "      <td>42.271283</td>\n",
       "    </tr>\n",
       "  </tbody>\n",
       "</table>\n",
       "</div>"
      ],
      "text/plain": [
       "  ngc_bmu_id  year  capture_price\n",
       "0    ABRBO-1  2019      39.429610\n",
       "1    ABRBO-1  2020      32.759415\n",
       "2    ABRTW-1  2019      39.711074\n",
       "3    ABRTW-1  2020      32.610071\n",
       "4      ABTH7  2016      42.271283"
      ]
     },
     "execution_count": 4,
     "metadata": {},
     "output_type": "execute_result"
    }
   ],
   "source": [
    "df_capture_prices = pd.read_csv('../data/attribute_sources/capture-prices/capture-prices.csv')\n",
    "\n",
    "df_capture_prices.head()"
   ]
  },
  {
   "cell_type": "code",
   "execution_count": null,
   "id": "4f32e8da-9ad9-4f5a-9d83-120f31a8eec8",
   "metadata": {},
   "outputs": [],
   "source": []
  },
  {
   "cell_type": "code",
   "execution_count": 5,
   "id": "741f8888-a0d3-419b-935e-750989be49ec",
   "metadata": {},
   "outputs": [
    {
     "data": {
      "text/html": [
       "<div>\n",
       "<style scoped>\n",
       "    .dataframe tbody tr th:only-of-type {\n",
       "        vertical-align: middle;\n",
       "    }\n",
       "\n",
       "    .dataframe tbody tr th {\n",
       "        vertical-align: top;\n",
       "    }\n",
       "\n",
       "    .dataframe thead th {\n",
       "        text-align: right;\n",
       "    }\n",
       "</style>\n",
       "<table border=\"1\" class=\"dataframe\">\n",
       "  <thead>\n",
       "    <tr style=\"text-align: right;\">\n",
       "      <th></th>\n",
       "      <th>cfd_id</th>\n",
       "      <th>financial_year</th>\n",
       "      <th>strike_price_GBP_per_MWh</th>\n",
       "    </tr>\n",
       "  </thead>\n",
       "  <tbody>\n",
       "    <tr>\n",
       "      <th>0</th>\n",
       "      <td>AAA-ACH-183</td>\n",
       "      <td>2019</td>\n",
       "      <td>92.80</td>\n",
       "    </tr>\n",
       "    <tr>\n",
       "      <th>1</th>\n",
       "      <td>AAA-ACH-183</td>\n",
       "      <td>2020</td>\n",
       "      <td>94.46</td>\n",
       "    </tr>\n",
       "    <tr>\n",
       "      <th>2</th>\n",
       "      <td>AAA-ACH-183</td>\n",
       "      <td>2021</td>\n",
       "      <td>95.16</td>\n",
       "    </tr>\n",
       "    <tr>\n",
       "      <th>3</th>\n",
       "      <td>AAA-BAD-185</td>\n",
       "      <td>2018</td>\n",
       "      <td>91.94</td>\n",
       "    </tr>\n",
       "    <tr>\n",
       "      <th>4</th>\n",
       "      <td>AAA-BAD-185</td>\n",
       "      <td>2019</td>\n",
       "      <td>93.92</td>\n",
       "    </tr>\n",
       "  </tbody>\n",
       "</table>\n",
       "</div>"
      ],
      "text/plain": [
       "        cfd_id  financial_year  strike_price_GBP_per_MWh\n",
       "0  AAA-ACH-183            2019                     92.80\n",
       "1  AAA-ACH-183            2020                     94.46\n",
       "2  AAA-ACH-183            2021                     95.16\n",
       "3  AAA-BAD-185            2018                     91.94\n",
       "4  AAA-BAD-185            2019                     93.92"
      ]
     },
     "execution_count": 5,
     "metadata": {},
     "output_type": "execute_result"
    }
   ],
   "source": [
    "df_strike_prices = pd.read_csv('../data/attribute_sources/cfd-strike-prices/cfd-strike-prices.csv')\n",
    "\n",
    "df_strike_prices.head()"
   ]
  },
  {
   "cell_type": "code",
   "execution_count": null,
   "id": "01f3d8dc-34d3-44b3-8114-33d292b641ec",
   "metadata": {},
   "outputs": [],
   "source": []
  },
  {
   "cell_type": "code",
   "execution_count": 6,
   "id": "809cfac9-5bad-4d90-bcd0-63ce4c6735d9",
   "metadata": {},
   "outputs": [],
   "source": [
    "def get_reverse_id_map(s_ids):\n",
    "    external_id_to_dictionary_id = {}\n",
    "    \n",
    "    for dictionary_id, external_ids in s_ids.dropna().items():\n",
    "        for external_id in external_ids.split(', '):\n",
    "            assert external_id not in external_id_to_dictionary_id.keys(), f'{external_id} has already been assigned to {external_id_to_dictionary_id[external_id]}, cannot be set to {dictionary_id} as well'\n",
    "            external_id_to_dictionary_id[external_id] = dictionary_id\n",
    "            \n",
    "    return external_id_to_dictionary_id"
   ]
  },
  {
   "cell_type": "code",
   "execution_count": 12,
   "id": "7f511aa3-09f1-4056-bd10-cd25821da3cf",
   "metadata": {
    "tags": []
   },
   "outputs": [],
   "source": [
    "ngc_bmu_to_dictionary_id = get_reverse_id_map(df_powerdict['ngc_bmu_id'])\n",
    "cfd_to_dictionary_id = get_reverse_id_map(df_powerdict['cfd_id'])"
   ]
  },
  {
   "cell_type": "code",
   "execution_count": null,
   "id": "d2d3ebe5-2a5f-4921-a972-46edb9864c43",
   "metadata": {},
   "outputs": [],
   "source": []
  },
  {
   "cell_type": "markdown",
   "id": "013950b6-6e64-4543-a268-af83ad33d24a",
   "metadata": {},
   "source": [
    "<br>\n",
    "\n",
    "### BMU to CfD Mapping"
   ]
  },
  {
   "cell_type": "code",
   "execution_count": 15,
   "id": "29060799-5440-41dc-b0c4-ddc64d8735d7",
   "metadata": {},
   "outputs": [],
   "source": [
    "# should identify sites with differing CfD prices over multiple contracts\n",
    "# I'll also need to temporarily use the NG SETT to NGC BMU mapping csv and \n",
    "# then the LCCC SETT BMU to CfD contract mapping csv"
   ]
  },
  {
   "cell_type": "code",
   "execution_count": 26,
   "id": "d162181d-d1d0-4807-b71d-c23e7419309a",
   "metadata": {},
   "outputs": [
    {
     "data": {
      "text/plain": [
       "0.9151090342679128"
      ]
     },
     "execution_count": 26,
     "metadata": {},
     "output_type": "execute_result"
    }
   ],
   "source": [
    "df_bmu_map = pd.read_csv('../data/attribute_sources/bmu-fuel-types/BMUFuelType 2021-08-09.csv')\n",
    "ngc_to_sett_bmu_map = df_bmu_map[['NGC_BMU_ID', 'SETT_BMU_ID']].dropna().set_index('NGC_BMU_ID')['SETT_BMU_ID'].to_dict()\n",
    "\n",
    "df_capture_prices['ngc_bmu_id'].isin(ngc_to_sett_bmu_map.keys()).mean()"
   ]
  },
  {
   "cell_type": "code",
   "execution_count": null,
   "id": "4aafe0fb-0654-4ed2-ae41-cd64c201d7dc",
   "metadata": {},
   "outputs": [],
   "source": []
  },
  {
   "cell_type": "code",
   "execution_count": 30,
   "id": "3bf74c69-d629-4091-976f-dfa22ff6f621",
   "metadata": {},
   "outputs": [
    {
     "data": {
      "text/plain": [
       "1.0"
      ]
     },
     "execution_count": 30,
     "metadata": {},
     "output_type": "execute_result"
    }
   ],
   "source": [
    "df_bmu_to_cfd_map = pd.read_csv('https://www.lowcarboncontracts.uk/data-portal/dataset/10c5ea46-8b0b-497e-ae7f-5ba1c5df8ffe/resource/ab9eafe1-911f-47b7-9f60-bfffa9d87e5a/download/cfd-to-bm-unit-mapping.csv')\n",
    "cfd_to_sett_bmu_map = df_bmu_to_cfd_map[['CFD_Id', 'BMU_Id']].dropna().set_index('CFD_Id')['BMU_Id'].to_dict()\n",
    "\n",
    "df_strike_prices['cfd_id'].isin(cfd_to_sett_bmu_map.keys()).mean()"
   ]
  },
  {
   "cell_type": "code",
   "execution_count": null,
   "id": "a2d9be4e-47ee-4835-9321-ac9aaab5ab30",
   "metadata": {},
   "outputs": [],
   "source": []
  }
 ],
 "metadata": {
  "kernelspec": {
   "display_name": "PowerDict",
   "language": "python",
   "name": "powerdict"
  },
  "language_info": {
   "codemirror_mode": {
    "name": "ipython",
    "version": 3
   },
   "file_extension": ".py",
   "mimetype": "text/x-python",
   "name": "python",
   "nbconvert_exporter": "python",
   "pygments_lexer": "ipython3",
   "version": "3.9.6"
  }
 },
 "nbformat": 4,
 "nbformat_minor": 5
}
