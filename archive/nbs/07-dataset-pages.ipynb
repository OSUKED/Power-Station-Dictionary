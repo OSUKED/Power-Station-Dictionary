{
 "cells": [
  {
   "cell_type": "code",
   "execution_count": 1,
   "id": "9cdfda87-5f3c-4e2c-b004-f580851d7bc3",
   "metadata": {},
   "outputs": [],
   "source": [
    "# default_exp datasets"
   ]
  },
  {
   "cell_type": "markdown",
   "id": "e78b4409-0342-489f-ba59-24f45124a36b",
   "metadata": {},
   "source": [
    "# Dataset Pages Generation\n",
    "\n",
    "<br>\n",
    "\n",
    "### Imports"
   ]
  },
  {
   "cell_type": "code",
   "execution_count": null,
   "id": "d866c6c0-9d88-4908-b5e2-166386c94e36",
   "metadata": {},
   "outputs": [],
   "source": []
  },
  {
   "cell_type": "code",
   "execution_count": 1,
   "id": "9ea6c982-8745-4204-b4c2-54abc03ce8ee",
   "metadata": {},
   "outputs": [],
   "source": [
    "#exports\n",
    "import json\n",
    "import yaml\n",
    "import numpy as np\n",
    "import pandas as pd\n",
    "\n",
    "from frictionless import Package\n",
    "\n",
    "import os\n",
    "import shutil\n",
    "from tqdm import tqdm\n",
    "from pathlib import Path\n",
    "from jinja2 import Template\n",
    "\n",
    "from powerdict import dictionary, openapi"
   ]
  },
  {
   "cell_type": "code",
   "execution_count": 2,
   "id": "5a51177c-72bf-48e5-bd47-568f9350f685",
   "metadata": {},
   "outputs": [],
   "source": [
    "from IPython.display import JSON, Markdown"
   ]
  },
  {
   "cell_type": "code",
   "execution_count": null,
   "id": "cfe0a704-3e45-44ee-9525-d617a60891df",
   "metadata": {},
   "outputs": [],
   "source": []
  },
  {
   "cell_type": "code",
   "execution_count": 3,
   "id": "cc5b5038-6a7b-4597-a2a5-40ef459c7835",
   "metadata": {},
   "outputs": [],
   "source": [
    "dataset = 'global-power-plant-database'\n",
    "datapackage_json_fp = f'../data/attribute_sources/{dataset}/datapackage.json'\n",
    "\n",
    "package = Package(datapackage_json_fp, profile='tabular-data-package')"
   ]
  },
  {
   "cell_type": "code",
   "execution_count": null,
   "id": "6d5392fd-0795-4872-807c-aa99bc32f448",
   "metadata": {},
   "outputs": [],
   "source": []
  },
  {
   "cell_type": "code",
   "execution_count": 8,
   "id": "5fe4ceda-7762-4787-b8ed-f6e0efaebdd2",
   "metadata": {
    "tags": []
   },
   "outputs": [],
   "source": [
    "#exports\n",
    "resource_to_download_url = lambda resource, package_name, root_path='https://osuked.github.io/Power-Station-Dictionary/attribute_sources': f'{root_path}/{package_name}/{resource[\"path\"]}'\n",
    "\n",
    "def resource_to_title(resource):\n",
    "    if 'title' in resource.keys():\n",
    "        title = resource['title']\n",
    "    else:\n",
    "        title = resource['name']\n",
    "    \n",
    "    return title\n",
    "\n",
    "def resource_to_description(resource):\n",
    "    if 'description' in resource.keys():\n",
    "        description = resource['description']\n",
    "    else:\n",
    "        description = False\n",
    "    \n",
    "    return description\n",
    "\n",
    "def package_to_homepage(package):\n",
    "    if 'homepage' in package.keys():\n",
    "        homepage = package['homepage']\n",
    "    else:\n",
    "        homepage = False\n",
    "    \n",
    "    return homepage\n",
    "\n",
    "def resource_to_fields_table_str(resource):\n",
    "    df_fields = pd.DataFrame(resource['schema']['fields'])\n",
    "\n",
    "    df_fields = df_fields.rename(columns={'name': 'column'}).replace(np.nan, '-')\n",
    "    df_fields.columns = df_fields.columns.str.capitalize()\n",
    "\n",
    "    md_str = df_fields.to_markdown(index=False)\n",
    "    \n",
    "    return md_str\n",
    "\n",
    "def extract_resource_elements(package):\n",
    "    resource_elements = [\n",
    "        {\n",
    "            'title': resource_to_title(resource),\n",
    "            'download_url': resource_to_download_url(resource, package['name']),\n",
    "            'description': resource_to_description(resource),\n",
    "            'fields': resource_to_fields_table_str(resource)\n",
    "        }\n",
    "        for resource \n",
    "        in package.resources\n",
    "    ]\n",
    "\n",
    "    return resource_elements\n",
    "\n",
    "def extract_package_elements(package):\n",
    "    package_elements = {\n",
    "        'title': resource_to_title(package),\n",
    "        'homepage': package_to_homepage(package),\n",
    "        'description': resource_to_description(package),\n",
    "        'metadata': dictionary.construct_metadata_table_str(package),\n",
    "        'resource_elements': extract_resource_elements(package)\n",
    "    }\n",
    "    \n",
    "    return package_elements"
   ]
  },
  {
   "cell_type": "code",
   "execution_count": 9,
   "id": "de278622-e757-445f-b3e6-b6f10e0ffdaf",
   "metadata": {},
   "outputs": [
    {
     "data": {
      "application/json": {
       "description": "The Global Power Plant Database is a comprehensive, open source database of power plants around the world. It centralizes power plant data to make it easier to navigate, compare and draw insights for one’s own analysis. The database covers approximately 35,000 power plants from 167 countries and includes thermal plants (e.g. coal, gas, oil, nuclear, biomass, waste, geothermal) and renewables (e.g. hydro, wind, solar). Each power plant is geolocated and entries contain information on plant capacity, generation, ownership, and fuel type. It will be continuously updated as data becomes available. \n\nThe methodology for the dataset creation is given in the World Resources Institute publication [\"A Global Database of Power Plants\"](https://www.wri.org/research/global-database-power-plants). Data updates may occur without associated updates to this manuscript.",
       "homepage": "https://datasets.wri.org/dataset/globalpowerplantdatabase",
       "metadata": "| Attribute    | Value(s)                                                  |\n|:-------------|:----------------------------------------------------------|\n| Keywords     | climate, energy, power plants                             |\n| Contributors | Global Energy Observatory (Author)                        |\n| Version      | 1.3.0                                                     |\n| Licenses     | [CC-BY-4.0](https://creativecommons.org/licenses/by/4.0/) |",
       "resource_elements": [
        {
         "description": false,
         "download_url": "https://osuked.github.io/Power-Station-Dictionary/attribute_sources/global-power-plant-database/global_power_plant_database.csv",
         "fields": "| Column                         | Type   | Format   | Title                                     | Description                                                                               | Rdftype                                                  |\n|:-------------------------------|:-------|:---------|:------------------------------------------|:------------------------------------------------------------------------------------------|:---------------------------------------------------------|\n| country                        | string | default  | Country Code                              | The 3-letter ISO 3166-1 alpha code for each country                                       | -                                                        |\n| country_long                   | string | default  | Country Name                              | The name of the country the power plant is located within                                 | -                                                        |\n| name                           | string | default  | Name                                      | The name of the power plant                                                               | -                                                        |\n| gppd_idnr                      | string | default  | GPPD ID                                   | The unique identifier for each power plant in the Global Power Plant Database             | -                                                        |\n| capacity_mw                    | number | default  | Installed Capacity (MW)                   | Installed electrical capacity of eachpower plant (MW)                                     | http://openenergy-platform.org/ontology/oeo/OEO_00230003 |\n| latitude                       | number | default  | Latitude                                  | The north-south position of a point on the Earth's surface                                | http://www.w3.org/2003/01/geo/wgs84_pos#lat              |\n| longitude                      | number | default  | Longitude                                 | The east–west position of a point on the Earth's surface                                  | http://www.w3.org/2003/01/geo/wgs84_pos#long             |\n| primary_fuel                   | string | default  | Primary Fuel Type                         | The primary fuel used by the power plant                                                  | -                                                        |\n| other_fuel1                    | string | default  | Secondary Fuel Type                       | The secondary fuel used by the power plant                                                | -                                                        |\n| other_fuel2                    | string | default  | Tertiary Fuel Type                        | The tertiary fuel used by the power plant                                                 | -                                                        |\n| other_fuel3                    | string | default  | Quaternary Fuel Type                      | The quaternary fuel used by the power plant                                               | -                                                        |\n| commissioning_year             | year   | default  | Commissioning Year                        | The first year the plant generated electricity                                            | -                                                        |\n| owner                          | string | default  | Owner                                     | The primary owner of the power plant                                                      | -                                                        |\n| source                         | string | default  | Source                                    | The source of the data on each power plant                                                | -                                                        |\n| url                            | string | default  | URL                                       | URL linking directly to data source                                                       | -                                                        |\n| geolocation_source             | string | default  | Geolocation Source                        | The source of the spatial data on each power plant                                        | -                                                        |\n| wepp_id                        | number | default  | PLATTS-WEPP ID                            | The unique identifier used to refer to power plants in the PLATTS-WEBB dataset            | -                                                        |\n| year_of_capacity_data          | year   | default  | Year of Capacity Report                   | The year of the reported capacity value                                                   | -                                                        |\n| generation_gwh_2013            | number | default  | Annual Generation in 2013                 | Annual generation (during 2013) in gigawatt hours (GWhs), gross                           | -                                                        |\n| generation_gwh_2014            | number | default  | Annual Generation in 2014                 | Annual generation (during 2014) in gigawatt hours (GWhs), gross                           | -                                                        |\n| generation_gwh_2015            | number | default  | Annual Generation in 2015                 | Annual generation (during 2015) in gigawatt hours (GWhs), gross                           | -                                                        |\n| generation_gwh_2016            | number | default  | Annual Generation in 2016                 | Annual generation (during 2016) in gigawatt hours (GWhs), gross                           | -                                                        |\n| generation_gwh_2017            | number | default  | Annual Generation in 2017                 | Annual generation (during 2017) in gigawatt hours (GWhs), gross                           | -                                                        |\n| generation_gwh_2018            | number | default  | Annual Generation in 2018                 | Annual generation (during 2018) in gigawatt hours (GWhs), gross                           | -                                                        |\n| generation_gwh_2019            | number | default  | Annual Generation in 2019                 | Annual generation (during 2019) in gigawatt hours (GWhs), gross                           | -                                                        |\n| generation_data_source         | string | default  | Generation Source                         | The source of the generation data on each power plant                                     | -                                                        |\n| estimated_generation_gwh_2013  | number | default  | Estimated Annual Generation in 2013       | Estimated annual generation (during 2013) in gigawatt hours (GWhs), gross                 | -                                                        |\n| estimated_generation_gwh_2014  | number | default  | Estimated Annual Generation in 2014       | Estimated annual generation (during 2014) in gigawatt hours (GWhs), gross                 | -                                                        |\n| estimated_generation_gwh_2015  | number | default  | Estimated Annual Generation in 2015       | Estimated annual generation (during 2015) in gigawatt hours (GWhs), gross                 | -                                                        |\n| estimated_generation_gwh_2016  | number | default  | Estimated Annual Generation in 2016       | Estimated annual generation (during 2016) in gigawatt hours (GWhs), gross                 | -                                                        |\n| estimated_generation_gwh_2017  | number | default  | Estimated Annual Generation in 2017       | Estimated annual generation (during 2017) in gigawatt hours (GWhs), gross                 | -                                                        |\n| estimated_generation_note_2013 | string | default  | Estimated Annual Generation Note for 2013 | A note on the estimation process behind calculating gross annual generation (during 2013) | -                                                        |\n| estimated_generation_note_2014 | string | default  | Estimated Annual Generation Note for 2014 | A note on the estimation process behind calculating gross annual generation (during 2014) | -                                                        |\n| estimated_generation_note_2015 | string | default  | Estimated Annual Generation Note for 2015 | A note on the estimation process behind calculating gross annual generation (during 2015) | -                                                        |\n| estimated_generation_note_2016 | string | default  | Estimated Annual Generation Note for 2016 | A note on the estimation process behind calculating gross annual generation (during 2016) | -                                                        |\n| estimated_generation_note_2017 | string | default  | Estimated Annual Generation Note for 2017 | A note on the estimation process behind calculating gross annual generation (during 2017) | -                                                        |",
         "title": "global-power-plant-database"
        }
       ],
       "title": "Global Power Plant Database"
      },
      "text/plain": [
       "<IPython.core.display.JSON object>"
      ]
     },
     "execution_count": 9,
     "metadata": {
      "application/json": {
       "expanded": false,
       "root": "root"
      }
     },
     "output_type": "execute_result"
    }
   ],
   "source": [
    "package_elements = extract_package_elements(package)\n",
    "\n",
    "JSON(package_elements)"
   ]
  },
  {
   "cell_type": "code",
   "execution_count": null,
   "id": "f772940a-bcfb-4abf-a1cd-54a866bc9961",
   "metadata": {},
   "outputs": [],
   "source": []
  },
  {
   "cell_type": "code",
   "execution_count": 7,
   "id": "a2704117-9a57-4c5e-9298-27d5d9a23086",
   "metadata": {},
   "outputs": [],
   "source": [
    "template_fp = '../templates/dataset_page.md'\n",
    "save_fp = f'../docs/datasets/{package[\"name\"]}.md'\n",
    "\n",
    "dictionary.populate_and_save_template(template_fp, save_fp, package_elements=package_elements)"
   ]
  },
  {
   "cell_type": "code",
   "execution_count": null,
   "id": "e3fff58c-dc69-451d-9cd2-90604a04275e",
   "metadata": {},
   "outputs": [],
   "source": []
  },
  {
   "cell_type": "markdown",
   "id": "fe731efb-13b1-4ab7-bc31-80b5bf783634",
   "metadata": {},
   "source": [
    "<br>\n",
    "\n",
    "### Iterating Over All Datasets"
   ]
  },
  {
   "cell_type": "code",
   "execution_count": 10,
   "id": "064dbc65-e8e7-4f87-8130-b730e6eebd78",
   "metadata": {},
   "outputs": [],
   "source": [
    "#exports\n",
    "def identify_datapackage_datasets(datasets_dir):\n",
    "    dataset_dirs = [\n",
    "        elem \n",
    "        for elem \n",
    "        in os.listdir(datasets_dir) \n",
    "        if elem != '.ipynb_checkpoints'\n",
    "    ]\n",
    "\n",
    "    datapackage_datasets = [\n",
    "        dataset_dir\n",
    "        for dataset_dir \n",
    "        in dataset_dirs\n",
    "        if 'datapackage.json' in os.listdir(f'{datasets_dir}/{dataset_dir}')\n",
    "    ]\n",
    "    \n",
    "    return datapackage_datasets"
   ]
  },
  {
   "cell_type": "code",
   "execution_count": 12,
   "id": "9166672e-a5a1-4860-ba24-ddbd6f1a065b",
   "metadata": {},
   "outputs": [
    {
     "data": {
      "text/plain": [
       "['annual-output',\n",
       " 'bmu-fuel-types',\n",
       " 'capture-prices',\n",
       " 'carbon-intensity',\n",
       " 'cfd-contract-portfolio-status']"
      ]
     },
     "execution_count": 12,
     "metadata": {},
     "output_type": "execute_result"
    }
   ],
   "source": [
    "datasets_dir = '../data/attribute_sources'\n",
    "\n",
    "datapackage_datasets = identify_datapackage_datasets(datasets_dir)\n",
    "\n",
    "datapackage_datasets[:5]"
   ]
  },
  {
   "cell_type": "code",
   "execution_count": null,
   "id": "2fd3b6b5-39d6-4120-8de4-f3d226459f3a",
   "metadata": {},
   "outputs": [],
   "source": []
  },
  {
   "cell_type": "code",
   "execution_count": 13,
   "id": "cc56b29d-4366-4d80-9122-dc27229a5b8f",
   "metadata": {},
   "outputs": [],
   "source": [
    "# #exports\n",
    "# def identify_openapi_datasets(openapi_dir):\n",
    "#     dataset_dirs = [\n",
    "#         elem \n",
    "#         for elem \n",
    "#         in os.listdir(datasets_dir) \n",
    "#         if elem != '.ipynb_checkpoints'\n",
    "#     ]\n",
    "\n",
    "#     datapackage_datasets = [\n",
    "#         dataset_dir\n",
    "#         for dataset_dir \n",
    "#         in dataset_dirs\n",
    "#         if 'datapackage.json' in os.listdir(f'{datasets_dir}/{dataset_dir}')\n",
    "#     ]\n",
    "    \n",
    "#     return openapi_datasets"
   ]
  },
  {
   "cell_type": "code",
   "execution_count": null,
   "id": "3182633b-0b87-4a87-ac75-e39efd7dacad",
   "metadata": {},
   "outputs": [],
   "source": []
  },
  {
   "cell_type": "code",
   "execution_count": 14,
   "id": "45ca3162-d7e6-492a-9a93-d9c7bc24764c",
   "metadata": {},
   "outputs": [],
   "source": [
    "#exports\n",
    "def update_mkdocs_config(\n",
    "    valid_datasets: list,\n",
    "    dataset_to_name: dict,\n",
    "    mkdocs_config_fp: str\n",
    "):\n",
    "    with open(mkdocs_config_fp) as fp:\n",
    "         mkdocs_config = yaml.safe_load(fp)\n",
    "\n",
    "    nav_datasets_idx = [idx for idx, nav_item in enumerate(mkdocs_config['nav']) if 'Datasets' in nav_item.keys()][0]\n",
    "    mkdocs_config['nav'][nav_datasets_idx]['Datasets'] = {f'{dataset_to_name[dataset]}': f'datasets/{dataset}.md' for dataset in valid_datasets}\n",
    "\n",
    "    with open(mkdocs_config_fp, 'w') as fp:\n",
    "        yaml.dump(mkdocs_config, fp)\n",
    "        \n",
    "    return\n",
    "\n",
    "def populate_dataset_pages(\n",
    "    datasets_dir: str='data/attribute_sources',\n",
    "    dataset_template_fp: str='templates/dataset_page.md',\n",
    "    mkdocs_config_fp: str='mkdocs.yml',\n",
    "    dataset_docs_dir: str='docs/datasets'\n",
    "):\n",
    "    dataset_to_name = {}\n",
    "    valid_datasets = identify_datapackage_datasets(datasets_dir)\n",
    "\n",
    "    for dataset in tqdm(valid_datasets):\n",
    "        datapackage_json_fp = f'{datasets_dir}/{dataset}/datapackage.json'\n",
    "        package = Package(datapackage_json_fp, profile='tabular-data-package')\n",
    "\n",
    "        package_elements = extract_package_elements(package)\n",
    "        dataset_to_name[dataset] = package_elements['title'].strip()\n",
    "        save_fp = f'{dataset_docs_dir}/{package[\"name\"]}.md'\n",
    "        dictionary.populate_and_save_template(dataset_template_fp, save_fp, package_elements=package_elements)\n",
    "        \n",
    "    update_mkdocs_config(valid_datasets, dataset_to_name, mkdocs_config_fp)\n",
    "    \n",
    "    return "
   ]
  },
  {
   "cell_type": "code",
   "execution_count": 15,
   "id": "f1eb4140-4bd1-4a17-a314-1ba402e67258",
   "metadata": {
    "tags": []
   },
   "outputs": [
    {
     "name": "stderr",
     "output_type": "stream",
     "text": [
      "100%|██████████████████████████████████████████████████████████████████████████████████| 15/15 [00:00<00:00, 54.55it/s]\n"
     ]
    }
   ],
   "source": [
    "mkdocs_config_fp = '../mkdocs.yml'\n",
    "dataset_template_fp = '../templates/dataset_page.md'\n",
    "dataset_docs_dir = '../docs/datasets'\n",
    "\n",
    "populate_dataset_pages(datasets_dir, dataset_template_fp, mkdocs_config_fp, dataset_docs_dir)"
   ]
  },
  {
   "cell_type": "code",
   "execution_count": null,
   "id": "7d7823df-50b4-4852-af0c-d011d3068f6d",
   "metadata": {},
   "outputs": [],
   "source": []
  },
  {
   "cell_type": "code",
   "execution_count": 23,
   "id": "ffe0bdc7-91be-4005-b3c3-24354cd686ab",
   "metadata": {
    "tags": []
   },
   "outputs": [],
   "source": [
    "#exports\n",
    "def move_attribute_source_data_to_docs(\n",
    "    src_path: str='data/attribute_sources/',\n",
    "    trg_path: str='docs/attribute_sources/'\n",
    "):\n",
    "    if not os.path.exists(trg_path):\n",
    "        os.mkdir(trg_path)\n",
    "    \n",
    "    shutil.rmtree(trg_path)\n",
    "    shutil.copytree(src_path, trg_path)\n",
    "    \n",
    "    return"
   ]
  },
  {
   "cell_type": "code",
   "execution_count": 24,
   "id": "52296fd6-ac95-4540-aceb-02d565544923",
   "metadata": {},
   "outputs": [],
   "source": [
    "src_path = '../data/attribute_sources'\n",
    "trg_path = '../docs/attribute_sources'\n",
    "\n",
    "move_attribute_source_data_to_docs(src_path, trg_path)"
   ]
  },
  {
   "cell_type": "code",
   "execution_count": null,
   "id": "9e1cf5e0-ea32-4037-9bd0-cbe6b375a1df",
   "metadata": {},
   "outputs": [],
   "source": []
  },
  {
   "cell_type": "code",
   "execution_count": 2,
   "id": "6dd8ca78-6840-4608-a08e-150db2e414d3",
   "metadata": {},
   "outputs": [
    {
     "name": "stdout",
     "output_type": "stream",
     "text": [
      "Converted 00-documentation.ipynb.\n",
      "Converted 01-dictionary-page.ipynb.\n",
      "Converted 02-attribute extraction.ipynb.\n",
      "Converted 03-page-population.ipynb.\n",
      "Converted 04-cli.ipynb.\n",
      "Converted 05-carbon-intensity.ipynb.\n",
      "Converted 06-cfd-capture-price-comparison.ipynb.\n",
      "Converted 07-dataset-pages.ipynb.\n",
      "Converted 08-papers.ipynb.\n",
      "Converted 09-id-submission.ipynb.\n"
     ]
    }
   ],
   "source": [
    "#hide\n",
    "from nbdev.export import *\n",
    "notebook2script()"
   ]
  }
 ],
 "metadata": {
  "kernelspec": {
   "display_name": "PowerDict",
   "language": "python",
   "name": "powerdict"
  },
  "language_info": {
   "codemirror_mode": {
    "name": "ipython",
    "version": 3
   },
   "file_extension": ".py",
   "mimetype": "text/x-python",
   "name": "python",
   "nbconvert_exporter": "python",
   "pygments_lexer": "ipython3",
   "version": "3.9.6"
  }
 },
 "nbformat": 4,
 "nbformat_minor": 5
}
