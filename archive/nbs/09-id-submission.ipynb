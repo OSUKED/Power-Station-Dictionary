{
 "cells": [
  {
   "cell_type": "code",
   "execution_count": 1,
   "id": "5422378f-40d3-40b9-ba24-3b14e8ce9728",
   "metadata": {},
   "outputs": [],
   "source": [
    "# default_exp idupdate"
   ]
  },
  {
   "cell_type": "code",
   "execution_count": 2,
   "id": "1ffb0b33-c943-49b9-b2b5-0bfe71167b6a",
   "metadata": {},
   "outputs": [],
   "source": [
    "#exports\n",
    "import json\n",
    "import numpy as np\n",
    "import pandas as pd\n",
    "\n",
    "import os\n",
    "import typer\n",
    "from typing import Any\n",
    "from dataclasses import dataclass\n",
    "\n",
    "import gspread\n",
    "from oauth2client.service_account import ServiceAccountCredentials"
   ]
  },
  {
   "cell_type": "code",
   "execution_count": 3,
   "id": "37362ae6-11e3-402b-8bf0-4538dc3ad363",
   "metadata": {},
   "outputs": [],
   "source": [
    "from IPython.display import JSON"
   ]
  },
  {
   "cell_type": "code",
   "execution_count": null,
   "id": "ba00fbbd-e19e-40be-83eb-99d3cae34ea4",
   "metadata": {},
   "outputs": [],
   "source": []
  },
  {
   "cell_type": "code",
   "execution_count": 6,
   "id": "29e7e3db-428f-495f-9f2f-ccee1c36226c",
   "metadata": {},
   "outputs": [],
   "source": [
    "#exports\n",
    "@dataclass\n",
    "class SheetManager:\n",
    "    creds_fp: str='../gcloud/power-station-dictionary-f6814eb419e1.json'\n",
    "    sheet_name: str='Power Station Dictionary - ID Submission (Responses)'\n",
    "    sheet_index: int=0\n",
    "\n",
    "    def __post_init__(self):\n",
    "        scope = ['https://spreadsheets.google.com/feeds','https://www.googleapis.com/auth/drive']\n",
    "        \n",
    "        if os.path.exists(self.creds_fp) == True:\n",
    "            creds = ServiceAccountCredentials.from_json_keyfile_name(self.creds_fp, scope)\n",
    "        elif 'GCP_SA_KEY' in os.environ.keys():\n",
    "            creds = ServiceAccountCredentials.from_json_keyfile_dict(json.loads(os.getenv('GCP_SA_KEY')))\n",
    "        else:\n",
    "            raise ValueError(f\"No valid credentials (or filepath) was passed, GCP_SA_KEY: {'GCP_SA_KEY' in os.environ.keys()}\")\n",
    "            \n",
    "        self.client = gspread.authorize(creds)\n",
    "        \n",
    "        sheet = self.client.open(self.sheet_name)\n",
    "        self.sheet_instance = sheet.get_worksheet(self.sheet_index)\n",
    "        \n",
    "        return \n",
    "\n",
    "    load_sheet_df = lambda self: pd.DataFrame.from_dict(self.sheet_instance.get_all_records())\n",
    "    \n",
    "    def update_sheet_col_values(\n",
    "        self,\n",
    "        df_sheet: pd.DataFrame,\n",
    "        col_name: str='Processed'\n",
    "    ):            \n",
    "        col_insert = [[col_name]+df_sheet[col_name].to_list()]\n",
    "        col_idx = [idx+1 for idx, idx_col_name in enumerate(df_sheet.columns) if idx_col_name==col_name][0]\n",
    "        \n",
    "        self.sheet_instance.delete_columns(col_idx)\n",
    "        self.sheet_instance.insert_cols(col_insert, col=col_idx)\n",
    "        \n",
    "        return "
   ]
  },
  {
   "cell_type": "code",
   "execution_count": 8,
   "id": "8fdfc216-b3ea-47e1-a039-857ffa736236",
   "metadata": {},
   "outputs": [
    {
     "data": {
      "text/html": [
       "<div>\n",
       "<style scoped>\n",
       "    .dataframe tbody tr th:only-of-type {\n",
       "        vertical-align: middle;\n",
       "    }\n",
       "\n",
       "    .dataframe tbody tr th {\n",
       "        vertical-align: top;\n",
       "    }\n",
       "\n",
       "    .dataframe thead th {\n",
       "        text-align: right;\n",
       "    }\n",
       "</style>\n",
       "<table border=\"1\" class=\"dataframe\">\n",
       "  <thead>\n",
       "    <tr style=\"text-align: right;\">\n",
       "      <th></th>\n",
       "      <th>Timestamp</th>\n",
       "      <th>Primary Key</th>\n",
       "      <th>ID Type</th>\n",
       "      <th>ID Value</th>\n",
       "      <th>Title</th>\n",
       "      <th>Name</th>\n",
       "      <th>Description</th>\n",
       "      <th>Value Type</th>\n",
       "      <th>URL Format</th>\n",
       "      <th>Processed</th>\n",
       "    </tr>\n",
       "  </thead>\n",
       "  <tbody>\n",
       "    <tr>\n",
       "      <th>0</th>\n",
       "      <td>03/11/2021 11:18:39</td>\n",
       "      <td>10167</td>\n",
       "      <td>WindPowerNet ID</td>\n",
       "      <td>windfarm_en_22062_windy-standard-extension</td>\n",
       "      <td></td>\n",
       "      <td></td>\n",
       "      <td></td>\n",
       "      <td></td>\n",
       "      <td></td>\n",
       "      <td>1</td>\n",
       "    </tr>\n",
       "    <tr>\n",
       "      <th>1</th>\n",
       "      <td>03/11/2021 11:20:42</td>\n",
       "      <td>10167</td>\n",
       "      <td>REPD ID (Old)</td>\n",
       "      <td>B1290</td>\n",
       "      <td></td>\n",
       "      <td></td>\n",
       "      <td></td>\n",
       "      <td></td>\n",
       "      <td></td>\n",
       "      <td>1</td>\n",
       "    </tr>\n",
       "    <tr>\n",
       "      <th>2</th>\n",
       "      <td>03/11/2021 11:20:59</td>\n",
       "      <td>10167</td>\n",
       "      <td>REPD ID (New)</td>\n",
       "      <td>4615</td>\n",
       "      <td></td>\n",
       "      <td></td>\n",
       "      <td></td>\n",
       "      <td></td>\n",
       "      <td></td>\n",
       "      <td>1</td>\n",
       "    </tr>\n",
       "    <tr>\n",
       "      <th>3</th>\n",
       "      <td>2021-11-03 14:49:01</td>\n",
       "      <td>10150</td>\n",
       "      <td>REPD ID (Old)</td>\n",
       "      <td>EN00273</td>\n",
       "      <td></td>\n",
       "      <td></td>\n",
       "      <td></td>\n",
       "      <td></td>\n",
       "      <td></td>\n",
       "      <td>1</td>\n",
       "    </tr>\n",
       "    <tr>\n",
       "      <th>4</th>\n",
       "      <td>2021-11-04 14:49:01</td>\n",
       "      <td>10150</td>\n",
       "      <td>REPD ID (New)</td>\n",
       "      <td>4110</td>\n",
       "      <td></td>\n",
       "      <td></td>\n",
       "      <td></td>\n",
       "      <td></td>\n",
       "      <td></td>\n",
       "      <td>1</td>\n",
       "    </tr>\n",
       "  </tbody>\n",
       "</table>\n",
       "</div>"
      ],
      "text/plain": [
       "             Timestamp  Primary Key          ID Type  \\\n",
       "0  03/11/2021 11:18:39        10167  WindPowerNet ID   \n",
       "1  03/11/2021 11:20:42        10167    REPD ID (Old)   \n",
       "2  03/11/2021 11:20:59        10167    REPD ID (New)   \n",
       "3  2021-11-03 14:49:01        10150    REPD ID (Old)   \n",
       "4  2021-11-04 14:49:01        10150    REPD ID (New)   \n",
       "\n",
       "                                     ID Value Title Name Description  \\\n",
       "0  windfarm_en_22062_windy-standard-extension                          \n",
       "1                                       B1290                          \n",
       "2                                        4615                          \n",
       "3                                     EN00273                          \n",
       "4                                        4110                          \n",
       "\n",
       "  Value Type URL Format  Processed  \n",
       "0                                1  \n",
       "1                                1  \n",
       "2                                1  \n",
       "3                                1  \n",
       "4                                1  "
      ]
     },
     "execution_count": 8,
     "metadata": {},
     "output_type": "execute_result"
    }
   ],
   "source": [
    "sheet_manager = SheetManager()\n",
    "df_sheet = sheet_manager.load_sheet_df()\n",
    "\n",
    "df_sheet.head()"
   ]
  },
  {
   "cell_type": "code",
   "execution_count": null,
   "id": "332d17e0-2039-46bb-bdd3-b4ac667a236e",
   "metadata": {},
   "outputs": [],
   "source": []
  },
  {
   "cell_type": "code",
   "execution_count": 9,
   "id": "a889d1d2-68f5-4598-aef8-ebdc30833981",
   "metadata": {},
   "outputs": [],
   "source": [
    "#exports\n",
    "def load_powerdict_data(\n",
    "    ids_fp: str='../data/dictionary/ids.csv',\n",
    "    metadata_fp: str='../data/dictionary/datapackage.json'\n",
    "):\n",
    "    df_powerdict_ids = pd.read_csv(ids_fp)\n",
    "    df_powerdict_ids = df_powerdict_ids.set_index('dictionary_id')\n",
    "\n",
    "    with open(metadata_fp) as f:\n",
    "        powerdict_metadata = json.load(f)\n",
    "        \n",
    "    return df_powerdict_ids, powerdict_metadata"
   ]
  },
  {
   "cell_type": "code",
   "execution_count": 10,
   "id": "783c32ad-b95d-4d31-8376-d747db29d5e3",
   "metadata": {},
   "outputs": [
    {
     "data": {
      "application/json": {
       "contributors": [
        {
         "role": "author",
         "title": "Ayrton Bourn"
        }
       ],
       "description": "Dataset listing the various IDs used to refer to the same power plants. These IDs can represent same-as relationships as well as sets which relate to different elements of the same plant e.g. a plant may comprise multiple generation units (referred to BMUs in the UK).",
       "keywords": [
        "power plants",
        "ids"
       ],
       "licenses": [
        {
         "name": "CC-BY-4.0",
         "path": "https://creativecommons.org/licenses/by/4.0/",
         "title": "Creative Commons Attribution 4.0"
        }
       ],
       "name": "ids",
       "profile": "tabular-data-package",
       "resources": [
        {
         "name": "ids",
         "path": "ids.csv",
         "profile": "tabular-data-resource",
         "schema": {
          "fields": [
           {
            "description": "The identifier used to refer to power plants in the Subak data cooperative",
            "format": "default",
            "hierarchy": "root",
            "name": "dictionary_id",
            "required": true,
            "title": "Dictionary ID",
            "type": "integer"
           },
           {
            "array_item": {
             "type": "string"
            },
            "description": "The identifier used in the global power plant database",
            "format": ", ",
            "hierarchy": "equivalent/child",
            "name": "gppd_idnr",
            "title": "GPPD ID",
            "type": "array"
           },
           {
            "description": "The identifier used by the Energy Systems and Artificial Intelligence Lab at UCL",
            "format": "default",
            "hierarchy": "equivalent",
            "name": "esail_id",
            "title": "ESAIL ID",
            "type": "string"
           },
           {
            "description": "The name used to refer to the power plant site",
            "format": "default",
            "hierarchy": "equivalent",
            "name": "name",
            "title": "Common Name",
            "type": "string"
           },
           {
            "array_item": {
             "type": "string"
            },
            "description": "The Balancing Mechanism Unit identifier used for settlement purposes by Elexon",
            "format": ", ",
            "hierarchy": "child",
            "name": "sett_bmu_id",
            "title": "Settlement BMU ID",
            "type": "array"
           },
           {
            "array_item": {
             "type": "string"
            },
            "description": "The Balancing Mechanism Unit identifier used by the National Grid",
            "format": ", ",
            "hierarchy": "child",
            "name": "ngc_bmu_id",
            "title": "National Grid BMU ID",
            "type": "array"
           },
           {
            "array_item": {
             "type": "string"
            },
            "description": "The identifier used by 4C-Offshore",
            "format": ", ",
            "hierarchy": "equivalent/child",
            "name": "4c_offshore_id",
            "title": "4C-Offshore ID",
            "type": "array",
            "url_format": "https://www.4coffshore.com/windfarms/united-kingdom/{value}.html"
           },
           {
            "array_item": {
             "type": "string"
            },
            "description": "The identifier used by the WindPower.Net",
            "format": ", ",
            "hierarchy": "equivalent/child",
            "name": "windpowernet_id",
            "title": "WindPowerNet ID",
            "type": "array",
            "url_format": "https://www.thewindpower.net/{value}.php"
           },
           {
            "array_item": {
             "type": "string"
            },
            "description": "The identifier used by Wikidata",
            "format": ", ",
            "hierarchy": "equivalent/child",
            "name": "wikidata_id",
            "title": "Wikidata ID",
            "type": "array",
            "url_format": "https://www.wikidata.org/wiki/{value}"
           },
           {
            "array_item": {
             "type": "string"
            },
            "description": "The identifier used by Wikipedia",
            "format": ", ",
            "hierarchy": "equivalent/child",
            "name": "wikipedia_id",
            "title": "Wikipedia ID",
            "type": "array",
            "url_format": "https://en.wikipedia.org/wiki/{value}"
           },
           {
            "array_item": {
             "type": "string"
            },
            "description": "The identifier used by Power-Technology",
            "format": ", ",
            "hierarchy": "equivalent/child",
            "name": "power_technology_id",
            "title": "Power-Technology ID",
            "type": "array",
            "url_format": "https://www.power-technology.com/projects/{value}"
           },
           {
            "array_item": {
             "type": "integer"
            },
            "description": "The identifier used in the European (Emissions Trading Scheme) Transaction Logs",
            "format": ", ",
            "hierarchy": "equivalent/child",
            "name": "eutl_id",
            "title": "EUTL ID",
            "type": "array"
           },
           {
            "array_item": {
             "type": "string"
            },
            "description": "The Energy Identification Code or EIC is a 16-character code used in Europe to uniquely identify entities and objects related to the electricity and gas sector. The EIC code is used for: Transmission System Operators, Market Participants etc.",
            "format": ", ",
            "hierarchy": "equivalent/child",
            "name": "eic_id",
            "title": "EIC ID",
            "type": "array"
           },
           {
            "array_item": {
             "type": "string"
            },
            "description": "The identifier used by the Low Carbon Contracts Company to uniquely identify Contracts for Difference projects",
            "format": ", ",
            "hierarchy": "equivalent/child",
            "name": "cfd_id",
            "title": "CfD ID",
            "type": "array"
           },
           {
            "array_item": {
             "type": "string"
            },
            "description": "Unique identifier of the hydro-power plant in the JRC data-base",
            "format": ", ",
            "hierarchy": "equivalent/child",
            "name": "jrc_id",
            "title": "JRC ID",
            "type": "array"
           },
           {
            "array_item": {
             "type": "integer"
            },
            "description": "Unique identifier used by the International Atomic Energy Agency",
            "format": ", ",
            "hierarchy": "equivalent/child",
            "name": "iaea_id",
            "title": "IAEA ID",
            "type": "array"
           },
           {
            "array_item": {
             "type": "string"
            },
            "description": "Unique identifier used by BEIS in the Renewable Energy Planning Database - now superseded by a new ID scheme",
            "format": ", ",
            "hierarchy": "equivalent/child",
            "name": "old_repd_id",
            "title": "REPD ID (Old)",
            "type": "array"
           },
           {
            "array_item": {
             "type": "integer"
            },
            "description": "Unique identifier used by BEIS in the Renewable Energy Planning Database",
            "format": ", ",
            "hierarchy": "equivalent/child",
            "name": "new_repd_id",
            "title": "REPD ID (New)",
            "type": "array"
           }
          ],
          "foreignKeys": [
           {
            "fields": "ngc_bmu_id",
            "reference": {
             "attributes": [
              "FUEL TYPE"
             ],
             "fields": "NGC_BMU_ID",
             "package": "https://raw.githubusercontent.com/OSUKED/Dictionary-Datasets/main/datasets/bmu-fuel-types/datapackage.json",
             "resource": "bmu-fuel-types"
            }
           },
           {
            "fields": "dictionary_id",
            "reference": {
             "attributes": [
              "longitude",
              "latitude"
             ],
             "fields": "dictionary_id",
             "package": "https://raw.githubusercontent.com/OSUKED/Dictionary-Datasets/main/datasets/plant-locations/datapackage.json",
             "resource": "plant-locations"
            }
           },
           {
            "fields": "dictionary_id",
            "reference": {
             "attributes": [
              "plant_type",
              "hub_height"
             ],
             "fields": "dictionary_id",
             "package": "https://raw.githubusercontent.com/OSUKED/Dictionary-Datasets/main/datasets/wind-farms/datapackage.json",
             "resource": "wind-farms"
            }
           },
           {
            "fields": "gppd_idnr",
            "reference": {
             "attributes": [
              "capacity_mw",
              "longitude",
              "latitude",
              "primary_fuel",
              "other_fuel1",
              "other_fuel2",
              "other_fuel3",
              "commissioning_year",
              "owner",
              "source",
              "url",
              "geolocation_source",
              "wepp_id",
              "year_of_capacity_data",
              "generation_gwh_2013",
              "generation_gwh_2014",
              "generation_gwh_2015",
              "generation_gwh_2016",
              "generation_gwh_2017",
              "generation_gwh_2018",
              "generation_gwh_2019",
              "generation_data_source",
              "estimated_generation_gwh_2013",
              "estimated_generation_gwh_2014",
              "estimated_generation_gwh_2015",
              "estimated_generation_gwh_2016",
              "estimated_generation_gwh_2017"
             ],
             "fields": "gppd_idnr",
             "package": "https://raw.githubusercontent.com/OSUKED/Dictionary-Datasets/main/datasets/global-power-plant-database/datapackage.json",
             "resource": "global-power-plant-database"
            }
           },
           {
            "fields": "eutl_id",
            "reference": {
             "aggregation": "sum",
             "alt_indexes": [
              "year"
             ],
             "attributes": [
              "tonnes_co2"
             ],
             "fields": "account_id",
             "package": "https://raw.githubusercontent.com/OSUKED/Dictionary-Datasets/main/datasets/verified-emissions/datapackage.json",
             "resource": "verified-emissions"
            }
           },
           {
            "fields": "ngc_bmu_id",
            "reference": {
             "aggregation": "sum",
             "alt_indexes": [
              "year"
             ],
             "attributes": [
              "output_MWh"
             ],
             "fields": "ngc_bmu_id",
             "package": "https://raw.githubusercontent.com/OSUKED/Dictionary-Datasets/main/datasets/annual-output/datapackage.json",
             "resource": "annual-output"
            }
           },
           {
            "fields": "ngc_bmu_id",
            "reference": {
             "alt_indexes": [
              "year"
             ],
             "attributes": [
              "capture_price"
             ],
             "fields": "ngc_bmu_id",
             "package": "https://raw.githubusercontent.com/OSUKED/Dictionary-Datasets/main/datasets/capture-prices/datapackage.json",
             "resource": "capture-prices"
            }
           },
           {
            "fields": "ngc_bmu_id",
            "reference": {
             "alt_indexes": [
              "year"
             ],
             "attributes": [
              "load_factor"
             ],
             "fields": "ngc_bmu_id",
             "package": "https://raw.githubusercontent.com/OSUKED/Dictionary-Datasets/main/datasets/load-factors/datapackage.json",
             "resource": "load-factors"
            }
           },
           {
            "fields": "jrc_id",
            "reference": {
             "attributes": [
              "installed_capacity_MW",
              "pumping_MW",
              "type",
              "lat",
              "lon",
              "dam_height_m",
              "volume_Mm3",
              "storage_capacity_MWh",
              "avg_annual_generation_GWh",
              "pypsa_id",
              "GEO",
              "WRI"
             ],
             "fields": "id",
             "package": "https://raw.githubusercontent.com/energy-modelling-toolkit/hydro-power-database/master/data/datapackage.json",
             "resource": "jrc-hydro-power-plants-database"
            }
           },
           {
            "fields": "iaea_id",
            "reference": {
             "attributes": [
              "Name",
              "Latitude",
              "Longitude",
              "Status",
              "ReactorType",
              "ReactorModel",
              "ConstructionStartAt",
              "OperationalFrom",
              "OperationalTo",
              "Capacity",
              "Source"
             ],
             "fields": "IAEAId",
             "package": "https://raw.githubusercontent.com/cristianst85/GeoNuclearData/master/data/csv/denormalized/datapackage.json",
             "resource": "nuclear-power-plants"
            }
           },
           {
            "fields": "new_repd_id",
            "reference": {
             "attributes": [
              "Operator (or Applicant)",
              "Site Name",
              "Technology Type",
              "Storage Type",
              "Storage Co-location REPD Ref ID",
              "Installed Capacity (MWelec)",
              "CHP Enabled",
              "RO Banding (ROC/MWh)",
              "FiT Tariff (p/kWh)",
              "CfD Capacity (MW)",
              "Turbine Capacity (MW)",
              "No. of Turbines",
              "Height of Turbines (m)",
              "Mounting Type for Solar",
              "Development Status",
              "Address",
              "County",
              "Region",
              "Country",
              "Post Code",
              "X-coordinate",
              "Y-coordinate",
              "Planning Authority",
              "Planning Application Reference",
              "Appeal Reference",
              "Secretary of State Reference",
              "Type of Secretary of State Intervention",
              "Judicial Review",
              "Offshore Wind Round",
              "Planning Application Submitted",
              "Planning Application Withdrawn",
              "Planning Permission Refused",
              "Appeal Lodged",
              "Appeal Withdrawn",
              "Appeal Refused",
              "Appeal Granted",
              "Planning Permission Granted",
              "Secretary of State - Intervened",
              "Secretary of State - Refusal",
              "Secretary of State - Granted",
              "Planning Permission Expired",
              "Under Construction",
              "Operational",
              "Heat Network Ref"
             ],
             "fields": "Ref ID",
             "package": "https://raw.githubusercontent.com/OSUKED/Dictionary-Datasets/main/datasets/renewable-energy-planning-database/datapackage.json",
             "resource": "renewable-energy-planning-database"
            }
           },
           {
            "fields": "cfd_id",
            "reference": {
             "attributes": [
              "Name_of_CFD_Unit",
              "Allocation_Round",
              "Technology_Type",
              "Transmission_or_Distribution_connection",
              "Status",
              "Expected_Start_Date",
              "Maximum_Contract_Capacity_MW"
             ],
             "fields": "CFD_ID",
             "package": "https://raw.githubusercontent.com/OSUKED/Dictionary-Datasets/main/datasets/cfd-contract-portfolio-status/datapackage.json",
             "resource": "cfd-contract-portfolio-status"
            }
           },
           {
            "fields": "cfd_id",
            "reference": {
             "alt_indexes": [
              "financial_year"
             ],
             "attributes": [
              "strike_price_GBP_per_MWh"
             ],
             "fields": "cfd_id",
             "package": "https://raw.githubusercontent.com/OSUKED/Dictionary-Datasets/main/datasets/cfd-strike-prices/datapackage.json",
             "resource": "cfd-strike-prices"
            }
           }
          ],
          "primaryKey": "dictionary_id"
         }
        }
       ],
       "title": "Power Plant IDs",
       "version": "1.0.0"
      },
      "text/plain": [
       "<IPython.core.display.JSON object>"
      ]
     },
     "execution_count": 10,
     "metadata": {
      "application/json": {
       "expanded": false,
       "root": "root"
      }
     },
     "output_type": "execute_result"
    }
   ],
   "source": [
    "df_powerdict_ids, powerdict_metadata = load_powerdict_data()\n",
    "\n",
    "JSON(powerdict_metadata)"
   ]
  },
  {
   "cell_type": "code",
   "execution_count": null,
   "id": "7dda3ba7-af41-4b98-9cc3-7200cba962f7",
   "metadata": {},
   "outputs": [],
   "source": []
  },
  {
   "cell_type": "code",
   "execution_count": 11,
   "id": "2f560c00-3920-4d63-8459-f321e35aab72",
   "metadata": {},
   "outputs": [],
   "source": [
    "#exports\n",
    "def construct_field_title_to_name_map(powerdict_metadata: dict):\n",
    "    field_title_to_name_map = {\n",
    "        field['title']: field['name'] \n",
    "        for field \n",
    "        in powerdict_metadata['resources'][0]['schema']['fields']\n",
    "    }\n",
    "    \n",
    "    return field_title_to_name_map"
   ]
  },
  {
   "cell_type": "code",
   "execution_count": 12,
   "id": "00667da4-6994-4149-8f26-41394530570a",
   "metadata": {},
   "outputs": [
    {
     "data": {
      "text/plain": [
       "'new_repd_id'"
      ]
     },
     "execution_count": 12,
     "metadata": {},
     "output_type": "execute_result"
    }
   ],
   "source": [
    "field_title_to_name_map = construct_field_title_to_name_map(powerdict_metadata)\n",
    "\n",
    "new_id_title = 'REPD ID (New)'\n",
    "new_id_name = field_title_to_name_map[new_id_title]\n",
    "\n",
    "new_id_name"
   ]
  },
  {
   "cell_type": "code",
   "execution_count": null,
   "id": "75059687-5e31-4714-98f3-a02ad5da7a95",
   "metadata": {},
   "outputs": [],
   "source": []
  },
  {
   "cell_type": "code",
   "execution_count": 15,
   "id": "da898a6b-a1d9-47d1-8679-4f5f007e1df8",
   "metadata": {},
   "outputs": [],
   "source": [
    "#exports\n",
    "def assign_new_id_value(\n",
    "    df_powerdict_ids: pd.DataFrame,\n",
    "    dictionary_id: int,\n",
    "    new_id_title: str,\n",
    "    new_id_value: Any,\n",
    "    field_title_to_name_map: dict,\n",
    "):\n",
    "    new_id_name = field_title_to_name_map[new_id_title]\n",
    "    current_id = df_powerdict_ids.loc[dictionary_id, new_id_name]\n",
    "    new_id_in_old_ids = str(new_id_value) in str(current_id).split(', ')\n",
    "    \n",
    "    if isinstance(current_id, (int, float)):\n",
    "        no_previous_id = np.isnan(current_id)\n",
    "    elif current_id == '' or current_id == 'np.nan':\n",
    "        no_previous_id = True\n",
    "    else:\n",
    "        no_previous_id = False\n",
    "\n",
    "    if new_id_in_old_ids:\n",
    "        pass\n",
    "    elif no_previous_id:\n",
    "        df_powerdict_ids.loc[dictionary_id, new_id_name] = new_id_value\n",
    "    else:\n",
    "        df_powerdict_ids.loc[dictionary_id, new_id_name] = f'{current_id}, {new_id_value}'\n",
    "\n",
    "    return df_powerdict_ids\n",
    "\n",
    "def assign_all_new_id_values(\n",
    "    df_powerdict_ids: pd.DataFrame,\n",
    "    df_sheet: pd.DataFrame,\n",
    "    field_title_to_name_map: dict\n",
    "):\n",
    "    idxs_to_process = df_sheet.index[df_sheet['Processed'].replace('', np.nan).isnull()]\n",
    "    \n",
    "    for dictionary_id, (new_id_title, new_id_value) in df_sheet.loc[idxs_to_process].set_index('Primary Key')[['ID Type', 'ID Value']].iterrows():\n",
    "        df_powerdict_ids = assign_new_id_value(\n",
    "            df_powerdict_ids,\n",
    "            dictionary_id,\n",
    "            new_id_title,\n",
    "            new_id_value,\n",
    "            field_title_to_name_map,\n",
    "        )\n",
    "        \n",
    "    df_sheet.loc[idxs_to_process, 'Processed'] = 1\n",
    "        \n",
    "    return df_powerdict_ids, df_sheet"
   ]
  },
  {
   "cell_type": "code",
   "execution_count": 16,
   "id": "f0d1bea1-893d-46f8-b163-826a73cba49c",
   "metadata": {},
   "outputs": [
    {
     "data": {
      "text/plain": [
       "gppd_idnr                                              GBR0004431\n",
       "esail_id                                                    WISTW\n",
       "name                                     Brockloch Rig 2 Windfarm\n",
       "sett_bmu_id                                             T_WISTW-2\n",
       "ngc_bmu_id                                                WISTW-2\n",
       "4c_offshore_id                                                NaN\n",
       "windpowernet_id        windfarm_en_22062_windy-standard-extension\n",
       "wikidata_id                                                   NaN\n",
       "wikipedia_id                                                  NaN\n",
       "power_technology_id                                           NaN\n",
       "eutl_id                                                       NaN\n",
       "eic_id                                                        NaN\n",
       "cfd_id                                                        NaN\n",
       "jrc_id                                                        NaN\n",
       "iaea_id                                                       NaN\n",
       "old_repd_id                                                 B1290\n",
       "new_repd_id                                                  4615\n",
       "Name: 10167, dtype: object"
      ]
     },
     "execution_count": 16,
     "metadata": {},
     "output_type": "execute_result"
    }
   ],
   "source": [
    "df_powerdict_ids, df_sheet = assign_all_new_id_values(df_powerdict_ids, df_sheet, field_title_to_name_map)\n",
    "    \n",
    "dictionary_id = df_sheet.loc[0, 'Primary Key']\n",
    "df_powerdict_ids.loc[dictionary_id]"
   ]
  },
  {
   "cell_type": "code",
   "execution_count": null,
   "id": "844dd703-024a-4834-8b59-5b14ecbfd7af",
   "metadata": {},
   "outputs": [],
   "source": []
  },
  {
   "cell_type": "code",
   "execution_count": 17,
   "id": "64446225-06e8-432c-a33f-1910a87cd405",
   "metadata": {},
   "outputs": [],
   "source": [
    "sheet_manager.update_sheet_col_values(df_sheet)"
   ]
  },
  {
   "cell_type": "code",
   "execution_count": null,
   "id": "0966a0c1-e47f-405b-bc18-2b8f3a1da94a",
   "metadata": {},
   "outputs": [],
   "source": []
  },
  {
   "cell_type": "code",
   "execution_count": 20,
   "id": "5ef27924-4e3d-41cb-8757-9a4026592db2",
   "metadata": {},
   "outputs": [],
   "source": [
    "#exports\n",
    "app = typer.Typer()\n",
    "\n",
    "@app.command()\n",
    "def update_powerdict_ids_df(\n",
    "    creds_fp: str ='gcloud/power-station-dictionary-f6814eb419e1.json',\n",
    "    sheet_name: str ='Power Station Dictionary - ID Submission (Responses)',\n",
    "    sheet_index: int=0,\n",
    "    ids_fp: str ='data/dictionary/ids.csv',\n",
    "    metadata_fp: str ='data/dictionary/datapackage.json',\n",
    "    processed_col_name: str='Processed'\n",
    "):\n",
    "    sheet_manager = SheetManager(creds_fp=creds_fp, sheet_name=sheet_name, sheet_index=sheet_index)\n",
    "    df_sheet = sheet_manager.load_sheet_df()\n",
    "\n",
    "    df_powerdict_ids, powerdict_metadata = load_powerdict_data(ids_fp=ids_fp, metadata_fp=metadata_fp)\n",
    "    field_title_to_name_map = construct_field_title_to_name_map(powerdict_metadata)\n",
    "\n",
    "    df_powerdict_ids, df_sheet = assign_all_new_id_values(df_powerdict_ids, df_sheet, field_title_to_name_map)\n",
    "    sheet_manager.update_sheet_col_values(df_sheet, col_name=processed_col_name)\n",
    "    df_powerdict_ids.to_csv(ids_fp)\n",
    "    \n",
    "    return df_powerdict_ids"
   ]
  },
  {
   "cell_type": "code",
   "execution_count": 21,
   "id": "d3fa92e7-0d36-49de-8bc0-01caef2b02b7",
   "metadata": {},
   "outputs": [
    {
     "name": "stdout",
     "output_type": "stream",
     "text": [
      "Wall time: 2.24 s\n"
     ]
    },
    {
     "data": {
      "text/html": [
       "<div>\n",
       "<style scoped>\n",
       "    .dataframe tbody tr th:only-of-type {\n",
       "        vertical-align: middle;\n",
       "    }\n",
       "\n",
       "    .dataframe tbody tr th {\n",
       "        vertical-align: top;\n",
       "    }\n",
       "\n",
       "    .dataframe thead th {\n",
       "        text-align: right;\n",
       "    }\n",
       "</style>\n",
       "<table border=\"1\" class=\"dataframe\">\n",
       "  <thead>\n",
       "    <tr style=\"text-align: right;\">\n",
       "      <th></th>\n",
       "      <th>gppd_idnr</th>\n",
       "      <th>esail_id</th>\n",
       "      <th>name</th>\n",
       "      <th>sett_bmu_id</th>\n",
       "      <th>ngc_bmu_id</th>\n",
       "      <th>4c_offshore_id</th>\n",
       "      <th>windpowernet_id</th>\n",
       "      <th>wikidata_id</th>\n",
       "      <th>wikipedia_id</th>\n",
       "      <th>power_technology_id</th>\n",
       "      <th>eutl_id</th>\n",
       "      <th>eic_id</th>\n",
       "      <th>cfd_id</th>\n",
       "      <th>jrc_id</th>\n",
       "      <th>iaea_id</th>\n",
       "      <th>old_repd_id</th>\n",
       "      <th>new_repd_id</th>\n",
       "    </tr>\n",
       "    <tr>\n",
       "      <th>dictionary_id</th>\n",
       "      <th></th>\n",
       "      <th></th>\n",
       "      <th></th>\n",
       "      <th></th>\n",
       "      <th></th>\n",
       "      <th></th>\n",
       "      <th></th>\n",
       "      <th></th>\n",
       "      <th></th>\n",
       "      <th></th>\n",
       "      <th></th>\n",
       "      <th></th>\n",
       "      <th></th>\n",
       "      <th></th>\n",
       "      <th></th>\n",
       "      <th></th>\n",
       "      <th></th>\n",
       "    </tr>\n",
       "  </thead>\n",
       "  <tbody>\n",
       "    <tr>\n",
       "      <th>10000</th>\n",
       "      <td>NaN</td>\n",
       "      <td>MARK</td>\n",
       "      <td>Rothes Bio-Plant CHP</td>\n",
       "      <td>E_MARK-1, E_MARK-2</td>\n",
       "      <td>MARK-1, MARK-2</td>\n",
       "      <td>NaN</td>\n",
       "      <td>NaN</td>\n",
       "      <td>NaN</td>\n",
       "      <td>NaN</td>\n",
       "      <td>NaN</td>\n",
       "      <td>NaN</td>\n",
       "      <td>48W000000MARK-1D</td>\n",
       "      <td>NaN</td>\n",
       "      <td>NaN</td>\n",
       "      <td>NaN</td>\n",
       "      <td>NaN</td>\n",
       "      <td>NaN</td>\n",
       "    </tr>\n",
       "    <tr>\n",
       "      <th>10001</th>\n",
       "      <td>GBR1000377, GBR1000369</td>\n",
       "      <td>DIDC</td>\n",
       "      <td>Didcot</td>\n",
       "      <td>T_DIDC1, T_DIDC2, T_DIDC4, T_DIDC3, T_DIDC1G, ...</td>\n",
       "      <td>DIDC1, DIDC2, DIDC4, DIDC3, DIDC1G, DIDC2G, DI...</td>\n",
       "      <td>NaN</td>\n",
       "      <td>NaN</td>\n",
       "      <td>NaN</td>\n",
       "      <td>NaN</td>\n",
       "      <td>NaN</td>\n",
       "      <td>97165</td>\n",
       "      <td>48W00000DIDC01G1, 48W00000DIDC02GZ, 48W00000DI...</td>\n",
       "      <td>NaN</td>\n",
       "      <td>NaN</td>\n",
       "      <td>NaN</td>\n",
       "      <td>NaN</td>\n",
       "      <td>NaN</td>\n",
       "    </tr>\n",
       "  </tbody>\n",
       "</table>\n",
       "</div>"
      ],
      "text/plain": [
       "                            gppd_idnr esail_id                  name  \\\n",
       "dictionary_id                                                          \n",
       "10000                             NaN     MARK  Rothes Bio-Plant CHP   \n",
       "10001          GBR1000377, GBR1000369     DIDC                Didcot   \n",
       "\n",
       "                                                     sett_bmu_id  \\\n",
       "dictionary_id                                                      \n",
       "10000                                         E_MARK-1, E_MARK-2   \n",
       "10001          T_DIDC1, T_DIDC2, T_DIDC4, T_DIDC3, T_DIDC1G, ...   \n",
       "\n",
       "                                                      ngc_bmu_id  \\\n",
       "dictionary_id                                                      \n",
       "10000                                             MARK-1, MARK-2   \n",
       "10001          DIDC1, DIDC2, DIDC4, DIDC3, DIDC1G, DIDC2G, DI...   \n",
       "\n",
       "              4c_offshore_id windpowernet_id wikidata_id wikipedia_id  \\\n",
       "dictionary_id                                                           \n",
       "10000                    NaN             NaN         NaN          NaN   \n",
       "10001                    NaN             NaN         NaN          NaN   \n",
       "\n",
       "              power_technology_id eutl_id  \\\n",
       "dictionary_id                               \n",
       "10000                         NaN     NaN   \n",
       "10001                         NaN   97165   \n",
       "\n",
       "                                                          eic_id cfd_id  \\\n",
       "dictionary_id                                                             \n",
       "10000                                           48W000000MARK-1D    NaN   \n",
       "10001          48W00000DIDC01G1, 48W00000DIDC02GZ, 48W00000DI...    NaN   \n",
       "\n",
       "              jrc_id iaea_id old_repd_id new_repd_id  \n",
       "dictionary_id                                         \n",
       "10000            NaN     NaN         NaN         NaN  \n",
       "10001            NaN     NaN         NaN         NaN  "
      ]
     },
     "execution_count": 21,
     "metadata": {},
     "output_type": "execute_result"
    }
   ],
   "source": [
    "%%time\n",
    "\n",
    "df_powerdict_ids = update_powerdict_ids_df(\n",
    "    creds_fp='../gcloud/power-station-dictionary-f6814eb419e1.json',\n",
    "    ids_fp='../data/dictionary/ids.csv',\n",
    "    metadata_fp='../data/dictionary/datapackage.json'\n",
    ")\n",
    "\n",
    "df_powerdict_ids.head(2)"
   ]
  },
  {
   "cell_type": "code",
   "execution_count": null,
   "id": "4e6d5e75-238d-408d-b5db-eabac5df2907",
   "metadata": {},
   "outputs": [],
   "source": []
  },
  {
   "cell_type": "code",
   "execution_count": 22,
   "id": "614908f9-6a48-44d1-86ba-b2cb6d46a817",
   "metadata": {},
   "outputs": [],
   "source": [
    "#exports\n",
    "if __name__ == '__main__' and '__file__' in globals():\n",
    "    app()"
   ]
  },
  {
   "cell_type": "code",
   "execution_count": null,
   "id": "316db102-9103-43d4-bd07-aa7ac89314a9",
   "metadata": {},
   "outputs": [],
   "source": []
  },
  {
   "cell_type": "code",
   "execution_count": 23,
   "id": "67b5b5cd-88ac-43e8-88cb-c2f8208e23e4",
   "metadata": {},
   "outputs": [
    {
     "name": "stdout",
     "output_type": "stream",
     "text": [
      "Converted 00-documentation.ipynb.\n",
      "Converted 01-dictionary-page.ipynb.\n",
      "Converted 02-attribute extraction.ipynb.\n",
      "Converted 03-page-population.ipynb.\n",
      "Converted 04-cli.ipynb.\n",
      "Converted 05-carbon-intensity.ipynb.\n",
      "Converted 06-cfd-capture-price-comparison.ipynb.\n",
      "Converted 07-dataset-pages.ipynb.\n",
      "Converted 08-papers.ipynb.\n",
      "Converted 09-id-submission.ipynb.\n"
     ]
    }
   ],
   "source": [
    "#hide\n",
    "from nbdev.export import *\n",
    "notebook2script()"
   ]
  },
  {
   "cell_type": "code",
   "execution_count": null,
   "id": "54be28aa-24f8-4edd-8da8-c780108c459e",
   "metadata": {},
   "outputs": [],
   "source": []
  }
 ],
 "metadata": {
  "kernelspec": {
   "display_name": "PowerDict",
   "language": "python",
   "name": "powerdict"
  },
  "language_info": {
   "codemirror_mode": {
    "name": "ipython",
    "version": 3
   },
   "file_extension": ".py",
   "mimetype": "text/x-python",
   "name": "python",
   "nbconvert_exporter": "python",
   "pygments_lexer": "ipython3",
   "version": "3.9.6"
  }
 },
 "nbformat": 4,
 "nbformat_minor": 5
}
