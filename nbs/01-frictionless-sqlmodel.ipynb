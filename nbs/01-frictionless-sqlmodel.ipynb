{
 "cells": [
  {
   "cell_type": "markdown",
   "id": "4d6ff3c9-8c7f-4381-b81c-2f4b73fd2e7c",
   "metadata": {},
   "source": [
    "# Frictionless SQLModel\n",
    "\n",
    "<br>\n",
    "\n",
    "### Imports"
   ]
  },
  {
   "cell_type": "code",
   "execution_count": 1,
   "id": "4a9aeec0-bc0a-4d1e-bc46-bf09c7ddb18d",
   "metadata": {
    "tags": []
   },
   "outputs": [],
   "source": [
    "import json\n",
    "import requests\n",
    "from copy import copy\n",
    "\n",
    "from powerdict import db, schemas, frictionless"
   ]
  },
  {
   "cell_type": "code",
   "execution_count": 2,
   "id": "82438f02-514c-431d-99d3-39c89fab6fbf",
   "metadata": {},
   "outputs": [],
   "source": [
    "from IPython.display import JSON"
   ]
  },
  {
   "cell_type": "markdown",
   "id": "6c249d05-2186-491e-92dc-ff51165d6dbb",
   "metadata": {},
   "source": [
    "<br>\n",
    "\n",
    "### Frictionless Specifications\n",
    "\n",
    "A Frictionless `DataPackage` contains one or more `DataResource`s that have a corresponding `DataSchema` with `FieldDescriptor`s that describe individual columns within datasets.\n",
    "\n",
    "Here we'll load in the schema for a `DataPackage`"
   ]
  },
  {
   "cell_type": "code",
   "execution_count": 3,
   "id": "0d33870f-4e02-426c-aa2d-11be0769d941",
   "metadata": {},
   "outputs": [
    {
     "data": {
      "application/json": {
       "definitions": {
        "DataContributor": {
         "properties": {
          "email": {
           "format": "email",
           "title": "Email",
           "type": "string"
          },
          "organization": {
           "title": "Organization",
           "type": "string"
          },
          "path": {
           "anyOf": [
            {
             "format": "path",
             "type": "string"
            },
            {
             "format": "uri",
             "maxLength": 65536,
             "minLength": 1,
             "type": "string"
            }
           ],
           "title": "Path"
          },
          "role": {
           "allOf": [
            {
             "$ref": "#/definitions/DataContributorRole"
            }
           ],
           "default": "contributor"
          },
          "title": {
           "title": "Title",
           "type": "string"
          }
         },
         "required": [
          "title"
         ],
         "title": "DataContributor",
         "type": "object"
        },
        "DataContributorRole": {
         "description": "An enumeration.",
         "enum": [
          "author",
          "publisher",
          "maintainer",
          "wrangler",
          "contributor"
         ],
         "title": "DataContributorRole",
         "type": "string"
        },
        "DataLicense": {
         "anyOf": [
          {
           "required": [
            "path"
           ]
          },
          {
           "required": [
            "name"
           ]
          }
         ],
         "properties": {
          "name": {
           "title": "Name",
           "type": "string"
          },
          "path": {
           "anyOf": [
            {
             "format": "path",
             "type": "string"
            },
            {
             "format": "uri",
             "maxLength": 65536,
             "minLength": 1,
             "type": "string"
            }
           ],
           "title": "Path"
          },
          "title": {
           "title": "Title",
           "type": "string"
          }
         },
         "title": "DataLicense",
         "type": "object"
        },
        "DataPackageProfile": {
         "description": "An enumeration.",
         "enum": [
          "tabular-data-package"
         ],
         "title": "DataPackageProfile",
         "type": "string"
        },
        "DataResource": {
         "anyOf": [
          {
           "required": [
            "path"
           ]
          },
          {
           "required": [
            "data"
           ]
          }
         ],
         "properties": {
          "bytes": {
           "title": "Bytes",
           "type": "integer"
          },
          "data": {
           "items": {
            "type": "object"
           },
           "title": "Data",
           "type": "array"
          },
          "description": {
           "title": "Description",
           "type": "string"
          },
          "encoding": {
           "title": "Encoding",
           "type": "string"
          },
          "fd_schema": {
           "$ref": "#/definitions/DataSchema"
          },
          "format": {
           "$ref": "#/definitions/DataResourceFormat"
          },
          "hash": {
           "title": "Hash",
           "type": "string"
          },
          "licenses": {
           "items": {
            "$ref": "#/definitions/DataLicense"
           },
           "title": "Licenses",
           "type": "array"
          },
          "mediatype": {
           "title": "Mediatype",
           "type": "string"
          },
          "name": {
           "pattern": "^[a-z0-9_\\.,-]*$",
           "title": "Name",
           "type": "string"
          },
          "path": {
           "anyOf": [
            {
             "format": "path",
             "type": "string"
            },
            {
             "format": "uri",
             "maxLength": 65536,
             "minLength": 1,
             "type": "string"
            }
           ],
           "title": "Path"
          },
          "profile": {
           "allOf": [
            {
             "$ref": "#/definitions/DataResourceProfile"
            }
           ],
           "default": "tabular-data-resource"
          },
          "sources": {
           "items": {
            "$ref": "#/definitions/DataSource"
           },
           "title": "Sources",
           "type": "array"
          },
          "title": {
           "title": "Title",
           "type": "string"
          }
         },
         "required": [
          "name"
         ],
         "title": "DataResource",
         "type": "object"
        },
        "DataResourceFormat": {
         "description": "An enumeration.",
         "enum": [
          "csv",
          "xls",
          "json",
          "zip"
         ],
         "title": "DataResourceFormat",
         "type": "string"
        },
        "DataResourceProfile": {
         "description": "An enumeration.",
         "enum": [
          "tabular-data-resource",
          "data-resource"
         ],
         "title": "DataResourceProfile",
         "type": "string"
        },
        "DataSchema": {
         "properties": {
          "fields": {
           "items": {
            "$ref": "#/definitions/FieldDescriptor"
           },
           "title": "Fields",
           "type": "array"
          },
          "foreignKeys": {
           "items": {
            "type": "string"
           },
           "title": "Foreignkeys",
           "type": "array"
          },
          "missingValues": {
           "items": {
            "type": "string"
           },
           "title": "Missingvalues",
           "type": "array"
          },
          "primaryKey": {
           "title": "Primarykey",
           "type": "string"
          }
         },
         "required": [
          "fields"
         ],
         "title": "DataSchema",
         "type": "object"
        },
        "DataSource": {
         "properties": {
          "email": {
           "format": "email",
           "title": "Email",
           "type": "string"
          },
          "path": {
           "anyOf": [
            {
             "format": "path",
             "type": "string"
            },
            {
             "format": "uri",
             "maxLength": 65536,
             "minLength": 1,
             "type": "string"
            }
           ],
           "title": "Path"
          },
          "title": {
           "title": "Title",
           "type": "string"
          }
         },
         "required": [
          "title"
         ],
         "title": "DataSource",
         "type": "object"
        },
        "FieldDescriptor": {
         "properties": {
          "constraints": {
           "anyOf": [
            {
             "type": "string"
            },
            {}
           ],
           "title": "Constraints"
          },
          "description": {
           "anyOf": [
            {
             "type": "string"
            },
            {}
           ],
           "title": "Description"
          },
          "example": {
           "anyOf": [
            {
             "type": "string"
            },
            {}
           ],
           "title": "Example"
          },
          "format": {
           "title": "Format",
           "type": "string"
          },
          "name": {
           "title": "Name",
           "type": "string"
          },
          "rdfType": {
           "title": "Rdftype",
           "type": "string"
          },
          "title": {
           "title": "Title",
           "type": "string"
          },
          "type": {
           "title": "Type",
           "type": "string"
          }
         },
         "required": [
          "name"
         ],
         "title": "FieldDescriptor",
         "type": "object"
        }
       },
       "properties": {
        "contributors": {
         "items": {
          "$ref": "#/definitions/DataContributor"
         },
         "title": "Contributors",
         "type": "array"
        },
        "created": {
         "format": "date-time",
         "title": "Created",
         "type": "string"
        },
        "description": {
         "title": "Description",
         "type": "string"
        },
        "homepage": {
         "title": "Homepage",
         "type": "string"
        },
        "id": {
         "anyOf": [
          {
           "format": "uuid",
           "type": "string"
          },
          {}
         ],
         "title": "Id"
        },
        "image": {
         "anyOf": [
          {
           "format": "path",
           "type": "string"
          },
          {
           "format": "uri",
           "maxLength": 65536,
           "minLength": 1,
           "type": "string"
          }
         ],
         "title": "Image"
        },
        "keywords": {
         "items": {
          "type": "string"
         },
         "title": "Keywords",
         "type": "array"
        },
        "licenses": {
         "items": {
          "$ref": "#/definitions/DataLicense"
         },
         "title": "Licenses",
         "type": "array"
        },
        "name": {
         "pattern": "^[a-z0-9_\\.,-]*$",
         "title": "Name",
         "type": "string"
        },
        "profile": {
         "allOf": [
          {
           "$ref": "#/definitions/DataPackageProfile"
          }
         ],
         "default": "tabular-data-package"
        },
        "resources": {
         "items": {
          "$ref": "#/definitions/DataResource"
         },
         "title": "Resources",
         "type": "array"
        },
        "sources": {
         "items": {
          "$ref": "#/definitions/DataSource"
         },
         "title": "Sources",
         "type": "array"
        },
        "title": {
         "title": "Title",
         "type": "string"
        },
        "version": {
         "pattern": "^(0|[1-9]\\d*)\\.(0|[1-9]\\d*)\\.(0|[1-9]\\d*)(?:-((?:0|[1-9]\\d*|\\d*[a-zA-Z-][0-9a-zA-Z-]*)(?:\\.(?:0|[1-9]\\d*|\\d*[a-zA-Z-][0-9a-zA-Z-]*))*))?(?:\\+([0-9a-zA-Z-]+(?:\\.[0-9a-zA-Z-]+)*))?$",
         "title": "Version",
         "type": "string"
        }
       },
       "required": [
        "name",
        "version",
        "resources"
       ],
       "title": "DataPackage",
       "type": "object"
      },
      "text/plain": [
       "<IPython.core.display.JSON object>"
      ]
     },
     "execution_count": 3,
     "metadata": {
      "application/json": {
       "expanded": false,
       "root": "root"
      }
     },
     "output_type": "execute_result"
    }
   ],
   "source": [
    "JSON(schemas.DataPackage.schema())"
   ]
  },
  {
   "cell_type": "code",
   "execution_count": 4,
   "id": "31491196-a274-4606-bba3-0a4c19acbc16",
   "metadata": {},
   "outputs": [
    {
     "data": {
      "text/plain": [
       "'{\"title\": \"DataPackage\", \"type\": \"object\", \"properties\": {\"name\": {\"title\": \"Name\", \"pattern\": \"^[a-z0-9_\\\\\\\\.,-]*$\", \"type\": \"string\"}, \"id\": {\"title\": \"Id\", \"anyOf\": [{\"type\": \"string\", \"format\": \"uuid\"}, {}]}, \"profile\": {\"default\": \"tabular-data-package\", \"allOf\": [{\"$ref\": \"#/definitions/DataPackageProfile\"}]}, \"title\": {\"title\": \"Title\", \"type\": \"string\"}, \"description\": {\"title\": \"Description\", \"type\": \"string\"}, \"homepage\": {\"title\": \"Homepage\", \"type\": \"string\"}, \"version\": {\"title\": \"Version\", \"pattern\": \"^(0|[1-9]\\\\\\\\d*)\\\\\\\\.(0|[1-9]\\\\\\\\d*)\\\\\\\\.(0|[1-9]\\\\\\\\d*)(?:-((?:0|[1-9]\\\\\\\\d*|\\\\\\\\d*[a-zA-Z-][0-9a-zA-Z-]*)(?:\\\\\\\\.(?:0|[1-9]\\\\\\\\d*|\\\\\\\\d*[a-zA-Z-][0-9a-zA-Z-]*))*))?(?:\\\\\\\\+([0-9a-zA-Z-]+(?:\\\\\\\\.[0-9a-zA-Z-]+)*))?$\", \"type\": \"string\"}, \"keywords\": {\"title\": \"Keywords\", \"type\": \"array\", \"items\": {\"type\": \"string\"}}, \"image\": {\"title\": \"Image\", \"anyOf\": [{\"type\": \"string\", \"format\": \"path\"}, {\"type\": \"string\", \"minLength\": 1, \"maxLength\": 65536, \"format\": \"uri\"}]}, \"created\": {\"title\": \"Created\", \"type\": \"string\", \"format\": \"date-time\"}, \"resources\": {\"title\": \"Resources\", \"type\": \"array\", \"items\": {\"$ref\": \"#/definitions/DataResource\"}}, \"licenses\": {\"title\": \"Licenses\", \"type\": \"array\", \"items\": {\"$ref\": \"#/definitions/DataLicense\"}}, \"sources\": {\"title\": \"Sources\", \"type\": \"array\", \"items\": {\"$ref\": \"#/definitions/DataSource\"}}, \"contributors\": {\"title\": \"Contributors\", \"type\": \"array\", \"items\": {\"$ref\": \"#/definitions/DataContributor\"}}}, \"required\": [\"name\", \"version\", \"resources\"], \"definitions\": {\"DataPackageProfile\": {\"title\": \"DataPackageProfile\", \"description\": \"An enumeration.\", \"enum\": [\"tabular-data-package\"], \"type\": \"string\"}, \"DataResourceProfile\": {\"title\": \"DataResourceProfile\", \"description\": \"An enumeration.\", \"enum\": [\"tabular-data-resource\", \"data-resource\"], \"type\": \"string\"}, \"DataResourceFormat\": {\"title\": \"DataResourceFormat\", \"description\": \"An enumeration.\", \"enum\": [\"csv\", \"xls\", \"json\", \"zip\"], \"type\": \"string\"}, \"FieldDescriptor\": {\"title\": \"FieldDescriptor\", \"type\": \"object\", \"properties\": {\"name\": {\"title\": \"Name\", \"type\": \"string\"}, \"title\": {\"title\": \"Title\", \"type\": \"string\"}, \"description\": {\"title\": \"Description\", \"anyOf\": [{\"type\": \"string\"}, {}]}, \"type\": {\"title\": \"Type\", \"type\": \"string\"}, \"format\": {\"title\": \"Format\", \"type\": \"string\"}, \"example\": {\"title\": \"Example\", \"anyOf\": [{\"type\": \"string\"}, {}]}, \"rdfType\": {\"title\": \"Rdftype\", \"type\": \"string\"}, \"constraints\": {\"title\": \"Constraints\", \"anyOf\": [{\"type\": \"string\"}, {}]}}, \"required\": [\"name\"]}, \"DataSchema\": {\"title\": \"DataSchema\", \"type\": \"object\", \"properties\": {\"missingValues\": {\"title\": \"Missingvalues\", \"type\": \"array\", \"items\": {\"type\": \"string\"}}, \"primaryKey\": {\"title\": \"Primarykey\", \"type\": \"string\"}, \"foreignKeys\": {\"title\": \"Foreignkeys\", \"type\": \"array\", \"items\": {\"type\": \"string\"}}, \"fields\": {\"title\": \"Fields\", \"type\": \"array\", \"items\": {\"$ref\": \"#/definitions/FieldDescriptor\"}}}, \"required\": [\"fields\"]}, \"DataSource\": {\"title\": \"DataSource\", \"type\": \"object\", \"properties\": {\"title\": {\"title\": \"Title\", \"type\": \"string\"}, \"path\": {\"title\": \"Path\", \"anyOf\": [{\"type\": \"string\", \"format\": \"path\"}, {\"type\": \"string\", \"minLength\": 1, \"maxLength\": 65536, \"format\": \"uri\"}]}, \"email\": {\"title\": \"Email\", \"type\": \"string\", \"format\": \"email\"}}, \"required\": [\"title\"]}, \"DataLicense\": {\"title\": \"DataLicense\", \"type\": \"object\", \"properties\": {\"name\": {\"title\": \"Name\", \"type\": \"string\"}, \"path\": {\"title\": \"Path\", \"anyOf\": [{\"type\": \"string\", \"format\": \"path\"}, {\"type\": \"string\", \"minLength\": 1, \"maxLength\": 65536, \"format\": \"uri\"}]}, \"title\": {\"title\": \"Title\", \"type\": \"string\"}}, \"anyOf\": [{\"required\": [\"path\"]}, {\"required\": [\"name\"]}]}, \"DataResource\": {\"title\": \"DataResource\", \"type\": \"object\", \"properties\": {\"name\": {\"title\": \"Name\", \"pattern\": \"^[a-z0-9_\\\\\\\\.,-]*$\", \"type\": \"string\"}, \"data\": {\"title\": \"Data\", \"type\": \"array\", \"items\": {\"type\": \"object\"}}, \"path\": {\"title\": \"Path\", \"anyOf\": [{\"type\": \"string\", \"format\": \"path\"}, {\"type\": \"string\", \"minLength\": 1, \"maxLength\": 65536, \"format\": \"uri\"}]}, \"profile\": {\"default\": \"tabular-data-resource\", \"allOf\": [{\"$ref\": \"#/definitions/DataResourceProfile\"}]}, \"title\": {\"title\": \"Title\", \"type\": \"string\"}, \"description\": {\"title\": \"Description\", \"type\": \"string\"}, \"format\": {\"$ref\": \"#/definitions/DataResourceFormat\"}, \"mediatype\": {\"title\": \"Mediatype\", \"type\": \"string\"}, \"encoding\": {\"title\": \"Encoding\", \"type\": \"string\"}, \"bytes\": {\"title\": \"Bytes\", \"type\": \"integer\"}, \"hash\": {\"title\": \"Hash\", \"type\": \"string\"}, \"fd_schema\": {\"$ref\": \"#/definitions/DataSchema\"}, \"sources\": {\"title\": \"Sources\", \"type\": \"array\", \"items\": {\"$ref\": \"#/definitions/DataSource\"}}, \"licenses\": {\"title\": \"Licenses\", \"type\": \"array\", \"items\": {\"$ref\": \"#/definitions/DataLicense\"}}}, \"required\": [\"name\"], \"anyOf\": [{\"required\": [\"path\"]}, {\"required\": [\"data\"]}]}, \"DataContributorRole\": {\"title\": \"DataContributorRole\", \"description\": \"An enumeration.\", \"enum\": [\"author\", \"publisher\", \"maintainer\", \"wrangler\", \"contributor\"], \"type\": \"string\"}, \"DataContributor\": {\"title\": \"DataContributor\", \"type\": \"object\", \"properties\": {\"title\": {\"title\": \"Title\", \"type\": \"string\"}, \"path\": {\"title\": \"Path\", \"anyOf\": [{\"type\": \"string\", \"format\": \"path\"}, {\"type\": \"string\", \"minLength\": 1, \"maxLength\": 65536, \"format\": \"uri\"}]}, \"email\": {\"title\": \"Email\", \"type\": \"string\", \"format\": \"email\"}, \"role\": {\"default\": \"contributor\", \"allOf\": [{\"$ref\": \"#/definitions/DataContributorRole\"}]}, \"organization\": {\"title\": \"Organization\", \"type\": \"string\"}}, \"required\": [\"title\"]}}}'"
      ]
     },
     "execution_count": 4,
     "metadata": {},
     "output_type": "execute_result"
    }
   ],
   "source": [
    "schemas.DataPackage.schema_json()"
   ]
  },
  {
   "cell_type": "markdown",
   "id": "544b0800-0f19-4989-aa5f-b6d8a1721152",
   "metadata": {},
   "source": [
    "<br>\n",
    "\n",
    "We'll now load in an example frictionless dataset"
   ]
  },
  {
   "cell_type": "code",
   "execution_count": 5,
   "id": "70f801fb-cbac-4181-a6cf-a1cbbfd5be70",
   "metadata": {
    "tags": []
   },
   "outputs": [],
   "source": [
    "def load_raw_fd_package(fd_fp):\n",
    "    with open(fd_fp, 'r') as f:\n",
    "        raw_fd_package = json.load(f)\n",
    "        \n",
    "    return raw_fd_package"
   ]
  },
  {
   "cell_type": "code",
   "execution_count": 6,
   "id": "36890b09-2fa6-44b1-8c89-0286508a74df",
   "metadata": {
    "tags": []
   },
   "outputs": [
    {
     "data": {
      "application/json": [
       {
        "contributors": [
         {
          "role": "author",
          "title": "BEIS"
         }
        ],
        "description": "The Renewable Energy Planning Database ('REPD') is managed by Barbour ABI on behalf of the Department of Business, Energy & Industrial Strategy ('BEIS’). The databases track the progress of renewable electricity projects (including those that could also be used for CHP), and electricity storage projects  from inception, through planning, construction, operation and decommissioning.\n\nThe REPD is updated on a quarterly basis, and contains information on all Renewable Electricity and CHP projects up to the end of the previous calendar month.",
        "homepage": "https://www.gov.uk/government/publications/renewable-energy-planning-database-monthly-extract",
        "name": "renewable-energy-planning-database",
        "profile": "tabular-data-package",
        "resources": [
         {
          "name": "renewable-energy-planning-database",
          "path": "renewable-energy-planning-database-q2-june-2021.csv",
          "profile": "tabular-data-resource",
          "schema": {
           "fields": [
            {
             "description": "The old reference ID associated with a project in a previous version of the database",
             "format": "default",
             "name": "Old Ref ID",
             "title": "Old Ref ID",
             "type": "string"
            },
            {
             "description": "Project reference ID number in REPD database",
             "format": "default",
             "name": "Ref ID",
             "title": "Ref ID",
             "type": "integer"
            },
            {
             "description": "Date a project record was last updated or checked",
             "format": "%d/%m/%Y",
             "name": "Record Last Updated (dd/mm/yyyy)",
             "title": "Record Last Updated",
             "type": "date"
            },
            {
             "description": "Name of operator or applicant",
             "format": "default",
             "name": "Operator (or Applicant)",
             "title": "Operator (or Applicant)",
             "type": "string"
            },
            {
             "description": "Name of development site",
             "format": "default",
             "name": "Site Name",
             "title": "Site Name",
             "type": "string"
            },
            {
             "description": "Type of technology (e.g. solar photovoltaics, offshore wind etc.)",
             "format": "default",
             "name": "Technology Type",
             "title": "Technology Type",
             "type": "string"
            },
            {
             "description": "Describes whether the attached storage is co-located with RES/fossil-fuels or stand-alone",
             "format": "default",
             "name": "Storage Type",
             "title": "Storage Type",
             "type": "string"
            },
            {
             "description": "The (new) REPD ID associated with the storage unit attached to the site",
             "format": "default",
             "name": "Storage Co-location REPD Ref ID",
             "title": "Storage Co-location REPD Ref ID",
             "type": "string"
            },
            {
             "description": "Installed electrical capacity in megawatts (MW)",
             "format": "default",
             "name": "Installed Capacity (MWelec)",
             "rdfType": "http://openenergy-platform.org/ontology/oeo/OEO_00230003",
             "title": "Installed Capacity (MWelec)",
             "type": "number"
            },
            {
             "description": "Is the project capable of combined heat and power output",
             "format": "default",
             "name": "CHP Enabled",
             "title": "CHP Enabled",
             "type": "string"
            },
            {
             "description": "The banding levels for the RO subsidy, where each band represents a multiplier to the standard ROC price",
             "format": "default",
             "name": "RO Banding (ROC/MWh)",
             "title": "RO Banding (ROC/MWh)",
             "type": "number"
            },
            {
             "description": "The price received by the site through the FiT scheme",
             "format": "default",
             "name": "FiT Tariff (p/kWh)",
             "title": "FiT Tariff (p/kWh)",
             "type": "number"
            },
            {
             "description": "The maximum contracted capacity which can receive subsidies through the CfD scheme",
             "format": "default",
             "name": "CfD Capacity (MW)",
             "title": "CfD Capacity (MW)",
             "type": "number"
            },
            {
             "description": "For windfarms, the individual capacity of each wind turbine in megawatts (MW)",
             "format": "default",
             "name": "Turbine Capacity (MW)",
             "title": "Turbine Capacity (MW)",
             "type": "number"
            },
            {
             "description": "For windfarms, the number of wind turbines to be located on the development site",
             "format": "default",
             "name": "No. of Turbines",
             "title": "No. of Turbines",
             "type": "number"
            },
            {
             "description": "For windfarms, the height of the wind turbines in metres (m)",
             "format": "default",
             "name": "Height of Turbines (m)",
             "rdfType": "http://openenergy-platform.org/ontology/oeo/OEO_00140000",
             "title": "Height of Turbines (m)",
             "type": "number"
            },
            {
             "description": "For solar PV developments, whether the PV panels are ground or roof mounted",
             "format": "default",
             "name": "Mounting Type for Solar",
             "title": "Mounting Type for Solar",
             "type": "string"
            },
            {
             "description": "The full description of the current development status",
             "format": "default",
             "name": "Development Status",
             "title": "Development Status",
             "type": "string"
            },
            {
             "description": "The short description of the current development status",
             "format": "default",
             "name": "Development Status (short)",
             "title": "Development Status (short)",
             "type": "string"
            },
            {
             "description": "Site address of the development",
             "format": "default",
             "name": "Address",
             "title": "Address",
             "type": "string"
            },
            {
             "description": "County the development site is located within",
             "format": "default",
             "name": "County",
             "title": "County",
             "type": "string"
            },
            {
             "description": "Region the development site is located within",
             "format": "default",
             "name": "Region",
             "title": "Region",
             "type": "string"
            },
            {
             "description": "Country the development site is located within",
             "format": "default",
             "name": "Country",
             "title": "Country",
             "type": "string"
            },
            {
             "description": "Post code of the development site",
             "format": "default",
             "name": "Post Code",
             "title": "Post Code",
             "type": "string"
            },
            {
             "description": "X coordinate for development site in British National Grid (EPSG:27700)",
             "format": "default",
             "name": "X-coordinate",
             "title": "X-coordinate",
             "type": "integer"
            },
            {
             "description": "Y coordinate for development site in British National Grid (EPSG:27700)",
             "format": "default",
             "name": "Y-coordinate",
             "title": "Y-coordinate",
             "type": "integer"
            },
            {
             "description": "The relevant local planning authority for the project",
             "format": "default",
             "name": "Planning Authority",
             "title": "Planning Authority",
             "type": "string"
            },
            {
             "description": "The reference number associated with the planning application",
             "format": "default",
             "name": "Planning Application Reference",
             "title": "Planning Application Reference",
             "type": "string"
            },
            {
             "description": "The reference number associated with an appeal",
             "format": "default",
             "name": "Appeal Reference",
             "title": "Appeal Reference",
             "type": "string"
            },
            {
             "description": "The reference number associated with a Secretary of State Intervention",
             "format": "default",
             "name": "Secretary of State Reference",
             "title": "Secretary of State Reference",
             "type": "string"
            },
            {
             "description": "The type of Secretary of State of Intervention. This can be one of three types: recovery, call-in, or holding direction",
             "format": "default",
             "name": "Type of Secretary of State Intervention",
             "title": "Type of Secretary of State Intervention",
             "type": "string"
            },
            {
             "description": "The latest date of when a legal challenge has been launched to review the lawfulness of a planning application and/or appeal decision",
             "format": "default",
             "name": "Judicial Review",
             "title": "Judicial Review",
             "type": "integer"
            },
            {
             "description": "Leasing round in which an offshore wind project was established",
             "format": "default",
             "name": "Offshore Wind Round",
             "title": "Offshore Wind Round",
             "type": "string"
            },
            {
             "description": "Date planning application was validated",
             "format": "%d/%m/%Y",
             "name": "Planning Application Submitted",
             "title": "Planning Application Submitted",
             "type": "date"
            },
            {
             "description": "Date planning application was withdrawn",
             "format": "%d/%m/%Y",
             "name": "Planning Application Withdrawn",
             "title": "Planning Application Withdrawn",
             "type": "date"
            },
            {
             "description": "Date planning permission was refused",
             "format": "%d/%m/%Y",
             "name": "Planning Permission Refused",
             "title": "Planning Permission Refused",
             "type": "date"
            },
            {
             "description": "Date an appeal was lodged",
             "format": "%d/%m/%Y",
             "name": "Appeal Lodged",
             "title": "Appeal Lodged",
             "type": "date"
            },
            {
             "description": "Date an appeal was withdrawn",
             "format": "%d/%m/%Y",
             "name": "Appeal Withdrawn",
             "title": "Appeal Withdrawn",
             "type": "date"
            },
            {
             "description": "Date an appeal was refused (dismissed)",
             "format": "%d/%m/%Y",
             "name": "Appeal Refused",
             "title": "Appeal Refused",
             "type": "date"
            },
            {
             "description": "Date an appeal was granted (upheld)",
             "format": "%d/%m/%Y",
             "name": "Appeal Granted",
             "title": "Appeal Granted",
             "type": "date"
            },
            {
             "description": "Date planning permission was granted by the planning authority",
             "format": "%d/%m/%Y",
             "name": "Planning Permission Granted",
             "title": "Planning Permission Granted",
             "type": "date"
            },
            {
             "description": "Date of a project that is 'Called In' by the Secretary of State",
             "format": "%d/%m/%Y",
             "name": "Secretary of State - Intervened",
             "title": "Secretary of State - Intervened",
             "type": "date"
            },
            {
             "description": "Date planning permission was refused by the Secretary of State",
             "format": "%d/%m/%Y",
             "name": "Secretary of State - Refusal",
             "title": "Secretary of State - Refusal",
             "type": "date"
            },
            {
             "description": "Date planning permission was granted by the Secretary of State",
             "format": "%d/%m/%Y",
             "name": "Secretary of State - Granted",
             "title": "Secretary of State - Granted",
             "type": "date"
            },
            {
             "description": "Date a planning permission expires (as per the planning decision)",
             "format": "%d/%m/%Y",
             "name": "Planning Permission Expired",
             "title": "Planning Permission Expired",
             "type": "date"
            },
            {
             "description": "Date construction on site has begun",
             "format": "%d/%m/%Y",
             "name": "Under Construction",
             "title": "Under Construction",
             "type": "date"
            },
            {
             "description": "Date a project become operational",
             "format": "%d/%m/%Y",
             "name": "Operational",
             "title": "Operational",
             "type": "date"
            },
            {
             "description": "The reference ID for the associated heat-network within the Heat Networks Planning Database",
             "format": "default",
             "name": "Heat Network Ref",
             "title": "Heat Network Ref",
             "type": "integer"
            }
           ]
          }
         }
        ],
        "title": "Renewable Energy Planning Database",
        "version": "0.1.0"
       }
      ],
      "text/plain": [
       "<IPython.core.display.JSON object>"
      ]
     },
     "execution_count": 6,
     "metadata": {
      "application/json": {
       "expanded": false,
       "root": "root"
      }
     },
     "output_type": "execute_result"
    }
   ],
   "source": [
    "fd_fp = '../tests/data/s-and-p-500-companies.json'\n",
    "fd_fp = '../tests/data/repd-metadata.json'\n",
    "\n",
    "raw_package_metadata = load_raw_fd_package(fd_fp)\n",
    "\n",
    "JSON([raw_package_metadata])"
   ]
  },
  {
   "cell_type": "markdown",
   "id": "446c560c-59be-4a43-b0ab-8c53c8014daf",
   "metadata": {},
   "source": [
    "<br>\n",
    "\n",
    "We can now parse and validate this raw package metadata using our schema"
   ]
  },
  {
   "cell_type": "code",
   "execution_count": 7,
   "id": "d82b784d-c581-46d7-aa53-11e521ad4b32",
   "metadata": {},
   "outputs": [
    {
     "data": {
      "text/plain": [
       "DataPackage(name='renewable-energy-planning-database', id=None, profile=<DataPackageProfile.tabular_data_package: 'tabular-data-package'>, title='Renewable Energy Planning Database', description=\"The Renewable Energy Planning Database ('REPD') is managed by Barbour ABI on behalf of the Department of Business, Energy & Industrial Strategy ('BEIS’). The databases track the progress of renewable electricity projects (including those that could also be used for CHP), and electricity storage projects  from inception, through planning, construction, operation and decommissioning.\\n\\nThe REPD is updated on a quarterly basis, and contains information on all Renewable Electricity and CHP projects up to the end of the previous calendar month.\", homepage='https://www.gov.uk/government/publications/renewable-energy-planning-database-monthly-extract', version='0.1.0', keywords=None, image=None, created=None, resources=[DataResource(name='renewable-energy-planning-database', data=None, path=PosixPath('renewable-energy-planning-database-q2-june-2021.csv'), profile=<DataResourceProfile.tabular_data_resource: 'tabular-data-resource'>, title=None, description=None, format=None, mediatype=None, encoding=None, bytes=None, hash=None, fd_schema=None, sources=None, licenses=None)], licenses=None, sources=None, contributors=[DataContributor(title='BEIS', path=None, email=None, role=<DataContributorRole.author: 'author'>, organization=None)])"
      ]
     },
     "execution_count": 7,
     "metadata": {},
     "output_type": "execute_result"
    }
   ],
   "source": [
    "package_metadata = schemas.DataPackage.parse_obj(raw_package_metadata)\n",
    "\n",
    "package_metadata"
   ]
  },
  {
   "cell_type": "markdown",
   "id": "591e6a39-563c-45b1-bb03-0375cb9eada7",
   "metadata": {},
   "source": [
    "<br>\n",
    "\n",
    "### Saving to a DB"
   ]
  },
  {
   "cell_type": "code",
   "execution_count": 8,
   "id": "9bc00cdc-04d4-42f1-8452-aa2031f77105",
   "metadata": {},
   "outputs": [],
   "source": [
    "db_fp = '../tests/data/dictionary.db'"
   ]
  },
  {
   "cell_type": "code",
   "execution_count": null,
   "id": "93cce86d-4399-497c-ae39-9db84e9382f3",
   "metadata": {},
   "outputs": [],
   "source": []
  },
  {
   "cell_type": "code",
   "execution_count": 9,
   "id": "5c38bda7-5241-48ba-80b6-38d066f588c4",
   "metadata": {},
   "outputs": [
    {
     "data": {
      "text/plain": [
       "<powerdict.db.DbClient at 0x1370bea60>"
      ]
     },
     "execution_count": 9,
     "metadata": {},
     "output_type": "execute_result"
    }
   ],
   "source": [
    "db_client = db.DbClient(\n",
    "    database_name=db_fp,\n",
    "    dialect='sqlite',\n",
    "    driver=None,\n",
    ")\n",
    "\n",
    "db_client.create_tables()\n",
    "\n",
    "db_client"
   ]
  },
  {
   "cell_type": "code",
   "execution_count": null,
   "id": "adcdd755-9c3a-4f01-81b4-654ae2f49c76",
   "metadata": {},
   "outputs": [],
   "source": []
  },
  {
   "cell_type": "code",
   "execution_count": 10,
   "id": "78d5c8ad-52b7-4aec-aecd-b608ab30ba0a",
   "metadata": {
    "tags": []
   },
   "outputs": [
    {
     "data": {
      "text/plain": [
       "UUID('2c815271-d51a-4ac9-86da-2793465bd477')"
      ]
     },
     "execution_count": 10,
     "metadata": {},
     "output_type": "execute_result"
    }
   ],
   "source": [
    "raw_package_metadata = load_raw_fd_package(fd_fp)\n",
    "fd_package = frictionless.save_fd_package_to_db(raw_package_metadata, db_client)\n",
    "\n",
    "fd_package.data_package_id"
   ]
  },
  {
   "cell_type": "code",
   "execution_count": null,
   "id": "8e7bd075-6011-4ded-b887-a7cf48a836ee",
   "metadata": {},
   "outputs": [],
   "source": []
  },
  {
   "cell_type": "code",
   "execution_count": 12,
   "id": "db295aa9-4d3a-4d4b-9a2c-84a86eba038c",
   "metadata": {},
   "outputs": [
    {
     "data": {
      "text/html": [
       "<div>\n",
       "<style scoped>\n",
       "    .dataframe tbody tr th:only-of-type {\n",
       "        vertical-align: middle;\n",
       "    }\n",
       "\n",
       "    .dataframe tbody tr th {\n",
       "        vertical-align: top;\n",
       "    }\n",
       "\n",
       "    .dataframe thead th {\n",
       "        text-align: right;\n",
       "    }\n",
       "</style>\n",
       "<table border=\"1\" class=\"dataframe\">\n",
       "  <thead>\n",
       "    <tr style=\"text-align: right;\">\n",
       "      <th></th>\n",
       "      <th>profile</th>\n",
       "      <th>description</th>\n",
       "      <th>version</th>\n",
       "      <th>keywords</th>\n",
       "      <th>created</th>\n",
       "      <th>name</th>\n",
       "      <th>id</th>\n",
       "      <th>title</th>\n",
       "      <th>homepage</th>\n",
       "      <th>image</th>\n",
       "      <th>data_package_id</th>\n",
       "    </tr>\n",
       "  </thead>\n",
       "  <tbody>\n",
       "    <tr>\n",
       "      <th>0</th>\n",
       "      <td>tabular-data-package</td>\n",
       "      <td>List of companies in the S&amp;P 500 (Standard and...</td>\n",
       "      <td>1.0.0</td>\n",
       "      <td>None</td>\n",
       "      <td>None</td>\n",
       "      <td>s-and-p-500-companies</td>\n",
       "      <td>core/s-and-p-500-companies</td>\n",
       "      <td>S&amp;P 500 Companies with Financial Information</td>\n",
       "      <td>None</td>\n",
       "      <td>None</td>\n",
       "      <td>4b782395-d70d-485a-be81-286da1a08676</td>\n",
       "    </tr>\n",
       "    <tr>\n",
       "      <th>1</th>\n",
       "      <td>tabular-data-package</td>\n",
       "      <td>List of companies in the S&amp;P 500 (Standard and...</td>\n",
       "      <td>1.0.0</td>\n",
       "      <td>None</td>\n",
       "      <td>None</td>\n",
       "      <td>s-and-p-500-companies</td>\n",
       "      <td>core/s-and-p-500-companies</td>\n",
       "      <td>S&amp;P 500 Companies with Financial Information</td>\n",
       "      <td>None</td>\n",
       "      <td>None</td>\n",
       "      <td>d8d8738f-bcaf-4be5-b2c6-a3908bcc45c8</td>\n",
       "    </tr>\n",
       "    <tr>\n",
       "      <th>2</th>\n",
       "      <td>tabular-data-package</td>\n",
       "      <td>List of companies in the S&amp;P 500 (Standard and...</td>\n",
       "      <td>1.0.0</td>\n",
       "      <td>None</td>\n",
       "      <td>None</td>\n",
       "      <td>s-and-p-500-companies</td>\n",
       "      <td>core/s-and-p-500-companies</td>\n",
       "      <td>S&amp;P 500 Companies with Financial Information</td>\n",
       "      <td>None</td>\n",
       "      <td>None</td>\n",
       "      <td>1b1445aa-4e1b-4efe-8a92-e62d5cfa20f4</td>\n",
       "    </tr>\n",
       "    <tr>\n",
       "      <th>3</th>\n",
       "      <td>tabular-data-package</td>\n",
       "      <td>The Renewable Energy Planning Database ('REPD'...</td>\n",
       "      <td>0.1.0</td>\n",
       "      <td>None</td>\n",
       "      <td>None</td>\n",
       "      <td>renewable-energy-planning-database</td>\n",
       "      <td>None</td>\n",
       "      <td>Renewable Energy Planning Database</td>\n",
       "      <td>https://www.gov.uk/government/publications/ren...</td>\n",
       "      <td>None</td>\n",
       "      <td>d310fc8c-1cb4-49e4-bd10-177bee339052</td>\n",
       "    </tr>\n",
       "    <tr>\n",
       "      <th>4</th>\n",
       "      <td>tabular-data-package</td>\n",
       "      <td>List of companies in the S&amp;P 500 (Standard and...</td>\n",
       "      <td>1.0.0</td>\n",
       "      <td>None</td>\n",
       "      <td>None</td>\n",
       "      <td>s-and-p-500-companies</td>\n",
       "      <td>core/s-and-p-500-companies</td>\n",
       "      <td>S&amp;P 500 Companies with Financial Information</td>\n",
       "      <td>None</td>\n",
       "      <td>None</td>\n",
       "      <td>58ab2931-182d-4787-b0ba-4ae8bba79d70</td>\n",
       "    </tr>\n",
       "  </tbody>\n",
       "</table>\n",
       "</div>"
      ],
      "text/plain": [
       "                profile                                        description  \\\n",
       "0  tabular-data-package  List of companies in the S&P 500 (Standard and...   \n",
       "1  tabular-data-package  List of companies in the S&P 500 (Standard and...   \n",
       "2  tabular-data-package  List of companies in the S&P 500 (Standard and...   \n",
       "3  tabular-data-package  The Renewable Energy Planning Database ('REPD'...   \n",
       "4  tabular-data-package  List of companies in the S&P 500 (Standard and...   \n",
       "\n",
       "  version keywords created                                name  \\\n",
       "0   1.0.0     None    None               s-and-p-500-companies   \n",
       "1   1.0.0     None    None               s-and-p-500-companies   \n",
       "2   1.0.0     None    None               s-and-p-500-companies   \n",
       "3   0.1.0     None    None  renewable-energy-planning-database   \n",
       "4   1.0.0     None    None               s-and-p-500-companies   \n",
       "\n",
       "                           id                                         title  \\\n",
       "0  core/s-and-p-500-companies  S&P 500 Companies with Financial Information   \n",
       "1  core/s-and-p-500-companies  S&P 500 Companies with Financial Information   \n",
       "2  core/s-and-p-500-companies  S&P 500 Companies with Financial Information   \n",
       "3                        None            Renewable Energy Planning Database   \n",
       "4  core/s-and-p-500-companies  S&P 500 Companies with Financial Information   \n",
       "\n",
       "                                            homepage image  \\\n",
       "0                                               None  None   \n",
       "1                                               None  None   \n",
       "2                                               None  None   \n",
       "3  https://www.gov.uk/government/publications/ren...  None   \n",
       "4                                               None  None   \n",
       "\n",
       "                        data_package_id  \n",
       "0  4b782395-d70d-485a-be81-286da1a08676  \n",
       "1  d8d8738f-bcaf-4be5-b2c6-a3908bcc45c8  \n",
       "2  1b1445aa-4e1b-4efe-8a92-e62d5cfa20f4  \n",
       "3  d310fc8c-1cb4-49e4-bd10-177bee339052  \n",
       "4  58ab2931-182d-4787-b0ba-4ae8bba79d70  "
      ]
     },
     "execution_count": 12,
     "metadata": {},
     "output_type": "execute_result"
    }
   ],
   "source": [
    "db_client.get_all('fd__data_package').head()"
   ]
  },
  {
   "cell_type": "code",
   "execution_count": 13,
   "id": "5836ca9c-60f7-4e9f-bb80-d493fa98a364",
   "metadata": {},
   "outputs": [
    {
     "data": {
      "text/html": [
       "<div>\n",
       "<style scoped>\n",
       "    .dataframe tbody tr th:only-of-type {\n",
       "        vertical-align: middle;\n",
       "    }\n",
       "\n",
       "    .dataframe tbody tr th {\n",
       "        vertical-align: top;\n",
       "    }\n",
       "\n",
       "    .dataframe thead th {\n",
       "        text-align: right;\n",
       "    }\n",
       "</style>\n",
       "<table border=\"1\" class=\"dataframe\">\n",
       "  <thead>\n",
       "    <tr style=\"text-align: right;\">\n",
       "      <th></th>\n",
       "      <th>name</th>\n",
       "      <th>type</th>\n",
       "      <th>example</th>\n",
       "      <th>constraints</th>\n",
       "      <th>data_schema_id</th>\n",
       "      <th>title</th>\n",
       "      <th>description</th>\n",
       "      <th>format</th>\n",
       "      <th>rdfType</th>\n",
       "      <th>field_descriptor_id</th>\n",
       "    </tr>\n",
       "  </thead>\n",
       "  <tbody>\n",
       "    <tr>\n",
       "      <th>0</th>\n",
       "      <td>Symbol</td>\n",
       "      <td>string</td>\n",
       "      <td>None</td>\n",
       "      <td>None</td>\n",
       "      <td>75619819-243c-46ea-a7e4-d7e43ca1fc96</td>\n",
       "      <td>None</td>\n",
       "      <td></td>\n",
       "      <td>None</td>\n",
       "      <td>None</td>\n",
       "      <td>3e11fe02-25f8-49fe-b714-2f142957bf85</td>\n",
       "    </tr>\n",
       "    <tr>\n",
       "      <th>1</th>\n",
       "      <td>Name</td>\n",
       "      <td>string</td>\n",
       "      <td>None</td>\n",
       "      <td>None</td>\n",
       "      <td>75619819-243c-46ea-a7e4-d7e43ca1fc96</td>\n",
       "      <td>None</td>\n",
       "      <td></td>\n",
       "      <td>None</td>\n",
       "      <td>None</td>\n",
       "      <td>13c8e6b4-9334-489f-b7bc-cc0784a143d0</td>\n",
       "    </tr>\n",
       "    <tr>\n",
       "      <th>2</th>\n",
       "      <td>Sector</td>\n",
       "      <td>string</td>\n",
       "      <td>None</td>\n",
       "      <td>None</td>\n",
       "      <td>75619819-243c-46ea-a7e4-d7e43ca1fc96</td>\n",
       "      <td>None</td>\n",
       "      <td></td>\n",
       "      <td>None</td>\n",
       "      <td>None</td>\n",
       "      <td>75724b59-7dc2-44c7-93cd-2daac77a01cb</td>\n",
       "    </tr>\n",
       "    <tr>\n",
       "      <th>3</th>\n",
       "      <td>Symbol</td>\n",
       "      <td>string</td>\n",
       "      <td>None</td>\n",
       "      <td>None</td>\n",
       "      <td>f5573618-da5a-48da-a281-9e6e34fde8dc</td>\n",
       "      <td>None</td>\n",
       "      <td></td>\n",
       "      <td>None</td>\n",
       "      <td>None</td>\n",
       "      <td>ce72387f-369f-4715-ae74-d223f8d2d579</td>\n",
       "    </tr>\n",
       "    <tr>\n",
       "      <th>4</th>\n",
       "      <td>Name</td>\n",
       "      <td>string</td>\n",
       "      <td>None</td>\n",
       "      <td>None</td>\n",
       "      <td>f5573618-da5a-48da-a281-9e6e34fde8dc</td>\n",
       "      <td>None</td>\n",
       "      <td></td>\n",
       "      <td>None</td>\n",
       "      <td>None</td>\n",
       "      <td>ce104148-607f-43c2-839e-ff5abd8deb23</td>\n",
       "    </tr>\n",
       "  </tbody>\n",
       "</table>\n",
       "</div>"
      ],
      "text/plain": [
       "     name    type example constraints                        data_schema_id  \\\n",
       "0  Symbol  string    None        None  75619819-243c-46ea-a7e4-d7e43ca1fc96   \n",
       "1    Name  string    None        None  75619819-243c-46ea-a7e4-d7e43ca1fc96   \n",
       "2  Sector  string    None        None  75619819-243c-46ea-a7e4-d7e43ca1fc96   \n",
       "3  Symbol  string    None        None  f5573618-da5a-48da-a281-9e6e34fde8dc   \n",
       "4    Name  string    None        None  f5573618-da5a-48da-a281-9e6e34fde8dc   \n",
       "\n",
       "  title description format rdfType                   field_descriptor_id  \n",
       "0  None               None    None  3e11fe02-25f8-49fe-b714-2f142957bf85  \n",
       "1  None               None    None  13c8e6b4-9334-489f-b7bc-cc0784a143d0  \n",
       "2  None               None    None  75724b59-7dc2-44c7-93cd-2daac77a01cb  \n",
       "3  None               None    None  ce72387f-369f-4715-ae74-d223f8d2d579  \n",
       "4  None               None    None  ce104148-607f-43c2-839e-ff5abd8deb23  "
      ]
     },
     "execution_count": 13,
     "metadata": {},
     "output_type": "execute_result"
    }
   ],
   "source": [
    "db_client.get_all('fd__field_descriptor').head()"
   ]
  },
  {
   "cell_type": "code",
   "execution_count": null,
   "id": "958da03d-aa74-49b6-b952-74bb5fcfd891",
   "metadata": {},
   "outputs": [],
   "source": []
  },
  {
   "cell_type": "code",
   "execution_count": 23,
   "id": "37a820b6-3946-4bb5-ab7d-3f2cea464fca",
   "metadata": {
    "tags": []
   },
   "outputs": [
    {
     "data": {
      "application/json": [
       {
        "contributors": [
         {
          "role": "author",
          "title": "BEIS"
         }
        ],
        "description": "The Renewable Energy Planning Database ('REPD') is managed by Barbour ABI on behalf of the Department of Business, Energy & Industrial Strategy ('BEIS’). The databases track the progress of renewable electricity projects (including those that could also be used for CHP), and electricity storage projects  from inception, through planning, construction, operation and decommissioning.\n\nThe REPD is updated on a quarterly basis, and contains information on all Renewable Electricity and CHP projects up to the end of the previous calendar month.",
        "homepage": "https://www.gov.uk/government/publications/renewable-energy-planning-database-monthly-extract",
        "name": "renewable-energy-planning-database",
        "profile": "tabular-data-package",
        "resources": [
         {
          "fd_schema": {
           "fields": [
            {
             "description": "The old reference ID associated with a project in a previous version of the database",
             "format": "default",
             "name": "Old Ref ID",
             "title": "Old Ref ID",
             "type": "string"
            },
            {
             "description": "Project reference ID number in REPD database",
             "format": "default",
             "name": "Ref ID",
             "title": "Ref ID",
             "type": "integer"
            },
            {
             "description": "Date a project record was last updated or checked",
             "format": "%d/%m/%Y",
             "name": "Record Last Updated (dd/mm/yyyy)",
             "title": "Record Last Updated",
             "type": "date"
            },
            {
             "description": "Name of operator or applicant",
             "format": "default",
             "name": "Operator (or Applicant)",
             "title": "Operator (or Applicant)",
             "type": "string"
            },
            {
             "description": "Name of development site",
             "format": "default",
             "name": "Site Name",
             "title": "Site Name",
             "type": "string"
            },
            {
             "description": "Type of technology (e.g. solar photovoltaics, offshore wind etc.)",
             "format": "default",
             "name": "Technology Type",
             "title": "Technology Type",
             "type": "string"
            },
            {
             "description": "Describes whether the attached storage is co-located with RES/fossil-fuels or stand-alone",
             "format": "default",
             "name": "Storage Type",
             "title": "Storage Type",
             "type": "string"
            },
            {
             "description": "The (new) REPD ID associated with the storage unit attached to the site",
             "format": "default",
             "name": "Storage Co-location REPD Ref ID",
             "title": "Storage Co-location REPD Ref ID",
             "type": "string"
            },
            {
             "description": "Installed electrical capacity in megawatts (MW)",
             "format": "default",
             "name": "Installed Capacity (MWelec)",
             "rdfType": "http://openenergy-platform.org/ontology/oeo/OEO_00230003",
             "title": "Installed Capacity (MWelec)",
             "type": "number"
            },
            {
             "description": "Is the project capable of combined heat and power output",
             "format": "default",
             "name": "CHP Enabled",
             "title": "CHP Enabled",
             "type": "string"
            },
            {
             "description": "The banding levels for the RO subsidy, where each band represents a multiplier to the standard ROC price",
             "format": "default",
             "name": "RO Banding (ROC/MWh)",
             "title": "RO Banding (ROC/MWh)",
             "type": "number"
            },
            {
             "description": "The price received by the site through the FiT scheme",
             "format": "default",
             "name": "FiT Tariff (p/kWh)",
             "title": "FiT Tariff (p/kWh)",
             "type": "number"
            },
            {
             "description": "The maximum contracted capacity which can receive subsidies through the CfD scheme",
             "format": "default",
             "name": "CfD Capacity (MW)",
             "title": "CfD Capacity (MW)",
             "type": "number"
            },
            {
             "description": "For windfarms, the individual capacity of each wind turbine in megawatts (MW)",
             "format": "default",
             "name": "Turbine Capacity (MW)",
             "title": "Turbine Capacity (MW)",
             "type": "number"
            },
            {
             "description": "For windfarms, the number of wind turbines to be located on the development site",
             "format": "default",
             "name": "No. of Turbines",
             "title": "No. of Turbines",
             "type": "number"
            },
            {
             "description": "For windfarms, the height of the wind turbines in metres (m)",
             "format": "default",
             "name": "Height of Turbines (m)",
             "rdfType": "http://openenergy-platform.org/ontology/oeo/OEO_00140000",
             "title": "Height of Turbines (m)",
             "type": "number"
            },
            {
             "description": "For solar PV developments, whether the PV panels are ground or roof mounted",
             "format": "default",
             "name": "Mounting Type for Solar",
             "title": "Mounting Type for Solar",
             "type": "string"
            },
            {
             "description": "The full description of the current development status",
             "format": "default",
             "name": "Development Status",
             "title": "Development Status",
             "type": "string"
            },
            {
             "description": "The short description of the current development status",
             "format": "default",
             "name": "Development Status (short)",
             "title": "Development Status (short)",
             "type": "string"
            },
            {
             "description": "Site address of the development",
             "format": "default",
             "name": "Address",
             "title": "Address",
             "type": "string"
            },
            {
             "description": "County the development site is located within",
             "format": "default",
             "name": "County",
             "title": "County",
             "type": "string"
            },
            {
             "description": "Region the development site is located within",
             "format": "default",
             "name": "Region",
             "title": "Region",
             "type": "string"
            },
            {
             "description": "Country the development site is located within",
             "format": "default",
             "name": "Country",
             "title": "Country",
             "type": "string"
            },
            {
             "description": "Post code of the development site",
             "format": "default",
             "name": "Post Code",
             "title": "Post Code",
             "type": "string"
            },
            {
             "description": "X coordinate for development site in British National Grid (EPSG:27700)",
             "format": "default",
             "name": "X-coordinate",
             "title": "X-coordinate",
             "type": "integer"
            },
            {
             "description": "Y coordinate for development site in British National Grid (EPSG:27700)",
             "format": "default",
             "name": "Y-coordinate",
             "title": "Y-coordinate",
             "type": "integer"
            },
            {
             "description": "The relevant local planning authority for the project",
             "format": "default",
             "name": "Planning Authority",
             "title": "Planning Authority",
             "type": "string"
            },
            {
             "description": "The reference number associated with the planning application",
             "format": "default",
             "name": "Planning Application Reference",
             "title": "Planning Application Reference",
             "type": "string"
            },
            {
             "description": "The reference number associated with an appeal",
             "format": "default",
             "name": "Appeal Reference",
             "title": "Appeal Reference",
             "type": "string"
            },
            {
             "description": "The reference number associated with a Secretary of State Intervention",
             "format": "default",
             "name": "Secretary of State Reference",
             "title": "Secretary of State Reference",
             "type": "string"
            },
            {
             "description": "The type of Secretary of State of Intervention. This can be one of three types: recovery, call-in, or holding direction",
             "format": "default",
             "name": "Type of Secretary of State Intervention",
             "title": "Type of Secretary of State Intervention",
             "type": "string"
            },
            {
             "description": "The latest date of when a legal challenge has been launched to review the lawfulness of a planning application and/or appeal decision",
             "format": "default",
             "name": "Judicial Review",
             "title": "Judicial Review",
             "type": "integer"
            },
            {
             "description": "Leasing round in which an offshore wind project was established",
             "format": "default",
             "name": "Offshore Wind Round",
             "title": "Offshore Wind Round",
             "type": "string"
            },
            {
             "description": "Date planning application was validated",
             "format": "%d/%m/%Y",
             "name": "Planning Application Submitted",
             "title": "Planning Application Submitted",
             "type": "date"
            },
            {
             "description": "Date planning application was withdrawn",
             "format": "%d/%m/%Y",
             "name": "Planning Application Withdrawn",
             "title": "Planning Application Withdrawn",
             "type": "date"
            },
            {
             "description": "Date planning permission was refused",
             "format": "%d/%m/%Y",
             "name": "Planning Permission Refused",
             "title": "Planning Permission Refused",
             "type": "date"
            },
            {
             "description": "Date an appeal was lodged",
             "format": "%d/%m/%Y",
             "name": "Appeal Lodged",
             "title": "Appeal Lodged",
             "type": "date"
            },
            {
             "description": "Date an appeal was withdrawn",
             "format": "%d/%m/%Y",
             "name": "Appeal Withdrawn",
             "title": "Appeal Withdrawn",
             "type": "date"
            },
            {
             "description": "Date an appeal was refused (dismissed)",
             "format": "%d/%m/%Y",
             "name": "Appeal Refused",
             "title": "Appeal Refused",
             "type": "date"
            },
            {
             "description": "Date an appeal was granted (upheld)",
             "format": "%d/%m/%Y",
             "name": "Appeal Granted",
             "title": "Appeal Granted",
             "type": "date"
            },
            {
             "description": "Date planning permission was granted by the planning authority",
             "format": "%d/%m/%Y",
             "name": "Planning Permission Granted",
             "title": "Planning Permission Granted",
             "type": "date"
            },
            {
             "description": "Date of a project that is 'Called In' by the Secretary of State",
             "format": "%d/%m/%Y",
             "name": "Secretary of State - Intervened",
             "title": "Secretary of State - Intervened",
             "type": "date"
            },
            {
             "description": "Date planning permission was refused by the Secretary of State",
             "format": "%d/%m/%Y",
             "name": "Secretary of State - Refusal",
             "title": "Secretary of State - Refusal",
             "type": "date"
            },
            {
             "description": "Date planning permission was granted by the Secretary of State",
             "format": "%d/%m/%Y",
             "name": "Secretary of State - Granted",
             "title": "Secretary of State - Granted",
             "type": "date"
            },
            {
             "description": "Date a planning permission expires (as per the planning decision)",
             "format": "%d/%m/%Y",
             "name": "Planning Permission Expired",
             "title": "Planning Permission Expired",
             "type": "date"
            },
            {
             "description": "Date construction on site has begun",
             "format": "%d/%m/%Y",
             "name": "Under Construction",
             "title": "Under Construction",
             "type": "date"
            },
            {
             "description": "Date a project become operational",
             "format": "%d/%m/%Y",
             "name": "Operational",
             "title": "Operational",
             "type": "date"
            },
            {
             "description": "The reference ID for the associated heat-network within the Heat Networks Planning Database",
             "format": "default",
             "name": "Heat Network Ref",
             "title": "Heat Network Ref",
             "type": "integer"
            }
           ]
          },
          "name": "renewable-energy-planning-database",
          "path": "renewable-energy-planning-database-q2-june-2021.csv",
          "profile": "tabular-data-resource"
         }
        ],
        "title": "Renewable Energy Planning Database",
        "version": "0.1.0"
       }
      ],
      "text/plain": [
       "<IPython.core.display.JSON object>"
      ]
     },
     "execution_count": 23,
     "metadata": {
      "application/json": {
       "expanded": false,
       "root": "root"
      }
     },
     "output_type": "execute_result"
    }
   ],
   "source": [
    "fd_package_obj = db_client.get_data_package(fd_package.data_package_id, 'dict')\n",
    "fd_package_obj = schemas.DataPackage.parse_obj(fd_package_obj)\n",
    "fd_package_dict = db.db_record_to_dict_repr(fd_package_obj)\n",
    "\n",
    "JSON([fd_package_dict])"
   ]
  },
  {
   "cell_type": "code",
   "execution_count": null,
   "id": "18d41db7-92c6-42fc-b432-fe3fcdf84b40",
   "metadata": {},
   "outputs": [],
   "source": []
  },
  {
   "cell_type": "code",
   "execution_count": 24,
   "id": "b5c15f23-c4bf-4def-aef1-4b94d10e4369",
   "metadata": {
    "tags": []
   },
   "outputs": [],
   "source": [
    "def dict_deep_equals(d1, d2, path=\"\"):\n",
    "    for k in d1:\n",
    "        if k in d2:\n",
    "            if type(d1[k]) is dict:\n",
    "                dict_deep_equals(d1[k], d2[k], \"%s -> %s\" % (path, k) if path else k)\n",
    "            if d1[k] != d2[k]:\n",
    "                result = [ \"%s: \" % path, \" - %s : %s\" % (k, d1[k]) , \" + %s : %s\" % (k, d2[k])]\n",
    "                print(\"\\n\".join(result))\n",
    "                return False\n",
    "        else:\n",
    "            print(\"%s%s as key not in d2\\n\" % (\"%s: \" % path if path else \"\", k))\n",
    "            return False\n",
    "        \n",
    "    return True"
   ]
  },
  {
   "cell_type": "code",
   "execution_count": 25,
   "id": "6b534368-50f2-4c41-aadc-8ad5a42ed35d",
   "metadata": {
    "tags": []
   },
   "outputs": [],
   "source": [
    "for i, resource in enumerate(fd_package_dict['resources']):\n",
    "    if 'fd_schema' in resource.keys():\n",
    "        resource['schema'] = resource.pop('fd_schema')\n",
    "\n",
    "assert dict_deep_equals(fd_package_dict, load_raw_fd_package(fd_fp)), 'Failed roundtrip validation'"
   ]
  },
  {
   "cell_type": "code",
   "execution_count": null,
   "id": "14ee1b1c-d73b-4540-a6bf-991105c2db4b",
   "metadata": {},
   "outputs": [],
   "source": []
  }
 ],
 "metadata": {
  "kernelspec": {
   "display_name": "Python 3 (ipykernel)",
   "language": "python",
   "name": "python3"
  },
  "language_info": {
   "codemirror_mode": {
    "name": "ipython",
    "version": 3
   },
   "file_extension": ".py",
   "mimetype": "text/x-python",
   "name": "python",
   "nbconvert_exporter": "python",
   "pygments_lexer": "ipython3",
   "version": "3.9.16"
  }
 },
 "nbformat": 4,
 "nbformat_minor": 5
}
