{
 "cells": [
  {
   "cell_type": "markdown",
   "id": "4d6ff3c9-8c7f-4381-b81c-2f4b73fd2e7c",
   "metadata": {},
   "source": [
    "# Frictionless SQLModel\n",
    "\n",
    "<br>\n",
    "\n",
    "### Imports"
   ]
  },
  {
   "cell_type": "code",
   "execution_count": 1,
   "id": "4a9aeec0-bc0a-4d1e-bc46-bf09c7ddb18d",
   "metadata": {
    "tags": []
   },
   "outputs": [],
   "source": [
    "import requests\n",
    "\n",
    "from powerdict import db"
   ]
  },
  {
   "cell_type": "code",
   "execution_count": 2,
   "id": "82438f02-514c-431d-99d3-39c89fab6fbf",
   "metadata": {},
   "outputs": [],
   "source": [
    "from IPython.display import JSON"
   ]
  },
  {
   "cell_type": "markdown",
   "id": "6c249d05-2186-491e-92dc-ff51165d6dbb",
   "metadata": {},
   "source": [
    "<br>\n",
    "\n",
    "### Frictionless Specifications\n",
    "\n",
    "A Frictionless `DataPackage` contains one or more `DataResource`s that have a corresponding `DataSchema` with `FieldDescriptor`s that describe individual columns within datasets.\n",
    "\n",
    "Here we'll load in the schema for a `DataPackage`"
   ]
  },
  {
   "cell_type": "code",
   "execution_count": 3,
   "id": "0d33870f-4e02-426c-aa2d-11be0769d941",
   "metadata": {},
   "outputs": [
    {
     "data": {
      "application/json": {
       "definitions": {
        "DataContributor": {
         "properties": {
          "email": {
           "format": "email",
           "title": "Email",
           "type": "string"
          },
          "organization": {
           "title": "Organization",
           "type": "string"
          },
          "path": {
           "anyOf": [
            {
             "format": "path",
             "type": "string"
            },
            {
             "format": "uri",
             "maxLength": 65536,
             "minLength": 1,
             "type": "string"
            }
           ],
           "title": "Path"
          },
          "role": {
           "allOf": [
            {
             "$ref": "#/definitions/DataContributorRole"
            }
           ],
           "default": "contributor"
          },
          "title": {
           "title": "Title",
           "type": "string"
          }
         },
         "required": [
          "title"
         ],
         "title": "DataContributor",
         "type": "object"
        },
        "DataContributorRole": {
         "description": "An enumeration.",
         "enum": [
          "author",
          "publisher",
          "maintainer",
          "wrangler",
          "contributor"
         ],
         "title": "DataContributorRole",
         "type": "string"
        },
        "DataLicence": {
         "anyOf": [
          {
           "required": [
            "path"
           ]
          },
          {
           "required": [
            "name"
           ]
          }
         ],
         "properties": {
          "name": {
           "title": "Name",
           "type": "string"
          },
          "path": {
           "anyOf": [
            {
             "format": "path",
             "type": "string"
            },
            {
             "format": "uri",
             "maxLength": 65536,
             "minLength": 1,
             "type": "string"
            }
           ],
           "title": "Path"
          },
          "title": {
           "title": "Title",
           "type": "string"
          }
         },
         "title": "DataLicence",
         "type": "object"
        },
        "DataPackageProfile": {
         "description": "An enumeration.",
         "enum": [
          "tabular-data-package"
         ],
         "title": "DataPackageProfile",
         "type": "string"
        },
        "DataResource": {
         "anyOf": [
          {
           "required": [
            "path"
           ]
          },
          {
           "required": [
            "data"
           ]
          }
         ],
         "properties": {
          "bytes": {
           "title": "Bytes",
           "type": "integer"
          },
          "data": {
           "items": {
            "type": "object"
           },
           "title": "Data",
           "type": "array"
          },
          "description": {
           "title": "Description",
           "type": "string"
          },
          "encoding": {
           "title": "Encoding",
           "type": "string"
          },
          "format": {
           "$ref": "#/definitions/DataResourceFormat"
          },
          "hash": {
           "title": "Hash",
           "type": "string"
          },
          "licenses": {
           "items": {
            "$ref": "#/definitions/DataLicence"
           },
           "title": "Licenses",
           "type": "array"
          },
          "mediatype": {
           "title": "Mediatype",
           "type": "string"
          },
          "name": {
           "pattern": "^[a-z0-9_\\.,-]*$",
           "title": "Name",
           "type": "string"
          },
          "path": {
           "anyOf": [
            {
             "format": "path",
             "type": "string"
            },
            {
             "format": "uri",
             "maxLength": 65536,
             "minLength": 1,
             "type": "string"
            }
           ],
           "title": "Path"
          },
          "profile": {
           "allOf": [
            {
             "$ref": "#/definitions/DataResourceProfile"
            }
           ],
           "default": "tabular-data-resource"
          },
          "sources": {
           "items": {
            "$ref": "#/definitions/DataSource"
           },
           "title": "Sources",
           "type": "array"
          },
          "title": {
           "title": "Title",
           "type": "string"
          }
         },
         "required": [
          "name"
         ],
         "title": "DataResource",
         "type": "object"
        },
        "DataResourceFormat": {
         "description": "An enumeration.",
         "enum": [
          "csv",
          "xls",
          "json",
          "zip"
         ],
         "title": "DataResourceFormat",
         "type": "string"
        },
        "DataResourceProfile": {
         "description": "An enumeration.",
         "enum": [
          "tabular-data-resource",
          "data-resource"
         ],
         "title": "DataResourceProfile",
         "type": "string"
        },
        "DataSource": {
         "properties": {
          "email": {
           "format": "email",
           "title": "Email",
           "type": "string"
          },
          "path": {
           "anyOf": [
            {
             "format": "path",
             "type": "string"
            },
            {
             "format": "uri",
             "maxLength": 65536,
             "minLength": 1,
             "type": "string"
            }
           ],
           "title": "Path"
          },
          "title": {
           "title": "Title",
           "type": "string"
          }
         },
         "required": [
          "title"
         ],
         "title": "DataSource",
         "type": "object"
        }
       },
       "properties": {
        "contributors": {
         "items": {
          "$ref": "#/definitions/DataContributor"
         },
         "title": "Contributors",
         "type": "array"
        },
        "created": {
         "format": "date-time",
         "title": "Created",
         "type": "string"
        },
        "description": {
         "title": "Description",
         "type": "string"
        },
        "homepage": {
         "format": "path",
         "title": "Homepage",
         "type": "string"
        },
        "id": {
         "anyOf": [
          {
           "format": "uuid",
           "type": "string"
          },
          {}
         ],
         "title": "Id"
        },
        "image": {
         "anyOf": [
          {
           "format": "path",
           "type": "string"
          },
          {
           "format": "uri",
           "maxLength": 65536,
           "minLength": 1,
           "type": "string"
          }
         ],
         "title": "Image"
        },
        "keywords": {
         "items": {
          "type": "string"
         },
         "title": "Keywords",
         "type": "array"
        },
        "licenses": {
         "items": {
          "$ref": "#/definitions/DataLicence"
         },
         "title": "Licenses",
         "type": "array"
        },
        "name": {
         "pattern": "^[a-z0-9_\\.,-]*$",
         "title": "Name",
         "type": "string"
        },
        "profile": {
         "allOf": [
          {
           "$ref": "#/definitions/DataPackageProfile"
          }
         ],
         "default": "tabular-data-resource"
        },
        "resources": {
         "items": {
          "$ref": "#/definitions/DataResource"
         },
         "title": "Resources",
         "type": "array"
        },
        "sources": {
         "items": {
          "$ref": "#/definitions/DataSource"
         },
         "title": "Sources",
         "type": "array"
        },
        "title": {
         "title": "Title",
         "type": "string"
        },
        "version": {
         "pattern": "^(0|[1-9]\\d*)\\.(0|[1-9]\\d*)\\.(0|[1-9]\\d*)(?:-((?:0|[1-9]\\d*|\\d*[a-zA-Z-][0-9a-zA-Z-]*)(?:\\.(?:0|[1-9]\\d*|\\d*[a-zA-Z-][0-9a-zA-Z-]*))*))?(?:\\+([0-9a-zA-Z-]+(?:\\.[0-9a-zA-Z-]+)*))?$",
         "title": "Version",
         "type": "string"
        }
       },
       "required": [
        "name",
        "resources",
        "version"
       ],
       "title": "DataPackage",
       "type": "object"
      },
      "text/plain": [
       "<IPython.core.display.JSON object>"
      ]
     },
     "execution_count": 3,
     "metadata": {
      "application/json": {
       "expanded": false,
       "root": "root"
      }
     },
     "output_type": "execute_result"
    }
   ],
   "source": [
    "JSON(db.DataPackage.schema())"
   ]
  },
  {
   "cell_type": "markdown",
   "id": "544b0800-0f19-4989-aa5f-b6d8a1721152",
   "metadata": {},
   "source": [
    "<br>\n",
    "\n",
    "We'll now load in an example frictionless dataset"
   ]
  },
  {
   "cell_type": "code",
   "execution_count": 4,
   "id": "b48166e6-175f-4c85-b29e-d432f3ca40cf",
   "metadata": {},
   "outputs": [],
   "source": [
    "def get_package_metadata(fd_url):\n",
    "    r = requests.get(fd_url)\n",
    "    r.raise_for_status()\n",
    "    return r.json()"
   ]
  },
  {
   "cell_type": "code",
   "execution_count": 10,
   "id": "36890b09-2fa6-44b1-8c89-0286508a74df",
   "metadata": {},
   "outputs": [
    {
     "data": {
      "application/json": {
       "datahub": {
        "created": "2017-11-08T22:07:43.161702",
        "findability": "published",
        "flowid": "core/gdp/9",
        "hash": "6dd004b4ccbcf1575d00397733461fbe",
        "modified": "2018-03-15T06:19:35.762157",
        "owner": "core",
        "ownerid": "core",
        "stats": {
         "bytes": 3127514,
         "rowcount": 11507
        }
       },
       "description": "Country, regional and world GDP in current US Dollars ($). Regional means collections of countries e.g. Europe & Central Asia. Data is sourced from the World Bank and turned into a standard normalized CSV.",
       "id": "core/gdp",
       "image": "http://assets.okfn.org/p/opendatahandbook/img/data-wrench.png",
       "keywords": [
        "GDP",
        "World",
        "Gross Domestic Product",
        "Time series"
       ],
       "last_updated": "2018-01-19",
       "licenses": [
        {
         "name": "ODC-PDDL-1.0",
         "path": "http://opendatacommons.org/licenses/pddl/",
         "title": "Open Data Commons Public Domain Dedication and License v1.0"
        }
       ],
       "name": "gdp",
       "readme": "Country, regional and world GDP in current US Dollars ($). Regional means\ncollections of countries e.g. Europe & Central Asia.\n\n## Data\n\nThe data is sourced from the World Bank (specifically [this dataset][current]) which\nin turn lists as sources: *World Bank national accounts data, and OECD National\nAccounts data files*.\n\nNote that there are a variety of different GDP indicators on offer from the\nWorld Bank including:\n\n* [GDP in current USD][current]\n* [GDP in constant USD (2000)][constant]\n* [GDP, PPP (constant 2005 international $)][ppp]\n* [GDP (constant LCU)][lcu]\n\n[constant]: http://data.worldbank.org/indicator/NY.GDP.MKTP.KD\n[current]: http://data.worldbank.org/indicator/NY.GDP.MKTP.CD\n[ppp]: http://data.worldbank.org/indicator/NY.GDP.MKTP.PP.KD\n[lcu]: http://data.worldbank.org/indicator/NY.GDP.MKTP.KN\n\n\n## Preparation\n\nProcess is recorded and automated in python script:\n\n```\nscripts/process.py\n```\n\n## Automation\n\nUp-to-date (auto-updates every year) gdp dataset could be found on the datahub.io:\nhttps://datahub.io/core/gdp\n\n## License\n\nThis Data Package is made available under the Public Domain Dedication and License v1.0 whose full text can be found at: http://www.opendatacommons.org/licenses/pddl/1.0/",
       "resources": [
        {
         "bytes": 591,
         "datahub": {
          "type": "derived/report"
         },
         "description": "Validation report for tabular data",
         "dpp:streamedFrom": "validation_report.json",
         "encoding": "utf-8",
         "format": "json",
         "hash": "8500533ca81a0cd8993867c3bf11c30e",
         "name": "validation_report",
         "path": "https://pkgstore.datahub.io/core/gdp/validation_report/data/8500533ca81a0cd8993867c3bf11c30e/validation_report.json",
         "profile": "data-resource"
        },
        {
         "bytes": 454342,
         "datahub": {
          "derivedFrom": [
           "gdp"
          ],
          "type": "derived/csv"
         },
         "dialect": {
          "delimiter": ",",
          "doubleQuote": true,
          "lineTerminator": "\r\n",
          "quoteChar": "\"",
          "skipInitialSpace": false
         },
         "dpp:streamedFrom": "https://s3.amazonaws.com/rawstore.datahub.io/d23467a8c0db40a04e73a01ea019cbf3.csv",
         "encoding": "utf-8",
         "format": "csv",
         "hash": "0048bc8f6228d0393d41cac4b663b90f",
         "name": "gdp_csv",
         "path": "https://pkgstore.datahub.io/core/gdp/gdp_csv/data/0048bc8f6228d0393d41cac4b663b90f/gdp_csv.csv",
         "profile": "data-resource",
         "rowcount": 11507,
         "schema": {
          "fields": [
           {
            "name": "Country Name",
            "type": "string"
           },
           {
            "name": "Country Code",
            "type": "string"
           },
           {
            "name": "Year",
            "type": "year"
           },
           {
            "decimalChar": ".",
            "description": "GDP in current USD",
            "groupChar": "",
            "name": "Value",
            "type": "number"
           }
          ]
         },
         "signed": true
        },
        {
         "bytes": 1111120,
         "datahub": {
          "derivedFrom": [
           "gdp"
          ],
          "type": "derived/json"
         },
         "dpp:streamedFrom": "https://s3.amazonaws.com/rawstore.datahub.io/d23467a8c0db40a04e73a01ea019cbf3.csv",
         "encoding": "utf-8",
         "format": "json",
         "hash": "1a2503aa36368933be8f9a96e1dc16de",
         "name": "gdp_json",
         "path": "https://pkgstore.datahub.io/core/gdp/gdp_json/data/1a2503aa36368933be8f9a96e1dc16de/gdp_json.json",
         "profile": "data-resource",
         "rowcount": 11507,
         "schema": {
          "fields": [
           {
            "name": "Country Name",
            "type": "string"
           },
           {
            "name": "Country Code",
            "type": "string"
           },
           {
            "name": "Year",
            "type": "year"
           },
           {
            "description": "GDP in current USD",
            "name": "Value",
            "type": "number"
           }
          ]
         },
         "signed": true
        },
        {
         "bytes": 436802,
         "datahub": {
          "type": "derived/zip"
         },
         "description": "Compressed versions of dataset. Includes normalized CSV and JSON data with original data and datapackage.json.",
         "dpp:streamedFrom": "/tmp/290.gdp.zip",
         "encoding": "utf-8",
         "format": "zip",
         "name": "gdp_zip",
         "path": "https://pkgstore.datahub.io/core/gdp/gdp_zip/data/fe52c281d5adc774c020e950f129e464/gdp_zip.zip",
         "profile": "data-resource"
        },
        {
         "bytes": 670317,
         "datahub": {
          "derivedFrom": [
           "gdp"
          ],
          "type": "derived/preview"
         },
         "dialect": {
          "delimiter": ",",
          "doubleQuote": true,
          "lineTerminator": "\r\n",
          "quoteChar": "\"",
          "skipInitialSpace": false
         },
         "dpp:streamedFrom": "/tmp/tmp05oksc9z/core/gdp/gdp_csv/data/0048bc8f6228d0393d41cac4b663b90f/gdp_csv.csv",
         "encoding": "utf-8",
         "forView": [
          "datahub-preview-gdp_csv_preview"
         ],
         "format": "json",
         "hash": "ee9c1ba860db23d7ff54050541251518",
         "name": "gdp_csv_preview",
         "path": "https://pkgstore.datahub.io/core/gdp/gdp_csv_preview/data/ee9c1ba860db23d7ff54050541251518/gdp_csv_preview.json",
         "profile": "data-resource",
         "rowcount": 13507,
         "schema": {
          "fields": [
           {
            "name": "Country Name",
            "type": "string"
           },
           {
            "name": "Country Code",
            "type": "string"
           },
           {
            "name": "Year",
            "type": "year"
           },
           {
            "decimalChar": ".",
            "description": "GDP in current USD",
            "groupChar": "",
            "name": "Value",
            "type": "number"
           }
          ]
         },
         "signed": true
        },
        {
         "bytes": 454342,
         "datahub": {
          "type": "source/tabular"
         },
         "dpp:streamedFrom": "https://s3.amazonaws.com/rawstore.datahub.io/d23467a8c0db40a04e73a01ea019cbf3.csv",
         "encoding": "utf-8",
         "format": "csv",
         "name": "gdp",
         "path": "https://pkgstore.datahub.io/core/gdp/gdp/archive/d23467a8c0db40a04e73a01ea019cbf3/gdp.csv",
         "profile": "data-resource",
         "schema": {
          "fields": [
           {
            "name": "Country Name",
            "type": "string"
           },
           {
            "name": "Country Code",
            "type": "string"
           },
           {
            "name": "Year",
            "type": "year"
           },
           {
            "description": "GDP in current USD",
            "name": "Value",
            "type": "number"
           }
          ]
         },
         "signed": true
        }
       ],
       "sources": [
        {
         "name": "World Bank and OECD",
         "path": "http://data.worldbank.org/indicator/NY.GDP.MKTP.CD",
         "title": "World Bank and OECD"
        }
       ],
       "title": "Country, Regional and World GDP (Gross Domestic Product)",
       "version": "0.1.2017",
       "views": [
        {
         "datahub": {
          "type": "preview"
         },
         "name": "datahub-preview-gdp_csv_preview",
         "resources": [
          "gdp"
         ],
         "specType": "table",
         "transform": {
          "limit": 2000
         }
        }
       ]
      },
      "text/plain": [
       "<IPython.core.display.JSON object>"
      ]
     },
     "execution_count": 10,
     "metadata": {
      "application/json": {
       "expanded": false,
       "root": "root"
      }
     },
     "output_type": "execute_result"
    }
   ],
   "source": [
    "fd_url = 'https://pkgstore.datahub.io/core/gdp/9/datapackage.json'\n",
    "\n",
    "raw_package_metadata = get_package_metadata(fd_url)\n",
    "raw_package_metadata['version'] = f\"0.1.{raw_package_metadata['version']}\" # validation fix\n",
    "\n",
    "JSON(raw_package_metadata)"
   ]
  },
  {
   "cell_type": "markdown",
   "id": "bb1e5afd-a8bc-4f66-a42b-92b45ce4cb2b",
   "metadata": {},
   "source": [
    "<br>\n",
    "\n",
    "We can now parse and validate this raw package metadata using our schema"
   ]
  },
  {
   "cell_type": "code",
   "execution_count": 11,
   "id": "fc233aa2-b012-4d95-964e-700cb0689d68",
   "metadata": {},
   "outputs": [
    {
     "data": {
      "text/plain": [
       "DataPackage(name='gdp', resources=[DataResource(name='validation_report', data=None, path=None, profile=<DataResourceProfile.data_resource: 'data-resource'>, title=None, description='Validation report for tabular data', format=<DataResourceFormat.json: 'json'>, mediatype=None, encoding='utf-8', bytes=591, hash='8500533ca81a0cd8993867c3bf11c30e', sources=None, licenses=None), DataResource(name='gdp_csv', data=None, path=None, profile=<DataResourceProfile.data_resource: 'data-resource'>, title=None, description=None, format=<DataResourceFormat.csv: 'csv'>, mediatype=None, encoding='utf-8', bytes=454342, hash='0048bc8f6228d0393d41cac4b663b90f', sources=None, licenses=None), DataResource(name='gdp_json', data=None, path=None, profile=<DataResourceProfile.data_resource: 'data-resource'>, title=None, description=None, format=<DataResourceFormat.json: 'json'>, mediatype=None, encoding='utf-8', bytes=1111120, hash='1a2503aa36368933be8f9a96e1dc16de', sources=None, licenses=None), DataResource(name='gdp_zip', data=None, path=None, profile=<DataResourceProfile.data_resource: 'data-resource'>, title=None, description='Compressed versions of dataset. Includes normalized CSV and JSON data with original data and datapackage.json.', format=<DataResourceFormat.zip: 'zip'>, mediatype=None, encoding='utf-8', bytes=436802, hash=None, sources=None, licenses=None), DataResource(name='gdp_csv_preview', data=None, path=None, profile=<DataResourceProfile.data_resource: 'data-resource'>, title=None, description=None, format=<DataResourceFormat.json: 'json'>, mediatype=None, encoding='utf-8', bytes=670317, hash='ee9c1ba860db23d7ff54050541251518', sources=None, licenses=None), DataResource(name='gdp', data=None, path=None, profile=<DataResourceProfile.data_resource: 'data-resource'>, title=None, description=None, format=<DataResourceFormat.csv: 'csv'>, mediatype=None, encoding='utf-8', bytes=454342, hash=None, sources=None, licenses=None)], id='core/gdp', licenses=[DataLicence(name='ODC-PDDL-1.0', path=None, title='Open Data Commons Public Domain Dedication and License v1.0')], sources=[DataSource(title='World Bank and OECD', path=PosixPath('http:/data.worldbank.org/indicator/NY.GDP.MKTP.CD'), email=None)], contributors=None, profile='tabular-data-resource', title='Country, Regional and World GDP (Gross Domestic Product)', description='Country, regional and world GDP in current US Dollars ($). Regional means collections of countries e.g. Europe & Central Asia. Data is sourced from the World Bank and turned into a standard normalized CSV.', homepage=None, version='0.1.2017', keywords=['GDP', 'World', 'Gross Domestic Product', 'Time series'], image=PosixPath('http:/assets.okfn.org/p/opendatahandbook/img/data-wrench.png'), created=None)"
      ]
     },
     "execution_count": 11,
     "metadata": {},
     "output_type": "execute_result"
    }
   ],
   "source": [
    "package_metadata = db.DataPackage.parse_obj(raw_package_metadata)\n",
    "\n",
    "package_metadata"
   ]
  },
  {
   "cell_type": "markdown",
   "id": "446c560c-59be-4a43-b0ab-8c53c8014daf",
   "metadata": {},
   "source": [
    "<br>\n",
    "\n",
    "We'll do the same with another package"
   ]
  },
  {
   "cell_type": "code",
   "execution_count": 14,
   "id": "d82b784d-c581-46d7-aa53-11e521ad4b32",
   "metadata": {},
   "outputs": [
    {
     "data": {
      "text/plain": [
       "DataPackage(name='s-and-p-500-companies', resources=[DataResource(name='validation_report', data=None, path=None, profile=<DataResourceProfile.data_resource: 'data-resource'>, title=None, description='Validation report for tabular data', format=<DataResourceFormat.json: 'json'>, mediatype=None, encoding=None, bytes=448, hash='bb3cd3168933a568d27700f2099ad097', sources=None, licenses=None), DataResource(name='constituents_csv', data=None, path=None, profile=<DataResourceProfile.data_resource: 'data-resource'>, title=None, description=None, format=<DataResourceFormat.csv: 'csv'>, mediatype='text/csv', encoding='utf-8', bytes=19162, hash='b8d80d0c578007c9e0d199a6cd2625f1', sources=None, licenses=None), DataResource(name='constituents_json', data=None, path=None, profile=<DataResourceProfile.data_resource: 'data-resource'>, title=None, description=None, format=<DataResourceFormat.json: 'json'>, mediatype='text/csv', encoding='utf-8', bytes=37800, hash='64dd3e9582b936b0352fdd826ecd3c95', sources=None, licenses=None), DataResource(name='s-and-p-500-companies_zip', data=None, path=None, profile=<DataResourceProfile.data_resource: 'data-resource'>, title=None, description='Compressed versions of dataset. Includes normalized CSV and JSON data with original data and datapackage.json.', format=<DataResourceFormat.zip: 'zip'>, mediatype=None, encoding=None, bytes=23163, hash=None, sources=None, licenses=None), DataResource(name='constituents', data=None, path=None, profile=<DataResourceProfile.data_resource: 'data-resource'>, title=None, description=None, format=<DataResourceFormat.csv: 'csv'>, mediatype='text/csv', encoding='ISO-8859-1', bytes=18656, hash=None, sources=None, licenses=None)], id='core/s-and-p-500-companies', licenses=[DataLicence(name='ODC-PDDL-1.0', path=None, title='Open Data Commons Public Domain Dedication and License v1.0')], sources=None, contributors=None, profile='tabular-data-resource', title='S&P 500 Companies with Financial Information', description=None, homepage=None, version='1.0.0', keywords=None, image=None, created=None)"
      ]
     },
     "execution_count": 14,
     "metadata": {},
     "output_type": "execute_result"
    }
   ],
   "source": [
    "fd_url = 'https://pkgstore.datahub.io/core/s-and-p-500-companies/10/datapackage.json'\n",
    "\n",
    "raw_package_metadata = get_package_metadata(fd_url)\n",
    "raw_package_metadata['version'] = f\"{raw_package_metadata['version']}.0\" # validation fix\n",
    "\n",
    "package_metadata = db.DataPackage.parse_obj(raw_package_metadata)\n",
    "\n",
    "package_metadata"
   ]
  },
  {
   "cell_type": "code",
   "execution_count": null,
   "id": "cf987aed-878a-453a-9a60-14d6a989b5b8",
   "metadata": {},
   "outputs": [],
   "source": []
  },
  {
   "cell_type": "code",
   "execution_count": null,
   "id": "dec9dd7c-4a5e-47ca-9a76-f572fa649641",
   "metadata": {},
   "outputs": [],
   "source": []
  }
 ],
 "metadata": {
  "kernelspec": {
   "display_name": "Poetry",
   "language": "python",
   "name": "poetry-kernel"
  },
  "language_info": {
   "codemirror_mode": {
    "name": "ipython",
    "version": 3
   },
   "file_extension": ".py",
   "mimetype": "text/x-python",
   "name": "python",
   "nbconvert_exporter": "python",
   "pygments_lexer": "ipython3",
   "version": "3.9.16"
  }
 },
 "nbformat": 4,
 "nbformat_minor": 5
}
