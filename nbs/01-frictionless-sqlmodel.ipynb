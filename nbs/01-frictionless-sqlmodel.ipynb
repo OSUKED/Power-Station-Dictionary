{
 "cells": [
  {
   "cell_type": "markdown",
   "id": "4d6ff3c9-8c7f-4381-b81c-2f4b73fd2e7c",
   "metadata": {},
   "source": [
    "# Frictionless SQLModel\n",
    "\n",
    "<br>\n",
    "\n",
    "### Imports"
   ]
  },
  {
   "cell_type": "code",
   "execution_count": 1,
   "id": "4a9aeec0-bc0a-4d1e-bc46-bf09c7ddb18d",
   "metadata": {
    "tags": []
   },
   "outputs": [],
   "source": [
    "import json\n",
    "import requests\n",
    "from copy import copy\n",
    "\n",
    "from powerdict import db, schemas, frictionless"
   ]
  },
  {
   "cell_type": "code",
   "execution_count": 2,
   "id": "82438f02-514c-431d-99d3-39c89fab6fbf",
   "metadata": {},
   "outputs": [],
   "source": [
    "from IPython.display import JSON"
   ]
  },
  {
   "cell_type": "markdown",
   "id": "6c249d05-2186-491e-92dc-ff51165d6dbb",
   "metadata": {},
   "source": [
    "<br>\n",
    "\n",
    "### Frictionless Specifications\n",
    "\n",
    "A Frictionless `DataPackage` contains one or more `DataResource`s that have a corresponding `DataSchema` with `FieldDescriptor`s that describe individual columns within datasets.\n",
    "\n",
    "Here we'll load in the schema for a `DataPackage`"
   ]
  },
  {
   "cell_type": "code",
   "execution_count": 3,
   "id": "0d33870f-4e02-426c-aa2d-11be0769d941",
   "metadata": {},
   "outputs": [
    {
     "data": {
      "application/json": {
       "definitions": {
        "DataContributor": {
         "properties": {
          "email": {
           "format": "email",
           "title": "Email",
           "type": "string"
          },
          "organization": {
           "title": "Organization",
           "type": "string"
          },
          "path": {
           "title": "Path",
           "type": "string"
          },
          "role": {
           "allOf": [
            {
             "$ref": "#/definitions/DataContributorRole"
            }
           ],
           "default": "contributor"
          },
          "title": {
           "title": "Title",
           "type": "string"
          }
         },
         "required": [
          "title"
         ],
         "title": "DataContributor",
         "type": "object"
        },
        "DataContributorRole": {
         "description": "An enumeration.",
         "enum": [
          "author",
          "publisher",
          "maintainer",
          "wrangler",
          "contributor"
         ],
         "title": "DataContributorRole",
         "type": "string"
        },
        "DataLicense": {
         "anyOf": [
          {
           "required": [
            "path"
           ]
          },
          {
           "required": [
            "name"
           ]
          }
         ],
         "properties": {
          "name": {
           "title": "Name",
           "type": "string"
          },
          "path": {
           "title": "Path",
           "type": "string"
          },
          "title": {
           "title": "Title",
           "type": "string"
          }
         },
         "title": "DataLicense",
         "type": "object"
        },
        "DataPackageProfile": {
         "description": "An enumeration.",
         "enum": [
          "tabular-data-package"
         ],
         "title": "DataPackageProfile",
         "type": "string"
        },
        "DataResource": {
         "anyOf": [
          {
           "required": [
            "path"
           ]
          },
          {
           "required": [
            "data"
           ]
          }
         ],
         "properties": {
          "bytes": {
           "title": "Bytes",
           "type": "integer"
          },
          "data": {
           "items": {
            "type": "object"
           },
           "title": "Data",
           "type": "array"
          },
          "description": {
           "title": "Description",
           "type": "string"
          },
          "encoding": {
           "title": "Encoding",
           "type": "string"
          },
          "fd_schema": {
           "$ref": "#/definitions/DataSchema"
          },
          "format": {
           "$ref": "#/definitions/DataResourceFormat"
          },
          "hash": {
           "title": "Hash",
           "type": "string"
          },
          "licenses": {
           "items": {
            "$ref": "#/definitions/DataLicense"
           },
           "title": "Licenses",
           "type": "array"
          },
          "mediatype": {
           "title": "Mediatype",
           "type": "string"
          },
          "name": {
           "pattern": "^[a-z0-9_\\.,-]*$",
           "title": "Name",
           "type": "string"
          },
          "path": {
           "title": "Path",
           "type": "string"
          },
          "profile": {
           "allOf": [
            {
             "$ref": "#/definitions/DataResourceProfile"
            }
           ],
           "default": "tabular-data-resource"
          },
          "sources": {
           "items": {
            "$ref": "#/definitions/DataSource"
           },
           "title": "Sources",
           "type": "array"
          },
          "title": {
           "title": "Title",
           "type": "string"
          }
         },
         "required": [
          "name"
         ],
         "title": "DataResource",
         "type": "object"
        },
        "DataResourceFormat": {
         "description": "An enumeration.",
         "enum": [
          "csv",
          "xls",
          "json",
          "zip"
         ],
         "title": "DataResourceFormat",
         "type": "string"
        },
        "DataResourceProfile": {
         "description": "An enumeration.",
         "enum": [
          "tabular-data-resource",
          "data-resource"
         ],
         "title": "DataResourceProfile",
         "type": "string"
        },
        "DataSchema": {
         "properties": {
          "fields": {
           "items": {
            "$ref": "#/definitions/FieldDescriptor"
           },
           "title": "Fields",
           "type": "array"
          },
          "foreignKeys": {
           "items": {
            "type": "string"
           },
           "title": "Foreignkeys",
           "type": "array"
          },
          "missingValues": {
           "items": {
            "type": "string"
           },
           "title": "Missingvalues",
           "type": "array"
          },
          "primaryKey": {
           "title": "Primarykey",
           "type": "string"
          }
         },
         "required": [
          "fields"
         ],
         "title": "DataSchema",
         "type": "object"
        },
        "DataSource": {
         "properties": {
          "email": {
           "format": "email",
           "title": "Email",
           "type": "string"
          },
          "path": {
           "title": "Path",
           "type": "string"
          },
          "title": {
           "title": "Title",
           "type": "string"
          }
         },
         "required": [
          "title"
         ],
         "title": "DataSource",
         "type": "object"
        },
        "FieldDescriptor": {
         "properties": {
          "constraints": {
           "anyOf": [
            {
             "type": "string"
            },
            {}
           ],
           "title": "Constraints"
          },
          "description": {
           "anyOf": [
            {
             "type": "string"
            },
            {}
           ],
           "title": "Description"
          },
          "example": {
           "anyOf": [
            {
             "type": "string"
            },
            {}
           ],
           "title": "Example"
          },
          "format": {
           "title": "Format",
           "type": "string"
          },
          "name": {
           "title": "Name",
           "type": "string"
          },
          "rdfType": {
           "title": "Rdftype",
           "type": "string"
          },
          "title": {
           "title": "Title",
           "type": "string"
          },
          "type": {
           "title": "Type",
           "type": "string"
          }
         },
         "required": [
          "name"
         ],
         "title": "FieldDescriptor",
         "type": "object"
        }
       },
       "properties": {
        "contributors": {
         "items": {
          "$ref": "#/definitions/DataContributor"
         },
         "title": "Contributors",
         "type": "array"
        },
        "created": {
         "format": "date-time",
         "title": "Created",
         "type": "string"
        },
        "description": {
         "title": "Description",
         "type": "string"
        },
        "homepage": {
         "title": "Homepage",
         "type": "string"
        },
        "id": {
         "anyOf": [
          {
           "format": "uuid",
           "type": "string"
          },
          {}
         ],
         "title": "Id"
        },
        "image": {
         "title": "Image",
         "type": "string"
        },
        "keywords": {
         "items": {
          "type": "string"
         },
         "title": "Keywords",
         "type": "array"
        },
        "licenses": {
         "items": {
          "$ref": "#/definitions/DataLicense"
         },
         "title": "Licenses",
         "type": "array"
        },
        "name": {
         "pattern": "^[a-z0-9_\\.,-]*$",
         "title": "Name",
         "type": "string"
        },
        "profile": {
         "allOf": [
          {
           "$ref": "#/definitions/DataPackageProfile"
          }
         ],
         "default": "tabular-data-package"
        },
        "resources": {
         "items": {
          "$ref": "#/definitions/DataResource"
         },
         "title": "Resources",
         "type": "array"
        },
        "sources": {
         "items": {
          "$ref": "#/definitions/DataSource"
         },
         "title": "Sources",
         "type": "array"
        },
        "title": {
         "title": "Title",
         "type": "string"
        },
        "version": {
         "pattern": "^(0|[1-9]\\d*)\\.(0|[1-9]\\d*)\\.(0|[1-9]\\d*)(?:-((?:0|[1-9]\\d*|\\d*[a-zA-Z-][0-9a-zA-Z-]*)(?:\\.(?:0|[1-9]\\d*|\\d*[a-zA-Z-][0-9a-zA-Z-]*))*))?(?:\\+([0-9a-zA-Z-]+(?:\\.[0-9a-zA-Z-]+)*))?$",
         "title": "Version",
         "type": "string"
        }
       },
       "required": [
        "name",
        "version",
        "resources"
       ],
       "title": "DataPackage",
       "type": "object"
      },
      "text/plain": [
       "<IPython.core.display.JSON object>"
      ]
     },
     "execution_count": 3,
     "metadata": {
      "application/json": {
       "expanded": false,
       "root": "root"
      }
     },
     "output_type": "execute_result"
    }
   ],
   "source": [
    "JSON(schemas.DataPackage.schema())"
   ]
  },
  {
   "cell_type": "code",
   "execution_count": 4,
   "id": "31491196-a274-4606-bba3-0a4c19acbc16",
   "metadata": {},
   "outputs": [
    {
     "data": {
      "text/plain": [
       "'{\"title\": \"DataPackage\", \"type\": \"object\", \"properties\": {\"name\": {\"title\": \"Name\", \"pattern\": \"^[a-z0-9_\\\\\\\\.,-]*$\", \"type\": \"string\"}, \"id\": {\"title\": \"Id\", \"anyOf\": [{\"type\": \"string\", \"format\": \"uuid\"}, {}]}, \"profile\": {\"default\": \"tabular-data-package\", \"allOf\": [{\"$ref\": \"#/definitions/DataPackageProfile\"}]}, \"title\": {\"title\": \"Title\", \"type\": \"string\"}, \"description\": {\"title\": \"Description\", \"type\": \"string\"}, \"homepage\": {\"title\": \"Homepage\", \"type\": \"string\"}, \"version\": {\"title\": \"Version\", \"pattern\": \"^(0|[1-9]\\\\\\\\d*)\\\\\\\\.(0|[1-9]\\\\\\\\d*)\\\\\\\\.(0|[1-9]\\\\\\\\d*)(?:-((?:0|[1-9]\\\\\\\\d*|\\\\\\\\d*[a-zA-Z-][0-9a-zA-Z-]*)(?:\\\\\\\\.(?:0|[1-9]\\\\\\\\d*|\\\\\\\\d*[a-zA-Z-][0-9a-zA-Z-]*))*))?(?:\\\\\\\\+([0-9a-zA-Z-]+(?:\\\\\\\\.[0-9a-zA-Z-]+)*))?$\", \"type\": \"string\"}, \"keywords\": {\"title\": \"Keywords\", \"type\": \"array\", \"items\": {\"type\": \"string\"}}, \"image\": {\"title\": \"Image\", \"type\": \"string\"}, \"created\": {\"title\": \"Created\", \"type\": \"string\", \"format\": \"date-time\"}, \"resources\": {\"title\": \"Resources\", \"type\": \"array\", \"items\": {\"$ref\": \"#/definitions/DataResource\"}}, \"licenses\": {\"title\": \"Licenses\", \"type\": \"array\", \"items\": {\"$ref\": \"#/definitions/DataLicense\"}}, \"sources\": {\"title\": \"Sources\", \"type\": \"array\", \"items\": {\"$ref\": \"#/definitions/DataSource\"}}, \"contributors\": {\"title\": \"Contributors\", \"type\": \"array\", \"items\": {\"$ref\": \"#/definitions/DataContributor\"}}}, \"required\": [\"name\", \"version\", \"resources\"], \"definitions\": {\"DataPackageProfile\": {\"title\": \"DataPackageProfile\", \"description\": \"An enumeration.\", \"enum\": [\"tabular-data-package\"], \"type\": \"string\"}, \"DataResourceProfile\": {\"title\": \"DataResourceProfile\", \"description\": \"An enumeration.\", \"enum\": [\"tabular-data-resource\", \"data-resource\"], \"type\": \"string\"}, \"DataResourceFormat\": {\"title\": \"DataResourceFormat\", \"description\": \"An enumeration.\", \"enum\": [\"csv\", \"xls\", \"json\", \"zip\"], \"type\": \"string\"}, \"FieldDescriptor\": {\"title\": \"FieldDescriptor\", \"type\": \"object\", \"properties\": {\"name\": {\"title\": \"Name\", \"type\": \"string\"}, \"title\": {\"title\": \"Title\", \"type\": \"string\"}, \"description\": {\"title\": \"Description\", \"anyOf\": [{\"type\": \"string\"}, {}]}, \"type\": {\"title\": \"Type\", \"type\": \"string\"}, \"format\": {\"title\": \"Format\", \"type\": \"string\"}, \"example\": {\"title\": \"Example\", \"anyOf\": [{\"type\": \"string\"}, {}]}, \"rdfType\": {\"title\": \"Rdftype\", \"type\": \"string\"}, \"constraints\": {\"title\": \"Constraints\", \"anyOf\": [{\"type\": \"string\"}, {}]}}, \"required\": [\"name\"]}, \"DataSchema\": {\"title\": \"DataSchema\", \"type\": \"object\", \"properties\": {\"missingValues\": {\"title\": \"Missingvalues\", \"type\": \"array\", \"items\": {\"type\": \"string\"}}, \"primaryKey\": {\"title\": \"Primarykey\", \"type\": \"string\"}, \"foreignKeys\": {\"title\": \"Foreignkeys\", \"type\": \"array\", \"items\": {\"type\": \"string\"}}, \"fields\": {\"title\": \"Fields\", \"type\": \"array\", \"items\": {\"$ref\": \"#/definitions/FieldDescriptor\"}}}, \"required\": [\"fields\"]}, \"DataSource\": {\"title\": \"DataSource\", \"type\": \"object\", \"properties\": {\"title\": {\"title\": \"Title\", \"type\": \"string\"}, \"path\": {\"title\": \"Path\", \"type\": \"string\"}, \"email\": {\"title\": \"Email\", \"type\": \"string\", \"format\": \"email\"}}, \"required\": [\"title\"]}, \"DataLicense\": {\"title\": \"DataLicense\", \"type\": \"object\", \"properties\": {\"name\": {\"title\": \"Name\", \"type\": \"string\"}, \"path\": {\"title\": \"Path\", \"type\": \"string\"}, \"title\": {\"title\": \"Title\", \"type\": \"string\"}}, \"anyOf\": [{\"required\": [\"path\"]}, {\"required\": [\"name\"]}]}, \"DataResource\": {\"title\": \"DataResource\", \"type\": \"object\", \"properties\": {\"name\": {\"title\": \"Name\", \"pattern\": \"^[a-z0-9_\\\\\\\\.,-]*$\", \"type\": \"string\"}, \"data\": {\"title\": \"Data\", \"type\": \"array\", \"items\": {\"type\": \"object\"}}, \"path\": {\"title\": \"Path\", \"type\": \"string\"}, \"profile\": {\"default\": \"tabular-data-resource\", \"allOf\": [{\"$ref\": \"#/definitions/DataResourceProfile\"}]}, \"title\": {\"title\": \"Title\", \"type\": \"string\"}, \"description\": {\"title\": \"Description\", \"type\": \"string\"}, \"format\": {\"$ref\": \"#/definitions/DataResourceFormat\"}, \"mediatype\": {\"title\": \"Mediatype\", \"type\": \"string\"}, \"encoding\": {\"title\": \"Encoding\", \"type\": \"string\"}, \"bytes\": {\"title\": \"Bytes\", \"type\": \"integer\"}, \"hash\": {\"title\": \"Hash\", \"type\": \"string\"}, \"fd_schema\": {\"$ref\": \"#/definitions/DataSchema\"}, \"sources\": {\"title\": \"Sources\", \"type\": \"array\", \"items\": {\"$ref\": \"#/definitions/DataSource\"}}, \"licenses\": {\"title\": \"Licenses\", \"type\": \"array\", \"items\": {\"$ref\": \"#/definitions/DataLicense\"}}}, \"required\": [\"name\"], \"anyOf\": [{\"required\": [\"path\"]}, {\"required\": [\"data\"]}]}, \"DataContributorRole\": {\"title\": \"DataContributorRole\", \"description\": \"An enumeration.\", \"enum\": [\"author\", \"publisher\", \"maintainer\", \"wrangler\", \"contributor\"], \"type\": \"string\"}, \"DataContributor\": {\"title\": \"DataContributor\", \"type\": \"object\", \"properties\": {\"title\": {\"title\": \"Title\", \"type\": \"string\"}, \"path\": {\"title\": \"Path\", \"type\": \"string\"}, \"email\": {\"title\": \"Email\", \"type\": \"string\", \"format\": \"email\"}, \"role\": {\"default\": \"contributor\", \"allOf\": [{\"$ref\": \"#/definitions/DataContributorRole\"}]}, \"organization\": {\"title\": \"Organization\", \"type\": \"string\"}}, \"required\": [\"title\"]}}}'"
      ]
     },
     "execution_count": 4,
     "metadata": {},
     "output_type": "execute_result"
    }
   ],
   "source": [
    "schemas.DataPackage.schema_json()"
   ]
  },
  {
   "cell_type": "markdown",
   "id": "544b0800-0f19-4989-aa5f-b6d8a1721152",
   "metadata": {},
   "source": [
    "<br>\n",
    "\n",
    "We'll now load in an example frictionless dataset"
   ]
  },
  {
   "cell_type": "code",
   "execution_count": 5,
   "id": "70f801fb-cbac-4181-a6cf-a1cbbfd5be70",
   "metadata": {
    "tags": []
   },
   "outputs": [],
   "source": [
    "def load_raw_fd_package(fd_fp):\n",
    "    with open(fd_fp, 'r') as f:\n",
    "        raw_fd_package = json.load(f)\n",
    "        \n",
    "    return raw_fd_package"
   ]
  },
  {
   "cell_type": "code",
   "execution_count": 6,
   "id": "36890b09-2fa6-44b1-8c89-0286508a74df",
   "metadata": {
    "tags": []
   },
   "outputs": [
    {
     "data": {
      "application/json": "",
      "text/plain": [
       "<IPython.core.display.JSON object>"
      ]
     },
     "execution_count": 6,
     "metadata": {
      "application/json": {
       "expanded": false,
       "root": "root"
      }
     },
     "output_type": "execute_result"
    }
   ],
   "source": [
    "fd_fp = '../tests/data/s-and-p-500-companies.json'\n",
    "fd_fp = '../tests/data/repd-metadata.json'\n",
    "\n",
    "raw_package_metadata = load_raw_fd_package(fd_fp)\n",
    "\n",
    "JSON([raw_package_metadata])"
   ]
  },
  {
   "cell_type": "markdown",
   "id": "446c560c-59be-4a43-b0ab-8c53c8014daf",
   "metadata": {},
   "source": [
    "<br>\n",
    "\n",
    "We can now parse and validate this raw package metadata using our schema"
   ]
  },
  {
   "cell_type": "code",
   "execution_count": 7,
   "id": "d82b784d-c581-46d7-aa53-11e521ad4b32",
   "metadata": {},
   "outputs": [
    {
     "data": {
      "text/plain": [
       "DataPackage(name='renewable-energy-planning-database', id=None, profile=<DataPackageProfile.tabular_data_package: 'tabular-data-package'>, title='Renewable Energy Planning Database', description=\"The Renewable Energy Planning Database ('REPD') is managed by Barbour ABI on behalf of the Department of Business, Energy & Industrial Strategy ('BEIS’). The databases track the progress of renewable electricity projects (including those that could also be used for CHP), and electricity storage projects  from inception, through planning, construction, operation and decommissioning.\\n\\nThe REPD is updated on a quarterly basis, and contains information on all Renewable Electricity and CHP projects up to the end of the previous calendar month.\", homepage='https://www.gov.uk/government/publications/renewable-energy-planning-database-monthly-extract', version='0.1.0', keywords=None, image=None, created=None, resources=[DataResource(name='renewable-energy-planning-database', data=None, path='renewable-energy-planning-database-q2-june-2021.csv', profile=<DataResourceProfile.tabular_data_resource: 'tabular-data-resource'>, title=None, description=None, format=None, mediatype=None, encoding=None, bytes=None, hash=None, fd_schema=None, sources=None, licenses=None)], licenses=None, sources=None, contributors=[DataContributor(title='BEIS', path=None, email=None, role=<DataContributorRole.author: 'author'>, organization=None)])"
      ]
     },
     "execution_count": 7,
     "metadata": {},
     "output_type": "execute_result"
    }
   ],
   "source": [
    "package_metadata = schemas.DataPackage.parse_obj(raw_package_metadata)\n",
    "\n",
    "package_metadata"
   ]
  },
  {
   "cell_type": "markdown",
   "id": "591e6a39-563c-45b1-bb03-0375cb9eada7",
   "metadata": {},
   "source": [
    "<br>\n",
    "\n",
    "### Saving to a DB"
   ]
  },
  {
   "cell_type": "code",
   "execution_count": 8,
   "id": "9bc00cdc-04d4-42f1-8452-aa2031f77105",
   "metadata": {},
   "outputs": [],
   "source": [
    "db_fp = '../tests/data/dictionary.db'"
   ]
  },
  {
   "cell_type": "code",
   "execution_count": null,
   "id": "93cce86d-4399-497c-ae39-9db84e9382f3",
   "metadata": {},
   "outputs": [],
   "source": []
  },
  {
   "cell_type": "code",
   "execution_count": 9,
   "id": "5c38bda7-5241-48ba-80b6-38d066f588c4",
   "metadata": {},
   "outputs": [
    {
     "data": {
      "text/plain": [
       "<powerdict.db.DbClient at 0x123294a10>"
      ]
     },
     "execution_count": 9,
     "metadata": {},
     "output_type": "execute_result"
    }
   ],
   "source": [
    "db_client = db.DbClient(\n",
    "    database_name=db_fp,\n",
    "    dialect='sqlite',\n",
    "    driver=None,\n",
    ")\n",
    "\n",
    "db_client.create_tables()\n",
    "\n",
    "db_client"
   ]
  },
  {
   "cell_type": "code",
   "execution_count": null,
   "id": "adcdd755-9c3a-4f01-81b4-654ae2f49c76",
   "metadata": {},
   "outputs": [],
   "source": []
  },
  {
   "cell_type": "code",
   "execution_count": 10,
   "id": "78d5c8ad-52b7-4aec-aecd-b608ab30ba0a",
   "metadata": {
    "tags": []
   },
   "outputs": [
    {
     "data": {
      "text/plain": [
       "UUID('098c293c-0153-4926-9f88-288bb84c641b')"
      ]
     },
     "execution_count": 10,
     "metadata": {},
     "output_type": "execute_result"
    }
   ],
   "source": [
    "raw_package_metadata = load_raw_fd_package(fd_fp)\n",
    "fd_package = frictionless.save_fd_package_to_db(raw_package_metadata, db_client)\n",
    "\n",
    "fd_package.data_package_id"
   ]
  },
  {
   "cell_type": "code",
   "execution_count": null,
   "id": "8e7bd075-6011-4ded-b887-a7cf48a836ee",
   "metadata": {},
   "outputs": [],
   "source": []
  },
  {
   "cell_type": "code",
   "execution_count": 11,
   "id": "37a820b6-3946-4bb5-ab7d-3f2cea464fca",
   "metadata": {
    "tags": []
   },
   "outputs": [
    {
     "data": {
      "text/plain": [
       "{'name': 'renewable-energy-planning-database',\n",
       " 'profile': 'tabular-data-package',\n",
       " 'title': 'Renewable Energy Planning Database',\n",
       " 'description': \"The Renewable Energy Planning Database ('REPD') is managed by Barbour ABI on behalf of the Department of Business, Energy & Industrial Strategy ('BEIS’). The databases track the progress of renewable electricity projects (including those that could also be used for CHP), and electricity storage projects  from inception, through planning, construction, operation and decommissioning.\\n\\nThe REPD is updated on a quarterly basis, and contains information on all Renewable Electricity and CHP projects up to the end of the previous calendar month.\",\n",
       " 'homepage': 'https://www.gov.uk/government/publications/renewable-energy-planning-database-monthly-extract',\n",
       " 'version': '0.1.0',\n",
       " 'resources': [{'name': 'renewable-energy-planning-database',\n",
       "   'path': 'renewable-energy-planning-database-q2-june-2021.csv',\n",
       "   'profile': 'tabular-data-resource',\n",
       "   'fd_schema': {'fields': [{'name': 'Old Ref ID',\n",
       "      'title': 'Old Ref ID',\n",
       "      'description': 'The old reference ID associated with a project in a previous version of the database',\n",
       "      'type': 'string',\n",
       "      'format': 'default'},\n",
       "     {'name': 'Ref ID',\n",
       "      'title': 'Ref ID',\n",
       "      'description': 'Project reference ID number in REPD database',\n",
       "      'type': 'integer',\n",
       "      'format': 'default'},\n",
       "     {'name': 'Record Last Updated (dd/mm/yyyy)',\n",
       "      'title': 'Record Last Updated',\n",
       "      'description': 'Date a project record was last updated or checked',\n",
       "      'type': 'date',\n",
       "      'format': '%d/%m/%Y'},\n",
       "     {'name': 'Operator (or Applicant)',\n",
       "      'title': 'Operator (or Applicant)',\n",
       "      'description': 'Name of operator or applicant',\n",
       "      'type': 'string',\n",
       "      'format': 'default'},\n",
       "     {'name': 'Site Name',\n",
       "      'title': 'Site Name',\n",
       "      'description': 'Name of development site',\n",
       "      'type': 'string',\n",
       "      'format': 'default'},\n",
       "     {'name': 'Technology Type',\n",
       "      'title': 'Technology Type',\n",
       "      'description': 'Type of technology (e.g. solar photovoltaics, offshore wind etc.)',\n",
       "      'type': 'string',\n",
       "      'format': 'default'},\n",
       "     {'name': 'Storage Type',\n",
       "      'title': 'Storage Type',\n",
       "      'description': 'Describes whether the attached storage is co-located with RES/fossil-fuels or stand-alone',\n",
       "      'type': 'string',\n",
       "      'format': 'default'},\n",
       "     {'name': 'Storage Co-location REPD Ref ID',\n",
       "      'title': 'Storage Co-location REPD Ref ID',\n",
       "      'description': 'The (new) REPD ID associated with the storage unit attached to the site',\n",
       "      'type': 'string',\n",
       "      'format': 'default'},\n",
       "     {'name': 'Installed Capacity (MWelec)',\n",
       "      'title': 'Installed Capacity (MWelec)',\n",
       "      'description': 'Installed electrical capacity in megawatts (MW)',\n",
       "      'type': 'number',\n",
       "      'format': 'default',\n",
       "      'rdfType': 'http://openenergy-platform.org/ontology/oeo/OEO_00230003'},\n",
       "     {'name': 'CHP Enabled',\n",
       "      'title': 'CHP Enabled',\n",
       "      'description': 'Is the project capable of combined heat and power output',\n",
       "      'type': 'string',\n",
       "      'format': 'default'},\n",
       "     {'name': 'RO Banding (ROC/MWh)',\n",
       "      'title': 'RO Banding (ROC/MWh)',\n",
       "      'description': 'The banding levels for the RO subsidy, where each band represents a multiplier to the standard ROC price',\n",
       "      'type': 'number',\n",
       "      'format': 'default'},\n",
       "     {'name': 'FiT Tariff (p/kWh)',\n",
       "      'title': 'FiT Tariff (p/kWh)',\n",
       "      'description': 'The price received by the site through the FiT scheme',\n",
       "      'type': 'number',\n",
       "      'format': 'default'},\n",
       "     {'name': 'CfD Capacity (MW)',\n",
       "      'title': 'CfD Capacity (MW)',\n",
       "      'description': 'The maximum contracted capacity which can receive subsidies through the CfD scheme',\n",
       "      'type': 'number',\n",
       "      'format': 'default'},\n",
       "     {'name': 'Turbine Capacity (MW)',\n",
       "      'title': 'Turbine Capacity (MW)',\n",
       "      'description': 'For windfarms, the individual capacity of each wind turbine in megawatts (MW)',\n",
       "      'type': 'number',\n",
       "      'format': 'default'},\n",
       "     {'name': 'No. of Turbines',\n",
       "      'title': 'No. of Turbines',\n",
       "      'description': 'For windfarms, the number of wind turbines to be located on the development site',\n",
       "      'type': 'number',\n",
       "      'format': 'default'},\n",
       "     {'name': 'Height of Turbines (m)',\n",
       "      'title': 'Height of Turbines (m)',\n",
       "      'description': 'For windfarms, the height of the wind turbines in metres (m)',\n",
       "      'type': 'number',\n",
       "      'format': 'default',\n",
       "      'rdfType': 'http://openenergy-platform.org/ontology/oeo/OEO_00140000'},\n",
       "     {'name': 'Mounting Type for Solar',\n",
       "      'title': 'Mounting Type for Solar',\n",
       "      'description': 'For solar PV developments, whether the PV panels are ground or roof mounted',\n",
       "      'type': 'string',\n",
       "      'format': 'default'},\n",
       "     {'name': 'Development Status',\n",
       "      'title': 'Development Status',\n",
       "      'description': 'The full description of the current development status',\n",
       "      'type': 'string',\n",
       "      'format': 'default'},\n",
       "     {'name': 'Development Status (short)',\n",
       "      'title': 'Development Status (short)',\n",
       "      'description': 'The short description of the current development status',\n",
       "      'type': 'string',\n",
       "      'format': 'default'},\n",
       "     {'name': 'Address',\n",
       "      'title': 'Address',\n",
       "      'description': 'Site address of the development',\n",
       "      'type': 'string',\n",
       "      'format': 'default'},\n",
       "     {'name': 'County',\n",
       "      'title': 'County',\n",
       "      'description': 'County the development site is located within',\n",
       "      'type': 'string',\n",
       "      'format': 'default'},\n",
       "     {'name': 'Region',\n",
       "      'title': 'Region',\n",
       "      'description': 'Region the development site is located within',\n",
       "      'type': 'string',\n",
       "      'format': 'default'},\n",
       "     {'name': 'Country',\n",
       "      'title': 'Country',\n",
       "      'description': 'Country the development site is located within',\n",
       "      'type': 'string',\n",
       "      'format': 'default'},\n",
       "     {'name': 'Post Code',\n",
       "      'title': 'Post Code',\n",
       "      'description': 'Post code of the development site',\n",
       "      'type': 'string',\n",
       "      'format': 'default'},\n",
       "     {'name': 'X-coordinate',\n",
       "      'title': 'X-coordinate',\n",
       "      'description': 'X coordinate for development site in British National Grid (EPSG:27700)',\n",
       "      'type': 'integer',\n",
       "      'format': 'default'},\n",
       "     {'name': 'Y-coordinate',\n",
       "      'title': 'Y-coordinate',\n",
       "      'description': 'Y coordinate for development site in British National Grid (EPSG:27700)',\n",
       "      'type': 'integer',\n",
       "      'format': 'default'},\n",
       "     {'name': 'Planning Authority',\n",
       "      'title': 'Planning Authority',\n",
       "      'description': 'The relevant local planning authority for the project',\n",
       "      'type': 'string',\n",
       "      'format': 'default'},\n",
       "     {'name': 'Planning Application Reference',\n",
       "      'title': 'Planning Application Reference',\n",
       "      'description': 'The reference number associated with the planning application',\n",
       "      'type': 'string',\n",
       "      'format': 'default'},\n",
       "     {'name': 'Appeal Reference',\n",
       "      'title': 'Appeal Reference',\n",
       "      'description': 'The reference number associated with an appeal',\n",
       "      'type': 'string',\n",
       "      'format': 'default'},\n",
       "     {'name': 'Secretary of State Reference',\n",
       "      'title': 'Secretary of State Reference',\n",
       "      'description': 'The reference number associated with a Secretary of State Intervention',\n",
       "      'type': 'string',\n",
       "      'format': 'default'},\n",
       "     {'name': 'Type of Secretary of State Intervention',\n",
       "      'title': 'Type of Secretary of State Intervention',\n",
       "      'description': 'The type of Secretary of State of Intervention. This can be one of three types: recovery, call-in, or holding direction',\n",
       "      'type': 'string',\n",
       "      'format': 'default'},\n",
       "     {'name': 'Judicial Review',\n",
       "      'title': 'Judicial Review',\n",
       "      'description': 'The latest date of when a legal challenge has been launched to review the lawfulness of a planning application and/or appeal decision',\n",
       "      'type': 'integer',\n",
       "      'format': 'default'},\n",
       "     {'name': 'Offshore Wind Round',\n",
       "      'title': 'Offshore Wind Round',\n",
       "      'description': 'Leasing round in which an offshore wind project was established',\n",
       "      'type': 'string',\n",
       "      'format': 'default'},\n",
       "     {'name': 'Planning Application Submitted',\n",
       "      'title': 'Planning Application Submitted',\n",
       "      'description': 'Date planning application was validated',\n",
       "      'type': 'date',\n",
       "      'format': '%d/%m/%Y'},\n",
       "     {'name': 'Planning Application Withdrawn',\n",
       "      'title': 'Planning Application Withdrawn',\n",
       "      'description': 'Date planning application was withdrawn',\n",
       "      'type': 'date',\n",
       "      'format': '%d/%m/%Y'},\n",
       "     {'name': 'Planning Permission Refused',\n",
       "      'title': 'Planning Permission Refused',\n",
       "      'description': 'Date planning permission was refused',\n",
       "      'type': 'date',\n",
       "      'format': '%d/%m/%Y'},\n",
       "     {'name': 'Appeal Lodged',\n",
       "      'title': 'Appeal Lodged',\n",
       "      'description': 'Date an appeal was lodged',\n",
       "      'type': 'date',\n",
       "      'format': '%d/%m/%Y'},\n",
       "     {'name': 'Appeal Withdrawn',\n",
       "      'title': 'Appeal Withdrawn',\n",
       "      'description': 'Date an appeal was withdrawn',\n",
       "      'type': 'date',\n",
       "      'format': '%d/%m/%Y'},\n",
       "     {'name': 'Appeal Refused',\n",
       "      'title': 'Appeal Refused',\n",
       "      'description': 'Date an appeal was refused (dismissed)',\n",
       "      'type': 'date',\n",
       "      'format': '%d/%m/%Y'},\n",
       "     {'name': 'Appeal Granted',\n",
       "      'title': 'Appeal Granted',\n",
       "      'description': 'Date an appeal was granted (upheld)',\n",
       "      'type': 'date',\n",
       "      'format': '%d/%m/%Y'},\n",
       "     {'name': 'Planning Permission Granted',\n",
       "      'title': 'Planning Permission Granted',\n",
       "      'description': 'Date planning permission was granted by the planning authority',\n",
       "      'type': 'date',\n",
       "      'format': '%d/%m/%Y'},\n",
       "     {'name': 'Secretary of State - Intervened',\n",
       "      'title': 'Secretary of State - Intervened',\n",
       "      'description': \"Date of a project that is 'Called In' by the Secretary of State\",\n",
       "      'type': 'date',\n",
       "      'format': '%d/%m/%Y'},\n",
       "     {'name': 'Secretary of State - Refusal',\n",
       "      'title': 'Secretary of State - Refusal',\n",
       "      'description': 'Date planning permission was refused by the Secretary of State',\n",
       "      'type': 'date',\n",
       "      'format': '%d/%m/%Y'},\n",
       "     {'name': 'Secretary of State - Granted',\n",
       "      'title': 'Secretary of State - Granted',\n",
       "      'description': 'Date planning permission was granted by the Secretary of State',\n",
       "      'type': 'date',\n",
       "      'format': '%d/%m/%Y'},\n",
       "     {'name': 'Planning Permission Expired',\n",
       "      'title': 'Planning Permission Expired',\n",
       "      'description': 'Date a planning permission expires (as per the planning decision)',\n",
       "      'type': 'date',\n",
       "      'format': '%d/%m/%Y'},\n",
       "     {'name': 'Under Construction',\n",
       "      'title': 'Under Construction',\n",
       "      'description': 'Date construction on site has begun',\n",
       "      'type': 'date',\n",
       "      'format': '%d/%m/%Y'},\n",
       "     {'name': 'Operational',\n",
       "      'title': 'Operational',\n",
       "      'description': 'Date a project become operational',\n",
       "      'type': 'date',\n",
       "      'format': '%d/%m/%Y'},\n",
       "     {'name': 'Heat Network Ref',\n",
       "      'title': 'Heat Network Ref',\n",
       "      'description': 'The reference ID for the associated heat-network within the Heat Networks Planning Database',\n",
       "      'type': 'integer',\n",
       "      'format': 'default'}]}}],\n",
       " 'contributors': [{'title': 'BEIS', 'role': 'author'}]}"
      ]
     },
     "execution_count": 11,
     "metadata": {},
     "output_type": "execute_result"
    }
   ],
   "source": [
    "fd_package_obj = db_client.get_data_package(fd_package.data_package_id, 'dict')\n",
    "fd_package_obj = schemas.DataPackage.parse_obj(fd_package_obj)\n",
    "fd_package_dict = db.db_record_to_dict_repr(fd_package_obj)\n",
    "\n",
    "fd_package_dict"
   ]
  },
  {
   "cell_type": "code",
   "execution_count": null,
   "id": "18d41db7-92c6-42fc-b432-fe3fcdf84b40",
   "metadata": {},
   "outputs": [],
   "source": []
  },
  {
   "cell_type": "code",
   "execution_count": 12,
   "id": "b5c15f23-c4bf-4def-aef1-4b94d10e4369",
   "metadata": {
    "tags": []
   },
   "outputs": [],
   "source": [
    "def dict_deep_equals(d1, d2, path=\"\"):\n",
    "    for k in d1:\n",
    "        if k in d2:\n",
    "            if type(d1[k]) is dict:\n",
    "                dict_deep_equals(d1[k], d2[k], \"%s -> %s\" % (path, k) if path else k)\n",
    "            if d1[k] != d2[k]:\n",
    "                result = [ \"%s: \" % path, \" - %s : %s\" % (k, d1[k]) , \" + %s : %s\" % (k, d2[k])]\n",
    "                print(\"\\n\".join(result))\n",
    "                return False\n",
    "        else:\n",
    "            print(\"%s%s as key not in d2\\n\" % (\"%s: \" % path if path else \"\", k))\n",
    "            return False\n",
    "        \n",
    "    return True"
   ]
  },
  {
   "cell_type": "code",
   "execution_count": 13,
   "id": "6b534368-50f2-4c41-aadc-8ad5a42ed35d",
   "metadata": {
    "tags": []
   },
   "outputs": [],
   "source": [
    "for i, resource in enumerate(fd_package_dict['resources']):\n",
    "    if 'fd_schema' in resource.keys():\n",
    "        resource['schema'] = resource.pop('fd_schema')\n",
    "\n",
    "assert dict_deep_equals(fd_package_dict, load_raw_fd_package(fd_fp)), 'Failed roundtrip validation'"
   ]
  },
  {
   "cell_type": "code",
   "execution_count": null,
   "id": "14ee1b1c-d73b-4540-a6bf-991105c2db4b",
   "metadata": {},
   "outputs": [],
   "source": []
  }
 ],
 "metadata": {
  "kernelspec": {
   "display_name": "Python 3 (ipykernel)",
   "language": "python",
   "name": "python3"
  },
  "language_info": {
   "codemirror_mode": {
    "name": "ipython",
    "version": 3
   },
   "file_extension": ".py",
   "mimetype": "text/x-python",
   "name": "python",
   "nbconvert_exporter": "python",
   "pygments_lexer": "ipython3",
   "version": "3.11.3"
  }
 },
 "nbformat": 4,
 "nbformat_minor": 5
}
