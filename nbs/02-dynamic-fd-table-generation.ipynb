{
 "cells": [
  {
   "cell_type": "code",
   "execution_count": null,
   "id": "8f0fe377-6e50-41f5-b65e-7786119b99bb",
   "metadata": {},
   "outputs": [],
   "source": []
  },
  {
   "cell_type": "code",
   "execution_count": 1,
   "id": "df4edfc6-a66d-48e3-b205-aec48f1cf0a5",
   "metadata": {},
   "outputs": [],
   "source": [
    "import json\n",
    "import pandas as pd\n",
    "\n",
    "from powerdict import schemas, db, frictionless, dictionary"
   ]
  },
  {
   "cell_type": "code",
   "execution_count": null,
   "id": "af42e20b-407b-4c3d-8a61-c858b4e556dd",
   "metadata": {},
   "outputs": [],
   "source": []
  },
  {
   "cell_type": "code",
   "execution_count": 2,
   "id": "a0a73238",
   "metadata": {},
   "outputs": [
    {
     "data": {
      "text/plain": [
       "<powerdict.db.DbClient at 0x1111d2f90>"
      ]
     },
     "execution_count": 2,
     "metadata": {},
     "output_type": "execute_result"
    }
   ],
   "source": [
    "db_client = db.get_db_client('../tests/data/dictionary.db')\n",
    "\n",
    "db_client"
   ]
  },
  {
   "cell_type": "code",
   "execution_count": null,
   "id": "7935354a",
   "metadata": {},
   "outputs": [],
   "source": []
  },
  {
   "cell_type": "code",
   "execution_count": 3,
   "id": "d7410616",
   "metadata": {},
   "outputs": [
    {
     "data": {
      "text/plain": [
       "1"
      ]
     },
     "execution_count": 3,
     "metadata": {},
     "output_type": "execute_result"
    }
   ],
   "source": [
    "fd_fp = '../tests/data/repd-metadata.json'\n",
    "# fd_fp = '../tests/data/s-and-p-500-companies.json'\n",
    "\n",
    "fd_package = frictionless.fd_fp_to_saved_metadata_and_resources(fd_fp, db_client)\n",
    "\n",
    "len(fd_package.resources)"
   ]
  },
  {
   "cell_type": "code",
   "execution_count": null,
   "id": "d6b64ad8",
   "metadata": {},
   "outputs": [],
   "source": []
  },
  {
   "cell_type": "code",
   "execution_count": 4,
   "id": "1d7bcdeb",
   "metadata": {},
   "outputs": [
    {
     "data": {
      "text/plain": [
       "[{'date_added': '2023-04-27 18:24:28.100488',\n",
       "  'common_name': 'London Array',\n",
       "  'asset_type': 'power_station',\n",
       "  'osuked_id': 10221}]"
      ]
     },
     "execution_count": 4,
     "metadata": {},
     "output_type": "execute_result"
    }
   ],
   "source": [
    "psd_register = db_client.get_all('dict__register')\n",
    "\n",
    "psd_register"
   ]
  },
  {
   "cell_type": "code",
   "execution_count": null,
   "id": "34e27c37",
   "metadata": {},
   "outputs": [],
   "source": []
  },
  {
   "cell_type": "code",
   "execution_count": 5,
   "id": "5bf2bc30",
   "metadata": {},
   "outputs": [
    {
     "data": {
      "text/plain": [
       "[{'data_resource_id': '4071a5c9-86b8-4c02-9802-69fed8989573',\n",
       "  'resource_table_name': 'dict__source_renewable_energy_planning_database',\n",
       "  'linked_id_type': 'dict__link_repd',\n",
       "  'linked_id_column': 'ref_id',\n",
       "  'date_added': '2023-04-27 18:24:35.532511'}]"
      ]
     },
     "execution_count": 5,
     "metadata": {},
     "output_type": "execute_result"
    }
   ],
   "source": [
    "source_links = db_client.get_all('dict__source_link')\n",
    "\n",
    "source_links"
   ]
  },
  {
   "cell_type": "code",
   "execution_count": null,
   "id": "7676bc42",
   "metadata": {},
   "outputs": [],
   "source": []
  },
  {
   "cell_type": "code",
   "execution_count": 6,
   "id": "ce0636b3",
   "metadata": {},
   "outputs": [
    {
     "name": "stdout",
     "output_type": "stream",
     "text": [
      "{'ro_banding_roc_per_mwh': None, 'development_status_short': 'Operational', 'y_coordinate': 166320, 'planning_application_withdrawn': None, 'secretary_of_state___intervened': None, 'operator_or_applicant': 'RWE npower', 'ref_id': 1, 'fit_tariff_p_per_kwh': None, 'address': 'Aberthaw Power Station, The Leys, Aberthaw Barry', 'planning_authority': 'Vale of Glamorgan Council', 'planning_permission_refused': None, 'secretary_of_state___refusal': None, 'record_last_updated_ddmmyyyy': None, 'cfd_capacity_mw': None, 'county': 'South Glamorgan', 'planning_application_reference': '04/00580/FUL', 'appeal_lodged': None, 'secretary_of_state___granted': None, 'old_ref_id': 'N00053B', 'technology_type': 'Biomass (co-firing)', 'turbine_capacity_mw': None, 'region': 'Wales', 'appeal_reference': None, 'appeal_withdrawn': None, 'planning_permission_expired': None, 'storage_type': None, 'no_of_turbines': None, 'country': 'Wales', 'secretary_of_state_reference': None, 'appeal_refused': None, 'under_construction': None, 'site_name': 'Aberthaw Power Station Biomass', 'storage_co_location_repd_ref_id': None, 'height_of_turbines_m': None, 'post_code': 'CF62 4ZW', 'type_of_secretary_of_state_intervention': None, 'appeal_granted': None, 'operational': None, 'installed_capacity_mwelec': 35.0, 'mounting_type_for_solar': None, 'x_coordinate': 302219, 'judicial_review': None, 'planning_permission_granted': None, 'heat_network_ref': None, 'development_status': 'Operational', 'chp_enabled': 'No', 'offshore_wind_round': None, 'planning_application_submitted': None}\n"
     ]
    },
    {
     "data": {
      "text/plain": [
       "{'osuked_id': 10221,\n",
       " 'linked_ids': {'dict__link_repd': [2511, 2507],\n",
       "  'dict__link_bmu': ['T_LARYW-1', 'T_LARYW-2', 'T_LARYW-3', 'T_LARYW-4']},\n",
       " 'linked_data': {'dict__link_repd': {'4071a5c9-86b8-4c02-9802-69fed8989573': {2507: {'ro_banding_roc_per_mwh': None,\n",
       "     'development_status_short': 'Abandoned',\n",
       "     'y_coordinate': 179120,\n",
       "     'planning_application_withdrawn': None,\n",
       "     'secretary_of_state___intervened': None,\n",
       "     'operator_or_applicant': 'London Array Ltd',\n",
       "     'ref_id': 2507,\n",
       "     'fit_tariff_p_per_kwh': None,\n",
       "     'address': '12 miles (20km) off the Kent and Essex coasts',\n",
       "     'planning_authority': 'DECC (S36)/Marine Management Organisation',\n",
       "     'planning_permission_refused': None,\n",
       "     'secretary_of_state___refusal': None,\n",
       "     'record_last_updated_ddmmyyyy': None,\n",
       "     'cfd_capacity_mw': None,\n",
       "     'county': 'Offshore',\n",
       "     'planning_application_reference': None,\n",
       "     'appeal_lodged': None,\n",
       "     'secretary_of_state___granted': None,\n",
       "     'old_ref_id': 'B0551',\n",
       "     'technology_type': 'Wind Offshore',\n",
       "     'turbine_capacity_mw': 2.93,\n",
       "     'region': 'Offshore',\n",
       "     'appeal_reference': None,\n",
       "     'appeal_withdrawn': None,\n",
       "     'planning_permission_expired': None,\n",
       "     'storage_type': None,\n",
       "     'no_of_turbines': 341.0,\n",
       "     'country': 'England',\n",
       "     'secretary_of_state_reference': None,\n",
       "     'appeal_refused': None,\n",
       "     'under_construction': None,\n",
       "     'site_name': 'London Array\\xa0Phase 2',\n",
       "     'storage_co_location_repd_ref_id': None,\n",
       "     'height_of_turbines_m': None,\n",
       "     'post_code': None,\n",
       "     'type_of_secretary_of_state_intervention': None,\n",
       "     'appeal_granted': None,\n",
       "     'operational': None,\n",
       "     'installed_capacity_mwelec': 240.0,\n",
       "     'mounting_type_for_solar': None,\n",
       "     'x_coordinate': 611280,\n",
       "     'judicial_review': None,\n",
       "     'planning_permission_granted': None,\n",
       "     'heat_network_ref': None,\n",
       "     'development_status': 'Abandoned',\n",
       "     'chp_enabled': None,\n",
       "     'offshore_wind_round': '2',\n",
       "     'planning_application_submitted': None},\n",
       "    2511: {'ro_banding_roc_per_mwh': None,\n",
       "     'development_status_short': 'Operational',\n",
       "     'y_coordinate': 197218,\n",
       "     'planning_application_withdrawn': None,\n",
       "     'secretary_of_state___intervened': None,\n",
       "     'operator_or_applicant': 'Siemens Gamesa Renewable Energy',\n",
       "     'ref_id': 2511,\n",
       "     'fit_tariff_p_per_kwh': None,\n",
       "     'address': '12 miles (20km) off the Kent and Essex coasts',\n",
       "     'planning_authority': 'DECC (S36)',\n",
       "     'planning_permission_refused': None,\n",
       "     'secretary_of_state___refusal': None,\n",
       "     'record_last_updated_ddmmyyyy': None,\n",
       "     'cfd_capacity_mw': None,\n",
       "     'county': 'Offshore',\n",
       "     'planning_application_reference': None,\n",
       "     'appeal_lodged': None,\n",
       "     'secretary_of_state___granted': None,\n",
       "     'old_ref_id': 'N00447W',\n",
       "     'technology_type': 'Wind Offshore',\n",
       "     'turbine_capacity_mw': 3.6,\n",
       "     'region': 'Offshore',\n",
       "     'appeal_reference': None,\n",
       "     'appeal_withdrawn': None,\n",
       "     'planning_permission_expired': None,\n",
       "     'storage_type': None,\n",
       "     'no_of_turbines': 175.0,\n",
       "     'country': 'England',\n",
       "     'secretary_of_state_reference': None,\n",
       "     'appeal_refused': None,\n",
       "     'under_construction': None,\n",
       "     'site_name': 'London Array\\xa0Phase 1',\n",
       "     'storage_co_location_repd_ref_id': None,\n",
       "     'height_of_turbines_m': None,\n",
       "     'post_code': None,\n",
       "     'type_of_secretary_of_state_intervention': None,\n",
       "     'appeal_granted': None,\n",
       "     'operational': None,\n",
       "     'installed_capacity_mwelec': 630.0,\n",
       "     'mounting_type_for_solar': None,\n",
       "     'x_coordinate': 642078,\n",
       "     'judicial_review': None,\n",
       "     'planning_permission_granted': None,\n",
       "     'heat_network_ref': None,\n",
       "     'development_status': 'Operational',\n",
       "     'chp_enabled': None,\n",
       "     'offshore_wind_round': '2',\n",
       "     'planning_application_submitted': None}}}}}"
      ]
     },
     "execution_count": 6,
     "metadata": {},
     "output_type": "execute_result"
    }
   ],
   "source": [
    "osuked_id = 10221\n",
    "\n",
    "site_data = dictionary.load_site_data(osuked_id, db_client, source_links)\n",
    "\n",
    "site_data"
   ]
  },
  {
   "cell_type": "code",
   "execution_count": null,
   "id": "28b770af",
   "metadata": {},
   "outputs": [],
   "source": []
  },
  {
   "cell_type": "code",
   "execution_count": 7,
   "id": "2c1aa66d",
   "metadata": {},
   "outputs": [],
   "source": [
    "# Move the FD source table ingestion into the `frictionless` .py \n",
    "# Create a function that accepts a `datapackage.json` filepath and saves everything to the DB\n",
    "# Create an API endpoint that takes a zip of metadata and CSVs of resources and saves everything to the DB\n",
    "# ^ For now this could just be an endpoint that accepts a relative filepath to a datapackage.json file\n",
    "\n",
    "# Add London Array to the `Register` table\n",
    "# Add LARYO 1-4 to the `BmuIdLink` table\n",
    "# Add 2511, 2507 to the `RepdIdLink` table\n",
    "# ^ Add these as part of the db init script\n",
    "# Enable new source tables to have FK links to the link-tables (can define these links in a simplified way at the field level `x-psd-foreign-key`->`{link_table_name}.{link_id_type}`)\n",
    "# When new source tables are added log their connection within the `SourceLink` table\n",
    "\n",
    "# Create a new endpoint for loading a single site's data, start by just returning the linked ids (from the link tables)\n",
    "# For link tables where the site has an id, search for matches in the `SourceLink` table for source data and return that as well"
   ]
  },
  {
   "cell_type": "code",
   "execution_count": null,
   "id": "ab4e1de5",
   "metadata": {},
   "outputs": [],
   "source": []
  },
  {
   "cell_type": "code",
   "execution_count": null,
   "id": "bd5b2829",
   "metadata": {},
   "outputs": [],
   "source": []
  }
 ],
 "metadata": {
  "kernelspec": {
   "display_name": "powerdict-DJWwnWus-py3.11",
   "language": "python",
   "name": "python3"
  },
  "language_info": {
   "codemirror_mode": {
    "name": "ipython",
    "version": 3
   },
   "file_extension": ".py",
   "mimetype": "text/x-python",
   "name": "python",
   "nbconvert_exporter": "python",
   "pygments_lexer": "ipython3",
   "version": "3.11.3"
  }
 },
 "nbformat": 4,
 "nbformat_minor": 5
}
