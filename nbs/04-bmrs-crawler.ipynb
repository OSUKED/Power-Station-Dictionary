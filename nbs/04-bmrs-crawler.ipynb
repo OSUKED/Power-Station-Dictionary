{
 "cells": [
  {
   "cell_type": "code",
   "execution_count": null,
   "id": "8f0fe377-6e50-41f5-b65e-7786119b99bb",
   "metadata": {},
   "outputs": [],
   "source": []
  },
  {
   "cell_type": "code",
   "execution_count": 7,
   "id": "babfc0fb",
   "metadata": {},
   "outputs": [],
   "source": [
    "import pytz\n",
    "import datetime\n",
    "from tqdm import tqdm\n",
    "import pandas as pd\n",
    "from functools import lru_cache\n",
    "from pydantic import parse_obj_as\n",
    "\n",
    "from powerdict import schemas, db\n",
    "from powerdict.crawler import bmrs"
   ]
  },
  {
   "cell_type": "code",
   "execution_count": null,
   "id": "74cc4518",
   "metadata": {},
   "outputs": [],
   "source": []
  },
  {
   "cell_type": "code",
   "execution_count": 8,
   "id": "5f907c45",
   "metadata": {},
   "outputs": [
    {
     "data": {
      "text/plain": [
       "<powerdict.db.DbClient at 0x2931683d0>"
      ]
     },
     "execution_count": 8,
     "metadata": {},
     "output_type": "execute_result"
    }
   ],
   "source": [
    "db_client = db.get_db_client(database_name='../data/dictionary.db')\n",
    "db_client.create_tables()\n",
    "\n",
    "db_client"
   ]
  },
  {
   "cell_type": "code",
   "execution_count": null,
   "id": "34def6cf",
   "metadata": {},
   "outputs": [],
   "source": []
  },
  {
   "cell_type": "code",
   "execution_count": 9,
   "id": "30ed73cc",
   "metadata": {},
   "outputs": [
    {
     "data": {
      "text/plain": [
       "<powerdict.crawler.bmrs.BmrsCrawler at 0x292f8ad10>"
      ]
     },
     "execution_count": 9,
     "metadata": {},
     "output_type": "execute_result"
    }
   ],
   "source": [
    "bmrs_crawler = bmrs.BmrsCrawler()\n",
    "\n",
    "bmrs_crawler"
   ]
  },
  {
   "cell_type": "code",
   "execution_count": null,
   "id": "1fe8c373",
   "metadata": {},
   "outputs": [],
   "source": []
  },
  {
   "cell_type": "code",
   "execution_count": 10,
   "id": "2fa380fc",
   "metadata": {},
   "outputs": [],
   "source": [
    "start_date = datetime.datetime(2022, 7, 10, 1)\n",
    "end_date = datetime.datetime(2022, 7, 10, 1) # N.b. both the start and end dates are inclusive\n",
    "\n",
    "physical_ts_batch = bmrs_crawler.get_physical_ts_batch('PN', start_date, end_date)\n",
    "\n",
    "pd.DataFrame(physical_ts_batch).head()"
   ]
  },
  {
   "cell_type": "code",
   "execution_count": null,
   "id": "5cce3a23",
   "metadata": {},
   "outputs": [],
   "source": []
  },
  {
   "cell_type": "code",
   "execution_count": null,
   "id": "2da2cda8",
   "metadata": {},
   "outputs": [],
   "source": [
    "from typing import Optional\n",
    "from sqlmodel import SQLModel\n",
    "\n",
    "def get_settlement_start_date_period(\n",
    "    db_client: db.DbClient,\n",
    "    table_schema: SQLModel,\n",
    "    default_settlement_date: str = '2022-07-10',\n",
    "    default_settlement_period: int = 2\n",
    ") -> tuple[str, int]:\n",
    "    query_result = db_client.run_query(\n",
    "        f'SELECT settlementDate, settlementPeriod FROM {table_schema.__tablename__} ORDER BY settlementDate DESC, settlementPeriod DESC LIMIT 1',\n",
    "        results_func = lambda results: results.first()\n",
    "    )\n",
    "\n",
    "    if query_result is not None:\n",
    "        return query_result\n",
    "    else:\n",
    "        return default_settlement_date, default_settlement_period\n",
    "    \n",
    "def download_physical_data(\n",
    "    db_client: db.DbClient,\n",
    "    bmrs_crawler: bmrs.BmrsCrawler,\n",
    "    start_date: Optional[datetime.datetime] = None,\n",
    "    end_date: Optional[datetime.datetime] = None,\n",
    "    run_async: bool = True\n",
    "):\n",
    "    if start_date is None:\n",
    "        latest_settlement_date, latest_settlement_period = get_settlement_start_date_period(db_client, db.BmrsPhysicalDataTable)\n",
    "        start_date = bmrs_crawler.df_settlement_calendar.query('datetime_local.dt.strftime(\"%Y-%m-%d\") == @latest_settlement_date and sp == @latest_settlement_period').index[0] + pd.Timedelta(minutes=30)\n",
    "\n",
    "    if end_date is None:\n",
    "        end_date = pd.Timestamp.now(tz=pytz.utc)\n",
    "\n",
    "    start_dates = pd.date_range(start_date, end_date, freq='1D')\n",
    "    end_dates = (start_dates[1:] - pd.Timedelta(minutes=30)).append(pd.DatetimeIndex([end_date]))\n",
    "\n",
    "    start_end_date_combos = list(zip(start_dates, end_dates))\n",
    "\n",
    "    for batch_start_date, batch_end_date in tqdm(start_end_date_combos):\n",
    "        bmrs_physical_data = bmrs_crawler.get_physical_ts_batch('PN', batch_start_date, batch_end_date, run_async=run_async)\n",
    "        db_records = parse_obj_as(list[db.BmrsPhysicalDataTable], bmrs_physical_data)\n",
    "        db_client.create_records(db_records, db.BmrsPhysicalDataTable.__tablename__)\n",
    "\n",
    "    return "
   ]
  },
  {
   "cell_type": "code",
   "execution_count": null,
   "id": "3ed1803e",
   "metadata": {},
   "outputs": [
    {
     "name": "stderr",
     "output_type": "stream",
     "text": [
      "  0%|          | 0/74 [00:00<?, ?it/s]Exception in thread Thread-5:\n",
      "Traceback (most recent call last):\n",
      "  File \"/opt/homebrew/Cellar/python@3.11/3.11.3/Frameworks/Python.framework/Versions/3.11/lib/python3.11/threading.py\", line 1038, in _bootstrap_inner\n",
      "    self.run()\n",
      "  File \"/Users/ayrton/Documents/GitHub/Power-Station-Dictionary/powerdict/crawler/bmrs.py\", line 122, in run\n",
      "    self.result = asyncio.run(self.func(*self.args, **self.kwargs))\n",
      "                  ^^^^^^^^^^^^^^^^^^^^^^^^^^^^^^^^^^^^^^^^^^^^^^^^^\n",
      "  File \"/opt/homebrew/Cellar/python@3.11/3.11.3/Frameworks/Python.framework/Versions/3.11/lib/python3.11/asyncio/runners.py\", line 190, in run\n",
      "    return runner.run(main)\n",
      "           ^^^^^^^^^^^^^^^^\n",
      "  File \"/opt/homebrew/Cellar/python@3.11/3.11.3/Frameworks/Python.framework/Versions/3.11/lib/python3.11/asyncio/runners.py\", line 118, in run\n",
      "    return self._loop.run_until_complete(task)\n",
      "           ^^^^^^^^^^^^^^^^^^^^^^^^^^^^^^^^^^^\n",
      "  File \"/opt/homebrew/Cellar/python@3.11/3.11.3/Frameworks/Python.framework/Versions/3.11/lib/python3.11/asyncio/base_events.py\", line 653, in run_until_complete\n",
      "    return future.result()\n",
      "           ^^^^^^^^^^^^^^^\n",
      "  File \"/Users/ayrton/Documents/GitHub/Power-Station-Dictionary/powerdict/crawler/bmrs.py\", line 218, in gather_async_request\n",
      "    return await asyncio.gather(*tasks)\n",
      "           ^^^^^^^^^^^^^^^^^^^^^^^^^^^^\n",
      "  File \"/Users/ayrton/Documents/GitHub/Power-Station-Dictionary/powerdict/crawler/bmrs.py\", line 205, in async_request\n",
      "    r.raise_for_status()\n",
      "  File \"/Users/ayrton/Library/Caches/pypoetry/virtualenvs/powerdict-DJWwnWus-py3.11/lib/python3.11/site-packages/aiohttp/client_reqrep.py\", line 1005, in raise_for_status\n",
      "    raise ClientResponseError(\n",
      "aiohttp.client_exceptions.ClientResponseError: 500, message='Internal Server Error', url=URL('https://data.elexon.co.uk/bmrs/api/v1/balancing/physical/all?dataset=PN&settlementDate=2023-02-13&settlementPeriod=30&format=json')\n",
      "  0%|          | 0/74 [00:01<?, ?it/s]\n"
     ]
    },
    {
     "ename": "TypeError",
     "evalue": "'NoneType' object is not iterable",
     "output_type": "error",
     "traceback": [
      "\u001b[0;31m---------------------------------------------------------------------------\u001b[0m",
      "\u001b[0;31mTypeError\u001b[0m                                 Traceback (most recent call last)",
      "Cell \u001b[0;32mIn[6], line 3\u001b[0m\n\u001b[1;32m      1\u001b[0m \u001b[39m# while True:\u001b[39;00m\n\u001b[1;32m      2\u001b[0m \u001b[39m#     try:\u001b[39;00m\n\u001b[0;32m----> 3\u001b[0m download_physical_data(db_client, bmrs_crawler)\n\u001b[1;32m      4\u001b[0m     \u001b[39m# except:\u001b[39;00m\n\u001b[1;32m      5\u001b[0m     \u001b[39m#     print('Error occurred, retrying ...')\u001b[39;00m\n",
      "Cell \u001b[0;32mIn[5], line 40\u001b[0m, in \u001b[0;36mdownload_physical_data\u001b[0;34m(db_client, bmrs_crawler, start_date, end_date, run_async)\u001b[0m\n\u001b[1;32m     37\u001b[0m start_end_date_combos \u001b[39m=\u001b[39m \u001b[39mlist\u001b[39m(\u001b[39mzip\u001b[39m(start_dates, end_dates))\n\u001b[1;32m     39\u001b[0m \u001b[39mfor\u001b[39;00m batch_start_date, batch_end_date \u001b[39min\u001b[39;00m tqdm(start_end_date_combos):\n\u001b[0;32m---> 40\u001b[0m     bmrs_physical_data \u001b[39m=\u001b[39m bmrs_crawler\u001b[39m.\u001b[39;49mget_physical_ts_batch(\u001b[39m'\u001b[39;49m\u001b[39mPN\u001b[39;49m\u001b[39m'\u001b[39;49m, batch_start_date, batch_end_date, run_async\u001b[39m=\u001b[39;49mrun_async)\n\u001b[1;32m     41\u001b[0m     db_records \u001b[39m=\u001b[39m parse_obj_as(\u001b[39mlist\u001b[39m[db\u001b[39m.\u001b[39mBmrsPhysicalDataTable], bmrs_physical_data)\n\u001b[1;32m     42\u001b[0m     db_client\u001b[39m.\u001b[39mcreate_records(db_records, db\u001b[39m.\u001b[39mBmrsPhysicalDataTable\u001b[39m.\u001b[39m__tablename__)\n",
      "File \u001b[0;32m~/Documents/GitHub/Power-Station-Dictionary/powerdict/crawler/bmrs.py:283\u001b[0m, in \u001b[0;36mBmrsCrawler.get_physical_ts_batch\u001b[0;34m(self, dataset, start_date, end_date, bmUnit, format, run_async)\u001b[0m\n\u001b[1;32m    279\u001b[0m results \u001b[39m=\u001b[39m \u001b[39mself\u001b[39m\u001b[39m.\u001b[39mget_requests(params_sets, run_async)\n\u001b[1;32m    281\u001b[0m data \u001b[39m=\u001b[39m []\n\u001b[0;32m--> 283\u001b[0m \u001b[39mfor\u001b[39;00m result \u001b[39min\u001b[39;00m results:\n\u001b[1;32m    284\u001b[0m     data \u001b[39m+\u001b[39m\u001b[39m=\u001b[39m result[\u001b[39m'\u001b[39m\u001b[39mdata\u001b[39m\u001b[39m'\u001b[39m]\n\u001b[1;32m    286\u001b[0m \u001b[39mreturn\u001b[39;00m data\n",
      "\u001b[0;31mTypeError\u001b[0m: 'NoneType' object is not iterable"
     ]
    }
   ],
   "source": [
    "# while True:\n",
    "#     try:\n",
    "download_physical_data(db_client, bmrs_crawler, run_async=False)\n",
    "    # except:\n",
    "    #     print('Error occurred, retrying ...')"
   ]
  },
  {
   "cell_type": "code",
   "execution_count": null,
   "id": "ef4a59d9",
   "metadata": {},
   "outputs": [],
   "source": []
  },
  {
   "cell_type": "code",
   "execution_count": null,
   "id": "60218dc9",
   "metadata": {},
   "outputs": [],
   "source": []
  }
 ],
 "metadata": {
  "kernelspec": {
   "display_name": "powerdict-DJWwnWus-py3.11",
   "language": "python",
   "name": "python3"
  },
  "language_info": {
   "codemirror_mode": {
    "name": "ipython",
    "version": 3
   },
   "file_extension": ".py",
   "mimetype": "text/x-python",
   "name": "python",
   "nbconvert_exporter": "python",
   "pygments_lexer": "ipython3",
   "version": "3.11.3"
  }
 },
 "nbformat": 4,
 "nbformat_minor": 5
}
