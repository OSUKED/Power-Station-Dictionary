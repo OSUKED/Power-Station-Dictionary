{
 "cells": [
  {
   "cell_type": "code",
   "execution_count": null,
   "metadata": {},
   "outputs": [],
   "source": []
  },
  {
   "cell_type": "code",
   "execution_count": 8,
   "metadata": {},
   "outputs": [],
   "source": [
    "import pandas as pd\n",
    "import requests\n",
    "from tqdm import tqdm\n",
    "from typing import Optional"
   ]
  },
  {
   "cell_type": "code",
   "execution_count": null,
   "metadata": {},
   "outputs": [],
   "source": []
  },
  {
   "cell_type": "code",
   "execution_count": 6,
   "metadata": {},
   "outputs": [],
   "source": [
    "class ApiClient:\n",
    "    def __init__(\n",
    "            self, \n",
    "            username: Optional[str] = None, \n",
    "            password: Optional[str] = None,\n",
    "            base_url: str = 'http://127.0.0.1:8000'\n",
    "        ):\n",
    "        self.base_url = base_url\n",
    "\n",
    "        if username is not None:\n",
    "            self.login(username, password)\n",
    "\n",
    "    def login(self, username: str, password: str):\n",
    "        url = f'{self.base_url}/authentication/login?username={username}&password={password}'\n",
    "        r = requests.post(url)\n",
    "        r.raise_for_status()\n",
    "        r_json = r.json()\n",
    "        self.auth_header = {\"Authorization\": f\"{r_json['token_type'].title()} {r_json['access_token']}\"}\n",
    "    \n",
    "    def get_db_table_schema(self, table_name: str):\n",
    "        r = requests.get(f'{self.base_url}/frictionless/db-schema/{table_name}', headers=self.auth_header)\n",
    "        r.raise_for_status()\n",
    "        return r.json()\n",
    "    \n",
    "    def post_data_package_fp(self, data_package_fp: str):\n",
    "        r = requests.post(f'{self.base_url}/frictionless/data-packages?data_package_fp={data_package_fp}', headers=self.auth_header)\n",
    "        r.raise_for_status()\n",
    "        return r.json()"
   ]
  },
  {
   "cell_type": "code",
   "execution_count": 7,
   "metadata": {},
   "outputs": [
    {
     "data": {
      "text/plain": [
       "<__main__.ApiClient at 0x168f8efd0>"
      ]
     },
     "execution_count": 7,
     "metadata": {},
     "output_type": "execute_result"
    }
   ],
   "source": [
    "api_client = ApiClient('tester', 'password')\n",
    "\n",
    "api_client"
   ]
  },
  {
   "attachments": {},
   "cell_type": "markdown",
   "metadata": {},
   "source": [
    "<br>\n",
    "\n",
    "### Uploading Data Packages\n",
    "\n",
    "We'll start by uploading the data packages"
   ]
  },
  {
   "cell_type": "code",
   "execution_count": 4,
   "metadata": {},
   "outputs": [
    {
     "name": "stderr",
     "output_type": "stream",
     "text": [
      "100%|██████████| 8/8 [00:13<00:00,  1.71s/it]\n"
     ]
    }
   ],
   "source": [
    "fps = [\n",
    "    '../data/linked-datapackages/plant-locations',\n",
    "    '../data/linked-datapackages/wind-farms',\n",
    "    '../data/linked-datapackages/global-power-plant-database',\n",
    "    '../data/linked-datapackages/nuclear-power-plants',\n",
    "    '../data/linked-datapackages/cfd-contract-portfolio-status',\n",
    "    '../data/linked-datapackages/renewable-energy-planning-database',\n",
    "    '../data/linked-datapackages/bmu-fuel-types',\n",
    "    '../data/linked-datapackages/jrc-hydro-power-plants-database',\n",
    "\n",
    "    # the following require handling of time-series indexes\n",
    "    # '../data/linked-datapackages/cfd-strike-prices',\n",
    "    # '../data/linked-datapackages/annual-output',\n",
    "    # '../data/linked-datapackages/load-factors',\n",
    "    # '../data/linked-datapackages/carbon-intensity',\n",
    "    # '../data/linked-datapackages/verified-emissions',\n",
    "    # '../data/linked-datapackages/capture-prices'\n",
    "]\n",
    "\n",
    "for fp in tqdm(fps):\n",
    "    api_client.post_data_package_fp(fp.lstrip('../') + '/datapackage.json')"
   ]
  },
  {
   "attachments": {},
   "cell_type": "markdown",
   "metadata": {},
   "source": [
    "<br>\n",
    "\n",
    "We can then retrieve their DB table schemas using the API client"
   ]
  },
  {
   "cell_type": "code",
   "execution_count": 5,
   "metadata": {},
   "outputs": [
    {
     "data": {
      "text/plain": [
       "{'title': 'DetailedBmuFuelTypesTable',\n",
       " 'type': 'object',\n",
       " 'properties': {'ngc_bmu_id': {'title': 'NGC BMU ID',\n",
       "   'description': 'The Balancing Mechanism Unit identifier used by the National Grid Company',\n",
       "   'type': 'string'},\n",
       "  'fuel_type': {'title': 'Fuel Type',\n",
       "   'description': 'The fuel type consumed by the specified BMU',\n",
       "   'type': 'string'},\n",
       "  'comments': {'title': 'Comments', 'type': 'string'}}}"
      ]
     },
     "execution_count": 5,
     "metadata": {},
     "output_type": "execute_result"
    }
   ],
   "source": [
    "api_client.get_db_table_schema('dict__source_detailed_bmu_fuel_types')"
   ]
  },
  {
   "cell_type": "code",
   "execution_count": null,
   "metadata": {},
   "outputs": [],
   "source": []
  },
  {
   "cell_type": "code",
   "execution_count": null,
   "metadata": {},
   "outputs": [],
   "source": [
    "# add the IDs directly to the DB\n",
    "# ensure that assets are loading their linked data"
   ]
  },
  {
   "cell_type": "code",
   "execution_count": 10,
   "metadata": {},
   "outputs": [
    {
     "data": {
      "text/html": [
       "<div>\n",
       "<style scoped>\n",
       "    .dataframe tbody tr th:only-of-type {\n",
       "        vertical-align: middle;\n",
       "    }\n",
       "\n",
       "    .dataframe tbody tr th {\n",
       "        vertical-align: top;\n",
       "    }\n",
       "\n",
       "    .dataframe thead th {\n",
       "        text-align: right;\n",
       "    }\n",
       "</style>\n",
       "<table border=\"1\" class=\"dataframe\">\n",
       "  <thead>\n",
       "    <tr style=\"text-align: right;\">\n",
       "      <th></th>\n",
       "      <th>dictionary_id</th>\n",
       "      <th>gppd_idnr</th>\n",
       "      <th>esail_id</th>\n",
       "      <th>name</th>\n",
       "      <th>sett_bmu_id</th>\n",
       "      <th>ngc_bmu_id</th>\n",
       "      <th>4c_offshore_id</th>\n",
       "      <th>windpowernet_id</th>\n",
       "      <th>wikidata_id</th>\n",
       "      <th>wikipedia_id</th>\n",
       "      <th>power_technology_id</th>\n",
       "      <th>eutl_id</th>\n",
       "      <th>eic_id</th>\n",
       "      <th>cfd_id</th>\n",
       "      <th>jrc_id</th>\n",
       "      <th>iaea_id</th>\n",
       "      <th>old_repd_id</th>\n",
       "      <th>new_repd_id</th>\n",
       "      <th>crown_estate_id</th>\n",
       "    </tr>\n",
       "  </thead>\n",
       "  <tbody>\n",
       "    <tr>\n",
       "      <th>0</th>\n",
       "      <td>10000</td>\n",
       "      <td>NaN</td>\n",
       "      <td>MARK</td>\n",
       "      <td>Rothes Bio-Plant CHP</td>\n",
       "      <td>E_MARK-1, E_MARK-2</td>\n",
       "      <td>MARK-1, MARK-2</td>\n",
       "      <td>NaN</td>\n",
       "      <td>NaN</td>\n",
       "      <td>NaN</td>\n",
       "      <td>NaN</td>\n",
       "      <td>NaN</td>\n",
       "      <td>NaN</td>\n",
       "      <td>48W000000MARK-1D</td>\n",
       "      <td>NaN</td>\n",
       "      <td>NaN</td>\n",
       "      <td>NaN</td>\n",
       "      <td>NaN</td>\n",
       "      <td>NaN</td>\n",
       "      <td>NaN</td>\n",
       "    </tr>\n",
       "    <tr>\n",
       "      <th>1</th>\n",
       "      <td>10001</td>\n",
       "      <td>GBR1000377, GBR1000369</td>\n",
       "      <td>DIDC</td>\n",
       "      <td>Didcot</td>\n",
       "      <td>T_DIDC1, T_DIDC2, T_DIDC4, T_DIDC3, T_DIDC1G, ...</td>\n",
       "      <td>DIDC1, DIDC2, DIDC4, DIDC3, DIDC1G, DIDC2G, DI...</td>\n",
       "      <td>NaN</td>\n",
       "      <td>NaN</td>\n",
       "      <td>Q3298465</td>\n",
       "      <td>Didcot_power_stations</td>\n",
       "      <td>NaN</td>\n",
       "      <td>97165</td>\n",
       "      <td>48W00000DIDC01G1, 48W00000DIDC02GZ, 48W00000DI...</td>\n",
       "      <td>NaN</td>\n",
       "      <td>NaN</td>\n",
       "      <td>NaN</td>\n",
       "      <td>NaN</td>\n",
       "      <td>NaN</td>\n",
       "      <td>NaN</td>\n",
       "    </tr>\n",
       "    <tr>\n",
       "      <th>2</th>\n",
       "      <td>10002</td>\n",
       "      <td>GBR1000374, GBR1000375</td>\n",
       "      <td>ABTH</td>\n",
       "      <td>Aberthaw B</td>\n",
       "      <td>T_ABTH7, T_ABTH8, T_ABTH9, T_ABTH7G, T_ABTH8G,...</td>\n",
       "      <td>ABTH7, ABTH8, ABTH9, ABTH7G, ABTH8G, ABTH9G</td>\n",
       "      <td>NaN</td>\n",
       "      <td>NaN</td>\n",
       "      <td>Q4667192</td>\n",
       "      <td>Aberthaw_power_stations</td>\n",
       "      <td>NaN</td>\n",
       "      <td>97175</td>\n",
       "      <td>48W0000000ABTH7Y, 48W0000000ABTH8W, 48W0000000...</td>\n",
       "      <td>NaN</td>\n",
       "      <td>NaN</td>\n",
       "      <td>NaN</td>\n",
       "      <td>NaN</td>\n",
       "      <td>NaN</td>\n",
       "      <td>NaN</td>\n",
       "    </tr>\n",
       "  </tbody>\n",
       "</table>\n",
       "</div>"
      ],
      "text/plain": [
       "   dictionary_id               gppd_idnr esail_id                  name  \\\n",
       "0          10000                     NaN     MARK  Rothes Bio-Plant CHP   \n",
       "1          10001  GBR1000377, GBR1000369     DIDC                Didcot   \n",
       "2          10002  GBR1000374, GBR1000375     ABTH            Aberthaw B   \n",
       "\n",
       "                                         sett_bmu_id  \\\n",
       "0                                 E_MARK-1, E_MARK-2   \n",
       "1  T_DIDC1, T_DIDC2, T_DIDC4, T_DIDC3, T_DIDC1G, ...   \n",
       "2  T_ABTH7, T_ABTH8, T_ABTH9, T_ABTH7G, T_ABTH8G,...   \n",
       "\n",
       "                                          ngc_bmu_id 4c_offshore_id  \\\n",
       "0                                     MARK-1, MARK-2            NaN   \n",
       "1  DIDC1, DIDC2, DIDC4, DIDC3, DIDC1G, DIDC2G, DI...            NaN   \n",
       "2        ABTH7, ABTH8, ABTH9, ABTH7G, ABTH8G, ABTH9G            NaN   \n",
       "\n",
       "  windpowernet_id wikidata_id             wikipedia_id power_technology_id  \\\n",
       "0             NaN         NaN                      NaN                 NaN   \n",
       "1             NaN    Q3298465    Didcot_power_stations                 NaN   \n",
       "2             NaN    Q4667192  Aberthaw_power_stations                 NaN   \n",
       "\n",
       "  eutl_id                                             eic_id cfd_id jrc_id  \\\n",
       "0     NaN                                   48W000000MARK-1D    NaN    NaN   \n",
       "1   97165  48W00000DIDC01G1, 48W00000DIDC02GZ, 48W00000DI...    NaN    NaN   \n",
       "2   97175  48W0000000ABTH7Y, 48W0000000ABTH8W, 48W0000000...    NaN    NaN   \n",
       "\n",
       "  iaea_id old_repd_id new_repd_id crown_estate_id  \n",
       "0     NaN         NaN         NaN             NaN  \n",
       "1     NaN         NaN         NaN             NaN  \n",
       "2     NaN         NaN         NaN             NaN  "
      ]
     },
     "execution_count": 10,
     "metadata": {},
     "output_type": "execute_result"
    }
   ],
   "source": [
    "df_ids = pd.read_csv('../data/dictionary/ids.csv')\n",
    "\n",
    "df_ids.head(3)"
   ]
  },
  {
   "cell_type": "code",
   "execution_count": null,
   "metadata": {},
   "outputs": [],
   "source": []
  }
 ],
 "metadata": {
  "kernelspec": {
   "display_name": "powerdict-DJWwnWus-py3.11",
   "language": "python",
   "name": "python3"
  },
  "language_info": {
   "codemirror_mode": {
    "name": "ipython",
    "version": 3
   },
   "file_extension": ".py",
   "mimetype": "text/x-python",
   "name": "python",
   "nbconvert_exporter": "python",
   "pygments_lexer": "ipython3",
   "version": "3.11.3"
  },
  "orig_nbformat": 4
 },
 "nbformat": 4,
 "nbformat_minor": 2
}
