{
 "cells": [
  {
   "cell_type": "code",
   "execution_count": null,
   "metadata": {},
   "outputs": [],
   "source": []
  },
  {
   "cell_type": "code",
   "execution_count": 1,
   "metadata": {},
   "outputs": [],
   "source": [
    "import pandas as pd\n",
    "import requests\n",
    "from tqdm import tqdm\n",
    "from typing import Optional, Any\n",
    "\n",
    "from powerdict import db"
   ]
  },
  {
   "cell_type": "code",
   "execution_count": null,
   "metadata": {},
   "outputs": [],
   "source": []
  },
  {
   "cell_type": "code",
   "execution_count": 2,
   "metadata": {},
   "outputs": [
    {
     "data": {
      "text/plain": [
       "<powerdict.db.DbClient at 0x105e96790>"
      ]
     },
     "execution_count": 2,
     "metadata": {},
     "output_type": "execute_result"
    }
   ],
   "source": [
    "db_client = db.get_db_client(database_name='../tests/data/dictionary.db')\n",
    "\n",
    "db_client"
   ]
  },
  {
   "cell_type": "code",
   "execution_count": null,
   "metadata": {},
   "outputs": [],
   "source": []
  },
  {
   "cell_type": "code",
   "execution_count": 3,
   "metadata": {},
   "outputs": [],
   "source": [
    "import logging\n",
    "\n",
    "class ApiClient:\n",
    "    def __init__(\n",
    "            self, \n",
    "            username: Optional[str] = None, \n",
    "            password: Optional[str] = None,\n",
    "            base_url: str = 'http://127.0.0.1:8000'\n",
    "        ):\n",
    "        self.base_url = base_url\n",
    "\n",
    "        if username is not None:\n",
    "            self.login(username, password)\n",
    "\n",
    "    def login(self, username: str, password: str):\n",
    "        url = f'{self.base_url}/authentication/login?username={username}&password={password}'\n",
    "        r = requests.post(url)\n",
    "        r.raise_for_status()\n",
    "        r_json = r.json()\n",
    "        self.auth_header = f\"{r_json['token_type'].title()} {r_json['access_token']}\"\n",
    "    \n",
    "    def get_db_table_schema(self, table_name: str):\n",
    "        r = requests.get(f'{self.base_url}/frictionless/db-schema/{table_name}', headers={'Authorization': self.auth_header})\n",
    "        r.raise_for_status()\n",
    "        return r.json()\n",
    "    \n",
    "    def post_data_package_fp(self, data_package_fp: str):\n",
    "        r = requests.post(\n",
    "            f'{self.base_url}/frictionless/data-packages', \n",
    "            params={'data_package_fp': data_package_fp},\n",
    "            headers={'Authorization': self.auth_header}\n",
    "        )\n",
    "        r.raise_for_status()\n",
    "        return r.json()\n",
    "    \n",
    "    def post_asset_link_ids(\n",
    "            self, \n",
    "            osuked_id: int,\n",
    "            linked_ids: dict[str, list[Any]]\n",
    "        ):\n",
    "        import json\n",
    "        r = requests.post(\n",
    "            f'{self.base_url}/dictionary/asset/link-ids/{osuked_id}', \n",
    "            headers={'Authorization': self.auth_header, 'ContentType': 'application/json'}, \n",
    "            json=linked_ids\n",
    "        )\n",
    "        \n",
    "        try:\n",
    "            r.raise_for_status()\n",
    "        except requests.HTTPError as e:\n",
    "            logging.warning(r.json())\n",
    "            raise e\n",
    "\n",
    "        return r.json()"
   ]
  },
  {
   "cell_type": "code",
   "execution_count": 4,
   "metadata": {},
   "outputs": [
    {
     "data": {
      "text/plain": [
       "<__main__.ApiClient at 0x148225890>"
      ]
     },
     "execution_count": 4,
     "metadata": {},
     "output_type": "execute_result"
    }
   ],
   "source": [
    "api_client = ApiClient('tester', 'password')\n",
    "\n",
    "api_client"
   ]
  },
  {
   "attachments": {},
   "cell_type": "markdown",
   "metadata": {},
   "source": [
    "<br>\n",
    "\n",
    "### Uploading Data Packages\n",
    "\n",
    "We'll start by uploading the data packages"
   ]
  },
  {
   "cell_type": "code",
   "execution_count": 5,
   "metadata": {},
   "outputs": [
    {
     "name": "stderr",
     "output_type": "stream",
     "text": [
      "100%|██████████| 8/8 [00:13<00:00,  1.69s/it]\n"
     ]
    }
   ],
   "source": [
    "fps = [\n",
    "    '../data/linked-datapackages/plant-locations',\n",
    "    '../data/linked-datapackages/wind-farms',\n",
    "    '../data/linked-datapackages/global-power-plant-database',\n",
    "    '../data/linked-datapackages/nuclear-power-plants',\n",
    "    '../data/linked-datapackages/cfd-contract-portfolio-status',\n",
    "    '../data/linked-datapackages/renewable-energy-planning-database',\n",
    "    '../data/linked-datapackages/bmu-fuel-types',\n",
    "    '../data/linked-datapackages/jrc-hydro-power-plants-database',\n",
    "\n",
    "    # the following require handling of time-series indexes\n",
    "    # '../data/linked-datapackages/cfd-strike-prices',\n",
    "    # '../data/linked-datapackages/annual-output',\n",
    "    # '../data/linked-datapackages/load-factors',\n",
    "    # '../data/linked-datapackages/carbon-intensity',\n",
    "    # '../data/linked-datapackages/verified-emissions',\n",
    "    # '../data/linked-datapackages/capture-prices'\n",
    "]\n",
    "\n",
    "for fp in tqdm(fps):\n",
    "    api_client.post_data_package_fp(fp.lstrip('../') + '/datapackage.json')"
   ]
  },
  {
   "attachments": {},
   "cell_type": "markdown",
   "metadata": {},
   "source": [
    "<br>\n",
    "\n",
    "We can then retrieve their DB table schemas using the API client"
   ]
  },
  {
   "cell_type": "code",
   "execution_count": 6,
   "metadata": {},
   "outputs": [
    {
     "data": {
      "text/plain": [
       "{'title': 'DetailedBmuFuelTypesTable',\n",
       " 'type': 'object',\n",
       " 'properties': {'ngc_bmu_id': {'title': 'NGC BMU ID',\n",
       "   'description': 'The Balancing Mechanism Unit identifier used by the National Grid Company',\n",
       "   'type': 'string'},\n",
       "  'fuel_type': {'title': 'Fuel Type',\n",
       "   'description': 'The fuel type consumed by the specified BMU',\n",
       "   'type': 'string'},\n",
       "  'comments': {'title': 'Comments', 'type': 'string'}}}"
      ]
     },
     "execution_count": 6,
     "metadata": {},
     "output_type": "execute_result"
    }
   ],
   "source": [
    "api_client.get_db_table_schema('dict__source_detailed_bmu_fuel_types')"
   ]
  },
  {
   "cell_type": "code",
   "execution_count": null,
   "metadata": {},
   "outputs": [],
   "source": []
  },
  {
   "cell_type": "code",
   "execution_count": 7,
   "metadata": {},
   "outputs": [],
   "source": [
    "# migrate the DB to 🐘\n",
    "# then get the API working with docker\n",
    "# then deploy to ECR/ECS!"
   ]
  },
  {
   "cell_type": "code",
   "execution_count": 8,
   "metadata": {},
   "outputs": [
    {
     "data": {
      "text/html": [
       "<div>\n",
       "<style scoped>\n",
       "    .dataframe tbody tr th:only-of-type {\n",
       "        vertical-align: middle;\n",
       "    }\n",
       "\n",
       "    .dataframe tbody tr th {\n",
       "        vertical-align: top;\n",
       "    }\n",
       "\n",
       "    .dataframe thead th {\n",
       "        text-align: right;\n",
       "    }\n",
       "</style>\n",
       "<table border=\"1\" class=\"dataframe\">\n",
       "  <thead>\n",
       "    <tr style=\"text-align: right;\">\n",
       "      <th></th>\n",
       "      <th>gppd_idnr</th>\n",
       "      <th>esail_id</th>\n",
       "      <th>name</th>\n",
       "      <th>sett_bmu_id</th>\n",
       "      <th>ngc_bmu_id</th>\n",
       "      <th>4c_offshore_id</th>\n",
       "      <th>windpowernet_id</th>\n",
       "      <th>wikidata_id</th>\n",
       "      <th>wikipedia_id</th>\n",
       "      <th>power_technology_id</th>\n",
       "      <th>eutl_id</th>\n",
       "      <th>eic_id</th>\n",
       "      <th>cfd_id</th>\n",
       "      <th>jrc_id</th>\n",
       "      <th>iaea_id</th>\n",
       "      <th>old_repd_id</th>\n",
       "      <th>new_repd_id</th>\n",
       "      <th>crown_estate_id</th>\n",
       "    </tr>\n",
       "    <tr>\n",
       "      <th>dictionary_id</th>\n",
       "      <th></th>\n",
       "      <th></th>\n",
       "      <th></th>\n",
       "      <th></th>\n",
       "      <th></th>\n",
       "      <th></th>\n",
       "      <th></th>\n",
       "      <th></th>\n",
       "      <th></th>\n",
       "      <th></th>\n",
       "      <th></th>\n",
       "      <th></th>\n",
       "      <th></th>\n",
       "      <th></th>\n",
       "      <th></th>\n",
       "      <th></th>\n",
       "      <th></th>\n",
       "      <th></th>\n",
       "    </tr>\n",
       "  </thead>\n",
       "  <tbody>\n",
       "    <tr>\n",
       "      <th>10000</th>\n",
       "      <td>NaN</td>\n",
       "      <td>MARK</td>\n",
       "      <td>Rothes Bio-Plant CHP</td>\n",
       "      <td>E_MARK-1, E_MARK-2</td>\n",
       "      <td>MARK-1, MARK-2</td>\n",
       "      <td>NaN</td>\n",
       "      <td>NaN</td>\n",
       "      <td>NaN</td>\n",
       "      <td>NaN</td>\n",
       "      <td>NaN</td>\n",
       "      <td>NaN</td>\n",
       "      <td>48W000000MARK-1D</td>\n",
       "      <td>NaN</td>\n",
       "      <td>NaN</td>\n",
       "      <td>NaN</td>\n",
       "      <td>NaN</td>\n",
       "      <td>NaN</td>\n",
       "      <td>NaN</td>\n",
       "    </tr>\n",
       "    <tr>\n",
       "      <th>10001</th>\n",
       "      <td>GBR1000377, GBR1000369</td>\n",
       "      <td>DIDC</td>\n",
       "      <td>Didcot</td>\n",
       "      <td>T_DIDC1, T_DIDC2, T_DIDC4, T_DIDC3, T_DIDC1G, ...</td>\n",
       "      <td>DIDC1, DIDC2, DIDC4, DIDC3, DIDC1G, DIDC2G, DI...</td>\n",
       "      <td>NaN</td>\n",
       "      <td>NaN</td>\n",
       "      <td>Q3298465</td>\n",
       "      <td>Didcot_power_stations</td>\n",
       "      <td>NaN</td>\n",
       "      <td>97165</td>\n",
       "      <td>48W00000DIDC01G1, 48W00000DIDC02GZ, 48W00000DI...</td>\n",
       "      <td>NaN</td>\n",
       "      <td>NaN</td>\n",
       "      <td>NaN</td>\n",
       "      <td>NaN</td>\n",
       "      <td>NaN</td>\n",
       "      <td>NaN</td>\n",
       "    </tr>\n",
       "    <tr>\n",
       "      <th>10002</th>\n",
       "      <td>GBR1000374, GBR1000375</td>\n",
       "      <td>ABTH</td>\n",
       "      <td>Aberthaw B</td>\n",
       "      <td>T_ABTH7, T_ABTH8, T_ABTH9, T_ABTH7G, T_ABTH8G,...</td>\n",
       "      <td>ABTH7, ABTH8, ABTH9, ABTH7G, ABTH8G, ABTH9G</td>\n",
       "      <td>NaN</td>\n",
       "      <td>NaN</td>\n",
       "      <td>Q4667192</td>\n",
       "      <td>Aberthaw_power_stations</td>\n",
       "      <td>NaN</td>\n",
       "      <td>97175</td>\n",
       "      <td>48W0000000ABTH7Y, 48W0000000ABTH8W, 48W0000000...</td>\n",
       "      <td>NaN</td>\n",
       "      <td>NaN</td>\n",
       "      <td>NaN</td>\n",
       "      <td>NaN</td>\n",
       "      <td>NaN</td>\n",
       "      <td>NaN</td>\n",
       "    </tr>\n",
       "  </tbody>\n",
       "</table>\n",
       "</div>"
      ],
      "text/plain": [
       "                            gppd_idnr esail_id                  name  \\\n",
       "dictionary_id                                                          \n",
       "10000                             NaN     MARK  Rothes Bio-Plant CHP   \n",
       "10001          GBR1000377, GBR1000369     DIDC                Didcot   \n",
       "10002          GBR1000374, GBR1000375     ABTH            Aberthaw B   \n",
       "\n",
       "                                                     sett_bmu_id  \\\n",
       "dictionary_id                                                      \n",
       "10000                                         E_MARK-1, E_MARK-2   \n",
       "10001          T_DIDC1, T_DIDC2, T_DIDC4, T_DIDC3, T_DIDC1G, ...   \n",
       "10002          T_ABTH7, T_ABTH8, T_ABTH9, T_ABTH7G, T_ABTH8G,...   \n",
       "\n",
       "                                                      ngc_bmu_id  \\\n",
       "dictionary_id                                                      \n",
       "10000                                             MARK-1, MARK-2   \n",
       "10001          DIDC1, DIDC2, DIDC4, DIDC3, DIDC1G, DIDC2G, DI...   \n",
       "10002                ABTH7, ABTH8, ABTH9, ABTH7G, ABTH8G, ABTH9G   \n",
       "\n",
       "              4c_offshore_id windpowernet_id wikidata_id  \\\n",
       "dictionary_id                                              \n",
       "10000                    NaN             NaN         NaN   \n",
       "10001                    NaN             NaN    Q3298465   \n",
       "10002                    NaN             NaN    Q4667192   \n",
       "\n",
       "                          wikipedia_id power_technology_id eutl_id  \\\n",
       "dictionary_id                                                        \n",
       "10000                              NaN                 NaN     NaN   \n",
       "10001            Didcot_power_stations                 NaN   97165   \n",
       "10002          Aberthaw_power_stations                 NaN   97175   \n",
       "\n",
       "                                                          eic_id cfd_id  \\\n",
       "dictionary_id                                                             \n",
       "10000                                           48W000000MARK-1D    NaN   \n",
       "10001          48W00000DIDC01G1, 48W00000DIDC02GZ, 48W00000DI...    NaN   \n",
       "10002          48W0000000ABTH7Y, 48W0000000ABTH8W, 48W0000000...    NaN   \n",
       "\n",
       "              jrc_id iaea_id old_repd_id new_repd_id crown_estate_id  \n",
       "dictionary_id                                                         \n",
       "10000            NaN     NaN         NaN         NaN             NaN  \n",
       "10001            NaN     NaN         NaN         NaN             NaN  \n",
       "10002            NaN     NaN         NaN         NaN             NaN  "
      ]
     },
     "execution_count": 8,
     "metadata": {},
     "output_type": "execute_result"
    }
   ],
   "source": [
    "df_ids = pd.read_csv('../data/dictionary/ids.csv').set_index('dictionary_id')\n",
    "\n",
    "df_ids.head(3)"
   ]
  },
  {
   "cell_type": "code",
   "execution_count": null,
   "metadata": {},
   "outputs": [],
   "source": []
  },
  {
   "cell_type": "code",
   "execution_count": 10,
   "metadata": {},
   "outputs": [
    {
     "data": {
      "text/html": [
       "<div>\n",
       "<style scoped>\n",
       "    .dataframe tbody tr th:only-of-type {\n",
       "        vertical-align: middle;\n",
       "    }\n",
       "\n",
       "    .dataframe tbody tr th {\n",
       "        vertical-align: top;\n",
       "    }\n",
       "\n",
       "    .dataframe thead th {\n",
       "        text-align: right;\n",
       "    }\n",
       "</style>\n",
       "<table border=\"1\" class=\"dataframe\">\n",
       "  <thead>\n",
       "    <tr style=\"text-align: right;\">\n",
       "      <th></th>\n",
       "      <th>common_name</th>\n",
       "    </tr>\n",
       "    <tr>\n",
       "      <th>dictionary_id</th>\n",
       "      <th></th>\n",
       "    </tr>\n",
       "  </thead>\n",
       "  <tbody>\n",
       "    <tr>\n",
       "      <th>10000</th>\n",
       "      <td>Rothes Bio-Plant CHP</td>\n",
       "    </tr>\n",
       "    <tr>\n",
       "      <th>10001</th>\n",
       "      <td>Didcot</td>\n",
       "    </tr>\n",
       "    <tr>\n",
       "      <th>10002</th>\n",
       "      <td>Aberthaw B</td>\n",
       "    </tr>\n",
       "  </tbody>\n",
       "</table>\n",
       "</div>"
      ],
      "text/plain": [
       "                        common_name\n",
       "dictionary_id                      \n",
       "10000          Rothes Bio-Plant CHP\n",
       "10001                        Didcot\n",
       "10002                    Aberthaw B"
      ]
     },
     "execution_count": 10,
     "metadata": {},
     "output_type": "execute_result"
    }
   ],
   "source": [
    "df_names = pd.read_csv('../data/linked-datapackages/common-names/common-names.csv').set_index('dictionary_id')\n",
    "\n",
    "df_names.head(3)"
   ]
  },
  {
   "cell_type": "code",
   "execution_count": null,
   "metadata": {},
   "outputs": [],
   "source": []
  },
  {
   "cell_type": "code",
   "execution_count": 11,
   "metadata": {},
   "outputs": [
    {
     "name": "stderr",
     "output_type": "stream",
     "text": [
      "100%|██████████| 277/277 [00:03<00:00, 70.08it/s]\n"
     ]
    }
   ],
   "source": [
    "id_col_to_link_type = {\n",
    "    'gppd_idnr': 'gppd',\n",
    "    'sett_bmu_id': 'bmu',\n",
    "    'ngc_bmu_id': 'ngc_bmu',\n",
    "    'eutl_id': 'eutl',\n",
    "    'cfd_id': 'cfd',\n",
    "    'jrc_id': 'jrc',\n",
    "    'iaea_id': 'iaea',\n",
    "    'old_repd_id': 'old_repd',\n",
    "    'new_repd_id': 'repd',\n",
    "\n",
    "    # IDs without linked tables (for now)\n",
    "    # '4c_offshore_id': '',\n",
    "    # 'windpowernet_id': '',\n",
    "    # 'wikidata_id': '',\n",
    "    # 'wikipedia_id': '',\n",
    "    # 'power_technology_id': '',\n",
    "    # 'eic_id': '',\n",
    "    # 'crown_estate_id': ''\n",
    "}\n",
    "\n",
    "for osuked_id, common_name in tqdm(df_ids['name'].items(), total=df_ids.shape[0]):\n",
    "    linked_ids = {}\n",
    "\n",
    "    for id_col, linked_ids_str in df_ids.loc[osuked_id, id_col_to_link_type.keys()].dropna().items():\n",
    "        linked_ids = {}\n",
    "        linked_ids_list = linked_ids_str.split(', ')\n",
    "        link_type = id_col_to_link_type[id_col]\n",
    "        \n",
    "        linked_ids[link_type] = linked_ids_list\n",
    "    \n",
    "    db_client.create_record({'osuked_id': osuked_id, 'common_name': common_name}, 'dict__register')\n",
    "    api_client.post_asset_link_ids(osuked_id, linked_ids)\n",
    "\n",
    "    linked_ids"
   ]
  },
  {
   "cell_type": "code",
   "execution_count": null,
   "metadata": {},
   "outputs": [],
   "source": []
  },
  {
   "cell_type": "code",
   "execution_count": null,
   "metadata": {},
   "outputs": [],
   "source": []
  },
  {
   "cell_type": "code",
   "execution_count": null,
   "metadata": {},
   "outputs": [],
   "source": []
  }
 ],
 "metadata": {
  "kernelspec": {
   "display_name": "powerdict-DJWwnWus-py3.11",
   "language": "python",
   "name": "python3"
  },
  "language_info": {
   "codemirror_mode": {
    "name": "ipython",
    "version": 3
   },
   "file_extension": ".py",
   "mimetype": "text/x-python",
   "name": "python",
   "nbconvert_exporter": "python",
   "pygments_lexer": "ipython3",
   "version": "3.11.3"
  },
  "orig_nbformat": 4
 },
 "nbformat": 4,
 "nbformat_minor": 2
}
