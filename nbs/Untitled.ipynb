{
 "cells": [
  {
   "cell_type": "code",
   "execution_count": null,
   "id": "8f0fe377-6e50-41f5-b65e-7786119b99bb",
   "metadata": {},
   "outputs": [],
   "source": []
  },
  {
   "cell_type": "code",
   "execution_count": null,
   "id": "df4edfc6-a66d-48e3-b205-aec48f1cf0a5",
   "metadata": {},
   "outputs": [],
   "source": []
  },
  {
   "cell_type": "code",
   "execution_count": null,
   "id": "af42e20b-407b-4c3d-8a61-c858b4e556dd",
   "metadata": {},
   "outputs": [],
   "source": []
  },
  {
   "cell_type": "code",
   "execution_count": null,
   "id": "6728ac98-616a-46de-97dd-5b3ec847e939",
   "metadata": {},
   "outputs": [],
   "source": [
    "db_fp = '../data/dictionary.db'"
   ]
  },
  {
   "cell_type": "code",
   "execution_count": null,
   "id": "a5ca6c0f-6824-4f7b-972d-d4f77440ebe8",
   "metadata": {},
   "outputs": [],
   "source": []
  },
  {
   "cell_type": "code",
   "execution_count": null,
   "id": "c8eac3f2-9e41-48d8-9478-3773a5a03dec",
   "metadata": {},
   "outputs": [],
   "source": [
    "(\n",
    "    database_name=db_fp\n",
    "    dialect='sqlite',\n",
    "    driver=None\n",
    ")"
   ]
  }
 ],
 "metadata": {
  "kernelspec": {
   "display_name": "Poetry",
   "language": "python",
   "name": "poetry-kernel"
  },
  "language_info": {
   "codemirror_mode": {
    "name": "ipython",
    "version": 3
   },
   "file_extension": ".py",
   "mimetype": "text/x-python",
   "name": "python",
   "nbconvert_exporter": "python",
   "pygments_lexer": "ipython3",
   "version": "3.9.16"
  }
 },
 "nbformat": 4,
 "nbformat_minor": 5
}
